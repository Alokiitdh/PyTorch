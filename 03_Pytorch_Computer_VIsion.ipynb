{
  "nbformat": 4,
  "nbformat_minor": 0,
  "metadata": {
    "colab": {
      "provenance": [],
      "authorship_tag": "ABX9TyNjirAgOwiqRvKA4YDr2wd2"
    },
    "kernelspec": {
      "name": "python3",
      "display_name": "Python 3"
    },
    "language_info": {
      "name": "python"
    },
    "widgets": {
      "application/vnd.jupyter.widget-state+json": {
        "e547b4194b684f3cb8bc00a49d68b08d": {
          "model_module": "@jupyter-widgets/controls",
          "model_name": "HBoxModel",
          "model_module_version": "1.5.0",
          "state": {
            "_dom_classes": [],
            "_model_module": "@jupyter-widgets/controls",
            "_model_module_version": "1.5.0",
            "_model_name": "HBoxModel",
            "_view_count": null,
            "_view_module": "@jupyter-widgets/controls",
            "_view_module_version": "1.5.0",
            "_view_name": "HBoxView",
            "box_style": "",
            "children": [
              "IPY_MODEL_92703de0a7c54228827f0e05a763c44e",
              "IPY_MODEL_387849652f0441a58deca415d33b55e8",
              "IPY_MODEL_35103c8781bc4a1caaa290cf2a44d5cb"
            ],
            "layout": "IPY_MODEL_d7c02edb6f42445aa797c422d4762499"
          }
        },
        "92703de0a7c54228827f0e05a763c44e": {
          "model_module": "@jupyter-widgets/controls",
          "model_name": "HTMLModel",
          "model_module_version": "1.5.0",
          "state": {
            "_dom_classes": [],
            "_model_module": "@jupyter-widgets/controls",
            "_model_module_version": "1.5.0",
            "_model_name": "HTMLModel",
            "_view_count": null,
            "_view_module": "@jupyter-widgets/controls",
            "_view_module_version": "1.5.0",
            "_view_name": "HTMLView",
            "description": "",
            "description_tooltip": null,
            "layout": "IPY_MODEL_ad1395665a6a4c8eb90845f131034199",
            "placeholder": "​",
            "style": "IPY_MODEL_da7bf31eeecc4d3789eaa6a1e00c0cb9",
            "value": "100%"
          }
        },
        "387849652f0441a58deca415d33b55e8": {
          "model_module": "@jupyter-widgets/controls",
          "model_name": "FloatProgressModel",
          "model_module_version": "1.5.0",
          "state": {
            "_dom_classes": [],
            "_model_module": "@jupyter-widgets/controls",
            "_model_module_version": "1.5.0",
            "_model_name": "FloatProgressModel",
            "_view_count": null,
            "_view_module": "@jupyter-widgets/controls",
            "_view_module_version": "1.5.0",
            "_view_name": "ProgressView",
            "bar_style": "success",
            "description": "",
            "description_tooltip": null,
            "layout": "IPY_MODEL_82f2598aa1b245d5b9eadc7d04a59518",
            "max": 3,
            "min": 0,
            "orientation": "horizontal",
            "style": "IPY_MODEL_31c7b3f3580a483990c674af3c72643c",
            "value": 3
          }
        },
        "35103c8781bc4a1caaa290cf2a44d5cb": {
          "model_module": "@jupyter-widgets/controls",
          "model_name": "HTMLModel",
          "model_module_version": "1.5.0",
          "state": {
            "_dom_classes": [],
            "_model_module": "@jupyter-widgets/controls",
            "_model_module_version": "1.5.0",
            "_model_name": "HTMLModel",
            "_view_count": null,
            "_view_module": "@jupyter-widgets/controls",
            "_view_module_version": "1.5.0",
            "_view_name": "HTMLView",
            "description": "",
            "description_tooltip": null,
            "layout": "IPY_MODEL_404ce5f78b864f12b139d06281596b10",
            "placeholder": "​",
            "style": "IPY_MODEL_70fed7e80c084637881ca7b350284b77",
            "value": " 3/3 [00:27&lt;00:00,  9.02s/it]"
          }
        },
        "d7c02edb6f42445aa797c422d4762499": {
          "model_module": "@jupyter-widgets/base",
          "model_name": "LayoutModel",
          "model_module_version": "1.2.0",
          "state": {
            "_model_module": "@jupyter-widgets/base",
            "_model_module_version": "1.2.0",
            "_model_name": "LayoutModel",
            "_view_count": null,
            "_view_module": "@jupyter-widgets/base",
            "_view_module_version": "1.2.0",
            "_view_name": "LayoutView",
            "align_content": null,
            "align_items": null,
            "align_self": null,
            "border": null,
            "bottom": null,
            "display": null,
            "flex": null,
            "flex_flow": null,
            "grid_area": null,
            "grid_auto_columns": null,
            "grid_auto_flow": null,
            "grid_auto_rows": null,
            "grid_column": null,
            "grid_gap": null,
            "grid_row": null,
            "grid_template_areas": null,
            "grid_template_columns": null,
            "grid_template_rows": null,
            "height": null,
            "justify_content": null,
            "justify_items": null,
            "left": null,
            "margin": null,
            "max_height": null,
            "max_width": null,
            "min_height": null,
            "min_width": null,
            "object_fit": null,
            "object_position": null,
            "order": null,
            "overflow": null,
            "overflow_x": null,
            "overflow_y": null,
            "padding": null,
            "right": null,
            "top": null,
            "visibility": null,
            "width": null
          }
        },
        "ad1395665a6a4c8eb90845f131034199": {
          "model_module": "@jupyter-widgets/base",
          "model_name": "LayoutModel",
          "model_module_version": "1.2.0",
          "state": {
            "_model_module": "@jupyter-widgets/base",
            "_model_module_version": "1.2.0",
            "_model_name": "LayoutModel",
            "_view_count": null,
            "_view_module": "@jupyter-widgets/base",
            "_view_module_version": "1.2.0",
            "_view_name": "LayoutView",
            "align_content": null,
            "align_items": null,
            "align_self": null,
            "border": null,
            "bottom": null,
            "display": null,
            "flex": null,
            "flex_flow": null,
            "grid_area": null,
            "grid_auto_columns": null,
            "grid_auto_flow": null,
            "grid_auto_rows": null,
            "grid_column": null,
            "grid_gap": null,
            "grid_row": null,
            "grid_template_areas": null,
            "grid_template_columns": null,
            "grid_template_rows": null,
            "height": null,
            "justify_content": null,
            "justify_items": null,
            "left": null,
            "margin": null,
            "max_height": null,
            "max_width": null,
            "min_height": null,
            "min_width": null,
            "object_fit": null,
            "object_position": null,
            "order": null,
            "overflow": null,
            "overflow_x": null,
            "overflow_y": null,
            "padding": null,
            "right": null,
            "top": null,
            "visibility": null,
            "width": null
          }
        },
        "da7bf31eeecc4d3789eaa6a1e00c0cb9": {
          "model_module": "@jupyter-widgets/controls",
          "model_name": "DescriptionStyleModel",
          "model_module_version": "1.5.0",
          "state": {
            "_model_module": "@jupyter-widgets/controls",
            "_model_module_version": "1.5.0",
            "_model_name": "DescriptionStyleModel",
            "_view_count": null,
            "_view_module": "@jupyter-widgets/base",
            "_view_module_version": "1.2.0",
            "_view_name": "StyleView",
            "description_width": ""
          }
        },
        "82f2598aa1b245d5b9eadc7d04a59518": {
          "model_module": "@jupyter-widgets/base",
          "model_name": "LayoutModel",
          "model_module_version": "1.2.0",
          "state": {
            "_model_module": "@jupyter-widgets/base",
            "_model_module_version": "1.2.0",
            "_model_name": "LayoutModel",
            "_view_count": null,
            "_view_module": "@jupyter-widgets/base",
            "_view_module_version": "1.2.0",
            "_view_name": "LayoutView",
            "align_content": null,
            "align_items": null,
            "align_self": null,
            "border": null,
            "bottom": null,
            "display": null,
            "flex": null,
            "flex_flow": null,
            "grid_area": null,
            "grid_auto_columns": null,
            "grid_auto_flow": null,
            "grid_auto_rows": null,
            "grid_column": null,
            "grid_gap": null,
            "grid_row": null,
            "grid_template_areas": null,
            "grid_template_columns": null,
            "grid_template_rows": null,
            "height": null,
            "justify_content": null,
            "justify_items": null,
            "left": null,
            "margin": null,
            "max_height": null,
            "max_width": null,
            "min_height": null,
            "min_width": null,
            "object_fit": null,
            "object_position": null,
            "order": null,
            "overflow": null,
            "overflow_x": null,
            "overflow_y": null,
            "padding": null,
            "right": null,
            "top": null,
            "visibility": null,
            "width": null
          }
        },
        "31c7b3f3580a483990c674af3c72643c": {
          "model_module": "@jupyter-widgets/controls",
          "model_name": "ProgressStyleModel",
          "model_module_version": "1.5.0",
          "state": {
            "_model_module": "@jupyter-widgets/controls",
            "_model_module_version": "1.5.0",
            "_model_name": "ProgressStyleModel",
            "_view_count": null,
            "_view_module": "@jupyter-widgets/base",
            "_view_module_version": "1.2.0",
            "_view_name": "StyleView",
            "bar_color": null,
            "description_width": ""
          }
        },
        "404ce5f78b864f12b139d06281596b10": {
          "model_module": "@jupyter-widgets/base",
          "model_name": "LayoutModel",
          "model_module_version": "1.2.0",
          "state": {
            "_model_module": "@jupyter-widgets/base",
            "_model_module_version": "1.2.0",
            "_model_name": "LayoutModel",
            "_view_count": null,
            "_view_module": "@jupyter-widgets/base",
            "_view_module_version": "1.2.0",
            "_view_name": "LayoutView",
            "align_content": null,
            "align_items": null,
            "align_self": null,
            "border": null,
            "bottom": null,
            "display": null,
            "flex": null,
            "flex_flow": null,
            "grid_area": null,
            "grid_auto_columns": null,
            "grid_auto_flow": null,
            "grid_auto_rows": null,
            "grid_column": null,
            "grid_gap": null,
            "grid_row": null,
            "grid_template_areas": null,
            "grid_template_columns": null,
            "grid_template_rows": null,
            "height": null,
            "justify_content": null,
            "justify_items": null,
            "left": null,
            "margin": null,
            "max_height": null,
            "max_width": null,
            "min_height": null,
            "min_width": null,
            "object_fit": null,
            "object_position": null,
            "order": null,
            "overflow": null,
            "overflow_x": null,
            "overflow_y": null,
            "padding": null,
            "right": null,
            "top": null,
            "visibility": null,
            "width": null
          }
        },
        "70fed7e80c084637881ca7b350284b77": {
          "model_module": "@jupyter-widgets/controls",
          "model_name": "DescriptionStyleModel",
          "model_module_version": "1.5.0",
          "state": {
            "_model_module": "@jupyter-widgets/controls",
            "_model_module_version": "1.5.0",
            "_model_name": "DescriptionStyleModel",
            "_view_count": null,
            "_view_module": "@jupyter-widgets/base",
            "_view_module_version": "1.2.0",
            "_view_name": "StyleView",
            "description_width": ""
          }
        },
        "fe98ccf8a91b4639ba98f7fa9386b559": {
          "model_module": "@jupyter-widgets/controls",
          "model_name": "HBoxModel",
          "model_module_version": "1.5.0",
          "state": {
            "_dom_classes": [],
            "_model_module": "@jupyter-widgets/controls",
            "_model_module_version": "1.5.0",
            "_model_name": "HBoxModel",
            "_view_count": null,
            "_view_module": "@jupyter-widgets/controls",
            "_view_module_version": "1.5.0",
            "_view_name": "HBoxView",
            "box_style": "",
            "children": [
              "IPY_MODEL_0235b9a4025b43f09c3d30c8addb6bbe",
              "IPY_MODEL_9a6c70bd554f4d949dec99f7ac98e989",
              "IPY_MODEL_df37b130500047e68e822136450bc37a"
            ],
            "layout": "IPY_MODEL_2a46a32f066344c3a9edbb8eeab108b5"
          }
        },
        "0235b9a4025b43f09c3d30c8addb6bbe": {
          "model_module": "@jupyter-widgets/controls",
          "model_name": "HTMLModel",
          "model_module_version": "1.5.0",
          "state": {
            "_dom_classes": [],
            "_model_module": "@jupyter-widgets/controls",
            "_model_module_version": "1.5.0",
            "_model_name": "HTMLModel",
            "_view_count": null,
            "_view_module": "@jupyter-widgets/controls",
            "_view_module_version": "1.5.0",
            "_view_name": "HTMLView",
            "description": "",
            "description_tooltip": null,
            "layout": "IPY_MODEL_daaee2d89f324121abcb2833c59c2c66",
            "placeholder": "​",
            "style": "IPY_MODEL_32ca0d7c2d78441aa9ba4418d5df6939",
            "value": "100%"
          }
        },
        "9a6c70bd554f4d949dec99f7ac98e989": {
          "model_module": "@jupyter-widgets/controls",
          "model_name": "FloatProgressModel",
          "model_module_version": "1.5.0",
          "state": {
            "_dom_classes": [],
            "_model_module": "@jupyter-widgets/controls",
            "_model_module_version": "1.5.0",
            "_model_name": "FloatProgressModel",
            "_view_count": null,
            "_view_module": "@jupyter-widgets/controls",
            "_view_module_version": "1.5.0",
            "_view_name": "ProgressView",
            "bar_style": "success",
            "description": "",
            "description_tooltip": null,
            "layout": "IPY_MODEL_23ed21bf37d24ad7b665a3d48021d339",
            "max": 313,
            "min": 0,
            "orientation": "horizontal",
            "style": "IPY_MODEL_cc8278750c434f75a6235ea460db8ea1",
            "value": 313
          }
        },
        "df37b130500047e68e822136450bc37a": {
          "model_module": "@jupyter-widgets/controls",
          "model_name": "HTMLModel",
          "model_module_version": "1.5.0",
          "state": {
            "_dom_classes": [],
            "_model_module": "@jupyter-widgets/controls",
            "_model_module_version": "1.5.0",
            "_model_name": "HTMLModel",
            "_view_count": null,
            "_view_module": "@jupyter-widgets/controls",
            "_view_module_version": "1.5.0",
            "_view_name": "HTMLView",
            "description": "",
            "description_tooltip": null,
            "layout": "IPY_MODEL_2d2be047d92a47afa5d12a0da608cecc",
            "placeholder": "​",
            "style": "IPY_MODEL_84a75907f6624a059b8a01fd707bdfe8",
            "value": " 313/313 [00:02&lt;00:00, 92.39it/s]"
          }
        },
        "2a46a32f066344c3a9edbb8eeab108b5": {
          "model_module": "@jupyter-widgets/base",
          "model_name": "LayoutModel",
          "model_module_version": "1.2.0",
          "state": {
            "_model_module": "@jupyter-widgets/base",
            "_model_module_version": "1.2.0",
            "_model_name": "LayoutModel",
            "_view_count": null,
            "_view_module": "@jupyter-widgets/base",
            "_view_module_version": "1.2.0",
            "_view_name": "LayoutView",
            "align_content": null,
            "align_items": null,
            "align_self": null,
            "border": null,
            "bottom": null,
            "display": null,
            "flex": null,
            "flex_flow": null,
            "grid_area": null,
            "grid_auto_columns": null,
            "grid_auto_flow": null,
            "grid_auto_rows": null,
            "grid_column": null,
            "grid_gap": null,
            "grid_row": null,
            "grid_template_areas": null,
            "grid_template_columns": null,
            "grid_template_rows": null,
            "height": null,
            "justify_content": null,
            "justify_items": null,
            "left": null,
            "margin": null,
            "max_height": null,
            "max_width": null,
            "min_height": null,
            "min_width": null,
            "object_fit": null,
            "object_position": null,
            "order": null,
            "overflow": null,
            "overflow_x": null,
            "overflow_y": null,
            "padding": null,
            "right": null,
            "top": null,
            "visibility": null,
            "width": null
          }
        },
        "daaee2d89f324121abcb2833c59c2c66": {
          "model_module": "@jupyter-widgets/base",
          "model_name": "LayoutModel",
          "model_module_version": "1.2.0",
          "state": {
            "_model_module": "@jupyter-widgets/base",
            "_model_module_version": "1.2.0",
            "_model_name": "LayoutModel",
            "_view_count": null,
            "_view_module": "@jupyter-widgets/base",
            "_view_module_version": "1.2.0",
            "_view_name": "LayoutView",
            "align_content": null,
            "align_items": null,
            "align_self": null,
            "border": null,
            "bottom": null,
            "display": null,
            "flex": null,
            "flex_flow": null,
            "grid_area": null,
            "grid_auto_columns": null,
            "grid_auto_flow": null,
            "grid_auto_rows": null,
            "grid_column": null,
            "grid_gap": null,
            "grid_row": null,
            "grid_template_areas": null,
            "grid_template_columns": null,
            "grid_template_rows": null,
            "height": null,
            "justify_content": null,
            "justify_items": null,
            "left": null,
            "margin": null,
            "max_height": null,
            "max_width": null,
            "min_height": null,
            "min_width": null,
            "object_fit": null,
            "object_position": null,
            "order": null,
            "overflow": null,
            "overflow_x": null,
            "overflow_y": null,
            "padding": null,
            "right": null,
            "top": null,
            "visibility": null,
            "width": null
          }
        },
        "32ca0d7c2d78441aa9ba4418d5df6939": {
          "model_module": "@jupyter-widgets/controls",
          "model_name": "DescriptionStyleModel",
          "model_module_version": "1.5.0",
          "state": {
            "_model_module": "@jupyter-widgets/controls",
            "_model_module_version": "1.5.0",
            "_model_name": "DescriptionStyleModel",
            "_view_count": null,
            "_view_module": "@jupyter-widgets/base",
            "_view_module_version": "1.2.0",
            "_view_name": "StyleView",
            "description_width": ""
          }
        },
        "23ed21bf37d24ad7b665a3d48021d339": {
          "model_module": "@jupyter-widgets/base",
          "model_name": "LayoutModel",
          "model_module_version": "1.2.0",
          "state": {
            "_model_module": "@jupyter-widgets/base",
            "_model_module_version": "1.2.0",
            "_model_name": "LayoutModel",
            "_view_count": null,
            "_view_module": "@jupyter-widgets/base",
            "_view_module_version": "1.2.0",
            "_view_name": "LayoutView",
            "align_content": null,
            "align_items": null,
            "align_self": null,
            "border": null,
            "bottom": null,
            "display": null,
            "flex": null,
            "flex_flow": null,
            "grid_area": null,
            "grid_auto_columns": null,
            "grid_auto_flow": null,
            "grid_auto_rows": null,
            "grid_column": null,
            "grid_gap": null,
            "grid_row": null,
            "grid_template_areas": null,
            "grid_template_columns": null,
            "grid_template_rows": null,
            "height": null,
            "justify_content": null,
            "justify_items": null,
            "left": null,
            "margin": null,
            "max_height": null,
            "max_width": null,
            "min_height": null,
            "min_width": null,
            "object_fit": null,
            "object_position": null,
            "order": null,
            "overflow": null,
            "overflow_x": null,
            "overflow_y": null,
            "padding": null,
            "right": null,
            "top": null,
            "visibility": null,
            "width": null
          }
        },
        "cc8278750c434f75a6235ea460db8ea1": {
          "model_module": "@jupyter-widgets/controls",
          "model_name": "ProgressStyleModel",
          "model_module_version": "1.5.0",
          "state": {
            "_model_module": "@jupyter-widgets/controls",
            "_model_module_version": "1.5.0",
            "_model_name": "ProgressStyleModel",
            "_view_count": null,
            "_view_module": "@jupyter-widgets/base",
            "_view_module_version": "1.2.0",
            "_view_name": "StyleView",
            "bar_color": null,
            "description_width": ""
          }
        },
        "2d2be047d92a47afa5d12a0da608cecc": {
          "model_module": "@jupyter-widgets/base",
          "model_name": "LayoutModel",
          "model_module_version": "1.2.0",
          "state": {
            "_model_module": "@jupyter-widgets/base",
            "_model_module_version": "1.2.0",
            "_model_name": "LayoutModel",
            "_view_count": null,
            "_view_module": "@jupyter-widgets/base",
            "_view_module_version": "1.2.0",
            "_view_name": "LayoutView",
            "align_content": null,
            "align_items": null,
            "align_self": null,
            "border": null,
            "bottom": null,
            "display": null,
            "flex": null,
            "flex_flow": null,
            "grid_area": null,
            "grid_auto_columns": null,
            "grid_auto_flow": null,
            "grid_auto_rows": null,
            "grid_column": null,
            "grid_gap": null,
            "grid_row": null,
            "grid_template_areas": null,
            "grid_template_columns": null,
            "grid_template_rows": null,
            "height": null,
            "justify_content": null,
            "justify_items": null,
            "left": null,
            "margin": null,
            "max_height": null,
            "max_width": null,
            "min_height": null,
            "min_width": null,
            "object_fit": null,
            "object_position": null,
            "order": null,
            "overflow": null,
            "overflow_x": null,
            "overflow_y": null,
            "padding": null,
            "right": null,
            "top": null,
            "visibility": null,
            "width": null
          }
        },
        "84a75907f6624a059b8a01fd707bdfe8": {
          "model_module": "@jupyter-widgets/controls",
          "model_name": "DescriptionStyleModel",
          "model_module_version": "1.5.0",
          "state": {
            "_model_module": "@jupyter-widgets/controls",
            "_model_module_version": "1.5.0",
            "_model_name": "DescriptionStyleModel",
            "_view_count": null,
            "_view_module": "@jupyter-widgets/base",
            "_view_module_version": "1.2.0",
            "_view_name": "StyleView",
            "description_width": ""
          }
        },
        "bfb883d52abf4af19d778ae4b0ba599a": {
          "model_module": "@jupyter-widgets/controls",
          "model_name": "HBoxModel",
          "model_module_version": "1.5.0",
          "state": {
            "_dom_classes": [],
            "_model_module": "@jupyter-widgets/controls",
            "_model_module_version": "1.5.0",
            "_model_name": "HBoxModel",
            "_view_count": null,
            "_view_module": "@jupyter-widgets/controls",
            "_view_module_version": "1.5.0",
            "_view_name": "HBoxView",
            "box_style": "",
            "children": [
              "IPY_MODEL_206f0c86ea6640d9ab3a7f646fda3335",
              "IPY_MODEL_4ab732230c0a4df191d42115ffab4e18",
              "IPY_MODEL_f43f0dda6fe54a4ead9031ad6978726e"
            ],
            "layout": "IPY_MODEL_5c150c0964024e46beb353882e3f254d"
          }
        },
        "206f0c86ea6640d9ab3a7f646fda3335": {
          "model_module": "@jupyter-widgets/controls",
          "model_name": "HTMLModel",
          "model_module_version": "1.5.0",
          "state": {
            "_dom_classes": [],
            "_model_module": "@jupyter-widgets/controls",
            "_model_module_version": "1.5.0",
            "_model_name": "HTMLModel",
            "_view_count": null,
            "_view_module": "@jupyter-widgets/controls",
            "_view_module_version": "1.5.0",
            "_view_name": "HTMLView",
            "description": "",
            "description_tooltip": null,
            "layout": "IPY_MODEL_a801049fabd24b5c9249ea7a0bd91a2b",
            "placeholder": "​",
            "style": "IPY_MODEL_8e9ca0e9e83b42c9abbc6f880503c3d9",
            "value": "100%"
          }
        },
        "4ab732230c0a4df191d42115ffab4e18": {
          "model_module": "@jupyter-widgets/controls",
          "model_name": "FloatProgressModel",
          "model_module_version": "1.5.0",
          "state": {
            "_dom_classes": [],
            "_model_module": "@jupyter-widgets/controls",
            "_model_module_version": "1.5.0",
            "_model_name": "FloatProgressModel",
            "_view_count": null,
            "_view_module": "@jupyter-widgets/controls",
            "_view_module_version": "1.5.0",
            "_view_name": "ProgressView",
            "bar_style": "success",
            "description": "",
            "description_tooltip": null,
            "layout": "IPY_MODEL_a978f163367646d799512bf8379b0c54",
            "max": 3,
            "min": 0,
            "orientation": "horizontal",
            "style": "IPY_MODEL_d6b01ab856ef45c5b8fdc1c1d5d1272d",
            "value": 3
          }
        },
        "f43f0dda6fe54a4ead9031ad6978726e": {
          "model_module": "@jupyter-widgets/controls",
          "model_name": "HTMLModel",
          "model_module_version": "1.5.0",
          "state": {
            "_dom_classes": [],
            "_model_module": "@jupyter-widgets/controls",
            "_model_module_version": "1.5.0",
            "_model_name": "HTMLModel",
            "_view_count": null,
            "_view_module": "@jupyter-widgets/controls",
            "_view_module_version": "1.5.0",
            "_view_name": "HTMLView",
            "description": "",
            "description_tooltip": null,
            "layout": "IPY_MODEL_a73d65a950a04390be1b1984637f18ba",
            "placeholder": "​",
            "style": "IPY_MODEL_263e56f1ac7b4a6084b62390c6aff7ae",
            "value": " 3/3 [00:36&lt;00:00, 12.15s/it]"
          }
        },
        "5c150c0964024e46beb353882e3f254d": {
          "model_module": "@jupyter-widgets/base",
          "model_name": "LayoutModel",
          "model_module_version": "1.2.0",
          "state": {
            "_model_module": "@jupyter-widgets/base",
            "_model_module_version": "1.2.0",
            "_model_name": "LayoutModel",
            "_view_count": null,
            "_view_module": "@jupyter-widgets/base",
            "_view_module_version": "1.2.0",
            "_view_name": "LayoutView",
            "align_content": null,
            "align_items": null,
            "align_self": null,
            "border": null,
            "bottom": null,
            "display": null,
            "flex": null,
            "flex_flow": null,
            "grid_area": null,
            "grid_auto_columns": null,
            "grid_auto_flow": null,
            "grid_auto_rows": null,
            "grid_column": null,
            "grid_gap": null,
            "grid_row": null,
            "grid_template_areas": null,
            "grid_template_columns": null,
            "grid_template_rows": null,
            "height": null,
            "justify_content": null,
            "justify_items": null,
            "left": null,
            "margin": null,
            "max_height": null,
            "max_width": null,
            "min_height": null,
            "min_width": null,
            "object_fit": null,
            "object_position": null,
            "order": null,
            "overflow": null,
            "overflow_x": null,
            "overflow_y": null,
            "padding": null,
            "right": null,
            "top": null,
            "visibility": null,
            "width": null
          }
        },
        "a801049fabd24b5c9249ea7a0bd91a2b": {
          "model_module": "@jupyter-widgets/base",
          "model_name": "LayoutModel",
          "model_module_version": "1.2.0",
          "state": {
            "_model_module": "@jupyter-widgets/base",
            "_model_module_version": "1.2.0",
            "_model_name": "LayoutModel",
            "_view_count": null,
            "_view_module": "@jupyter-widgets/base",
            "_view_module_version": "1.2.0",
            "_view_name": "LayoutView",
            "align_content": null,
            "align_items": null,
            "align_self": null,
            "border": null,
            "bottom": null,
            "display": null,
            "flex": null,
            "flex_flow": null,
            "grid_area": null,
            "grid_auto_columns": null,
            "grid_auto_flow": null,
            "grid_auto_rows": null,
            "grid_column": null,
            "grid_gap": null,
            "grid_row": null,
            "grid_template_areas": null,
            "grid_template_columns": null,
            "grid_template_rows": null,
            "height": null,
            "justify_content": null,
            "justify_items": null,
            "left": null,
            "margin": null,
            "max_height": null,
            "max_width": null,
            "min_height": null,
            "min_width": null,
            "object_fit": null,
            "object_position": null,
            "order": null,
            "overflow": null,
            "overflow_x": null,
            "overflow_y": null,
            "padding": null,
            "right": null,
            "top": null,
            "visibility": null,
            "width": null
          }
        },
        "8e9ca0e9e83b42c9abbc6f880503c3d9": {
          "model_module": "@jupyter-widgets/controls",
          "model_name": "DescriptionStyleModel",
          "model_module_version": "1.5.0",
          "state": {
            "_model_module": "@jupyter-widgets/controls",
            "_model_module_version": "1.5.0",
            "_model_name": "DescriptionStyleModel",
            "_view_count": null,
            "_view_module": "@jupyter-widgets/base",
            "_view_module_version": "1.2.0",
            "_view_name": "StyleView",
            "description_width": ""
          }
        },
        "a978f163367646d799512bf8379b0c54": {
          "model_module": "@jupyter-widgets/base",
          "model_name": "LayoutModel",
          "model_module_version": "1.2.0",
          "state": {
            "_model_module": "@jupyter-widgets/base",
            "_model_module_version": "1.2.0",
            "_model_name": "LayoutModel",
            "_view_count": null,
            "_view_module": "@jupyter-widgets/base",
            "_view_module_version": "1.2.0",
            "_view_name": "LayoutView",
            "align_content": null,
            "align_items": null,
            "align_self": null,
            "border": null,
            "bottom": null,
            "display": null,
            "flex": null,
            "flex_flow": null,
            "grid_area": null,
            "grid_auto_columns": null,
            "grid_auto_flow": null,
            "grid_auto_rows": null,
            "grid_column": null,
            "grid_gap": null,
            "grid_row": null,
            "grid_template_areas": null,
            "grid_template_columns": null,
            "grid_template_rows": null,
            "height": null,
            "justify_content": null,
            "justify_items": null,
            "left": null,
            "margin": null,
            "max_height": null,
            "max_width": null,
            "min_height": null,
            "min_width": null,
            "object_fit": null,
            "object_position": null,
            "order": null,
            "overflow": null,
            "overflow_x": null,
            "overflow_y": null,
            "padding": null,
            "right": null,
            "top": null,
            "visibility": null,
            "width": null
          }
        },
        "d6b01ab856ef45c5b8fdc1c1d5d1272d": {
          "model_module": "@jupyter-widgets/controls",
          "model_name": "ProgressStyleModel",
          "model_module_version": "1.5.0",
          "state": {
            "_model_module": "@jupyter-widgets/controls",
            "_model_module_version": "1.5.0",
            "_model_name": "ProgressStyleModel",
            "_view_count": null,
            "_view_module": "@jupyter-widgets/base",
            "_view_module_version": "1.2.0",
            "_view_name": "StyleView",
            "bar_color": null,
            "description_width": ""
          }
        },
        "a73d65a950a04390be1b1984637f18ba": {
          "model_module": "@jupyter-widgets/base",
          "model_name": "LayoutModel",
          "model_module_version": "1.2.0",
          "state": {
            "_model_module": "@jupyter-widgets/base",
            "_model_module_version": "1.2.0",
            "_model_name": "LayoutModel",
            "_view_count": null,
            "_view_module": "@jupyter-widgets/base",
            "_view_module_version": "1.2.0",
            "_view_name": "LayoutView",
            "align_content": null,
            "align_items": null,
            "align_self": null,
            "border": null,
            "bottom": null,
            "display": null,
            "flex": null,
            "flex_flow": null,
            "grid_area": null,
            "grid_auto_columns": null,
            "grid_auto_flow": null,
            "grid_auto_rows": null,
            "grid_column": null,
            "grid_gap": null,
            "grid_row": null,
            "grid_template_areas": null,
            "grid_template_columns": null,
            "grid_template_rows": null,
            "height": null,
            "justify_content": null,
            "justify_items": null,
            "left": null,
            "margin": null,
            "max_height": null,
            "max_width": null,
            "min_height": null,
            "min_width": null,
            "object_fit": null,
            "object_position": null,
            "order": null,
            "overflow": null,
            "overflow_x": null,
            "overflow_y": null,
            "padding": null,
            "right": null,
            "top": null,
            "visibility": null,
            "width": null
          }
        },
        "263e56f1ac7b4a6084b62390c6aff7ae": {
          "model_module": "@jupyter-widgets/controls",
          "model_name": "DescriptionStyleModel",
          "model_module_version": "1.5.0",
          "state": {
            "_model_module": "@jupyter-widgets/controls",
            "_model_module_version": "1.5.0",
            "_model_name": "DescriptionStyleModel",
            "_view_count": null,
            "_view_module": "@jupyter-widgets/base",
            "_view_module_version": "1.2.0",
            "_view_name": "StyleView",
            "description_width": ""
          }
        }
      }
    }
  },
  "cells": [
    {
      "cell_type": "markdown",
      "source": [
        "# Libraries for Computer Vision\n",
        "* `torchvision` : Base domain library for PyTorch\n",
        "* `torchvision.datsets` get data set and data loading for computer vision\n",
        "* `torchvision.models`: get pretrained computer vision models that you can leverage for your own problems\n",
        "* `torchvision.transforms`: function for manipulating your vision data (images) to be suitable for use with ML model.\n",
        "* `torch.utils.data.Dataset`: Base data set class for Pytorch\n",
        "* `torch.utils.data.DataLoader`: Creates Python iterable over a Dataset"
      ],
      "metadata": {
        "id": "rL3CIpb3kqU3"
      }
    },
    {
      "cell_type": "code",
      "execution_count": 29,
      "metadata": {
        "id": "-2p7GyNz40LD"
      },
      "outputs": [],
      "source": [
        "## Import pytorch\n",
        "\n",
        "import torch\n",
        "from torch import nn\n",
        "\n",
        "#import torch vision\n",
        "import torchvision\n",
        "from torchvision import datasets, transforms\n",
        "from torchvision.transforms import ToTensor\n",
        "\n",
        "## import matplotlib for visualization\n",
        "import matplotlib.pyplot as plt"
      ]
    },
    {
      "cell_type": "markdown",
      "source": [
        "## Getting a Data set\n",
        "* Fashion MNIST\n"
      ],
      "metadata": {
        "id": "EWcikvv1BU8d"
      }
    },
    {
      "cell_type": "code",
      "source": [
        "device = torch.device('cuda' if torch.cuda.is_available() else 'cpu')\n",
        "device"
      ],
      "metadata": {
        "colab": {
          "base_uri": "https://localhost:8080/"
        },
        "id": "u_nuKTul8Kqc",
        "outputId": "63847758-5f13-49d4-8404-b79829172639"
      },
      "execution_count": 30,
      "outputs": [
        {
          "output_type": "execute_result",
          "data": {
            "text/plain": [
              "device(type='cuda')"
            ]
          },
          "metadata": {},
          "execution_count": 30
        }
      ]
    },
    {
      "cell_type": "code",
      "source": [
        "# Setup Trainig data\n",
        "train_data = datasets.FashionMNIST(\n",
        "    root = 'data', # Where to download data to(Folder created in the colab)\n",
        "    train = True, # do we want the training data set\n",
        "    download = True, # do we want to download yes/no\n",
        "    transform = torchvision.transforms.ToTensor(), # how do we want to transform the data\n",
        "    target_transform = None # how do we want to trandform the labels / targets\n",
        ")\n",
        "# Setup Testing Data\n",
        "\n",
        "test_data = datasets.FashionMNIST(\n",
        "    root = 'data', # Where to download data to(Foilder Created in the colab)\n",
        "    train = False, # do we want the training data set\n",
        "    download = True, # do we want to download yes/no\n",
        "    transform = torchvision.transforms.ToTensor(), # how do we want to transform the data\n",
        "    target_transform = None # how do we want to trandform the labels / targets\n",
        ")\n"
      ],
      "metadata": {
        "id": "NUsN92Z3BUD2"
      },
      "execution_count": 31,
      "outputs": []
    },
    {
      "cell_type": "code",
      "source": [
        "len(train_data), len(test_data)"
      ],
      "metadata": {
        "colab": {
          "base_uri": "https://localhost:8080/"
        },
        "id": "AmN-_tVtVJzg",
        "outputId": "05f2a904-5795-4b34-fabc-d21c75ee9478"
      },
      "execution_count": 32,
      "outputs": [
        {
          "output_type": "execute_result",
          "data": {
            "text/plain": [
              "(60000, 10000)"
            ]
          },
          "metadata": {},
          "execution_count": 32
        }
      ]
    },
    {
      "cell_type": "code",
      "source": [
        "image , label = train_data[0]\n",
        "image, label"
      ],
      "metadata": {
        "colab": {
          "base_uri": "https://localhost:8080/"
        },
        "id": "vjCM-QSPWMP7",
        "outputId": "5fb7db57-de6a-4494-cae1-3cb32559dad6"
      },
      "execution_count": 33,
      "outputs": [
        {
          "output_type": "execute_result",
          "data": {
            "text/plain": [
              "(tensor([[[0.0000, 0.0000, 0.0000, 0.0000, 0.0000, 0.0000, 0.0000, 0.0000,\n",
              "           0.0000, 0.0000, 0.0000, 0.0000, 0.0000, 0.0000, 0.0000, 0.0000,\n",
              "           0.0000, 0.0000, 0.0000, 0.0000, 0.0000, 0.0000, 0.0000, 0.0000,\n",
              "           0.0000, 0.0000, 0.0000, 0.0000],\n",
              "          [0.0000, 0.0000, 0.0000, 0.0000, 0.0000, 0.0000, 0.0000, 0.0000,\n",
              "           0.0000, 0.0000, 0.0000, 0.0000, 0.0000, 0.0000, 0.0000, 0.0000,\n",
              "           0.0000, 0.0000, 0.0000, 0.0000, 0.0000, 0.0000, 0.0000, 0.0000,\n",
              "           0.0000, 0.0000, 0.0000, 0.0000],\n",
              "          [0.0000, 0.0000, 0.0000, 0.0000, 0.0000, 0.0000, 0.0000, 0.0000,\n",
              "           0.0000, 0.0000, 0.0000, 0.0000, 0.0000, 0.0000, 0.0000, 0.0000,\n",
              "           0.0000, 0.0000, 0.0000, 0.0000, 0.0000, 0.0000, 0.0000, 0.0000,\n",
              "           0.0000, 0.0000, 0.0000, 0.0000],\n",
              "          [0.0000, 0.0000, 0.0000, 0.0000, 0.0000, 0.0000, 0.0000, 0.0000,\n",
              "           0.0000, 0.0000, 0.0000, 0.0000, 0.0039, 0.0000, 0.0000, 0.0510,\n",
              "           0.2863, 0.0000, 0.0000, 0.0039, 0.0157, 0.0000, 0.0000, 0.0000,\n",
              "           0.0000, 0.0039, 0.0039, 0.0000],\n",
              "          [0.0000, 0.0000, 0.0000, 0.0000, 0.0000, 0.0000, 0.0000, 0.0000,\n",
              "           0.0000, 0.0000, 0.0000, 0.0000, 0.0118, 0.0000, 0.1412, 0.5333,\n",
              "           0.4980, 0.2431, 0.2118, 0.0000, 0.0000, 0.0000, 0.0039, 0.0118,\n",
              "           0.0157, 0.0000, 0.0000, 0.0118],\n",
              "          [0.0000, 0.0000, 0.0000, 0.0000, 0.0000, 0.0000, 0.0000, 0.0000,\n",
              "           0.0000, 0.0000, 0.0000, 0.0000, 0.0235, 0.0000, 0.4000, 0.8000,\n",
              "           0.6902, 0.5255, 0.5647, 0.4824, 0.0902, 0.0000, 0.0000, 0.0000,\n",
              "           0.0000, 0.0471, 0.0392, 0.0000],\n",
              "          [0.0000, 0.0000, 0.0000, 0.0000, 0.0000, 0.0000, 0.0000, 0.0000,\n",
              "           0.0000, 0.0000, 0.0000, 0.0000, 0.0000, 0.0000, 0.6078, 0.9255,\n",
              "           0.8118, 0.6980, 0.4196, 0.6118, 0.6314, 0.4275, 0.2510, 0.0902,\n",
              "           0.3020, 0.5098, 0.2824, 0.0588],\n",
              "          [0.0000, 0.0000, 0.0000, 0.0000, 0.0000, 0.0000, 0.0000, 0.0000,\n",
              "           0.0000, 0.0000, 0.0000, 0.0039, 0.0000, 0.2706, 0.8118, 0.8745,\n",
              "           0.8549, 0.8471, 0.8471, 0.6392, 0.4980, 0.4745, 0.4784, 0.5725,\n",
              "           0.5529, 0.3451, 0.6745, 0.2588],\n",
              "          [0.0000, 0.0000, 0.0000, 0.0000, 0.0000, 0.0000, 0.0000, 0.0000,\n",
              "           0.0000, 0.0039, 0.0039, 0.0039, 0.0000, 0.7843, 0.9098, 0.9098,\n",
              "           0.9137, 0.8980, 0.8745, 0.8745, 0.8431, 0.8353, 0.6431, 0.4980,\n",
              "           0.4824, 0.7686, 0.8980, 0.0000],\n",
              "          [0.0000, 0.0000, 0.0000, 0.0000, 0.0000, 0.0000, 0.0000, 0.0000,\n",
              "           0.0000, 0.0000, 0.0000, 0.0000, 0.0000, 0.7176, 0.8824, 0.8471,\n",
              "           0.8745, 0.8941, 0.9216, 0.8902, 0.8784, 0.8706, 0.8784, 0.8667,\n",
              "           0.8745, 0.9608, 0.6784, 0.0000],\n",
              "          [0.0000, 0.0000, 0.0000, 0.0000, 0.0000, 0.0000, 0.0000, 0.0000,\n",
              "           0.0000, 0.0000, 0.0000, 0.0000, 0.0000, 0.7569, 0.8941, 0.8549,\n",
              "           0.8353, 0.7765, 0.7059, 0.8314, 0.8235, 0.8275, 0.8353, 0.8745,\n",
              "           0.8627, 0.9529, 0.7922, 0.0000],\n",
              "          [0.0000, 0.0000, 0.0000, 0.0000, 0.0000, 0.0000, 0.0000, 0.0000,\n",
              "           0.0000, 0.0039, 0.0118, 0.0000, 0.0471, 0.8588, 0.8627, 0.8314,\n",
              "           0.8549, 0.7529, 0.6627, 0.8902, 0.8157, 0.8549, 0.8784, 0.8314,\n",
              "           0.8863, 0.7725, 0.8196, 0.2039],\n",
              "          [0.0000, 0.0000, 0.0000, 0.0000, 0.0000, 0.0000, 0.0000, 0.0000,\n",
              "           0.0000, 0.0000, 0.0235, 0.0000, 0.3882, 0.9569, 0.8706, 0.8627,\n",
              "           0.8549, 0.7961, 0.7765, 0.8667, 0.8431, 0.8353, 0.8706, 0.8627,\n",
              "           0.9608, 0.4667, 0.6549, 0.2196],\n",
              "          [0.0000, 0.0000, 0.0000, 0.0000, 0.0000, 0.0000, 0.0000, 0.0000,\n",
              "           0.0000, 0.0157, 0.0000, 0.0000, 0.2157, 0.9255, 0.8941, 0.9020,\n",
              "           0.8941, 0.9412, 0.9098, 0.8353, 0.8549, 0.8745, 0.9176, 0.8510,\n",
              "           0.8510, 0.8196, 0.3608, 0.0000],\n",
              "          [0.0000, 0.0000, 0.0039, 0.0157, 0.0235, 0.0275, 0.0078, 0.0000,\n",
              "           0.0000, 0.0000, 0.0000, 0.0000, 0.9294, 0.8863, 0.8510, 0.8745,\n",
              "           0.8706, 0.8588, 0.8706, 0.8667, 0.8471, 0.8745, 0.8980, 0.8431,\n",
              "           0.8549, 1.0000, 0.3020, 0.0000],\n",
              "          [0.0000, 0.0118, 0.0000, 0.0000, 0.0000, 0.0000, 0.0000, 0.0000,\n",
              "           0.0000, 0.2431, 0.5686, 0.8000, 0.8941, 0.8118, 0.8353, 0.8667,\n",
              "           0.8549, 0.8157, 0.8275, 0.8549, 0.8784, 0.8745, 0.8588, 0.8431,\n",
              "           0.8784, 0.9569, 0.6235, 0.0000],\n",
              "          [0.0000, 0.0000, 0.0000, 0.0000, 0.0706, 0.1725, 0.3216, 0.4196,\n",
              "           0.7412, 0.8941, 0.8627, 0.8706, 0.8510, 0.8863, 0.7843, 0.8039,\n",
              "           0.8275, 0.9020, 0.8784, 0.9176, 0.6902, 0.7373, 0.9804, 0.9725,\n",
              "           0.9137, 0.9333, 0.8431, 0.0000],\n",
              "          [0.0000, 0.2235, 0.7333, 0.8157, 0.8784, 0.8667, 0.8784, 0.8157,\n",
              "           0.8000, 0.8392, 0.8157, 0.8196, 0.7843, 0.6235, 0.9608, 0.7569,\n",
              "           0.8078, 0.8745, 1.0000, 1.0000, 0.8667, 0.9176, 0.8667, 0.8275,\n",
              "           0.8627, 0.9098, 0.9647, 0.0000],\n",
              "          [0.0118, 0.7922, 0.8941, 0.8784, 0.8667, 0.8275, 0.8275, 0.8392,\n",
              "           0.8039, 0.8039, 0.8039, 0.8627, 0.9412, 0.3137, 0.5882, 1.0000,\n",
              "           0.8980, 0.8667, 0.7373, 0.6039, 0.7490, 0.8235, 0.8000, 0.8196,\n",
              "           0.8706, 0.8941, 0.8824, 0.0000],\n",
              "          [0.3843, 0.9137, 0.7765, 0.8235, 0.8706, 0.8980, 0.8980, 0.9176,\n",
              "           0.9765, 0.8627, 0.7608, 0.8431, 0.8510, 0.9451, 0.2549, 0.2863,\n",
              "           0.4157, 0.4588, 0.6588, 0.8588, 0.8667, 0.8431, 0.8510, 0.8745,\n",
              "           0.8745, 0.8784, 0.8980, 0.1137],\n",
              "          [0.2941, 0.8000, 0.8314, 0.8000, 0.7569, 0.8039, 0.8275, 0.8824,\n",
              "           0.8471, 0.7255, 0.7725, 0.8078, 0.7765, 0.8353, 0.9412, 0.7647,\n",
              "           0.8902, 0.9608, 0.9373, 0.8745, 0.8549, 0.8314, 0.8196, 0.8706,\n",
              "           0.8627, 0.8667, 0.9020, 0.2627],\n",
              "          [0.1882, 0.7961, 0.7176, 0.7608, 0.8353, 0.7725, 0.7255, 0.7451,\n",
              "           0.7608, 0.7529, 0.7922, 0.8392, 0.8588, 0.8667, 0.8627, 0.9255,\n",
              "           0.8824, 0.8471, 0.7804, 0.8078, 0.7294, 0.7098, 0.6941, 0.6745,\n",
              "           0.7098, 0.8039, 0.8078, 0.4510],\n",
              "          [0.0000, 0.4784, 0.8588, 0.7569, 0.7020, 0.6706, 0.7176, 0.7686,\n",
              "           0.8000, 0.8235, 0.8353, 0.8118, 0.8275, 0.8235, 0.7843, 0.7686,\n",
              "           0.7608, 0.7490, 0.7647, 0.7490, 0.7765, 0.7529, 0.6902, 0.6118,\n",
              "           0.6549, 0.6941, 0.8235, 0.3608],\n",
              "          [0.0000, 0.0000, 0.2902, 0.7412, 0.8314, 0.7490, 0.6863, 0.6745,\n",
              "           0.6863, 0.7098, 0.7255, 0.7373, 0.7412, 0.7373, 0.7569, 0.7765,\n",
              "           0.8000, 0.8196, 0.8235, 0.8235, 0.8275, 0.7373, 0.7373, 0.7608,\n",
              "           0.7529, 0.8471, 0.6667, 0.0000],\n",
              "          [0.0078, 0.0000, 0.0000, 0.0000, 0.2588, 0.7843, 0.8706, 0.9294,\n",
              "           0.9373, 0.9490, 0.9647, 0.9529, 0.9569, 0.8667, 0.8627, 0.7569,\n",
              "           0.7490, 0.7020, 0.7137, 0.7137, 0.7098, 0.6902, 0.6510, 0.6588,\n",
              "           0.3882, 0.2275, 0.0000, 0.0000],\n",
              "          [0.0000, 0.0000, 0.0000, 0.0000, 0.0000, 0.0000, 0.0000, 0.1569,\n",
              "           0.2392, 0.1725, 0.2824, 0.1608, 0.1373, 0.0000, 0.0000, 0.0000,\n",
              "           0.0000, 0.0000, 0.0000, 0.0000, 0.0000, 0.0000, 0.0000, 0.0000,\n",
              "           0.0000, 0.0000, 0.0000, 0.0000],\n",
              "          [0.0000, 0.0000, 0.0000, 0.0000, 0.0000, 0.0000, 0.0000, 0.0000,\n",
              "           0.0000, 0.0000, 0.0000, 0.0000, 0.0000, 0.0000, 0.0000, 0.0000,\n",
              "           0.0000, 0.0000, 0.0000, 0.0000, 0.0000, 0.0000, 0.0000, 0.0000,\n",
              "           0.0000, 0.0000, 0.0000, 0.0000],\n",
              "          [0.0000, 0.0000, 0.0000, 0.0000, 0.0000, 0.0000, 0.0000, 0.0000,\n",
              "           0.0000, 0.0000, 0.0000, 0.0000, 0.0000, 0.0000, 0.0000, 0.0000,\n",
              "           0.0000, 0.0000, 0.0000, 0.0000, 0.0000, 0.0000, 0.0000, 0.0000,\n",
              "           0.0000, 0.0000, 0.0000, 0.0000]]]),\n",
              " 9)"
            ]
          },
          "metadata": {},
          "execution_count": 33
        }
      ]
    },
    {
      "cell_type": "markdown",
      "source": [
        "### Checking the imageand label shape :\n",
        "* image.shape -> [color_channel= 1, height = 28, width= 28]\n",
        "\n",
        "* having color channel = 1 : gray image"
      ],
      "metadata": {
        "id": "Q_V6NlVUW5t9"
      }
    },
    {
      "cell_type": "code",
      "source": [
        "#Shape of an image\n",
        "image.shape"
      ],
      "metadata": {
        "colab": {
          "base_uri": "https://localhost:8080/"
        },
        "id": "xxjgIG_uW-8S",
        "outputId": "acdee61a-39e1-44a6-9f24-3297090c0edf"
      },
      "execution_count": 34,
      "outputs": [
        {
          "output_type": "execute_result",
          "data": {
            "text/plain": [
              "torch.Size([1, 28, 28])"
            ]
          },
          "metadata": {},
          "execution_count": 34
        }
      ]
    },
    {
      "cell_type": "code",
      "source": [
        "## Lets see the type of classes present\n",
        "number_of_classes =train_data.classes\n",
        "number_of_classes"
      ],
      "metadata": {
        "colab": {
          "base_uri": "https://localhost:8080/"
        },
        "id": "5bJNRPTOYZoX",
        "outputId": "ef79c42b-643c-4b5f-b938-b6d361feea20"
      },
      "execution_count": 35,
      "outputs": [
        {
          "output_type": "execute_result",
          "data": {
            "text/plain": [
              "['T-shirt/top',\n",
              " 'Trouser',\n",
              " 'Pullover',\n",
              " 'Dress',\n",
              " 'Coat',\n",
              " 'Sandal',\n",
              " 'Shirt',\n",
              " 'Sneaker',\n",
              " 'Bag',\n",
              " 'Ankle boot']"
            ]
          },
          "metadata": {},
          "execution_count": 35
        }
      ]
    },
    {
      "cell_type": "markdown",
      "source": [
        "### Visualizing the data\n"
      ],
      "metadata": {
        "id": "dn4WvBuAZfwX"
      }
    },
    {
      "cell_type": "code",
      "source": [
        "import matplotlib.pyplot as plt\n",
        "image, label = train_data[0]\n",
        "print(f\"Image Shape: {image.shape} Label: {label}\")\n",
        "plt.imshow(image.squeeze(), cmap = 'gray')\n",
        "plt.title(number_of_classes[label])\n",
        "plt.show()"
      ],
      "metadata": {
        "colab": {
          "base_uri": "https://localhost:8080/",
          "height": 470
        },
        "id": "9BejOKmBZi1_",
        "outputId": "992b6654-488c-48a4-c0ec-9dec9369cfd3"
      },
      "execution_count": 36,
      "outputs": [
        {
          "output_type": "stream",
          "name": "stdout",
          "text": [
            "Image Shape: torch.Size([1, 28, 28]) Label: 9\n"
          ]
        },
        {
          "output_type": "display_data",
          "data": {
            "text/plain": [
              "<Figure size 640x480 with 1 Axes>"
            ],
            "image/png": "[encoded data removed]"
          },
          "metadata": {}
        }
      ]
    },
    {
      "cell_type": "markdown",
      "source": [
        "### Randomly look at the data"
      ],
      "metadata": {
        "id": "mqDp_dZIcb_S"
      }
    },
    {
      "cell_type": "code",
      "source": [
        "#torch.manual_seed(42)\n",
        "rows, column = 4, 4\n",
        "fig = plt.figure(figsize=(6,6))\n",
        "for i in range(1, rows*column +1):\n",
        "  random_idx = torch.randint(0, len(train_data), size = [1]).item()\n",
        "  img, label = train_data[random_idx]\n",
        "  fig.add_subplot(rows, column, i)\n",
        "  plt.imshow(img.squeeze(), cmap = 'gray')\n",
        "  plt.title(number_of_classes[label])\n",
        "  plt.axis(False)"
      ],
      "metadata": {
        "colab": {
          "base_uri": "https://localhost:8080/",
          "height": 521
        },
        "id": "IOuITMJvcEJB",
        "outputId": "307cbffc-8c39-4e68-b06f-50a894485ed7"
      },
      "execution_count": 37,
      "outputs": [
        {
          "output_type": "display_data",
          "data": {
            "text/plain": [
              "<Figure size 600x600 with 16 Axes>"
            ],
            "image/png": "[encoded data removed]"
          },
          "metadata": {}
        }
      ]
    },
    {
      "cell_type": "markdown",
      "source": [
        "## Preparing data Loader\n",
        "\n",
        "* DataLoader makes the entire dta set in to small batches and minibatches\n",
        "* Turning data into small bathces\n"
      ],
      "metadata": {
        "id": "nEWjh69seOQk"
      }
    },
    {
      "cell_type": "code",
      "source": [
        "from torch.utils.data import DataLoader\n",
        "\n",
        "BATCH_SIZE = 32\n",
        "\n",
        "train_dataloader = DataLoader(dataset = train_data,\n",
        "                              batch_size = BATCH_SIZE,\n",
        "                              shuffle = True\n",
        "                              )\n",
        "\n",
        "test_dataloader = DataLoader(dataset = test_data,\n",
        "                             batch_size= BATCH_SIZE,\n",
        "                             shuffle = False)"
      ],
      "metadata": {
        "id": "hHAaU_Xudepa"
      },
      "execution_count": 38,
      "outputs": []
    },
    {
      "cell_type": "code",
      "source": [
        "print(f\"LEngth of trainDataLoader : {len(train_dataloader)} batches of {BATCH_SIZE}\")\n",
        "print(f\"length of testDataLoader : {len(test_dataloader)} batches of {BATCH_SIZE}\")"
      ],
      "metadata": {
        "colab": {
          "base_uri": "https://localhost:8080/"
        },
        "id": "KCRGAH8lb45F",
        "outputId": "b392269a-4753-41d2-e33d-27b79861db2a"
      },
      "execution_count": 39,
      "outputs": [
        {
          "output_type": "stream",
          "name": "stdout",
          "text": [
            "LEngth of trainDataLoader : 1875 batches of 32\n",
            "length of testDataLoader : 313 batches of 32\n"
          ]
        }
      ]
    },
    {
      "cell_type": "markdown",
      "source": [
        "### Checking whast inside the training data loader"
      ],
      "metadata": {
        "id": "65-Woqq-erXB"
      }
    },
    {
      "cell_type": "code",
      "source": [
        "train_features_batch, train_labels_batch = next(iter(train_dataloader))\n",
        "train_features_batch.shape, train_labels_batch.shape"
      ],
      "metadata": {
        "colab": {
          "base_uri": "https://localhost:8080/"
        },
        "id": "whgUX4kKdt5f",
        "outputId": "c64a45fd-0bd6-4567-f29a-f6a68d42dce8"
      },
      "execution_count": 40,
      "outputs": [
        {
          "output_type": "execute_result",
          "data": {
            "text/plain": [
              "(torch.Size([32, 1, 28, 28]), torch.Size([32]))"
            ]
          },
          "metadata": {},
          "execution_count": 40
        }
      ]
    },
    {
      "cell_type": "code",
      "source": [
        "# Random index within the batch\n",
        "random_idx = torch.randint(0, len(train_features_batch), size=[1]).item()\n",
        "\n",
        "# Select the image and label\n",
        "img, label = train_features_batch[random_idx], train_labels_batch[random_idx]\n",
        "\n",
        "# Visualize the image\n",
        "plt.imshow(img.squeeze(), cmap='gray')  # Use .squeeze() for grayscale\n",
        "plt.title(f\"Class: {number_of_classes[label.item()]}\")  # Convert label to class name\n",
        "plt.axis(False)\n",
        "plt.show()\n"
      ],
      "metadata": {
        "colab": {
          "base_uri": "https://localhost:8080/",
          "height": 428
        },
        "id": "HqCtC_atolxO",
        "outputId": "efc2ef3f-0fbb-4905-a8c9-7d7e75592a14"
      },
      "execution_count": 41,
      "outputs": [
        {
          "output_type": "display_data",
          "data": {
            "text/plain": [
              "<Figure size 640x480 with 1 Axes>"
            ],
            "image/png": "[encoded data removed]"
          },
          "metadata": {}
        }
      ]
    },
    {
      "cell_type": "markdown",
      "source": [
        "## model 0: Build a baseline\n",
        "\n",
        "* Creating a flatten layer"
      ],
      "metadata": {
        "id": "0ax_kr_B0P2U"
      }
    },
    {
      "cell_type": "code",
      "source": [],
      "metadata": {
        "id": "WOSlHCmKI1Px"
      },
      "execution_count": 41,
      "outputs": []
    },
    {
      "cell_type": "code",
      "source": [
        "# create a flatten layer\n",
        "flatten_model = nn.Flatten()\n",
        "\n",
        "# get a single sample\n",
        "x = train_features_batch[0]\n",
        "print(x.shape)\n",
        "\n",
        "# passing the sample to the flatten mpdel\n",
        "\n",
        "output = flatten_model(x)\n",
        "print(output.shape)\n"
      ],
      "metadata": {
        "colab": {
          "base_uri": "https://localhost:8080/"
        },
        "id": "a1scKAdcyqtH",
        "outputId": "8907c61d-91d6-45e0-d996-265c2c2294bd"
      },
      "execution_count": 42,
      "outputs": [
        {
          "output_type": "stream",
          "name": "stdout",
          "text": [
            "torch.Size([1, 28, 28])\n",
            "torch.Size([1, 784])\n"
          ]
        }
      ]
    },
    {
      "cell_type": "code",
      "source": [
        "class modelv0(nn.Module):\n",
        "  def __init__(self, input_shape: int, hidden_units : int, output_shape: int):\n",
        "    super().__init__()\n",
        "    self.layer_stack = nn.Sequential(\n",
        "        nn.Flatten(),\n",
        "        nn.Linear(in_features= input_shape, out_features = hidden_units),\n",
        "        nn.Linear(in_features = hidden_units, out_features = output_shape)\n",
        "\n",
        "    )\n",
        "\n",
        "  def forward(self, x):\n",
        "    return self.layer_stack(x)"
      ],
      "metadata": {
        "id": "tNlN-wtv2HzF"
      },
      "execution_count": 43,
      "outputs": []
    },
    {
      "cell_type": "code",
      "source": [
        "torch.manual_seed(42)\n",
        "\n",
        "model0 = modelv0(\n",
        "    input_shape = 28*28,\n",
        "    hidden_units = 10,\n",
        "    output_shape= len(number_of_classes)\n",
        ").to(device)\n",
        "model0"
      ],
      "metadata": {
        "colab": {
          "base_uri": "https://localhost:8080/"
        },
        "id": "WdWNXoAcHf-i",
        "outputId": "e404883a-daf3-43db-f89f-05044d9c2f35"
      },
      "execution_count": 44,
      "outputs": [
        {
          "output_type": "execute_result",
          "data": {
            "text/plain": [
              "modelv0(\n",
              "  (layer_stack): Sequential(\n",
              "    (0): Flatten(start_dim=1, end_dim=-1)\n",
              "    (1): Linear(in_features=784, out_features=10, bias=True)\n",
              "    (2): Linear(in_features=10, out_features=10, bias=True)\n",
              "  )\n",
              ")"
            ]
          },
          "metadata": {},
          "execution_count": 44
        }
      ]
    },
    {
      "cell_type": "markdown",
      "source": [
        "## Setup loss , optimizer and evaluation metrics\n",
        "\n",
        "* Loss function: since we are working with a multiclass data, our loss function will be `nn.CrossEntropyLoss()`\n",
        "* optimize = SGD\n",
        "* Evaluation metric:  accuracy"
      ],
      "metadata": {
        "id": "1GOkZxSU55Vn"
      }
    },
    {
      "cell_type": "code",
      "source": [
        "import requests\n",
        "from pathlib import Path\n",
        "\n",
        "# Download helper functions from Learn PyTorch repo (if not already downloaded)\n",
        "if Path(\"helper_functions.py\").is_file():\n",
        "  print(\"helper_functions.py already exists, skipping download\")\n",
        "else:\n",
        "  print(\"Downloading helper_functions.py\")\n",
        "  # Note: you need the \"raw\" GitHub URL for this to work\n",
        "  request = requests.get(\"https://raw.githubusercontent.com/mrdbourke/pytorch-deep-learning/main/helper_functions.py\")\n",
        "  with open(\"helper_functions.py\", \"wb\") as f:\n",
        "    f.write(request.content)"
      ],
      "metadata": {
        "colab": {
          "base_uri": "https://localhost:8080/"
        },
        "id": "-uJWbD0i54pa",
        "outputId": "2dbd9ab6-a856-46db-9efe-9f6c3b2cc4a4"
      },
      "execution_count": 45,
      "outputs": [
        {
          "output_type": "stream",
          "name": "stdout",
          "text": [
            "helper_functions.py already exists, skipping download\n"
          ]
        }
      ]
    },
    {
      "cell_type": "code",
      "source": [
        "from helper_functions import accuracy_fn\n",
        "\n",
        "# seting up loss function and optimizer\n",
        "Loss = nn.CrossEntropyLoss()\n",
        "optimizer = torch.optim.SGD(params = model0.parameters(), lr = 0.1\n",
        "                            )"
      ],
      "metadata": {
        "id": "caJHAa-vdYfC"
      },
      "execution_count": 46,
      "outputs": []
    },
    {
      "cell_type": "markdown",
      "source": [
        "#### Timer to calculate the time\n"
      ],
      "metadata": {
        "id": "83XdOlDai2wm"
      }
    },
    {
      "cell_type": "code",
      "source": [
        "import time\n",
        "\n",
        "start_time = time.time()  # Record the start time\n",
        "\n",
        "# code model in between\n",
        "\n",
        "end_time = time.time()  # Record the end time\n",
        "elapsed_time = end_time - start_time\n",
        "\n",
        "print(f\"Time taken: {elapsed_time:.4f} seconds\")"
      ],
      "metadata": {
        "colab": {
          "base_uri": "https://localhost:8080/"
        },
        "id": "ljLPXV7VhCAm",
        "outputId": "c34ea158-0964-4ef6-e096-126ecb65a97c"
      },
      "execution_count": 47,
      "outputs": [
        {
          "output_type": "stream",
          "name": "stdout",
          "text": [
            "Time taken: 0.0000 seconds\n"
          ]
        }
      ]
    },
    {
      "cell_type": "markdown",
      "source": [
        "### Creating training loop and traing a model on batches of data\n",
        "* Loop through epochs\n",
        "* loop through training batches, perform training steps, calculate the training loss \"per batch\"\n",
        "* Lopp through testing batches, perform testing steps, calculate the test loss \"per batch\"\n",
        "* Print out whats happening\n"
      ],
      "metadata": {
        "id": "xJmJc9wBjIkn"
      }
    },
    {
      "cell_type": "code",
      "source": [
        "from sklearn.metrics import accuracy_score\n",
        "\n",
        "# import tqdm for progress bar\n",
        "from tqdm.auto import tqdm\n",
        "\n",
        "# set the seed and start the timer\n",
        "\n",
        "torch.manual_seed(42)\n",
        "# START the TIMER\n",
        "start_time = time.time()\n",
        "\n",
        "epochs = 3\n",
        "\n",
        "# creating training and test loop.\n",
        "\n",
        "for epoch in tqdm(range(epochs)):\n",
        "  print(f'Epochs: {epoch}\\n----')\n",
        "\n",
        "  train_loss = 0\n",
        "  # Adding a lopp to lopp through the training batches\n",
        "  for batch, (X,y) in enumerate(train_dataloader):\n",
        "    # enumerate means that we are going batch by batch the batch here is theinder\n",
        "    # we are having\n",
        "    model0.train()\n",
        "    # Foward Pass\n",
        "    y_pred = model0(X.to(device))\n",
        "\n",
        "    # Loss calculation\n",
        "    loss = Loss(y_pred, y.to(device))\n",
        "    # Convert tensor loss to Python float\n",
        "    train_loss += loss.item() # accumulating the train loss\n",
        "\n",
        "    # Optimizer zero grad\n",
        "    optimizer.zero_grad()\n",
        "\n",
        "    #Loss baclward\n",
        "    loss.backward()\n",
        "\n",
        "    # optmizer step\n",
        "    optimizer.step()\n",
        "\n",
        "    # Print out whats hapening\n",
        "    if batch % 400 == 0:\n",
        "      print(f'Looked at {batch * len(X)}/ {len(train_dataloader.dataset)} samples.')\n",
        "  # Divde total train loss with length of the train loader\n",
        "  train_loss /= len(train_dataloader)\n",
        "\n",
        "  test_loss, test_acc =0.0,0.0\n",
        "  model0.eval()\n",
        "  with torch.inference_mode():\n",
        "    for X_test,y_test in test_dataloader:\n",
        "      # Forward Pass\n",
        "      test_logit = model0(X_test.to(device))\n",
        "      test_pred = test_logit.argmax(dim =1) # it will give the labels\n",
        "\n",
        "      # backward Pass\n",
        "      t_loss = Loss(test_logit, y_test.to(device))\n",
        "      test_loss += t_loss.item()\n",
        "\n",
        "      # calculate the accuracy\n",
        "      # so we are comparing the labels with labels\n",
        "      test_acc +=  accuracy_score(y_true = y_test.cpu().numpy(),\n",
        "                                  y_pred = test_pred.cpu().numpy())*100\n",
        "\n",
        "    # Calculate the tess loss avg per batch\n",
        "    test_loss /= len(test_dataloader)\n",
        "    # calculate the test accuracy per batch\n",
        "    test_acc /= len(test_dataloader)\n",
        "\n",
        "  print(f'\\nTrain Loss: {train_loss:.4f} | Test Loss: {test_loss:.4f}, Test acc: {test_acc:.2f}')\n",
        "\n",
        "\n",
        "end_time = time.time()  # Record the end time\n",
        "elapsed_time = end_time - start_time\n",
        "\n",
        "\n",
        "print(f\"Time taken: {elapsed_time:.4f} seconds\")\n",
        "\n",
        "\n",
        "\n",
        "\n"
      ],
      "metadata": {
        "colab": {
          "base_uri": "https://localhost:8080/",
          "height": 557,
          "referenced_widgets": [
            "e547b4194b684f3cb8bc00a49d68b08d",
            "92703de0a7c54228827f0e05a763c44e",
            "387849652f0441a58deca415d33b55e8",
            "35103c8781bc4a1caaa290cf2a44d5cb",
            "d7c02edb6f42445aa797c422d4762499",
            "ad1395665a6a4c8eb90845f131034199",
            "da7bf31eeecc4d3789eaa6a1e00c0cb9",
            "82f2598aa1b245d5b9eadc7d04a59518",
            "31c7b3f3580a483990c674af3c72643c",
            "404ce5f78b864f12b139d06281596b10",
            "70fed7e80c084637881ca7b350284b77"
          ]
        },
        "id": "ks5ioYElkFZy",
        "outputId": "da5d24f1-4745-46a0-841f-39c68bb75517"
      },
      "execution_count": 51,
      "outputs": [
        {
          "output_type": "display_data",
          "data": {
            "text/plain": [
              "  0%|          | 0/3 [00:00<?, ?it/s]"
            ],
            "application/vnd.jupyter.widget-view+json": {
              "version_major": 2,
              "version_minor": 0,
              "model_id": "e547b4194b684f3cb8bc00a49d68b08d"
            }
          },
          "metadata": {}
        },
        {
          "output_type": "stream",
          "name": "stdout",
          "text": [
            "Epochs: 0\n",
            "----\n",
            "Looked at 0/ 60000 samples.\n",
            "Looked at 12800/ 60000 samples.\n",
            "Looked at 25600/ 60000 samples.\n",
            "Looked at 38400/ 60000 samples.\n",
            "Looked at 51200/ 60000 samples.\n",
            "\n",
            "Train Loss: 0.4764 | Test Loss: 0.4825, Test acc: 83.00\n",
            "Epochs: 1\n",
            "----\n",
            "Looked at 0/ 60000 samples.\n",
            "Looked at 12800/ 60000 samples.\n",
            "Looked at 25600/ 60000 samples.\n",
            "Looked at 38400/ 60000 samples.\n",
            "Looked at 51200/ 60000 samples.\n",
            "\n",
            "Train Loss: 0.4556 | Test Loss: 0.4725, Test acc: 83.63\n",
            "Epochs: 2\n",
            "----\n",
            "Looked at 0/ 60000 samples.\n",
            "Looked at 12800/ 60000 samples.\n",
            "Looked at 25600/ 60000 samples.\n",
            "Looked at 38400/ 60000 samples.\n",
            "Looked at 51200/ 60000 samples.\n",
            "\n",
            "Train Loss: 0.4436 | Test Loss: 0.4714, Test acc: 83.58\n",
            "Time taken: 27.1392 seconds\n"
          ]
        }
      ]
    },
    {
      "cell_type": "markdown",
      "source": [
        "#### Make prediction and get model0 results"
      ],
      "metadata": {
        "id": "vR70eBxK1r2t"
      }
    },
    {
      "cell_type": "code",
      "source": [
        "torch.manual_seed(42)\n",
        "\n",
        "loss_eval, acc_eval = 0.0,0.0\n",
        "model0.eval()\n",
        "with torch.inference_mode():\n",
        "  for X, y in tqdm(test_dataloader):\n",
        "    y_pred = model0(X.to(device))\n",
        "    loss = Loss(y_pred, y.to(device))\n",
        "    loss_eval += loss.item()\n",
        "\n",
        "    acc_eval += accuracy_score(y_true = y.cpu().numpy(),\n",
        "                               y_pred = y_pred.argmax(dim =1).cpu().numpy())*100\n",
        "\n",
        "loss_eval /= len(test_dataloader)\n",
        "acc_eval /= len(test_dataloader)\n",
        "\n",
        "print(f'Loss: {loss_eval:.4f} | Accuracy: {acc_eval:.2f}')\n",
        "\n",
        "\n",
        "\n"
      ],
      "metadata": {
        "colab": {
          "base_uri": "https://localhost:8080/",
          "height": 67,
          "referenced_widgets": [
            "fe98ccf8a91b4639ba98f7fa9386b559",
            "0235b9a4025b43f09c3d30c8addb6bbe",
            "9a6c70bd554f4d949dec99f7ac98e989",
            "df37b130500047e68e822136450bc37a",
            "2a46a32f066344c3a9edbb8eeab108b5",
            "daaee2d89f324121abcb2833c59c2c66",
            "32ca0d7c2d78441aa9ba4418d5df6939",
            "23ed21bf37d24ad7b665a3d48021d339",
            "cc8278750c434f75a6235ea460db8ea1",
            "2d2be047d92a47afa5d12a0da608cecc",
            "84a75907f6624a059b8a01fd707bdfe8"
          ]
        },
        "id": "uXmq4P6X1xNN",
        "outputId": "e9979ecc-1ec6-4af6-aa07-5bd0676411b8"
      },
      "execution_count": 53,
      "outputs": [
        {
          "output_type": "display_data",
          "data": {
            "text/plain": [
              "  0%|          | 0/313 [00:00<?, ?it/s]"
            ],
            "application/vnd.jupyter.widget-view+json": {
              "version_major": 2,
              "version_minor": 0,
              "model_id": "fe98ccf8a91b4639ba98f7fa9386b559"
            }
          },
          "metadata": {}
        },
        {
          "output_type": "stream",
          "name": "stdout",
          "text": [
            "Loss: 0.4714 | Accuracy: 83.58\n"
          ]
        }
      ]
    },
    {
      "cell_type": "markdown",
      "source": [
        "## Model 1: Building a better model with non-Linearity"
      ],
      "metadata": {
        "id": "xYHkzIFa_3Qw"
      }
    },
    {
      "cell_type": "markdown",
      "source": [
        "### importing Librares"
      ],
      "metadata": {
        "id": "tH0xbS_DZHBC"
      }
    },
    {
      "cell_type": "code",
      "source": [
        "#Importing the Libraries\n",
        "import torch\n",
        "from torch import nn\n",
        "import matplotlib.pyplot as plt\n",
        "\n",
        "import torchvision\n",
        "from torchvision import datasets, transforms\n",
        "from torch.utils.data import DataLoader\n",
        "\n",
        "from sklearn.metrics import accuracy_score\n",
        "import time"
      ],
      "metadata": {
        "id": "vi8pJR-bXChv"
      },
      "execution_count": 11,
      "outputs": []
    },
    {
      "cell_type": "markdown",
      "source": [
        "### Data Set Loading"
      ],
      "metadata": {
        "id": "FQIf2o4sZM6z"
      }
    },
    {
      "cell_type": "code",
      "source": [
        "device = torch.device('cuda' if torch.cuda.is_available() else 'cpu')\n",
        "device"
      ],
      "metadata": {
        "colab": {
          "base_uri": "https://localhost:8080/"
        },
        "id": "ZnHQC5egeW1U",
        "outputId": "e2b55464-a14d-46fa-c7d6-439ec6eed472"
      },
      "execution_count": 12,
      "outputs": [
        {
          "output_type": "execute_result",
          "data": {
            "text/plain": [
              "device(type='cuda')"
            ]
          },
          "metadata": {},
          "execution_count": 12
        }
      ]
    },
    {
      "cell_type": "code",
      "source": [
        "train_data = datasets.FashionMNIST(\n",
        "    root = 'data', # Where to download data to(Folder created in the colab)\n",
        "    train = True, # do we want the training data set\n",
        "    download = True, # do we want to download yes/no\n",
        "    transform = torchvision.transforms.ToTensor(), # how do we want to transform the data\n",
        "    target_transform = None # how do we want to trandform the labels / targets\n",
        ")\n",
        "\n",
        "test_data = datasets.FashionMNIST(\n",
        "    root = 'data', # Where to download data to(Foilder Created in the colab)\n",
        "    train = False, # do we want the training data set\n",
        "    download = True, # do we want to download yes/no\n",
        "    transform = torchvision.transforms.ToTensor(), # how do we want to transform the data\n",
        "    target_transform = None # how do we want to trandform the labels / targets\n",
        ")"
      ],
      "metadata": {
        "id": "2Zrn7KvTXwfw"
      },
      "execution_count": 13,
      "outputs": []
    },
    {
      "cell_type": "markdown",
      "source": [
        "### DataLoader Creationg for batch"
      ],
      "metadata": {
        "id": "U0BU5fBfZOWf"
      }
    },
    {
      "cell_type": "code",
      "source": [
        "\n",
        "Batch_size = 32\n",
        "train_loader = DataLoader(dataset= train_data,\n",
        "                          shuffle = True,\n",
        "                          batch_size = Batch_size\n",
        "                          )\n",
        "\n",
        "test_loader = DataLoader(dataset = test_data,\n",
        "                         shuffle = False,\n",
        "                         batch_size = Batch_size)"
      ],
      "metadata": {
        "id": "LbRNjLaaYfDw"
      },
      "execution_count": 14,
      "outputs": []
    },
    {
      "cell_type": "markdown",
      "source": [
        "### Model V1"
      ],
      "metadata": {
        "id": "M2rEywjxZRqB"
      }
    },
    {
      "cell_type": "code",
      "source": [
        "class modelv1(nn.Module):\n",
        "  def __init__(self,\n",
        "               input_shape,\n",
        "               hidden_units,\n",
        "               output_shape):\n",
        "    super().__init__()\n",
        "    self.layer_stack = nn.Sequential(\n",
        "        nn.Flatten(),\n",
        "        nn.Linear(in_features = input_shape, out_features = hidden_units),\n",
        "        nn.ReLU(),\n",
        "        nn.Linear(in_features = hidden_units, out_features = hidden_units),\n",
        "        nn.ReLU(),\n",
        "        nn.Linear(in_features = hidden_units, out_features = output_shape)\n",
        "    )\n",
        "\n",
        "  def forward(self, x):\n",
        "    return self.layer_stack(x)"
      ],
      "metadata": {
        "id": "GNj04L67_9fv"
      },
      "execution_count": 15,
      "outputs": []
    },
    {
      "cell_type": "code",
      "source": [
        "output_shape = len(train_data.classes)\n",
        "output_shape"
      ],
      "metadata": {
        "colab": {
          "base_uri": "https://localhost:8080/"
        },
        "id": "0Aq7qS-oaHSH",
        "outputId": "cdfe33a8-1e09-4d11-e1a1-b4a51579e6fa"
      },
      "execution_count": 16,
      "outputs": [
        {
          "output_type": "execute_result",
          "data": {
            "text/plain": [
              "10"
            ]
          },
          "metadata": {},
          "execution_count": 16
        }
      ]
    },
    {
      "cell_type": "code",
      "source": [
        "## instances of the model\n",
        "input_shape = 28*28\n",
        "hidden_units = 10\n",
        "output_shape = len(train_data.classes)\n",
        "\n",
        "model1 = modelv1(input_shape,\n",
        "                 hidden_units,\n",
        "                 output_shape).to(device)\n",
        "model1"
      ],
      "metadata": {
        "colab": {
          "base_uri": "https://localhost:8080/"
        },
        "id": "zQwFs5dTZtSj",
        "outputId": "3e56193e-aba0-4957-9c88-01ff2b8216bd"
      },
      "execution_count": 17,
      "outputs": [
        {
          "output_type": "execute_result",
          "data": {
            "text/plain": [
              "modelv1(\n",
              "  (layer_stack): Sequential(\n",
              "    (0): Flatten(start_dim=1, end_dim=-1)\n",
              "    (1): Linear(in_features=784, out_features=10, bias=True)\n",
              "    (2): ReLU()\n",
              "    (3): Linear(in_features=10, out_features=10, bias=True)\n",
              "    (4): ReLU()\n",
              "    (5): Linear(in_features=10, out_features=10, bias=True)\n",
              "  )\n",
              ")"
            ]
          },
          "metadata": {},
          "execution_count": 17
        }
      ]
    },
    {
      "cell_type": "code",
      "source": [
        "## Loss and Optmizer\n",
        "Loss = nn.CrossEntropyLoss()\n",
        "optimizer = torch.optim.SGD(params= model1.parameters(), lr = 0.1)"
      ],
      "metadata": {
        "id": "UkfCy1rpXBKR"
      },
      "execution_count": 18,
      "outputs": []
    },
    {
      "cell_type": "markdown",
      "source": [
        "### Training and Testing loop"
      ],
      "metadata": {
        "id": "jJ5k-8_3acmM"
      }
    },
    {
      "cell_type": "code",
      "source": [
        "epochs = 3\n",
        "\n",
        "torch.manual_seed(42)\n",
        "# START the TIMER\n",
        "from tqdm.auto import tqdm\n",
        "\n",
        "start_time = time.time()\n",
        "\n",
        "for epoch in tqdm(range(epochs)):\n",
        "  for batch, (X_train,Y_train) in enumerate(train_loader):\n",
        "    model1.train()\n",
        "    # Forward Pass\n",
        "    y_logits = model1(X_train.to(device))\n",
        "    y_prob = torch.softmax(y_logits, dim =1)\n",
        "    y_pred = torch.argmax(y_prob, dim = 1)\n",
        "\n",
        "    # Loss\n",
        "    loss = Loss(y_logits, Y_train.to(device))\n",
        "    # accuracy\n",
        "    acc = accuracy_score(y_true = Y_train.cpu().numpy(),\n",
        "                         y_pred = y_pred.cpu().numpy() )\n",
        "    # optimizer zero grad\n",
        "    optimizer.zero_grad()\n",
        "    # loss backward\n",
        "    loss.backward()\n",
        "    #optmizer step\n",
        "    optimizer.step()\n",
        "\n",
        "  # model evaluate\n",
        "\n",
        "  for _, (X_test, y_test) in enumerate(test_loader):\n",
        "    model1.eval()\n",
        "    with torch.inference_mode():\n",
        "      test_logits = model1(X_test.to(device))\n",
        "      test_prob = torch.softmax(test_logits, dim = 1)\n",
        "      test_pred = torch.argmax(test_prob, dim = 1)\n",
        "\n",
        "      test_loss = Loss(test_logits, y_test.to(device))\n",
        "      test_acc = accuracy_score(y_true = y_test.cpu().numpy(),\n",
        "                                y_pred = test_pred.cpu().numpy())\n",
        "\n",
        "  print(f'Epochs: {epoch}\\n----')\n",
        "  print(f'Train Loss: {loss:.4f} | Train Acc: {acc:.2f}')\n",
        "  print(f'Test Loss: {test_loss:.4f} | Test Acc: {test_acc:.2f}')\n",
        "\n",
        "\n",
        "\n",
        "\n",
        "end_time = time.time()  # Record the end time\n",
        "elapsed_time = end_time - start_time\n",
        "\n",
        "\n",
        "print(f\"Time taken: {elapsed_time:.4f} seconds\")\n",
        "\n"
      ],
      "metadata": {
        "colab": {
          "base_uri": "https://localhost:8080/",
          "height": 285,
          "referenced_widgets": [
            "bfb883d52abf4af19d778ae4b0ba599a",
            "206f0c86ea6640d9ab3a7f646fda3335",
            "4ab732230c0a4df191d42115ffab4e18",
            "f43f0dda6fe54a4ead9031ad6978726e",
            "5c150c0964024e46beb353882e3f254d",
            "a801049fabd24b5c9249ea7a0bd91a2b",
            "8e9ca0e9e83b42c9abbc6f880503c3d9",
            "a978f163367646d799512bf8379b0c54",
            "d6b01ab856ef45c5b8fdc1c1d5d1272d",
            "a73d65a950a04390be1b1984637f18ba",
            "263e56f1ac7b4a6084b62390c6aff7ae"
          ]
        },
        "id": "1Ha2VTxzafki",
        "outputId": "87ef1113-2a82-4860-fd26-cb707a7a0b41"
      },
      "execution_count": 19,
      "outputs": [
        {
          "output_type": "display_data",
          "data": {
            "text/plain": [
              "  0%|          | 0/3 [00:00<?, ?it/s]"
            ],
            "application/vnd.jupyter.widget-view+json": {
              "version_major": 2,
              "version_minor": 0,
              "model_id": "bfb883d52abf4af19d778ae4b0ba599a"
            }
          },
          "metadata": {}
        },
        {
          "output_type": "stream",
          "name": "stdout",
          "text": [
            "Epochs: 0\n",
            "----\n",
            "Train Loss: 0.3542 | Train Acc: 0.88\n",
            "Test Loss: 0.3039 | Test Acc: 0.88\n",
            "Epochs: 1\n",
            "----\n",
            "Train Loss: 0.8667 | Train Acc: 0.62\n",
            "Test Loss: 0.3053 | Test Acc: 0.94\n",
            "Epochs: 2\n",
            "----\n",
            "Train Loss: 0.3094 | Train Acc: 0.91\n",
            "Test Loss: 0.3188 | Test Acc: 0.94\n",
            "Time taken: 36.1863 seconds\n"
          ]
        }
      ]
    },
    {
      "cell_type": "markdown",
      "source": [
        "#### Functionizing training loop and testing Loop\n",
        "Let's create a function for\n",
        "* Trining Loop: `train_step()`\n",
        "* Testing Loop : `test_step()`"
      ],
      "metadata": {
        "id": "VHEkCWGalCLv"
      }
    },
    {
      "cell_type": "markdown",
      "source": [
        "## ModelV2 = CNN"
      ],
      "metadata": {
        "id": "64Z8y27iuKJR"
      }
    },
    {
      "cell_type": "markdown",
      "source": [
        "### Importing Libraries"
      ],
      "metadata": {
        "id": "SRsuxv911MqN"
      }
    },
    {
      "cell_type": "code",
      "source": [
        "import torch\n",
        "from torch import nn\n",
        "\n",
        "import torchvision\n",
        "from torchvision import datasets, transforms\n",
        "from torch.utils.data import DataLoader\n",
        "\n",
        "import matplotlib.pyplot as plt\n",
        "\n",
        "import time\n",
        "\n",
        "from sklearn.metrics import accuracy_score"
      ],
      "metadata": {
        "id": "cek-FCva1MDs"
      },
      "execution_count": 1,
      "outputs": []
    },
    {
      "cell_type": "markdown",
      "source": [
        "### DataSet Loading\n"
      ],
      "metadata": {
        "id": "rJOT2ovY1lom"
      }
    },
    {
      "cell_type": "code",
      "source": [
        "train_data = datasets.FashionMNIST(\n",
        "    root = 'data',\n",
        "    train = True,\n",
        "    download = True,\n",
        "    transform = torchvision.transforms.ToTensor(),\n",
        "    target_transform = None\n",
        ")\n",
        "\n",
        "test_data = datasets.FashionMNIST(\n",
        "    root = 'data',\n",
        "    train = False,\n",
        "    download = True,\n",
        "    transform = torchvision.transforms.ToTensor(),\n",
        "    target_transform = None\n",
        ")"
      ],
      "metadata": {
        "colab": {
          "base_uri": "https://localhost:8080/"
        },
        "id": "6U2lZqFj1ofo",
        "outputId": "b47731e5-3d4b-4a79-df9a-dc1c4b86154d"
      },
      "execution_count": 2,
      "outputs": [
        {
          "output_type": "stream",
          "name": "stdout",
          "text": [
            "Downloading http://fashion-mnist.s3-website.eu-central-1.amazonaws.com/train-images-idx3-ubyte.gz\n",
            "Downloading http://fashion-mnist.s3-website.eu-central-1.amazonaws.com/train-images-idx3-ubyte.gz to data/FashionMNIST/raw/train-images-idx3-ubyte.gz\n"
          ]
        },
        {
          "output_type": "stream",
          "name": "stderr",
          "text": [
            "100%|██████████| 26.4M/26.4M [00:01<00:00, 19.9MB/s]\n"
          ]
        },
        {
          "output_type": "stream",
          "name": "stdout",
          "text": [
            "Extracting data/FashionMNIST/raw/train-images-idx3-ubyte.gz to data/FashionMNIST/raw\n",
            "\n",
            "Downloading http://fashion-mnist.s3-website.eu-central-1.amazonaws.com/train-labels-idx1-ubyte.gz\n",
            "Downloading http://fashion-mnist.s3-website.eu-central-1.amazonaws.com/train-labels-idx1-ubyte.gz to data/FashionMNIST/raw/train-labels-idx1-ubyte.gz\n"
          ]
        },
        {
          "output_type": "stream",
          "name": "stderr",
          "text": [
            "100%|██████████| 29.5k/29.5k [00:00<00:00, 305kB/s]\n"
          ]
        },
        {
          "output_type": "stream",
          "name": "stdout",
          "text": [
            "Extracting data/FashionMNIST/raw/train-labels-idx1-ubyte.gz to data/FashionMNIST/raw\n",
            "\n",
            "Downloading http://fashion-mnist.s3-website.eu-central-1.amazonaws.com/t10k-images-idx3-ubyte.gz\n",
            "Downloading http://fashion-mnist.s3-website.eu-central-1.amazonaws.com/t10k-images-idx3-ubyte.gz to data/FashionMNIST/raw/t10k-images-idx3-ubyte.gz\n"
          ]
        },
        {
          "output_type": "stream",
          "name": "stderr",
          "text": [
            "100%|██████████| 4.42M/4.42M [00:00<00:00, 5.58MB/s]\n"
          ]
        },
        {
          "output_type": "stream",
          "name": "stdout",
          "text": [
            "Extracting data/FashionMNIST/raw/t10k-images-idx3-ubyte.gz to data/FashionMNIST/raw\n",
            "\n",
            "Downloading http://fashion-mnist.s3-website.eu-central-1.amazonaws.com/t10k-labels-idx1-ubyte.gz\n",
            "Downloading http://fashion-mnist.s3-website.eu-central-1.amazonaws.com/t10k-labels-idx1-ubyte.gz to data/FashionMNIST/raw/t10k-labels-idx1-ubyte.gz\n"
          ]
        },
        {
          "output_type": "stream",
          "name": "stderr",
          "text": [
            "100%|██████████| 5.15k/5.15k [00:00<00:00, 4.52MB/s]"
          ]
        },
        {
          "output_type": "stream",
          "name": "stdout",
          "text": [
            "Extracting data/FashionMNIST/raw/t10k-labels-idx1-ubyte.gz to data/FashionMNIST/raw\n",
            "\n"
          ]
        },
        {
          "output_type": "stream",
          "name": "stderr",
          "text": [
            "\n"
          ]
        }
      ]
    },
    {
      "cell_type": "code",
      "source": [
        "## Device Agnostic Code\n",
        "\n",
        "device = 'cuda' if torch.cuda.is_available() else 'cpu'\n",
        "device"
      ],
      "metadata": {
        "colab": {
          "base_uri": "https://localhost:8080/",
          "height": 36
        },
        "id": "Py6w-6RV15FR",
        "outputId": "8b2646b5-be30-4022-f941-daefa7824b29"
      },
      "execution_count": 3,
      "outputs": [
        {
          "output_type": "execute_result",
          "data": {
            "text/plain": [
              "'cpu'"
            ],
            "application/vnd.google.colaboratory.intrinsic+json": {
              "type": "string"
            }
          },
          "metadata": {},
          "execution_count": 3
        }
      ]
    },
    {
      "cell_type": "markdown",
      "source": [
        "### Preparing DataLoader"
      ],
      "metadata": {
        "id": "6JCiIB-B2H6m"
      }
    },
    {
      "cell_type": "code",
      "source": [
        "Batch_size = 32\n",
        "\n",
        "train_loader = DataLoader(dataset = train_data,\n",
        "                          shuffle = True,\n",
        "                          batch_size = Batch_size)\n",
        "\n",
        "test_loader = DataLoader(dataset = test_data,\n",
        "                         shuffle = False,\n",
        "                         batch_size = Batch_size)"
      ],
      "metadata": {
        "id": "Vu7Is3Ah2Elc"
      },
      "execution_count": 4,
      "outputs": []
    },
    {
      "cell_type": "code",
      "source": [
        "classes = train_data.classes\n",
        "len(classes)"
      ],
      "metadata": {
        "colab": {
          "base_uri": "https://localhost:8080/"
        },
        "id": "wlaV4hQiSj7f",
        "outputId": "c9e2057d-dfd3-4512-c834-acc71d0c5553"
      },
      "execution_count": 5,
      "outputs": [
        {
          "output_type": "execute_result",
          "data": {
            "text/plain": [
              "10"
            ]
          },
          "metadata": {},
          "execution_count": 5
        }
      ]
    },
    {
      "cell_type": "markdown",
      "source": [
        "### CNN Model\n",
        "* Its a 2 Block Model: `Conv1 -> ReLU() -> MaPool` --->> `Conv2 -> ReLU() -> MaPool`\n",
        "* `input_size= 1`: It defines the number of input channels in the firstt convolution Layer(`nn.Conv2d`).\n",
        "The Valuse `1` is typically used for the gray scale image that is only one channel.\n",
        "* `input_size = 3` if the channel is RGB then the input channel will be 3(one for each channel: Red, Green and Blue)"
      ],
      "metadata": {
        "id": "Fgh4CxA22Wm2"
      }
    },
    {
      "cell_type": "code",
      "source": [
        "class ModelV2(nn.Module):\n",
        "  def __init__(self, input_shape, hidden_units, output_shape):\n",
        "    super().__init__()\n",
        "    # Define the 1st Convolution layer Block\n",
        "    self.Conv_Block_1 = nn.Sequential(\n",
        "        nn.Conv2d(in_channels = input_shape,\n",
        "                  out_channels = hidden_units,\n",
        "                  kernel_size = 3,\n",
        "                  stride = 1,\n",
        "                  padding = 1),\n",
        "        nn.ReLU(),\n",
        "        nn.Conv2d(in_channels = hidden_units,\n",
        "                  out_channels= hidden_units,\n",
        "                  kernel_size = 3,\n",
        "                  stride = 1,\n",
        "                  padding = 1),\n",
        "        nn.ReLU(),\n",
        "        nn.MaxPool2d(kernel_size = 2)\n",
        "    )\n",
        "    # Defibe the 2nd Convolution layer Block\n",
        "    self.Conv_Block_2 = nn.Sequential(\n",
        "        nn.Conv2d(in_channels = hidden_units, # matchup with the previous layer out channels\n",
        "                  out_channels = hidden_units,\n",
        "                  kernel_size = 3,\n",
        "                  stride = 1,\n",
        "                  padding = 1),\n",
        "        nn.ReLU(),\n",
        "        nn.Conv2d(in_channels = hidden_units,\n",
        "                  out_channels = hidden_units,\n",
        "                  kernel_size = 3,\n",
        "                  stride = 1,\n",
        "                  padding = 1),\n",
        "        nn.ReLU(),\n",
        "        nn.MaxPool2d(kernel_size = 2)\n",
        "\n",
        "    )\n",
        "    # Define the classifier layer\n",
        "    self.Classifier = nn.Sequential(\n",
        "        nn.Flatten(),\n",
        "        #The in_features argument in the nn.Linear layer should be\n",
        "        #calculated based on the output shape of the last convolutional block after flattening.\n",
        "        #Currently, it is set to hidden_units, which is incorrect.\n",
        "        #You need to calculate the number of features after the last MaxPool2d layer.\n",
        "        nn.Linear(in_features = hidden_units*0, ## Need to be calculated\n",
        "                 out_features = output_shape)\n",
        "    )\n",
        "\n",
        "  def forward(self, x):\n",
        "    x = self.Conv_Block_1(x)\n",
        "    print(x.shape)\n",
        "    x = self.conv_Block_2(x)\n",
        "    print(x.shape)\n",
        "    x = self.Classifier( x)\n",
        "    return x\n",
        "\n",
        "\n"
      ],
      "metadata": {
        "id": "RaTwXSAplB7y"
      },
      "execution_count": 6,
      "outputs": []
    },
    {
      "cell_type": "markdown",
      "source": [
        "## creating the instance for the Model"
      ],
      "metadata": {
        "id": "xLhRTLCi_AUy"
      }
    },
    {
      "cell_type": "code",
      "source": [
        "INPUT_SHAPE = 1\n",
        "HIDDEN_UNITS =10\n",
        "OUTPUT_SHAPE = len(classes)\n",
        "\n",
        "torch.manual_seed(42)\n",
        "torch.cuda.manual_seed(42)\n",
        "\n",
        "model2 = ModelV2(input_shape =INPUT_SHAPE,\n",
        "                 hidden_units = HIDDEN_UNITS,\n",
        "                 output_shape = OUTPUT_SHAPE).to(device)\n",
        "model2"
      ],
      "metadata": {
        "colab": {
          "base_uri": "https://localhost:8080/"
        },
        "id": "bAbx5QOd_ETU",
        "outputId": "0dec2bc8-716e-470a-9eca-46cc93084547"
      },
      "execution_count": 7,
      "outputs": [
        {
          "output_type": "stream",
          "name": "stderr",
          "text": [
            "/usr/local/lib/python3.11/dist-packages/torch/nn/init.py:511: UserWarning: Initializing zero-element tensors is a no-op\n",
            "  warnings.warn(\"Initializing zero-element tensors is a no-op\")\n"
          ]
        },
        {
          "output_type": "execute_result",
          "data": {
            "text/plain": [
              "ModelV2(\n",
              "  (Conv_Block_1): Sequential(\n",
              "    (0): Conv2d(1, 10, kernel_size=(3, 3), stride=(1, 1), padding=(1, 1))\n",
              "    (1): ReLU()\n",
              "    (2): Conv2d(10, 10, kernel_size=(3, 3), stride=(1, 1), padding=(1, 1))\n",
              "    (3): ReLU()\n",
              "    (4): MaxPool2d(kernel_size=2, stride=2, padding=0, dilation=1, ceil_mode=False)\n",
              "  )\n",
              "  (Conv_Block_2): Sequential(\n",
              "    (0): Conv2d(10, 10, kernel_size=(3, 3), stride=(1, 1), padding=(1, 1))\n",
              "    (1): ReLU()\n",
              "    (2): Conv2d(10, 10, kernel_size=(3, 3), stride=(1, 1), padding=(1, 1))\n",
              "    (3): ReLU()\n",
              "    (4): MaxPool2d(kernel_size=2, stride=2, padding=0, dilation=1, ceil_mode=False)\n",
              "  )\n",
              "  (Classifier): Sequential(\n",
              "    (0): Flatten(start_dim=1, end_dim=-1)\n",
              "    (1): Linear(in_features=0, out_features=10, bias=True)\n",
              "  )\n",
              ")"
            ]
          },
          "metadata": {},
          "execution_count": 7
        }
      ]
    },
    {
      "cell_type": "markdown",
      "source": [
        "### Stepping through `nn.Conv2d`"
      ],
      "metadata": {
        "id": "WaKf_HXfZDau"
      }
    },
    {
      "cell_type": "code",
      "source": [
        "## Lets create a dummy data\n",
        "torch.manual_seed(42)\n",
        "# Create a batch of images\n",
        "image = torch.randn(32,3,64,64).to(device)\n",
        "test_image = image[0]\n",
        "print(image)"
      ],
      "metadata": {
        "colab": {
          "base_uri": "https://localhost:8080/"
        },
        "id": "PqSenCVsZHin",
        "outputId": "d4330752-2a16-46d4-ca55-62aac7f45f55"
      },
      "execution_count": 8,
      "outputs": [
        {
          "output_type": "stream",
          "name": "stdout",
          "text": [
            "tensor([[[[ 1.9269,  1.4873,  0.9007,  ...,  1.8446, -1.1845,  1.3835],\n",
            "          [ 1.4451,  0.8564,  2.2181,  ...,  0.3399,  0.7200,  0.4114],\n",
            "          [ 1.9312,  1.0119, -1.4364,  ..., -0.5558,  0.7043,  0.7099],\n",
            "          ...,\n",
            "          [-0.5610, -0.4830,  0.4770,  ..., -0.2713, -0.9537, -0.6737],\n",
            "          [ 0.3076, -0.1277,  0.0366,  ..., -2.0060,  0.2824, -0.8111],\n",
            "          [-1.5486,  0.0485, -0.7712,  ..., -0.1403,  0.9416, -0.0118]],\n",
            "\n",
            "         [[-0.5197,  1.8524,  1.8365,  ...,  0.8935, -1.5114, -0.8515],\n",
            "          [ 2.0818,  1.0677, -1.4277,  ...,  1.6612, -2.6223, -0.4319],\n",
            "          [-0.1010, -0.4388, -1.9775,  ...,  0.2106,  0.2536, -0.7318],\n",
            "          ...,\n",
            "          [ 0.2779,  0.7342, -0.3736,  ..., -0.4601,  0.1815,  0.1850],\n",
            "          [ 0.7205, -0.2833,  0.0937,  ..., -0.1002, -2.3609,  2.2465],\n",
            "          [-1.3242, -0.1973,  0.2920,  ...,  0.5409,  0.6940,  1.8563]],\n",
            "\n",
            "         [[-0.7978,  1.0261,  1.1465,  ...,  1.2134,  0.9354, -0.0780],\n",
            "          [-1.4647, -1.9571,  0.1017,  ..., -1.9986, -0.7409,  0.7011],\n",
            "          [-1.3938,  0.8466, -1.7191,  ..., -1.1867,  0.1320,  0.3407],\n",
            "          ...,\n",
            "          [ 0.8206, -0.3745,  1.2499,  ..., -0.0676,  0.0385,  0.6335],\n",
            "          [-0.5589, -0.3393,  0.2347,  ...,  2.1181,  2.4569,  1.3083],\n",
            "          [-0.4092,  1.5199,  0.2401,  ..., -0.2558,  0.7870,  0.9924]]],\n",
            "\n",
            "\n",
            "        [[[ 1.1462, -0.9252,  0.0457,  ..., -1.6060, -0.3585, -0.4588],\n",
            "          [ 1.5696,  2.1210,  0.4030,  ..., -1.1395,  0.9925, -0.7322],\n",
            "          [-1.6529, -1.4641,  0.0971,  ...,  0.2152, -1.5102,  0.4840],\n",
            "          ...,\n",
            "          [ 0.7408, -0.7165,  2.1898,  ...,  0.4568,  0.0514, -0.9807],\n",
            "          [-0.2803, -0.3592, -1.1238,  ..., -0.5225, -0.1409,  0.6916],\n",
            "          [-0.5811, -1.3816,  1.0387,  ..., -0.6358,  0.9728, -0.2934]],\n",
            "\n",
            "         [[-1.3047,  1.4507,  0.2443,  ..., -0.1408, -1.4311, -0.1850],\n",
            "          [ 0.8868, -0.2988, -0.5001,  ..., -0.0105,  0.8178,  0.1980],\n",
            "          [ 0.9566, -0.6351,  0.5435,  ...,  0.3815, -0.5045,  0.6647],\n",
            "          ...,\n",
            "          [-1.8424, -0.3769,  0.4985,  ...,  1.0519, -1.0642, -0.7167],\n",
            "          [ 0.6115,  0.4193, -0.9970,  ...,  0.1066, -0.7907,  0.2683],\n",
            "          [-0.5824, -0.3426,  0.4904,  ...,  2.5234,  1.3809,  0.4820]],\n",
            "\n",
            "         [[-0.2932, -0.3666, -1.6757,  ..., -0.7696, -1.8347,  0.5975],\n",
            "          [-0.6698, -0.3543, -1.5089,  ...,  0.7316,  0.2406, -0.2326],\n",
            "          [-0.6608,  0.4298,  0.1429,  ..., -0.2031,  1.0480, -1.2931],\n",
            "          ...,\n",
            "          [-0.0854,  1.1046, -1.1372,  ..., -1.5342,  0.3418,  0.4373],\n",
            "          [ 1.5311, -0.2290, -0.7734,  ..., -0.6297, -0.1439, -0.6415],\n",
            "          [-0.5336,  0.8814,  0.2079,  ..., -0.8355, -1.9863, -0.9132]]],\n",
            "\n",
            "\n",
            "        [[[ 1.8723, -0.4072, -0.2770,  ...,  0.7319,  0.5414, -0.4704],\n",
            "          [-1.1442, -0.8629, -0.0325,  ..., -0.6706, -0.5498, -1.0136],\n",
            "          [-0.8476, -0.0746,  1.6060,  ...,  0.0655,  1.2327,  1.5566],\n",
            "          ...,\n",
            "          [ 0.1831, -1.1265,  1.0662,  ..., -1.6199,  0.8893,  1.8041],\n",
            "          [ 2.2873,  0.2870,  0.5738,  ...,  0.3699,  0.5207,  1.7841],\n",
            "          [-0.9507, -0.6412,  0.6762,  ...,  1.6346,  1.7163,  0.5287]],\n",
            "\n",
            "         [[ 0.3617,  0.0284,  0.7862,  ..., -0.4626,  0.0907,  0.4144],\n",
            "          [-0.3127,  1.0867,  1.2147,  ...,  0.4430,  1.6820,  1.9812],\n",
            "          [-1.5535,  1.2849, -0.2383,  ..., -0.6326, -0.7753, -0.0257],\n",
            "          ...,\n",
            "          [ 0.3711,  0.0639, -0.1340,  ...,  1.0498,  1.2419,  0.7912],\n",
            "          [ 0.7199, -1.6989,  0.5186,  ...,  1.3509,  0.2584, -0.9650],\n",
            "          [ 0.6124,  1.5963, -0.8839,  ...,  1.5568,  1.9061, -0.2654]],\n",
            "\n",
            "         [[-0.7838, -0.3569, -1.3868,  ...,  0.0293,  0.3965, -0.0459],\n",
            "          [-1.2732,  1.3058,  1.1782,  ..., -0.5917, -0.1135, -0.0979],\n",
            "          [-0.4611, -1.2840,  1.2376,  ...,  0.2198, -0.9789,  1.8790],\n",
            "          ...,\n",
            "          [ 1.2557,  0.2726,  0.4869,  ..., -0.9088, -1.0899,  1.8497],\n",
            "          [ 0.4721, -0.5464,  0.0127,  ..., -0.8402,  0.3470, -0.5938],\n",
            "          [ 0.3543, -0.7542,  0.8093,  ..., -0.0075,  1.2261, -0.3360]]],\n",
            "\n",
            "\n",
            "        ...,\n",
            "\n",
            "\n",
            "        [[[-2.1682, -0.7886, -0.3461,  ...,  0.3142, -0.3933, -0.4687],\n",
            "          [ 0.9872,  0.0910, -0.2333,  ...,  0.5540,  0.9231, -1.7830],\n",
            "          [-0.3090,  0.5961, -1.9058,  ..., -0.8920,  0.2649,  0.5361],\n",
            "          ...,\n",
            "          [ 1.4019,  1.5822,  1.9109,  ...,  1.4598,  1.4994,  0.0590],\n",
            "          [ 0.2599,  0.8737, -1.8681,  ..., -1.0228, -3.4304, -1.0239],\n",
            "          [-0.1505,  0.4495,  1.4101,  ...,  0.8395,  1.4997, -0.5686]],\n",
            "\n",
            "         [[ 0.8834,  1.1450,  0.5449,  ..., -0.2867,  0.2139, -1.3341],\n",
            "          [-1.2310, -0.3959,  0.3044,  ..., -0.4019, -0.7961,  0.0661],\n",
            "          [ 1.4644, -0.7622,  0.7954,  ..., -0.3784, -0.1177,  1.8225],\n",
            "          ...,\n",
            "          [ 1.4499,  0.9205,  0.8025,  ..., -0.9204, -0.2336,  1.0684],\n",
            "          [-0.8314,  0.2011,  0.4146,  ..., -1.3222, -0.6220,  0.0374],\n",
            "          [-0.6306, -1.0083,  0.4322,  ...,  0.9623, -0.2101, -0.8070]],\n",
            "\n",
            "         [[ 0.9766,  1.8551,  0.8079,  ...,  0.0236, -0.7548,  0.2805],\n",
            "          [-1.5609, -0.9496, -1.2076,  ...,  0.6664,  0.4597,  1.2509],\n",
            "          [-0.3669,  1.0052, -0.1830,  ...,  2.1652, -0.3830, -0.6441],\n",
            "          ...,\n",
            "          [ 0.0621,  0.0039,  1.0790,  ...,  1.0980,  1.3147,  1.7881],\n",
            "          [ 1.5639,  0.2737,  0.0368,  ...,  0.3102,  0.5700,  2.1521],\n",
            "          [-0.2677,  0.9526, -1.7323,  ..., -0.5503,  0.5012,  0.4050]]],\n",
            "\n",
            "\n",
            "        [[[ 0.6869, -0.4450, -0.2497,  ...,  1.1245,  2.1253,  0.5647],\n",
            "          [ 1.3971,  1.0697, -0.8996,  ...,  1.0537,  1.3428, -0.2854],\n",
            "          [ 0.6388, -0.5320, -1.5274,  ..., -1.8715,  0.3396,  0.9248],\n",
            "          ...,\n",
            "          [-1.3018,  0.4129,  0.0119,  ..., -1.9978, -0.1642, -2.0266],\n",
            "          [ 0.3821, -0.6324, -0.3748,  ...,  0.3744, -0.5984, -0.1415],\n",
            "          [ 1.5145, -0.9476, -0.6816,  ..., -1.4079, -0.6893, -2.5450]],\n",
            "\n",
            "         [[ 1.0765,  1.2431, -0.3601,  ...,  1.4529, -1.9261,  0.2059],\n",
            "          [ 0.9315,  0.2448,  0.9260,  ..., -1.4899, -0.2039,  0.1974],\n",
            "          [-0.1349, -0.1783, -0.5261,  ..., -0.4463, -0.9531, -1.2018],\n",
            "          ...,\n",
            "          [-1.5692, -0.5791,  0.0771,  ..., -0.3282, -0.6795,  1.5796],\n",
            "          [-0.7103, -0.1010,  0.3765,  ..., -1.9444, -0.1589,  0.9398],\n",
            "          [-0.1365, -0.6480, -0.5398,  ...,  0.3594, -0.5389,  0.6653]],\n",
            "\n",
            "         [[-0.8764, -0.5104, -1.2873,  ..., -1.7659,  1.0042,  1.0264],\n",
            "          [-0.7540,  0.3738, -0.0059,  ..., -1.9595,  1.0695,  0.5267],\n",
            "          [ 0.6567,  0.8677,  0.9835,  ...,  0.7666, -0.7829, -0.3841],\n",
            "          ...,\n",
            "          [-0.1040,  0.6071, -0.5816,  ...,  0.9904,  0.8115, -0.5291],\n",
            "          [-0.9045, -0.5544, -0.4637,  ..., -0.0552,  0.0711,  0.0146],\n",
            "          [-0.6846, -1.0256, -0.6969,  ...,  0.5858, -0.9769,  0.0943]]],\n",
            "\n",
            "\n",
            "        [[[-1.7576, -0.4235,  0.4978,  ..., -1.5653, -0.0935, -0.8620],\n",
            "          [ 0.0648,  0.9873, -0.6721,  ..., -1.2957, -0.5044,  0.7429],\n",
            "          [ 0.2712, -0.8809, -0.8739,  ...,  1.0423,  0.8242,  2.0000],\n",
            "          ...,\n",
            "          [ 0.7474, -0.0822, -0.8413,  ...,  0.1025,  0.6660,  0.3744],\n",
            "          [-0.1608,  0.7354, -0.7628,  ..., -0.3506,  2.7400, -0.7302],\n",
            "          [ 0.1863,  0.3572, -0.0457,  ..., -0.2024, -0.0339, -0.6260]],\n",
            "\n",
            "         [[ 1.1211, -0.3509,  0.2602,  ..., -2.0339,  0.0289,  0.0932],\n",
            "          [-1.0552,  0.5302,  0.7214,  ...,  0.6793, -1.6776,  1.1767],\n",
            "          [-0.5452,  0.7653,  0.2258,  ...,  0.1321, -0.1846, -0.1664],\n",
            "          ...,\n",
            "          [-1.3320,  0.6906,  0.2853,  ...,  1.7544,  0.6776,  0.1974],\n",
            "          [-0.8164,  1.5707, -1.0187,  ...,  0.7140,  1.9848, -0.6659],\n",
            "          [ 1.3224,  1.0515,  1.0870,  ..., -0.0260,  1.2395,  0.9925]],\n",
            "\n",
            "         [[ 1.6056,  0.8208,  1.0230,  ...,  0.0335,  1.5842,  0.8418],\n",
            "          [-0.4198,  0.3207, -0.1954,  ..., -0.3185,  1.3290,  0.5406],\n",
            "          [ 1.0659, -1.7458, -0.2608,  ..., -1.1151, -0.8994,  0.0370],\n",
            "          ...,\n",
            "          [-0.1177,  0.4560, -1.3883,  ..., -1.1566, -1.2233,  0.4873],\n",
            "          [-0.8383,  1.2338,  0.2898,  ...,  1.0237,  1.6105, -0.6264],\n",
            "          [ 0.1180, -0.9001,  2.4965,  ...,  0.4437, -0.3335,  1.3220]]]])\n"
          ]
        }
      ]
    },
    {
      "cell_type": "code",
      "source": [
        "test_image.shape"
      ],
      "metadata": {
        "colab": {
          "base_uri": "https://localhost:8080/"
        },
        "id": "Kvvdq2fSHtQn",
        "outputId": "f0bbeb7b-69c0-4532-e104-bde2cb0f9933"
      },
      "execution_count": 9,
      "outputs": [
        {
          "output_type": "execute_result",
          "data": {
            "text/plain": [
              "torch.Size([3, 64, 64])"
            ]
          },
          "metadata": {},
          "execution_count": 9
        }
      ]
    },
    {
      "cell_type": "code",
      "source": [
        "conv_layer = nn.Conv2d(in_channels = 3,\n",
        "                       out_channels = 10,\n",
        "                       kernel_size  = 3,\n",
        "                       stride = 1,\n",
        "                       padding = 0\n",
        "                       )\n",
        "conv_layer\n",
        "\n",
        "#Pass the data throug the convolution LAyer\n",
        "\n",
        "output_conv =conv_layer(test_image)\n",
        "output_conv"
      ],
      "metadata": {
        "colab": {
          "base_uri": "https://localhost:8080/"
        },
        "id": "nHI-thEZCJ5g",
        "outputId": "80e7003d-f866-45ec-9d2c-8bc6c7073663"
      },
      "execution_count": 10,
      "outputs": [
        {
          "output_type": "execute_result",
          "data": {
            "text/plain": [
              "tensor([[[-2.8778e-01, -6.0596e-02, -5.6306e-02,  ...,  2.8654e-01,\n",
              "           6.6224e-01, -2.3216e-01],\n",
              "         [-9.8911e-01, -4.0099e-01,  4.1832e-01,  ...,  4.7459e-01,\n",
              "          -1.8552e-01, -5.7622e-01],\n",
              "         [-4.1340e-02, -2.3277e-01,  3.7418e-01,  ...,  2.8255e-02,\n",
              "           1.4923e-01,  1.4236e-01],\n",
              "         ...,\n",
              "         [-8.0374e-01, -7.6687e-01, -5.9457e-02,  ...,  1.7452e-01,\n",
              "           4.2594e-01, -4.8341e-01],\n",
              "         [-1.4512e-01, -1.1566e-01,  6.1783e-01,  ...,  2.4126e-01,\n",
              "          -3.6626e-01,  3.5645e-01],\n",
              "         [ 3.6096e-02,  1.5214e-01,  2.3123e-01,  ...,  3.0904e-01,\n",
              "          -4.9680e-01, -7.2258e-01]],\n",
              "\n",
              "        [[-1.0853e+00, -1.6079e+00,  1.3346e-01,  ...,  2.1698e-01,\n",
              "          -1.7643e+00,  2.5263e-01],\n",
              "         [-8.2507e-01,  6.3866e-01,  1.8845e-01,  ..., -1.0936e-01,\n",
              "           4.8068e-01,  8.4869e-01],\n",
              "         [ 6.4927e-01, -4.2061e-03, -4.9991e-01,  ...,  5.8356e-01,\n",
              "           2.4611e-01,  6.6233e-01],\n",
              "         ...,\n",
              "         [ 9.8860e-02,  1.1661e+00,  3.1532e-01,  ..., -6.5450e-01,\n",
              "          -1.9585e-02,  2.4397e-01],\n",
              "         [-5.9820e-01,  3.7339e-01, -7.2705e-01,  ..., -3.1185e-02,\n",
              "          -8.9892e-01,  2.9192e-01],\n",
              "         [-1.8412e-01,  2.2085e-01,  1.6990e-01,  ...,  4.7418e-01,\n",
              "          -9.0971e-01,  7.9518e-01]],\n",
              "\n",
              "        [[ 3.9605e-02,  6.7841e-01, -9.6515e-01,  ..., -2.8578e-01,\n",
              "          -2.9320e-01, -1.8889e-01],\n",
              "         [-1.5027e+00, -1.1401e+00, -2.0217e-01,  ...,  2.5681e-01,\n",
              "          -9.3105e-01,  6.8724e-02],\n",
              "         [-4.1801e-01,  2.6299e-01,  3.3114e-02,  ...,  2.7162e-01,\n",
              "          -6.0643e-01, -7.4065e-01],\n",
              "         ...,\n",
              "         [ 5.3659e-02, -1.6118e-01, -2.2006e-01,  ...,  4.0253e-01,\n",
              "           2.1769e-01,  2.0759e-01],\n",
              "         [ 8.3423e-02,  2.5296e-01, -4.3232e-01,  ...,  1.1411e+00,\n",
              "           9.1973e-01,  3.2513e-02],\n",
              "         [ 2.0770e-01,  6.7494e-01,  1.7256e-01,  ..., -4.1328e-01,\n",
              "          -1.6368e-01, -1.3886e-01]],\n",
              "\n",
              "        ...,\n",
              "\n",
              "        [[-6.5893e-01, -1.0476e+00,  1.0067e+00,  ..., -1.7439e-01,\n",
              "           3.5072e-01,  2.5077e-01],\n",
              "         [ 1.3226e+00,  1.9803e+00, -6.4183e-01,  ...,  3.2681e-01,\n",
              "           1.5939e+00, -1.0821e-01],\n",
              "         [ 8.7122e-01, -1.0276e+00,  4.5702e-01,  ...,  5.1113e-01,\n",
              "           1.0244e+00,  8.7522e-01],\n",
              "         ...,\n",
              "         [ 1.3555e+00,  1.3009e+00,  4.9802e-01,  ..., -1.0216e-01,\n",
              "          -5.6769e-01,  8.4543e-02],\n",
              "         [ 1.5033e-01, -3.4481e-01,  1.0851e+00,  ..., -1.6738e-01,\n",
              "          -5.1884e-01,  1.9113e-01],\n",
              "         [-2.3805e-02, -4.3101e-01,  6.8124e-02,  ...,  1.0441e+00,\n",
              "           4.1791e-01,  6.0961e-01]],\n",
              "\n",
              "        [[-5.7891e-02,  6.3499e-02, -3.7689e-01,  ..., -7.3454e-01,\n",
              "           7.6985e-01, -6.7518e-01],\n",
              "         [ 2.9175e-01,  1.1631e-04, -6.0476e-01,  ..., -1.1983e+00,\n",
              "           6.5636e-01, -5.4662e-01],\n",
              "         [ 2.1523e-01, -1.9851e-01, -1.3285e-01,  ...,  7.5264e-01,\n",
              "          -1.5505e+00,  4.5457e-01],\n",
              "         ...,\n",
              "         [-2.0348e-01, -4.8311e-01, -3.0158e-02,  ..., -5.2867e-01,\n",
              "          -8.0491e-01,  7.7403e-01],\n",
              "         [ 7.5117e-01, -1.5956e-01,  2.5034e-01,  ..., -4.0541e-01,\n",
              "           2.8248e-01, -4.3361e-01],\n",
              "         [-2.1132e-01, -4.4753e-01, -1.0997e-01,  ..., -7.6029e-02,\n",
              "           7.9822e-01, -6.3137e-01]],\n",
              "\n",
              "        [[ 8.6642e-01,  1.6339e+00,  5.4498e-02,  ...,  2.3448e-01,\n",
              "           5.0939e-01,  8.1898e-01],\n",
              "         [ 1.0650e-01,  3.0274e-01, -7.4020e-01,  ...,  8.3167e-01,\n",
              "          -4.6203e-01,  3.4506e-01],\n",
              "         [ 1.1760e-02, -6.1708e-02, -7.6054e-01,  ..., -8.1317e-01,\n",
              "           1.0693e+00, -9.6907e-01],\n",
              "         ...,\n",
              "         [-1.1468e+00, -1.3791e-01, -3.6390e-01,  ...,  5.5073e-01,\n",
              "           2.0598e-01,  1.0710e-01],\n",
              "         [-3.4261e-01, -1.6038e-02, -6.6151e-01,  ..., -4.2419e-01,\n",
              "           4.4527e-01, -1.0111e-01],\n",
              "         [ 4.4487e-02,  9.7506e-02, -3.1829e-01,  ...,  6.0565e-02,\n",
              "           5.3990e-01, -4.2942e-01]]], grad_fn=<SqueezeBackward1>)"
            ]
          },
          "metadata": {},
          "execution_count": 10
        }
      ]
    },
    {
      "cell_type": "code",
      "source": [
        "output_conv.shape"
      ],
      "metadata": {
        "colab": {
          "base_uri": "https://localhost:8080/"
        },
        "id": "mwfkcgC6Jfcr",
        "outputId": "8239f948-ad22-440a-d2f1-d8e32366a36a"
      },
      "execution_count": 11,
      "outputs": [
        {
          "output_type": "execute_result",
          "data": {
            "text/plain": [
              "torch.Size([10, 62, 62])"
            ]
          },
          "metadata": {},
          "execution_count": 11
        }
      ]
    },
    {
      "cell_type": "markdown",
      "source": [
        "### stepping `nn.MaxPool2d`"
      ],
      "metadata": {
        "id": "pACB0Ry9l3aW"
      }
    },
    {
      "cell_type": "code",
      "source": [
        "max_pool = nn.MaxPool2d(kernel_size = 2)\n",
        "output_pool =max_pool(output_conv)\n",
        "output_pool.shape"
      ],
      "metadata": {
        "colab": {
          "base_uri": "https://localhost:8080/"
        },
        "id": "kbS_9JtjKk4X",
        "outputId": "57a6c3ae-dfb6-41e4-f6c8-d93f36c59459"
      },
      "execution_count": 12,
      "outputs": [
        {
          "output_type": "execute_result",
          "data": {
            "text/plain": [
              "torch.Size([10, 31, 31])"
            ]
          },
          "metadata": {},
          "execution_count": 12
        }
      ]
    }
  ]
}