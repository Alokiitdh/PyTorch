{
  "nbformat": 4,
  "nbformat_minor": 0,
  "metadata": {
    "colab": {
      "provenance": [],
      "gpuType": "T4",
      "authorship_tag": "ABX9TyO//Ge3M69Jl7b5FAjOS3Eg"
    },
    "kernelspec": {
      "name": "python3",
      "display_name": "Python 3"
    },
    "language_info": {
      "name": "python"
    },
    "widgets": {
      "application/vnd.jupyter.widget-state+json": {
        "0188a55ec7a74daea7ff311878b3c67c": {
          "model_module": "@jupyter-widgets/controls",
          "model_name": "HBoxModel",
          "model_module_version": "1.5.0",
          "state": {
            "_dom_classes": [],
            "_model_module": "@jupyter-widgets/controls",
            "_model_module_version": "1.5.0",
            "_model_name": "HBoxModel",
            "_view_count": null,
            "_view_module": "@jupyter-widgets/controls",
            "_view_module_version": "1.5.0",
            "_view_name": "HBoxView",
            "box_style": "",
            "children": [
              "IPY_MODEL_2af2da6566754572ad4cebb3f9e62ea0",
              "IPY_MODEL_3119644268a543908b1d9d6fe499b610",
              "IPY_MODEL_bb48e5cd24604641a38fd1aa781d2a60"
            ],
            "layout": "IPY_MODEL_b596d3eac9714306a16a954f2c9494e8"
          }
        },
        "2af2da6566754572ad4cebb3f9e62ea0": {
          "model_module": "@jupyter-widgets/controls",
          "model_name": "HTMLModel",
          "model_module_version": "1.5.0",
          "state": {
            "_dom_classes": [],
            "_model_module": "@jupyter-widgets/controls",
            "_model_module_version": "1.5.0",
            "_model_name": "HTMLModel",
            "_view_count": null,
            "_view_module": "@jupyter-widgets/controls",
            "_view_module_version": "1.5.0",
            "_view_name": "HTMLView",
            "description": "",
            "description_tooltip": null,
            "layout": "IPY_MODEL_3783b2a283b0484ebe1de8f31aeee12c",
            "placeholder": "​",
            "style": "IPY_MODEL_515befe919064b63b7411e3b80189ff3",
            "value": "100%"
          }
        },
        "3119644268a543908b1d9d6fe499b610": {
          "model_module": "@jupyter-widgets/controls",
          "model_name": "FloatProgressModel",
          "model_module_version": "1.5.0",
          "state": {
            "_dom_classes": [],
            "_model_module": "@jupyter-widgets/controls",
            "_model_module_version": "1.5.0",
            "_model_name": "FloatProgressModel",
            "_view_count": null,
            "_view_module": "@jupyter-widgets/controls",
            "_view_module_version": "1.5.0",
            "_view_name": "ProgressView",
            "bar_style": "success",
            "description": "",
            "description_tooltip": null,
            "layout": "IPY_MODEL_8b4ed8ea676447418b17a93173aac593",
            "max": 3,
            "min": 0,
            "orientation": "horizontal",
            "style": "IPY_MODEL_8b9fa30f69514be0bceccd3affd7d862",
            "value": 3
          }
        },
        "bb48e5cd24604641a38fd1aa781d2a60": {
          "model_module": "@jupyter-widgets/controls",
          "model_name": "HTMLModel",
          "model_module_version": "1.5.0",
          "state": {
            "_dom_classes": [],
            "_model_module": "@jupyter-widgets/controls",
            "_model_module_version": "1.5.0",
            "_model_name": "HTMLModel",
            "_view_count": null,
            "_view_module": "@jupyter-widgets/controls",
            "_view_module_version": "1.5.0",
            "_view_name": "HTMLView",
            "description": "",
            "description_tooltip": null,
            "layout": "IPY_MODEL_e1a5f66c4450402099d203711042c78d",
            "placeholder": "​",
            "style": "IPY_MODEL_e489ec7205fa4623a2485b6a94b71570",
            "value": " 3/3 [00:35&lt;00:00, 11.89s/it]"
          }
        },
        "b596d3eac9714306a16a954f2c9494e8": {
          "model_module": "@jupyter-widgets/base",
          "model_name": "LayoutModel",
          "model_module_version": "1.2.0",
          "state": {
            "_model_module": "@jupyter-widgets/base",
            "_model_module_version": "1.2.0",
            "_model_name": "LayoutModel",
            "_view_count": null,
            "_view_module": "@jupyter-widgets/base",
            "_view_module_version": "1.2.0",
            "_view_name": "LayoutView",
            "align_content": null,
            "align_items": null,
            "align_self": null,
            "border": null,
            "bottom": null,
            "display": null,
            "flex": null,
            "flex_flow": null,
            "grid_area": null,
            "grid_auto_columns": null,
            "grid_auto_flow": null,
            "grid_auto_rows": null,
            "grid_column": null,
            "grid_gap": null,
            "grid_row": null,
            "grid_template_areas": null,
            "grid_template_columns": null,
            "grid_template_rows": null,
            "height": null,
            "justify_content": null,
            "justify_items": null,
            "left": null,
            "margin": null,
            "max_height": null,
            "max_width": null,
            "min_height": null,
            "min_width": null,
            "object_fit": null,
            "object_position": null,
            "order": null,
            "overflow": null,
            "overflow_x": null,
            "overflow_y": null,
            "padding": null,
            "right": null,
            "top": null,
            "visibility": null,
            "width": null
          }
        },
        "3783b2a283b0484ebe1de8f31aeee12c": {
          "model_module": "@jupyter-widgets/base",
          "model_name": "LayoutModel",
          "model_module_version": "1.2.0",
          "state": {
            "_model_module": "@jupyter-widgets/base",
            "_model_module_version": "1.2.0",
            "_model_name": "LayoutModel",
            "_view_count": null,
            "_view_module": "@jupyter-widgets/base",
            "_view_module_version": "1.2.0",
            "_view_name": "LayoutView",
            "align_content": null,
            "align_items": null,
            "align_self": null,
            "border": null,
            "bottom": null,
            "display": null,
            "flex": null,
            "flex_flow": null,
            "grid_area": null,
            "grid_auto_columns": null,
            "grid_auto_flow": null,
            "grid_auto_rows": null,
            "grid_column": null,
            "grid_gap": null,
            "grid_row": null,
            "grid_template_areas": null,
            "grid_template_columns": null,
            "grid_template_rows": null,
            "height": null,
            "justify_content": null,
            "justify_items": null,
            "left": null,
            "margin": null,
            "max_height": null,
            "max_width": null,
            "min_height": null,
            "min_width": null,
            "object_fit": null,
            "object_position": null,
            "order": null,
            "overflow": null,
            "overflow_x": null,
            "overflow_y": null,
            "padding": null,
            "right": null,
            "top": null,
            "visibility": null,
            "width": null
          }
        },
        "515befe919064b63b7411e3b80189ff3": {
          "model_module": "@jupyter-widgets/controls",
          "model_name": "DescriptionStyleModel",
          "model_module_version": "1.5.0",
          "state": {
            "_model_module": "@jupyter-widgets/controls",
            "_model_module_version": "1.5.0",
            "_model_name": "DescriptionStyleModel",
            "_view_count": null,
            "_view_module": "@jupyter-widgets/base",
            "_view_module_version": "1.2.0",
            "_view_name": "StyleView",
            "description_width": ""
          }
        },
        "8b4ed8ea676447418b17a93173aac593": {
          "model_module": "@jupyter-widgets/base",
          "model_name": "LayoutModel",
          "model_module_version": "1.2.0",
          "state": {
            "_model_module": "@jupyter-widgets/base",
            "_model_module_version": "1.2.0",
            "_model_name": "LayoutModel",
            "_view_count": null,
            "_view_module": "@jupyter-widgets/base",
            "_view_module_version": "1.2.0",
            "_view_name": "LayoutView",
            "align_content": null,
            "align_items": null,
            "align_self": null,
            "border": null,
            "bottom": null,
            "display": null,
            "flex": null,
            "flex_flow": null,
            "grid_area": null,
            "grid_auto_columns": null,
            "grid_auto_flow": null,
            "grid_auto_rows": null,
            "grid_column": null,
            "grid_gap": null,
            "grid_row": null,
            "grid_template_areas": null,
            "grid_template_columns": null,
            "grid_template_rows": null,
            "height": null,
            "justify_content": null,
            "justify_items": null,
            "left": null,
            "margin": null,
            "max_height": null,
            "max_width": null,
            "min_height": null,
            "min_width": null,
            "object_fit": null,
            "object_position": null,
            "order": null,
            "overflow": null,
            "overflow_x": null,
            "overflow_y": null,
            "padding": null,
            "right": null,
            "top": null,
            "visibility": null,
            "width": null
          }
        },
        "8b9fa30f69514be0bceccd3affd7d862": {
          "model_module": "@jupyter-widgets/controls",
          "model_name": "ProgressStyleModel",
          "model_module_version": "1.5.0",
          "state": {
            "_model_module": "@jupyter-widgets/controls",
            "_model_module_version": "1.5.0",
            "_model_name": "ProgressStyleModel",
            "_view_count": null,
            "_view_module": "@jupyter-widgets/base",
            "_view_module_version": "1.2.0",
            "_view_name": "StyleView",
            "bar_color": null,
            "description_width": ""
          }
        },
        "e1a5f66c4450402099d203711042c78d": {
          "model_module": "@jupyter-widgets/base",
          "model_name": "LayoutModel",
          "model_module_version": "1.2.0",
          "state": {
            "_model_module": "@jupyter-widgets/base",
            "_model_module_version": "1.2.0",
            "_model_name": "LayoutModel",
            "_view_count": null,
            "_view_module": "@jupyter-widgets/base",
            "_view_module_version": "1.2.0",
            "_view_name": "LayoutView",
            "align_content": null,
            "align_items": null,
            "align_self": null,
            "border": null,
            "bottom": null,
            "display": null,
            "flex": null,
            "flex_flow": null,
            "grid_area": null,
            "grid_auto_columns": null,
            "grid_auto_flow": null,
            "grid_auto_rows": null,
            "grid_column": null,
            "grid_gap": null,
            "grid_row": null,
            "grid_template_areas": null,
            "grid_template_columns": null,
            "grid_template_rows": null,
            "height": null,
            "justify_content": null,
            "justify_items": null,
            "left": null,
            "margin": null,
            "max_height": null,
            "max_width": null,
            "min_height": null,
            "min_width": null,
            "object_fit": null,
            "object_position": null,
            "order": null,
            "overflow": null,
            "overflow_x": null,
            "overflow_y": null,
            "padding": null,
            "right": null,
            "top": null,
            "visibility": null,
            "width": null
          }
        },
        "e489ec7205fa4623a2485b6a94b71570": {
          "model_module": "@jupyter-widgets/controls",
          "model_name": "DescriptionStyleModel",
          "model_module_version": "1.5.0",
          "state": {
            "_model_module": "@jupyter-widgets/controls",
            "_model_module_version": "1.5.0",
            "_model_name": "DescriptionStyleModel",
            "_view_count": null,
            "_view_module": "@jupyter-widgets/base",
            "_view_module_version": "1.2.0",
            "_view_name": "StyleView",
            "description_width": ""
          }
        },
        "8af0214ab72a48fd96f14ac20833c30a": {
          "model_module": "@jupyter-widgets/controls",
          "model_name": "HBoxModel",
          "model_module_version": "1.5.0",
          "state": {
            "_dom_classes": [],
            "_model_module": "@jupyter-widgets/controls",
            "_model_module_version": "1.5.0",
            "_model_name": "HBoxModel",
            "_view_count": null,
            "_view_module": "@jupyter-widgets/controls",
            "_view_module_version": "1.5.0",
            "_view_name": "HBoxView",
            "box_style": "",
            "children": [
              "IPY_MODEL_ce869b44276a454bab28efe309763440",
              "IPY_MODEL_da4351dd73894438b0d5991856d7dddc",
              "IPY_MODEL_4b8b6d4d8c6445c19ab3d620a8fd0f9d"
            ],
            "layout": "IPY_MODEL_9d62c10b2a4f4a7b9150e75541c89a9e"
          }
        },
        "ce869b44276a454bab28efe309763440": {
          "model_module": "@jupyter-widgets/controls",
          "model_name": "HTMLModel",
          "model_module_version": "1.5.0",
          "state": {
            "_dom_classes": [],
            "_model_module": "@jupyter-widgets/controls",
            "_model_module_version": "1.5.0",
            "_model_name": "HTMLModel",
            "_view_count": null,
            "_view_module": "@jupyter-widgets/controls",
            "_view_module_version": "1.5.0",
            "_view_name": "HTMLView",
            "description": "",
            "description_tooltip": null,
            "layout": "IPY_MODEL_cc00ff7371c342d2b3899e391de7041a",
            "placeholder": "​",
            "style": "IPY_MODEL_1a57edba7222431d9da41d9e89de01d0",
            "value": "100%"
          }
        },
        "da4351dd73894438b0d5991856d7dddc": {
          "model_module": "@jupyter-widgets/controls",
          "model_name": "FloatProgressModel",
          "model_module_version": "1.5.0",
          "state": {
            "_dom_classes": [],
            "_model_module": "@jupyter-widgets/controls",
            "_model_module_version": "1.5.0",
            "_model_name": "FloatProgressModel",
            "_view_count": null,
            "_view_module": "@jupyter-widgets/controls",
            "_view_module_version": "1.5.0",
            "_view_name": "ProgressView",
            "bar_style": "success",
            "description": "",
            "description_tooltip": null,
            "layout": "IPY_MODEL_1870eb71698d4aec877d12394f107c86",
            "max": 313,
            "min": 0,
            "orientation": "horizontal",
            "style": "IPY_MODEL_a0d3666a34b44907a86f25019344d6e9",
            "value": 313
          }
        },
        "4b8b6d4d8c6445c19ab3d620a8fd0f9d": {
          "model_module": "@jupyter-widgets/controls",
          "model_name": "HTMLModel",
          "model_module_version": "1.5.0",
          "state": {
            "_dom_classes": [],
            "_model_module": "@jupyter-widgets/controls",
            "_model_module_version": "1.5.0",
            "_model_name": "HTMLModel",
            "_view_count": null,
            "_view_module": "@jupyter-widgets/controls",
            "_view_module_version": "1.5.0",
            "_view_name": "HTMLView",
            "description": "",
            "description_tooltip": null,
            "layout": "IPY_MODEL_fbcf6514e4b041558b6560e14e9c6ccc",
            "placeholder": "​",
            "style": "IPY_MODEL_617e7a2598a84a17a59ed9aaa753c265",
            "value": " 313/313 [00:01&lt;00:00, 182.06it/s]"
          }
        },
        "9d62c10b2a4f4a7b9150e75541c89a9e": {
          "model_module": "@jupyter-widgets/base",
          "model_name": "LayoutModel",
          "model_module_version": "1.2.0",
          "state": {
            "_model_module": "@jupyter-widgets/base",
            "_model_module_version": "1.2.0",
            "_model_name": "LayoutModel",
            "_view_count": null,
            "_view_module": "@jupyter-widgets/base",
            "_view_module_version": "1.2.0",
            "_view_name": "LayoutView",
            "align_content": null,
            "align_items": null,
            "align_self": null,
            "border": null,
            "bottom": null,
            "display": null,
            "flex": null,
            "flex_flow": null,
            "grid_area": null,
            "grid_auto_columns": null,
            "grid_auto_flow": null,
            "grid_auto_rows": null,
            "grid_column": null,
            "grid_gap": null,
            "grid_row": null,
            "grid_template_areas": null,
            "grid_template_columns": null,
            "grid_template_rows": null,
            "height": null,
            "justify_content": null,
            "justify_items": null,
            "left": null,
            "margin": null,
            "max_height": null,
            "max_width": null,
            "min_height": null,
            "min_width": null,
            "object_fit": null,
            "object_position": null,
            "order": null,
            "overflow": null,
            "overflow_x": null,
            "overflow_y": null,
            "padding": null,
            "right": null,
            "top": null,
            "visibility": null,
            "width": null
          }
        },
        "cc00ff7371c342d2b3899e391de7041a": {
          "model_module": "@jupyter-widgets/base",
          "model_name": "LayoutModel",
          "model_module_version": "1.2.0",
          "state": {
            "_model_module": "@jupyter-widgets/base",
            "_model_module_version": "1.2.0",
            "_model_name": "LayoutModel",
            "_view_count": null,
            "_view_module": "@jupyter-widgets/base",
            "_view_module_version": "1.2.0",
            "_view_name": "LayoutView",
            "align_content": null,
            "align_items": null,
            "align_self": null,
            "border": null,
            "bottom": null,
            "display": null,
            "flex": null,
            "flex_flow": null,
            "grid_area": null,
            "grid_auto_columns": null,
            "grid_auto_flow": null,
            "grid_auto_rows": null,
            "grid_column": null,
            "grid_gap": null,
            "grid_row": null,
            "grid_template_areas": null,
            "grid_template_columns": null,
            "grid_template_rows": null,
            "height": null,
            "justify_content": null,
            "justify_items": null,
            "left": null,
            "margin": null,
            "max_height": null,
            "max_width": null,
            "min_height": null,
            "min_width": null,
            "object_fit": null,
            "object_position": null,
            "order": null,
            "overflow": null,
            "overflow_x": null,
            "overflow_y": null,
            "padding": null,
            "right": null,
            "top": null,
            "visibility": null,
            "width": null
          }
        },
        "1a57edba7222431d9da41d9e89de01d0": {
          "model_module": "@jupyter-widgets/controls",
          "model_name": "DescriptionStyleModel",
          "model_module_version": "1.5.0",
          "state": {
            "_model_module": "@jupyter-widgets/controls",
            "_model_module_version": "1.5.0",
            "_model_name": "DescriptionStyleModel",
            "_view_count": null,
            "_view_module": "@jupyter-widgets/base",
            "_view_module_version": "1.2.0",
            "_view_name": "StyleView",
            "description_width": ""
          }
        },
        "1870eb71698d4aec877d12394f107c86": {
          "model_module": "@jupyter-widgets/base",
          "model_name": "LayoutModel",
          "model_module_version": "1.2.0",
          "state": {
            "_model_module": "@jupyter-widgets/base",
            "_model_module_version": "1.2.0",
            "_model_name": "LayoutModel",
            "_view_count": null,
            "_view_module": "@jupyter-widgets/base",
            "_view_module_version": "1.2.0",
            "_view_name": "LayoutView",
            "align_content": null,
            "align_items": null,
            "align_self": null,
            "border": null,
            "bottom": null,
            "display": null,
            "flex": null,
            "flex_flow": null,
            "grid_area": null,
            "grid_auto_columns": null,
            "grid_auto_flow": null,
            "grid_auto_rows": null,
            "grid_column": null,
            "grid_gap": null,
            "grid_row": null,
            "grid_template_areas": null,
            "grid_template_columns": null,
            "grid_template_rows": null,
            "height": null,
            "justify_content": null,
            "justify_items": null,
            "left": null,
            "margin": null,
            "max_height": null,
            "max_width": null,
            "min_height": null,
            "min_width": null,
            "object_fit": null,
            "object_position": null,
            "order": null,
            "overflow": null,
            "overflow_x": null,
            "overflow_y": null,
            "padding": null,
            "right": null,
            "top": null,
            "visibility": null,
            "width": null
          }
        },
        "a0d3666a34b44907a86f25019344d6e9": {
          "model_module": "@jupyter-widgets/controls",
          "model_name": "ProgressStyleModel",
          "model_module_version": "1.5.0",
          "state": {
            "_model_module": "@jupyter-widgets/controls",
            "_model_module_version": "1.5.0",
            "_model_name": "ProgressStyleModel",
            "_view_count": null,
            "_view_module": "@jupyter-widgets/base",
            "_view_module_version": "1.2.0",
            "_view_name": "StyleView",
            "bar_color": null,
            "description_width": ""
          }
        },
        "fbcf6514e4b041558b6560e14e9c6ccc": {
          "model_module": "@jupyter-widgets/base",
          "model_name": "LayoutModel",
          "model_module_version": "1.2.0",
          "state": {
            "_model_module": "@jupyter-widgets/base",
            "_model_module_version": "1.2.0",
            "_model_name": "LayoutModel",
            "_view_count": null,
            "_view_module": "@jupyter-widgets/base",
            "_view_module_version": "1.2.0",
            "_view_name": "LayoutView",
            "align_content": null,
            "align_items": null,
            "align_self": null,
            "border": null,
            "bottom": null,
            "display": null,
            "flex": null,
            "flex_flow": null,
            "grid_area": null,
            "grid_auto_columns": null,
            "grid_auto_flow": null,
            "grid_auto_rows": null,
            "grid_column": null,
            "grid_gap": null,
            "grid_row": null,
            "grid_template_areas": null,
            "grid_template_columns": null,
            "grid_template_rows": null,
            "height": null,
            "justify_content": null,
            "justify_items": null,
            "left": null,
            "margin": null,
            "max_height": null,
            "max_width": null,
            "min_height": null,
            "min_width": null,
            "object_fit": null,
            "object_position": null,
            "order": null,
            "overflow": null,
            "overflow_x": null,
            "overflow_y": null,
            "padding": null,
            "right": null,
            "top": null,
            "visibility": null,
            "width": null
          }
        },
        "617e7a2598a84a17a59ed9aaa753c265": {
          "model_module": "@jupyter-widgets/controls",
          "model_name": "DescriptionStyleModel",
          "model_module_version": "1.5.0",
          "state": {
            "_model_module": "@jupyter-widgets/controls",
            "_model_module_version": "1.5.0",
            "_model_name": "DescriptionStyleModel",
            "_view_count": null,
            "_view_module": "@jupyter-widgets/base",
            "_view_module_version": "1.2.0",
            "_view_name": "StyleView",
            "description_width": ""
          }
        },
        "10480bd3baa54b2bbee095d859d8648d": {
          "model_module": "@jupyter-widgets/controls",
          "model_name": "HBoxModel",
          "model_module_version": "1.5.0",
          "state": {
            "_dom_classes": [],
            "_model_module": "@jupyter-widgets/controls",
            "_model_module_version": "1.5.0",
            "_model_name": "HBoxModel",
            "_view_count": null,
            "_view_module": "@jupyter-widgets/controls",
            "_view_module_version": "1.5.0",
            "_view_name": "HBoxView",
            "box_style": "",
            "children": [
              "IPY_MODEL_15b4599335e0470cabf37ab64432a8b3",
              "IPY_MODEL_568093435d304aea8e4db451fa80c624",
              "IPY_MODEL_f00195fdc48c48d28b1f83239bee5055"
            ],
            "layout": "IPY_MODEL_fefc12d902594179b7b85adcf5a910e7"
          }
        },
        "15b4599335e0470cabf37ab64432a8b3": {
          "model_module": "@jupyter-widgets/controls",
          "model_name": "HTMLModel",
          "model_module_version": "1.5.0",
          "state": {
            "_dom_classes": [],
            "_model_module": "@jupyter-widgets/controls",
            "_model_module_version": "1.5.0",
            "_model_name": "HTMLModel",
            "_view_count": null,
            "_view_module": "@jupyter-widgets/controls",
            "_view_module_version": "1.5.0",
            "_view_name": "HTMLView",
            "description": "",
            "description_tooltip": null,
            "layout": "IPY_MODEL_1ff7e75effb546f9b39d354b9b229c29",
            "placeholder": "​",
            "style": "IPY_MODEL_4e4700d14d254331a14e5ada1b24594f",
            "value": "100%"
          }
        },
        "568093435d304aea8e4db451fa80c624": {
          "model_module": "@jupyter-widgets/controls",
          "model_name": "FloatProgressModel",
          "model_module_version": "1.5.0",
          "state": {
            "_dom_classes": [],
            "_model_module": "@jupyter-widgets/controls",
            "_model_module_version": "1.5.0",
            "_model_name": "FloatProgressModel",
            "_view_count": null,
            "_view_module": "@jupyter-widgets/controls",
            "_view_module_version": "1.5.0",
            "_view_name": "ProgressView",
            "bar_style": "success",
            "description": "",
            "description_tooltip": null,
            "layout": "IPY_MODEL_ebdd26cd55fe44cea17b63f2785690ec",
            "max": 3,
            "min": 0,
            "orientation": "horizontal",
            "style": "IPY_MODEL_07669a7614e14678be39c64f613fe5ef",
            "value": 3
          }
        },
        "f00195fdc48c48d28b1f83239bee5055": {
          "model_module": "@jupyter-widgets/controls",
          "model_name": "HTMLModel",
          "model_module_version": "1.5.0",
          "state": {
            "_dom_classes": [],
            "_model_module": "@jupyter-widgets/controls",
            "_model_module_version": "1.5.0",
            "_model_name": "HTMLModel",
            "_view_count": null,
            "_view_module": "@jupyter-widgets/controls",
            "_view_module_version": "1.5.0",
            "_view_name": "HTMLView",
            "description": "",
            "description_tooltip": null,
            "layout": "IPY_MODEL_36c42f185d2c45469a217661a0733a62",
            "placeholder": "​",
            "style": "IPY_MODEL_8f713c1937d94766832ed62d926cc29f",
            "value": " 3/3 [00:43&lt;00:00, 14.28s/it]"
          }
        },
        "fefc12d902594179b7b85adcf5a910e7": {
          "model_module": "@jupyter-widgets/base",
          "model_name": "LayoutModel",
          "model_module_version": "1.2.0",
          "state": {
            "_model_module": "@jupyter-widgets/base",
            "_model_module_version": "1.2.0",
            "_model_name": "LayoutModel",
            "_view_count": null,
            "_view_module": "@jupyter-widgets/base",
            "_view_module_version": "1.2.0",
            "_view_name": "LayoutView",
            "align_content": null,
            "align_items": null,
            "align_self": null,
            "border": null,
            "bottom": null,
            "display": null,
            "flex": null,
            "flex_flow": null,
            "grid_area": null,
            "grid_auto_columns": null,
            "grid_auto_flow": null,
            "grid_auto_rows": null,
            "grid_column": null,
            "grid_gap": null,
            "grid_row": null,
            "grid_template_areas": null,
            "grid_template_columns": null,
            "grid_template_rows": null,
            "height": null,
            "justify_content": null,
            "justify_items": null,
            "left": null,
            "margin": null,
            "max_height": null,
            "max_width": null,
            "min_height": null,
            "min_width": null,
            "object_fit": null,
            "object_position": null,
            "order": null,
            "overflow": null,
            "overflow_x": null,
            "overflow_y": null,
            "padding": null,
            "right": null,
            "top": null,
            "visibility": null,
            "width": null
          }
        },
        "1ff7e75effb546f9b39d354b9b229c29": {
          "model_module": "@jupyter-widgets/base",
          "model_name": "LayoutModel",
          "model_module_version": "1.2.0",
          "state": {
            "_model_module": "@jupyter-widgets/base",
            "_model_module_version": "1.2.0",
            "_model_name": "LayoutModel",
            "_view_count": null,
            "_view_module": "@jupyter-widgets/base",
            "_view_module_version": "1.2.0",
            "_view_name": "LayoutView",
            "align_content": null,
            "align_items": null,
            "align_self": null,
            "border": null,
            "bottom": null,
            "display": null,
            "flex": null,
            "flex_flow": null,
            "grid_area": null,
            "grid_auto_columns": null,
            "grid_auto_flow": null,
            "grid_auto_rows": null,
            "grid_column": null,
            "grid_gap": null,
            "grid_row": null,
            "grid_template_areas": null,
            "grid_template_columns": null,
            "grid_template_rows": null,
            "height": null,
            "justify_content": null,
            "justify_items": null,
            "left": null,
            "margin": null,
            "max_height": null,
            "max_width": null,
            "min_height": null,
            "min_width": null,
            "object_fit": null,
            "object_position": null,
            "order": null,
            "overflow": null,
            "overflow_x": null,
            "overflow_y": null,
            "padding": null,
            "right": null,
            "top": null,
            "visibility": null,
            "width": null
          }
        },
        "4e4700d14d254331a14e5ada1b24594f": {
          "model_module": "@jupyter-widgets/controls",
          "model_name": "DescriptionStyleModel",
          "model_module_version": "1.5.0",
          "state": {
            "_model_module": "@jupyter-widgets/controls",
            "_model_module_version": "1.5.0",
            "_model_name": "DescriptionStyleModel",
            "_view_count": null,
            "_view_module": "@jupyter-widgets/base",
            "_view_module_version": "1.2.0",
            "_view_name": "StyleView",
            "description_width": ""
          }
        },
        "ebdd26cd55fe44cea17b63f2785690ec": {
          "model_module": "@jupyter-widgets/base",
          "model_name": "LayoutModel",
          "model_module_version": "1.2.0",
          "state": {
            "_model_module": "@jupyter-widgets/base",
            "_model_module_version": "1.2.0",
            "_model_name": "LayoutModel",
            "_view_count": null,
            "_view_module": "@jupyter-widgets/base",
            "_view_module_version": "1.2.0",
            "_view_name": "LayoutView",
            "align_content": null,
            "align_items": null,
            "align_self": null,
            "border": null,
            "bottom": null,
            "display": null,
            "flex": null,
            "flex_flow": null,
            "grid_area": null,
            "grid_auto_columns": null,
            "grid_auto_flow": null,
            "grid_auto_rows": null,
            "grid_column": null,
            "grid_gap": null,
            "grid_row": null,
            "grid_template_areas": null,
            "grid_template_columns": null,
            "grid_template_rows": null,
            "height": null,
            "justify_content": null,
            "justify_items": null,
            "left": null,
            "margin": null,
            "max_height": null,
            "max_width": null,
            "min_height": null,
            "min_width": null,
            "object_fit": null,
            "object_position": null,
            "order": null,
            "overflow": null,
            "overflow_x": null,
            "overflow_y": null,
            "padding": null,
            "right": null,
            "top": null,
            "visibility": null,
            "width": null
          }
        },
        "07669a7614e14678be39c64f613fe5ef": {
          "model_module": "@jupyter-widgets/controls",
          "model_name": "ProgressStyleModel",
          "model_module_version": "1.5.0",
          "state": {
            "_model_module": "@jupyter-widgets/controls",
            "_model_module_version": "1.5.0",
            "_model_name": "ProgressStyleModel",
            "_view_count": null,
            "_view_module": "@jupyter-widgets/base",
            "_view_module_version": "1.2.0",
            "_view_name": "StyleView",
            "bar_color": null,
            "description_width": ""
          }
        },
        "36c42f185d2c45469a217661a0733a62": {
          "model_module": "@jupyter-widgets/base",
          "model_name": "LayoutModel",
          "model_module_version": "1.2.0",
          "state": {
            "_model_module": "@jupyter-widgets/base",
            "_model_module_version": "1.2.0",
            "_model_name": "LayoutModel",
            "_view_count": null,
            "_view_module": "@jupyter-widgets/base",
            "_view_module_version": "1.2.0",
            "_view_name": "LayoutView",
            "align_content": null,
            "align_items": null,
            "align_self": null,
            "border": null,
            "bottom": null,
            "display": null,
            "flex": null,
            "flex_flow": null,
            "grid_area": null,
            "grid_auto_columns": null,
            "grid_auto_flow": null,
            "grid_auto_rows": null,
            "grid_column": null,
            "grid_gap": null,
            "grid_row": null,
            "grid_template_areas": null,
            "grid_template_columns": null,
            "grid_template_rows": null,
            "height": null,
            "justify_content": null,
            "justify_items": null,
            "left": null,
            "margin": null,
            "max_height": null,
            "max_width": null,
            "min_height": null,
            "min_width": null,
            "object_fit": null,
            "object_position": null,
            "order": null,
            "overflow": null,
            "overflow_x": null,
            "overflow_y": null,
            "padding": null,
            "right": null,
            "top": null,
            "visibility": null,
            "width": null
          }
        },
        "8f713c1937d94766832ed62d926cc29f": {
          "model_module": "@jupyter-widgets/controls",
          "model_name": "DescriptionStyleModel",
          "model_module_version": "1.5.0",
          "state": {
            "_model_module": "@jupyter-widgets/controls",
            "_model_module_version": "1.5.0",
            "_model_name": "DescriptionStyleModel",
            "_view_count": null,
            "_view_module": "@jupyter-widgets/base",
            "_view_module_version": "1.2.0",
            "_view_name": "StyleView",
            "description_width": ""
          }
        },
        "76c713713e684518bad339e4e2b66aa0": {
          "model_module": "@jupyter-widgets/controls",
          "model_name": "HBoxModel",
          "model_module_version": "1.5.0",
          "state": {
            "_dom_classes": [],
            "_model_module": "@jupyter-widgets/controls",
            "_model_module_version": "1.5.0",
            "_model_name": "HBoxModel",
            "_view_count": null,
            "_view_module": "@jupyter-widgets/controls",
            "_view_module_version": "1.5.0",
            "_view_name": "HBoxView",
            "box_style": "",
            "children": [
              "IPY_MODEL_c5becbc64ec9449db5ac2db883118104",
              "IPY_MODEL_0f2704956e9e4867a6e990538d30ab82",
              "IPY_MODEL_12c35be9ea434fb6a5babb6a989ec55e"
            ],
            "layout": "IPY_MODEL_c3dfcef654654e418d614a7fbf658fdc"
          }
        },
        "c5becbc64ec9449db5ac2db883118104": {
          "model_module": "@jupyter-widgets/controls",
          "model_name": "HTMLModel",
          "model_module_version": "1.5.0",
          "state": {
            "_dom_classes": [],
            "_model_module": "@jupyter-widgets/controls",
            "_model_module_version": "1.5.0",
            "_model_name": "HTMLModel",
            "_view_count": null,
            "_view_module": "@jupyter-widgets/controls",
            "_view_module_version": "1.5.0",
            "_view_name": "HTMLView",
            "description": "",
            "description_tooltip": null,
            "layout": "IPY_MODEL_f602432849024a4c9b7334a236f18de6",
            "placeholder": "​",
            "style": "IPY_MODEL_6bff635e1a514a7d945e020707fa7aa2",
            "value": "100%"
          }
        },
        "0f2704956e9e4867a6e990538d30ab82": {
          "model_module": "@jupyter-widgets/controls",
          "model_name": "FloatProgressModel",
          "model_module_version": "1.5.0",
          "state": {
            "_dom_classes": [],
            "_model_module": "@jupyter-widgets/controls",
            "_model_module_version": "1.5.0",
            "_model_name": "FloatProgressModel",
            "_view_count": null,
            "_view_module": "@jupyter-widgets/controls",
            "_view_module_version": "1.5.0",
            "_view_name": "ProgressView",
            "bar_style": "success",
            "description": "",
            "description_tooltip": null,
            "layout": "IPY_MODEL_edc9676aa62941818e3bd234a6506e13",
            "max": 3,
            "min": 0,
            "orientation": "horizontal",
            "style": "IPY_MODEL_c764b407907c4769a8935795ea424934",
            "value": 3
          }
        },
        "12c35be9ea434fb6a5babb6a989ec55e": {
          "model_module": "@jupyter-widgets/controls",
          "model_name": "HTMLModel",
          "model_module_version": "1.5.0",
          "state": {
            "_dom_classes": [],
            "_model_module": "@jupyter-widgets/controls",
            "_model_module_version": "1.5.0",
            "_model_name": "HTMLModel",
            "_view_count": null,
            "_view_module": "@jupyter-widgets/controls",
            "_view_module_version": "1.5.0",
            "_view_name": "HTMLView",
            "description": "",
            "description_tooltip": null,
            "layout": "IPY_MODEL_2f1c16ce6ec146e3bef23ccf2cac01c4",
            "placeholder": "​",
            "style": "IPY_MODEL_0a2e6a819bdc47828dcd5347f05eb57c",
            "value": " 3/3 [00:37&lt;00:00, 12.57s/it]"
          }
        },
        "c3dfcef654654e418d614a7fbf658fdc": {
          "model_module": "@jupyter-widgets/base",
          "model_name": "LayoutModel",
          "model_module_version": "1.2.0",
          "state": {
            "_model_module": "@jupyter-widgets/base",
            "_model_module_version": "1.2.0",
            "_model_name": "LayoutModel",
            "_view_count": null,
            "_view_module": "@jupyter-widgets/base",
            "_view_module_version": "1.2.0",
            "_view_name": "LayoutView",
            "align_content": null,
            "align_items": null,
            "align_self": null,
            "border": null,
            "bottom": null,
            "display": null,
            "flex": null,
            "flex_flow": null,
            "grid_area": null,
            "grid_auto_columns": null,
            "grid_auto_flow": null,
            "grid_auto_rows": null,
            "grid_column": null,
            "grid_gap": null,
            "grid_row": null,
            "grid_template_areas": null,
            "grid_template_columns": null,
            "grid_template_rows": null,
            "height": null,
            "justify_content": null,
            "justify_items": null,
            "left": null,
            "margin": null,
            "max_height": null,
            "max_width": null,
            "min_height": null,
            "min_width": null,
            "object_fit": null,
            "object_position": null,
            "order": null,
            "overflow": null,
            "overflow_x": null,
            "overflow_y": null,
            "padding": null,
            "right": null,
            "top": null,
            "visibility": null,
            "width": null
          }
        },
        "f602432849024a4c9b7334a236f18de6": {
          "model_module": "@jupyter-widgets/base",
          "model_name": "LayoutModel",
          "model_module_version": "1.2.0",
          "state": {
            "_model_module": "@jupyter-widgets/base",
            "_model_module_version": "1.2.0",
            "_model_name": "LayoutModel",
            "_view_count": null,
            "_view_module": "@jupyter-widgets/base",
            "_view_module_version": "1.2.0",
            "_view_name": "LayoutView",
            "align_content": null,
            "align_items": null,
            "align_self": null,
            "border": null,
            "bottom": null,
            "display": null,
            "flex": null,
            "flex_flow": null,
            "grid_area": null,
            "grid_auto_columns": null,
            "grid_auto_flow": null,
            "grid_auto_rows": null,
            "grid_column": null,
            "grid_gap": null,
            "grid_row": null,
            "grid_template_areas": null,
            "grid_template_columns": null,
            "grid_template_rows": null,
            "height": null,
            "justify_content": null,
            "justify_items": null,
            "left": null,
            "margin": null,
            "max_height": null,
            "max_width": null,
            "min_height": null,
            "min_width": null,
            "object_fit": null,
            "object_position": null,
            "order": null,
            "overflow": null,
            "overflow_x": null,
            "overflow_y": null,
            "padding": null,
            "right": null,
            "top": null,
            "visibility": null,
            "width": null
          }
        },
        "6bff635e1a514a7d945e020707fa7aa2": {
          "model_module": "@jupyter-widgets/controls",
          "model_name": "DescriptionStyleModel",
          "model_module_version": "1.5.0",
          "state": {
            "_model_module": "@jupyter-widgets/controls",
            "_model_module_version": "1.5.0",
            "_model_name": "DescriptionStyleModel",
            "_view_count": null,
            "_view_module": "@jupyter-widgets/base",
            "_view_module_version": "1.2.0",
            "_view_name": "StyleView",
            "description_width": ""
          }
        },
        "edc9676aa62941818e3bd234a6506e13": {
          "model_module": "@jupyter-widgets/base",
          "model_name": "LayoutModel",
          "model_module_version": "1.2.0",
          "state": {
            "_model_module": "@jupyter-widgets/base",
            "_model_module_version": "1.2.0",
            "_model_name": "LayoutModel",
            "_view_count": null,
            "_view_module": "@jupyter-widgets/base",
            "_view_module_version": "1.2.0",
            "_view_name": "LayoutView",
            "align_content": null,
            "align_items": null,
            "align_self": null,
            "border": null,
            "bottom": null,
            "display": null,
            "flex": null,
            "flex_flow": null,
            "grid_area": null,
            "grid_auto_columns": null,
            "grid_auto_flow": null,
            "grid_auto_rows": null,
            "grid_column": null,
            "grid_gap": null,
            "grid_row": null,
            "grid_template_areas": null,
            "grid_template_columns": null,
            "grid_template_rows": null,
            "height": null,
            "justify_content": null,
            "justify_items": null,
            "left": null,
            "margin": null,
            "max_height": null,
            "max_width": null,
            "min_height": null,
            "min_width": null,
            "object_fit": null,
            "object_position": null,
            "order": null,
            "overflow": null,
            "overflow_x": null,
            "overflow_y": null,
            "padding": null,
            "right": null,
            "top": null,
            "visibility": null,
            "width": null
          }
        },
        "c764b407907c4769a8935795ea424934": {
          "model_module": "@jupyter-widgets/controls",
          "model_name": "ProgressStyleModel",
          "model_module_version": "1.5.0",
          "state": {
            "_model_module": "@jupyter-widgets/controls",
            "_model_module_version": "1.5.0",
            "_model_name": "ProgressStyleModel",
            "_view_count": null,
            "_view_module": "@jupyter-widgets/base",
            "_view_module_version": "1.2.0",
            "_view_name": "StyleView",
            "bar_color": null,
            "description_width": ""
          }
        },
        "2f1c16ce6ec146e3bef23ccf2cac01c4": {
          "model_module": "@jupyter-widgets/base",
          "model_name": "LayoutModel",
          "model_module_version": "1.2.0",
          "state": {
            "_model_module": "@jupyter-widgets/base",
            "_model_module_version": "1.2.0",
            "_model_name": "LayoutModel",
            "_view_count": null,
            "_view_module": "@jupyter-widgets/base",
            "_view_module_version": "1.2.0",
            "_view_name": "LayoutView",
            "align_content": null,
            "align_items": null,
            "align_self": null,
            "border": null,
            "bottom": null,
            "display": null,
            "flex": null,
            "flex_flow": null,
            "grid_area": null,
            "grid_auto_columns": null,
            "grid_auto_flow": null,
            "grid_auto_rows": null,
            "grid_column": null,
            "grid_gap": null,
            "grid_row": null,
            "grid_template_areas": null,
            "grid_template_columns": null,
            "grid_template_rows": null,
            "height": null,
            "justify_content": null,
            "justify_items": null,
            "left": null,
            "margin": null,
            "max_height": null,
            "max_width": null,
            "min_height": null,
            "min_width": null,
            "object_fit": null,
            "object_position": null,
            "order": null,
            "overflow": null,
            "overflow_x": null,
            "overflow_y": null,
            "padding": null,
            "right": null,
            "top": null,
            "visibility": null,
            "width": null
          }
        },
        "0a2e6a819bdc47828dcd5347f05eb57c": {
          "model_module": "@jupyter-widgets/controls",
          "model_name": "DescriptionStyleModel",
          "model_module_version": "1.5.0",
          "state": {
            "_model_module": "@jupyter-widgets/controls",
            "_model_module_version": "1.5.0",
            "_model_name": "DescriptionStyleModel",
            "_view_count": null,
            "_view_module": "@jupyter-widgets/base",
            "_view_module_version": "1.2.0",
            "_view_name": "StyleView",
            "description_width": ""
          }
        },
        "14de92f67bb6478f87d5c2ef2710d7f6": {
          "model_module": "@jupyter-widgets/controls",
          "model_name": "HBoxModel",
          "model_module_version": "1.5.0",
          "state": {
            "_dom_classes": [],
            "_model_module": "@jupyter-widgets/controls",
            "_model_module_version": "1.5.0",
            "_model_name": "HBoxModel",
            "_view_count": null,
            "_view_module": "@jupyter-widgets/controls",
            "_view_module_version": "1.5.0",
            "_view_name": "HBoxView",
            "box_style": "",
            "children": [
              "IPY_MODEL_f12b2fc95eda4b68a9c7be1fcf187a10",
              "IPY_MODEL_757aac56812f467a922d215788a66cf9",
              "IPY_MODEL_9311bfb0dd7044c084a1107d366b69ae"
            ],
            "layout": "IPY_MODEL_85c770dea7b848858aba769c5dbf02ba"
          }
        },
        "f12b2fc95eda4b68a9c7be1fcf187a10": {
          "model_module": "@jupyter-widgets/controls",
          "model_name": "HTMLModel",
          "model_module_version": "1.5.0",
          "state": {
            "_dom_classes": [],
            "_model_module": "@jupyter-widgets/controls",
            "_model_module_version": "1.5.0",
            "_model_name": "HTMLModel",
            "_view_count": null,
            "_view_module": "@jupyter-widgets/controls",
            "_view_module_version": "1.5.0",
            "_view_name": "HTMLView",
            "description": "",
            "description_tooltip": null,
            "layout": "IPY_MODEL_09057bc195ae4e348bff5d2bdd84e04c",
            "placeholder": "​",
            "style": "IPY_MODEL_f2c3584ca5e8456290a667efb7a73e44",
            "value": "100%"
          }
        },
        "757aac56812f467a922d215788a66cf9": {
          "model_module": "@jupyter-widgets/controls",
          "model_name": "FloatProgressModel",
          "model_module_version": "1.5.0",
          "state": {
            "_dom_classes": [],
            "_model_module": "@jupyter-widgets/controls",
            "_model_module_version": "1.5.0",
            "_model_name": "FloatProgressModel",
            "_view_count": null,
            "_view_module": "@jupyter-widgets/controls",
            "_view_module_version": "1.5.0",
            "_view_name": "ProgressView",
            "bar_style": "success",
            "description": "",
            "description_tooltip": null,
            "layout": "IPY_MODEL_01d054241f144a8aab4edb1158dca151",
            "max": 313,
            "min": 0,
            "orientation": "horizontal",
            "style": "IPY_MODEL_d034db4e909d4a2c8a0486fc8ccf4226",
            "value": 313
          }
        },
        "9311bfb0dd7044c084a1107d366b69ae": {
          "model_module": "@jupyter-widgets/controls",
          "model_name": "HTMLModel",
          "model_module_version": "1.5.0",
          "state": {
            "_dom_classes": [],
            "_model_module": "@jupyter-widgets/controls",
            "_model_module_version": "1.5.0",
            "_model_name": "HTMLModel",
            "_view_count": null,
            "_view_module": "@jupyter-widgets/controls",
            "_view_module_version": "1.5.0",
            "_view_name": "HTMLView",
            "description": "",
            "description_tooltip": null,
            "layout": "IPY_MODEL_dc32053a6bf84a06abad7fdc927c8bc3",
            "placeholder": "​",
            "style": "IPY_MODEL_605752f6c5964441b5361a7ecab443c1",
            "value": " 313/313 [00:02&lt;00:00, 103.46it/s]"
          }
        },
        "85c770dea7b848858aba769c5dbf02ba": {
          "model_module": "@jupyter-widgets/base",
          "model_name": "LayoutModel",
          "model_module_version": "1.2.0",
          "state": {
            "_model_module": "@jupyter-widgets/base",
            "_model_module_version": "1.2.0",
            "_model_name": "LayoutModel",
            "_view_count": null,
            "_view_module": "@jupyter-widgets/base",
            "_view_module_version": "1.2.0",
            "_view_name": "LayoutView",
            "align_content": null,
            "align_items": null,
            "align_self": null,
            "border": null,
            "bottom": null,
            "display": null,
            "flex": null,
            "flex_flow": null,
            "grid_area": null,
            "grid_auto_columns": null,
            "grid_auto_flow": null,
            "grid_auto_rows": null,
            "grid_column": null,
            "grid_gap": null,
            "grid_row": null,
            "grid_template_areas": null,
            "grid_template_columns": null,
            "grid_template_rows": null,
            "height": null,
            "justify_content": null,
            "justify_items": null,
            "left": null,
            "margin": null,
            "max_height": null,
            "max_width": null,
            "min_height": null,
            "min_width": null,
            "object_fit": null,
            "object_position": null,
            "order": null,
            "overflow": null,
            "overflow_x": null,
            "overflow_y": null,
            "padding": null,
            "right": null,
            "top": null,
            "visibility": null,
            "width": null
          }
        },
        "09057bc195ae4e348bff5d2bdd84e04c": {
          "model_module": "@jupyter-widgets/base",
          "model_name": "LayoutModel",
          "model_module_version": "1.2.0",
          "state": {
            "_model_module": "@jupyter-widgets/base",
            "_model_module_version": "1.2.0",
            "_model_name": "LayoutModel",
            "_view_count": null,
            "_view_module": "@jupyter-widgets/base",
            "_view_module_version": "1.2.0",
            "_view_name": "LayoutView",
            "align_content": null,
            "align_items": null,
            "align_self": null,
            "border": null,
            "bottom": null,
            "display": null,
            "flex": null,
            "flex_flow": null,
            "grid_area": null,
            "grid_auto_columns": null,
            "grid_auto_flow": null,
            "grid_auto_rows": null,
            "grid_column": null,
            "grid_gap": null,
            "grid_row": null,
            "grid_template_areas": null,
            "grid_template_columns": null,
            "grid_template_rows": null,
            "height": null,
            "justify_content": null,
            "justify_items": null,
            "left": null,
            "margin": null,
            "max_height": null,
            "max_width": null,
            "min_height": null,
            "min_width": null,
            "object_fit": null,
            "object_position": null,
            "order": null,
            "overflow": null,
            "overflow_x": null,
            "overflow_y": null,
            "padding": null,
            "right": null,
            "top": null,
            "visibility": null,
            "width": null
          }
        },
        "f2c3584ca5e8456290a667efb7a73e44": {
          "model_module": "@jupyter-widgets/controls",
          "model_name": "DescriptionStyleModel",
          "model_module_version": "1.5.0",
          "state": {
            "_model_module": "@jupyter-widgets/controls",
            "_model_module_version": "1.5.0",
            "_model_name": "DescriptionStyleModel",
            "_view_count": null,
            "_view_module": "@jupyter-widgets/base",
            "_view_module_version": "1.2.0",
            "_view_name": "StyleView",
            "description_width": ""
          }
        },
        "01d054241f144a8aab4edb1158dca151": {
          "model_module": "@jupyter-widgets/base",
          "model_name": "LayoutModel",
          "model_module_version": "1.2.0",
          "state": {
            "_model_module": "@jupyter-widgets/base",
            "_model_module_version": "1.2.0",
            "_model_name": "LayoutModel",
            "_view_count": null,
            "_view_module": "@jupyter-widgets/base",
            "_view_module_version": "1.2.0",
            "_view_name": "LayoutView",
            "align_content": null,
            "align_items": null,
            "align_self": null,
            "border": null,
            "bottom": null,
            "display": null,
            "flex": null,
            "flex_flow": null,
            "grid_area": null,
            "grid_auto_columns": null,
            "grid_auto_flow": null,
            "grid_auto_rows": null,
            "grid_column": null,
            "grid_gap": null,
            "grid_row": null,
            "grid_template_areas": null,
            "grid_template_columns": null,
            "grid_template_rows": null,
            "height": null,
            "justify_content": null,
            "justify_items": null,
            "left": null,
            "margin": null,
            "max_height": null,
            "max_width": null,
            "min_height": null,
            "min_width": null,
            "object_fit": null,
            "object_position": null,
            "order": null,
            "overflow": null,
            "overflow_x": null,
            "overflow_y": null,
            "padding": null,
            "right": null,
            "top": null,
            "visibility": null,
            "width": null
          }
        },
        "d034db4e909d4a2c8a0486fc8ccf4226": {
          "model_module": "@jupyter-widgets/controls",
          "model_name": "ProgressStyleModel",
          "model_module_version": "1.5.0",
          "state": {
            "_model_module": "@jupyter-widgets/controls",
            "_model_module_version": "1.5.0",
            "_model_name": "ProgressStyleModel",
            "_view_count": null,
            "_view_module": "@jupyter-widgets/base",
            "_view_module_version": "1.2.0",
            "_view_name": "StyleView",
            "bar_color": null,
            "description_width": ""
          }
        },
        "dc32053a6bf84a06abad7fdc927c8bc3": {
          "model_module": "@jupyter-widgets/base",
          "model_name": "LayoutModel",
          "model_module_version": "1.2.0",
          "state": {
            "_model_module": "@jupyter-widgets/base",
            "_model_module_version": "1.2.0",
            "_model_name": "LayoutModel",
            "_view_count": null,
            "_view_module": "@jupyter-widgets/base",
            "_view_module_version": "1.2.0",
            "_view_name": "LayoutView",
            "align_content": null,
            "align_items": null,
            "align_self": null,
            "border": null,
            "bottom": null,
            "display": null,
            "flex": null,
            "flex_flow": null,
            "grid_area": null,
            "grid_auto_columns": null,
            "grid_auto_flow": null,
            "grid_auto_rows": null,
            "grid_column": null,
            "grid_gap": null,
            "grid_row": null,
            "grid_template_areas": null,
            "grid_template_columns": null,
            "grid_template_rows": null,
            "height": null,
            "justify_content": null,
            "justify_items": null,
            "left": null,
            "margin": null,
            "max_height": null,
            "max_width": null,
            "min_height": null,
            "min_width": null,
            "object_fit": null,
            "object_position": null,
            "order": null,
            "overflow": null,
            "overflow_x": null,
            "overflow_y": null,
            "padding": null,
            "right": null,
            "top": null,
            "visibility": null,
            "width": null
          }
        },
        "605752f6c5964441b5361a7ecab443c1": {
          "model_module": "@jupyter-widgets/controls",
          "model_name": "DescriptionStyleModel",
          "model_module_version": "1.5.0",
          "state": {
            "_model_module": "@jupyter-widgets/controls",
            "_model_module_version": "1.5.0",
            "_model_name": "DescriptionStyleModel",
            "_view_count": null,
            "_view_module": "@jupyter-widgets/base",
            "_view_module_version": "1.2.0",
            "_view_name": "StyleView",
            "description_width": ""
          }
        }
      }
    },
    "accelerator": "GPU"
  },
  "cells": [
    {
      "cell_type": "markdown",
      "source": [
        "# Libraries for Computer Vision\n",
        "* `torchvision` : Base domain library for PyTorch\n",
        "* `torchvision.datsets` get data set and data loading for computer vision\n",
        "* `torchvision.models`: get pretrained computer vision models that you can leverage for your own problems\n",
        "* `torchvision.transforms`: function for manipulating your vision data (images) to be suitable for use with ML model.\n",
        "* `torch.utils.data.Dataset`: Base data set class for Pytorch\n",
        "* `torch.utils.data.DataLoader`: Creates Python iterable over a Dataset"
      ],
      "metadata": {
        "id": "rL3CIpb3kqU3"
      }
    },
    {
      "cell_type": "code",
      "execution_count": 110,
      "metadata": {
        "id": "-2p7GyNz40LD"
      },
      "outputs": [],
      "source": [
        "## Import pytorch\n",
        "\n",
        "import torch\n",
        "from torch import nn\n",
        "\n",
        "#import torch vision\n",
        "import torchvision\n",
        "from torchvision import datasets, transforms\n",
        "from torchvision.transforms import ToTensor\n",
        "\n",
        "## import matplotlib for visualization\n",
        "import matplotlib.pyplot as plt"
      ]
    },
    {
      "cell_type": "markdown",
      "source": [
        "## Getting a Data set\n",
        "* Fashion MNIST\n"
      ],
      "metadata": {
        "id": "EWcikvv1BU8d"
      }
    },
    {
      "cell_type": "code",
      "source": [
        "device = torch.device('cuda' if torch.cuda.is_available() else 'cpu')\n",
        "device"
      ],
      "metadata": {
        "colab": {
          "base_uri": "https://localhost:8080/"
        },
        "id": "u_nuKTul8Kqc",
        "outputId": "5262aada-ec6a-4d91-c2f1-63051a86c13c"
      },
      "execution_count": 111,
      "outputs": [
        {
          "output_type": "execute_result",
          "data": {
            "text/plain": [
              "device(type='cpu')"
            ]
          },
          "metadata": {},
          "execution_count": 111
        }
      ]
    },
    {
      "cell_type": "code",
      "source": [
        "# Setup Trainig data\n",
        "train_data = datasets.FashionMNIST(\n",
        "    root = 'data', # Where to download data to(Folder created in the colab)\n",
        "    train = True, # do we want the training data set\n",
        "    download = True, # do we want to download yes/no\n",
        "    transform = torchvision.transforms.ToTensor(), # how do we want to transform the data\n",
        "    target_transform = None # how do we want to trandform the labels / targets\n",
        ")\n",
        "# Setup Testing Data\n",
        "\n",
        "test_data = datasets.FashionMNIST(\n",
        "    root = 'data', # Where to download data to(Foilder Created in the colab)\n",
        "    train = False, # do we want the training data set\n",
        "    download = True, # do we want to download yes/no\n",
        "    transform = torchvision.transforms.ToTensor(), # how do we want to transform the data\n",
        "    target_transform = None # how do we want to trandform the labels / targets\n",
        ")\n"
      ],
      "metadata": {
        "id": "NUsN92Z3BUD2"
      },
      "execution_count": 112,
      "outputs": []
    },
    {
      "cell_type": "code",
      "source": [
        "len(train_data), len(test_data)"
      ],
      "metadata": {
        "colab": {
          "base_uri": "https://localhost:8080/"
        },
        "id": "AmN-_tVtVJzg",
        "outputId": "4cb1ef57-a7d4-460a-a04b-cd1f55c5ccf0"
      },
      "execution_count": 113,
      "outputs": [
        {
          "output_type": "execute_result",
          "data": {
            "text/plain": [
              "(60000, 10000)"
            ]
          },
          "metadata": {},
          "execution_count": 113
        }
      ]
    },
    {
      "cell_type": "code",
      "source": [
        "image , label = train_data[0]\n",
        "image, label"
      ],
      "metadata": {
        "colab": {
          "base_uri": "https://localhost:8080/"
        },
        "id": "vjCM-QSPWMP7",
        "outputId": "f5ddcbe8-f0e1-4fa7-c766-671cbd5b48c2"
      },
      "execution_count": 114,
      "outputs": [
        {
          "output_type": "execute_result",
          "data": {
            "text/plain": [
              "(tensor([[[0.0000, 0.0000, 0.0000, 0.0000, 0.0000, 0.0000, 0.0000, 0.0000,\n",
              "           0.0000, 0.0000, 0.0000, 0.0000, 0.0000, 0.0000, 0.0000, 0.0000,\n",
              "           0.0000, 0.0000, 0.0000, 0.0000, 0.0000, 0.0000, 0.0000, 0.0000,\n",
              "           0.0000, 0.0000, 0.0000, 0.0000],\n",
              "          [0.0000, 0.0000, 0.0000, 0.0000, 0.0000, 0.0000, 0.0000, 0.0000,\n",
              "           0.0000, 0.0000, 0.0000, 0.0000, 0.0000, 0.0000, 0.0000, 0.0000,\n",
              "           0.0000, 0.0000, 0.0000, 0.0000, 0.0000, 0.0000, 0.0000, 0.0000,\n",
              "           0.0000, 0.0000, 0.0000, 0.0000],\n",
              "          [0.0000, 0.0000, 0.0000, 0.0000, 0.0000, 0.0000, 0.0000, 0.0000,\n",
              "           0.0000, 0.0000, 0.0000, 0.0000, 0.0000, 0.0000, 0.0000, 0.0000,\n",
              "           0.0000, 0.0000, 0.0000, 0.0000, 0.0000, 0.0000, 0.0000, 0.0000,\n",
              "           0.0000, 0.0000, 0.0000, 0.0000],\n",
              "          [0.0000, 0.0000, 0.0000, 0.0000, 0.0000, 0.0000, 0.0000, 0.0000,\n",
              "           0.0000, 0.0000, 0.0000, 0.0000, 0.0039, 0.0000, 0.0000, 0.0510,\n",
              "           0.2863, 0.0000, 0.0000, 0.0039, 0.0157, 0.0000, 0.0000, 0.0000,\n",
              "           0.0000, 0.0039, 0.0039, 0.0000],\n",
              "          [0.0000, 0.0000, 0.0000, 0.0000, 0.0000, 0.0000, 0.0000, 0.0000,\n",
              "           0.0000, 0.0000, 0.0000, 0.0000, 0.0118, 0.0000, 0.1412, 0.5333,\n",
              "           0.4980, 0.2431, 0.2118, 0.0000, 0.0000, 0.0000, 0.0039, 0.0118,\n",
              "           0.0157, 0.0000, 0.0000, 0.0118],\n",
              "          [0.0000, 0.0000, 0.0000, 0.0000, 0.0000, 0.0000, 0.0000, 0.0000,\n",
              "           0.0000, 0.0000, 0.0000, 0.0000, 0.0235, 0.0000, 0.4000, 0.8000,\n",
              "           0.6902, 0.5255, 0.5647, 0.4824, 0.0902, 0.0000, 0.0000, 0.0000,\n",
              "           0.0000, 0.0471, 0.0392, 0.0000],\n",
              "          [0.0000, 0.0000, 0.0000, 0.0000, 0.0000, 0.0000, 0.0000, 0.0000,\n",
              "           0.0000, 0.0000, 0.0000, 0.0000, 0.0000, 0.0000, 0.6078, 0.9255,\n",
              "           0.8118, 0.6980, 0.4196, 0.6118, 0.6314, 0.4275, 0.2510, 0.0902,\n",
              "           0.3020, 0.5098, 0.2824, 0.0588],\n",
              "          [0.0000, 0.0000, 0.0000, 0.0000, 0.0000, 0.0000, 0.0000, 0.0000,\n",
              "           0.0000, 0.0000, 0.0000, 0.0039, 0.0000, 0.2706, 0.8118, 0.8745,\n",
              "           0.8549, 0.8471, 0.8471, 0.6392, 0.4980, 0.4745, 0.4784, 0.5725,\n",
              "           0.5529, 0.3451, 0.6745, 0.2588],\n",
              "          [0.0000, 0.0000, 0.0000, 0.0000, 0.0000, 0.0000, 0.0000, 0.0000,\n",
              "           0.0000, 0.0039, 0.0039, 0.0039, 0.0000, 0.7843, 0.9098, 0.9098,\n",
              "           0.9137, 0.8980, 0.8745, 0.8745, 0.8431, 0.8353, 0.6431, 0.4980,\n",
              "           0.4824, 0.7686, 0.8980, 0.0000],\n",
              "          [0.0000, 0.0000, 0.0000, 0.0000, 0.0000, 0.0000, 0.0000, 0.0000,\n",
              "           0.0000, 0.0000, 0.0000, 0.0000, 0.0000, 0.7176, 0.8824, 0.8471,\n",
              "           0.8745, 0.8941, 0.9216, 0.8902, 0.8784, 0.8706, 0.8784, 0.8667,\n",
              "           0.8745, 0.9608, 0.6784, 0.0000],\n",
              "          [0.0000, 0.0000, 0.0000, 0.0000, 0.0000, 0.0000, 0.0000, 0.0000,\n",
              "           0.0000, 0.0000, 0.0000, 0.0000, 0.0000, 0.7569, 0.8941, 0.8549,\n",
              "           0.8353, 0.7765, 0.7059, 0.8314, 0.8235, 0.8275, 0.8353, 0.8745,\n",
              "           0.8627, 0.9529, 0.7922, 0.0000],\n",
              "          [0.0000, 0.0000, 0.0000, 0.0000, 0.0000, 0.0000, 0.0000, 0.0000,\n",
              "           0.0000, 0.0039, 0.0118, 0.0000, 0.0471, 0.8588, 0.8627, 0.8314,\n",
              "           0.8549, 0.7529, 0.6627, 0.8902, 0.8157, 0.8549, 0.8784, 0.8314,\n",
              "           0.8863, 0.7725, 0.8196, 0.2039],\n",
              "          [0.0000, 0.0000, 0.0000, 0.0000, 0.0000, 0.0000, 0.0000, 0.0000,\n",
              "           0.0000, 0.0000, 0.0235, 0.0000, 0.3882, 0.9569, 0.8706, 0.8627,\n",
              "           0.8549, 0.7961, 0.7765, 0.8667, 0.8431, 0.8353, 0.8706, 0.8627,\n",
              "           0.9608, 0.4667, 0.6549, 0.2196],\n",
              "          [0.0000, 0.0000, 0.0000, 0.0000, 0.0000, 0.0000, 0.0000, 0.0000,\n",
              "           0.0000, 0.0157, 0.0000, 0.0000, 0.2157, 0.9255, 0.8941, 0.9020,\n",
              "           0.8941, 0.9412, 0.9098, 0.8353, 0.8549, 0.8745, 0.9176, 0.8510,\n",
              "           0.8510, 0.8196, 0.3608, 0.0000],\n",
              "          [0.0000, 0.0000, 0.0039, 0.0157, 0.0235, 0.0275, 0.0078, 0.0000,\n",
              "           0.0000, 0.0000, 0.0000, 0.0000, 0.9294, 0.8863, 0.8510, 0.8745,\n",
              "           0.8706, 0.8588, 0.8706, 0.8667, 0.8471, 0.8745, 0.8980, 0.8431,\n",
              "           0.8549, 1.0000, 0.3020, 0.0000],\n",
              "          [0.0000, 0.0118, 0.0000, 0.0000, 0.0000, 0.0000, 0.0000, 0.0000,\n",
              "           0.0000, 0.2431, 0.5686, 0.8000, 0.8941, 0.8118, 0.8353, 0.8667,\n",
              "           0.8549, 0.8157, 0.8275, 0.8549, 0.8784, 0.8745, 0.8588, 0.8431,\n",
              "           0.8784, 0.9569, 0.6235, 0.0000],\n",
              "          [0.0000, 0.0000, 0.0000, 0.0000, 0.0706, 0.1725, 0.3216, 0.4196,\n",
              "           0.7412, 0.8941, 0.8627, 0.8706, 0.8510, 0.8863, 0.7843, 0.8039,\n",
              "           0.8275, 0.9020, 0.8784, 0.9176, 0.6902, 0.7373, 0.9804, 0.9725,\n",
              "           0.9137, 0.9333, 0.8431, 0.0000],\n",
              "          [0.0000, 0.2235, 0.7333, 0.8157, 0.8784, 0.8667, 0.8784, 0.8157,\n",
              "           0.8000, 0.8392, 0.8157, 0.8196, 0.7843, 0.6235, 0.9608, 0.7569,\n",
              "           0.8078, 0.8745, 1.0000, 1.0000, 0.8667, 0.9176, 0.8667, 0.8275,\n",
              "           0.8627, 0.9098, 0.9647, 0.0000],\n",
              "          [0.0118, 0.7922, 0.8941, 0.8784, 0.8667, 0.8275, 0.8275, 0.8392,\n",
              "           0.8039, 0.8039, 0.8039, 0.8627, 0.9412, 0.3137, 0.5882, 1.0000,\n",
              "           0.8980, 0.8667, 0.7373, 0.6039, 0.7490, 0.8235, 0.8000, 0.8196,\n",
              "           0.8706, 0.8941, 0.8824, 0.0000],\n",
              "          [0.3843, 0.9137, 0.7765, 0.8235, 0.8706, 0.8980, 0.8980, 0.9176,\n",
              "           0.9765, 0.8627, 0.7608, 0.8431, 0.8510, 0.9451, 0.2549, 0.2863,\n",
              "           0.4157, 0.4588, 0.6588, 0.8588, 0.8667, 0.8431, 0.8510, 0.8745,\n",
              "           0.8745, 0.8784, 0.8980, 0.1137],\n",
              "          [0.2941, 0.8000, 0.8314, 0.8000, 0.7569, 0.8039, 0.8275, 0.8824,\n",
              "           0.8471, 0.7255, 0.7725, 0.8078, 0.7765, 0.8353, 0.9412, 0.7647,\n",
              "           0.8902, 0.9608, 0.9373, 0.8745, 0.8549, 0.8314, 0.8196, 0.8706,\n",
              "           0.8627, 0.8667, 0.9020, 0.2627],\n",
              "          [0.1882, 0.7961, 0.7176, 0.7608, 0.8353, 0.7725, 0.7255, 0.7451,\n",
              "           0.7608, 0.7529, 0.7922, 0.8392, 0.8588, 0.8667, 0.8627, 0.9255,\n",
              "           0.8824, 0.8471, 0.7804, 0.8078, 0.7294, 0.7098, 0.6941, 0.6745,\n",
              "           0.7098, 0.8039, 0.8078, 0.4510],\n",
              "          [0.0000, 0.4784, 0.8588, 0.7569, 0.7020, 0.6706, 0.7176, 0.7686,\n",
              "           0.8000, 0.8235, 0.8353, 0.8118, 0.8275, 0.8235, 0.7843, 0.7686,\n",
              "           0.7608, 0.7490, 0.7647, 0.7490, 0.7765, 0.7529, 0.6902, 0.6118,\n",
              "           0.6549, 0.6941, 0.8235, 0.3608],\n",
              "          [0.0000, 0.0000, 0.2902, 0.7412, 0.8314, 0.7490, 0.6863, 0.6745,\n",
              "           0.6863, 0.7098, 0.7255, 0.7373, 0.7412, 0.7373, 0.7569, 0.7765,\n",
              "           0.8000, 0.8196, 0.8235, 0.8235, 0.8275, 0.7373, 0.7373, 0.7608,\n",
              "           0.7529, 0.8471, 0.6667, 0.0000],\n",
              "          [0.0078, 0.0000, 0.0000, 0.0000, 0.2588, 0.7843, 0.8706, 0.9294,\n",
              "           0.9373, 0.9490, 0.9647, 0.9529, 0.9569, 0.8667, 0.8627, 0.7569,\n",
              "           0.7490, 0.7020, 0.7137, 0.7137, 0.7098, 0.6902, 0.6510, 0.6588,\n",
              "           0.3882, 0.2275, 0.0000, 0.0000],\n",
              "          [0.0000, 0.0000, 0.0000, 0.0000, 0.0000, 0.0000, 0.0000, 0.1569,\n",
              "           0.2392, 0.1725, 0.2824, 0.1608, 0.1373, 0.0000, 0.0000, 0.0000,\n",
              "           0.0000, 0.0000, 0.0000, 0.0000, 0.0000, 0.0000, 0.0000, 0.0000,\n",
              "           0.0000, 0.0000, 0.0000, 0.0000],\n",
              "          [0.0000, 0.0000, 0.0000, 0.0000, 0.0000, 0.0000, 0.0000, 0.0000,\n",
              "           0.0000, 0.0000, 0.0000, 0.0000, 0.0000, 0.0000, 0.0000, 0.0000,\n",
              "           0.0000, 0.0000, 0.0000, 0.0000, 0.0000, 0.0000, 0.0000, 0.0000,\n",
              "           0.0000, 0.0000, 0.0000, 0.0000],\n",
              "          [0.0000, 0.0000, 0.0000, 0.0000, 0.0000, 0.0000, 0.0000, 0.0000,\n",
              "           0.0000, 0.0000, 0.0000, 0.0000, 0.0000, 0.0000, 0.0000, 0.0000,\n",
              "           0.0000, 0.0000, 0.0000, 0.0000, 0.0000, 0.0000, 0.0000, 0.0000,\n",
              "           0.0000, 0.0000, 0.0000, 0.0000]]]),\n",
              " 9)"
            ]
          },
          "metadata": {},
          "execution_count": 114
        }
      ]
    },
    {
      "cell_type": "markdown",
      "source": [
        "### Checking the imageand label shape :\n",
        "* image.shape -> [color_channel= 1, height = 28, width= 28]\n",
        "\n",
        "* having color channel = 1 : gray image"
      ],
      "metadata": {
        "id": "Q_V6NlVUW5t9"
      }
    },
    {
      "cell_type": "code",
      "source": [
        "#Shape of an image\n",
        "image.shape"
      ],
      "metadata": {
        "colab": {
          "base_uri": "https://localhost:8080/"
        },
        "id": "xxjgIG_uW-8S",
        "outputId": "f51dbc5a-6499-4238-f265-edb737618dd5"
      },
      "execution_count": 115,
      "outputs": [
        {
          "output_type": "execute_result",
          "data": {
            "text/plain": [
              "torch.Size([1, 28, 28])"
            ]
          },
          "metadata": {},
          "execution_count": 115
        }
      ]
    },
    {
      "cell_type": "code",
      "source": [
        "## Lets see the type of classes present\n",
        "number_of_classes =train_data.classes\n",
        "number_of_classes"
      ],
      "metadata": {
        "colab": {
          "base_uri": "https://localhost:8080/"
        },
        "id": "5bJNRPTOYZoX",
        "outputId": "44b88dbd-eb73-4bc1-9dfb-a0bafa0efb2d"
      },
      "execution_count": 116,
      "outputs": [
        {
          "output_type": "execute_result",
          "data": {
            "text/plain": [
              "['T-shirt/top',\n",
              " 'Trouser',\n",
              " 'Pullover',\n",
              " 'Dress',\n",
              " 'Coat',\n",
              " 'Sandal',\n",
              " 'Shirt',\n",
              " 'Sneaker',\n",
              " 'Bag',\n",
              " 'Ankle boot']"
            ]
          },
          "metadata": {},
          "execution_count": 116
        }
      ]
    },
    {
      "cell_type": "markdown",
      "source": [
        "### Visualizing the data\n"
      ],
      "metadata": {
        "id": "dn4WvBuAZfwX"
      }
    },
    {
      "cell_type": "code",
      "source": [
        "import matplotlib.pyplot as plt\n",
        "image, label = train_data[0]\n",
        "print(f\"Image Shape: {image.shape} Label: {label}\")\n",
        "plt.imshow(image.squeeze(), cmap = 'gray')\n",
        "plt.title(number_of_classes[label])\n",
        "plt.show()"
      ],
      "metadata": {
        "colab": {
          "base_uri": "https://localhost:8080/",
          "height": 470
        },
        "id": "9BejOKmBZi1_",
        "outputId": "199e4227-a1d2-4b16-d9f0-eb9207d10d42"
      },
      "execution_count": 117,
      "outputs": [
        {
          "output_type": "stream",
          "name": "stdout",
          "text": [
            "Image Shape: torch.Size([1, 28, 28]) Label: 9\n"
          ]
        },
        {
          "output_type": "display_data",
          "data": {
            "text/plain": [
              "<Figure size 640x480 with 1 Axes>"
            ],
            "image/png": "[encoded data removed]"
          },
          "metadata": {}
        }
      ]
    },
    {
      "cell_type": "markdown",
      "source": [
        "### Randomly look at the data"
      ],
      "metadata": {
        "id": "mqDp_dZIcb_S"
      }
    },
    {
      "cell_type": "code",
      "source": [
        "#torch.manual_seed(42)\n",
        "rows, column = 4, 4\n",
        "fig = plt.figure(figsize=(6,6))\n",
        "for i in range(1, rows*column +1):\n",
        "  random_idx = torch.randint(0, len(train_data), size = [1]).item()\n",
        "  img, label = train_data[random_idx]\n",
        "  fig.add_subplot(rows, column, i)\n",
        "  plt.imshow(img.squeeze(), cmap = 'gray')\n",
        "  plt.title(number_of_classes[label])\n",
        "  plt.axis(False)"
      ],
      "metadata": {
        "colab": {
          "base_uri": "https://localhost:8080/",
          "height": 521
        },
        "id": "IOuITMJvcEJB",
        "outputId": "edf35a14-e8e6-48b1-b62c-ea7b514e38e1"
      },
      "execution_count": 118,
      "outputs": [
        {
          "output_type": "display_data",
          "data": {
            "text/plain": [
              "<Figure size 600x600 with 16 Axes>"
            ],
            "image/png": "[encoded data removed]"
          },
          "metadata": {}
        }
      ]
    },
    {
      "cell_type": "markdown",
      "source": [
        "## Preparing data Loader\n",
        "\n",
        "* DataLoader makes the entire dta set in to small batches and minibatches\n",
        "* Turning data into small bathces\n"
      ],
      "metadata": {
        "id": "nEWjh69seOQk"
      }
    },
    {
      "cell_type": "code",
      "source": [
        "from torch.utils.data import DataLoader\n",
        "\n",
        "BATCH_SIZE = 32\n",
        "\n",
        "train_dataloader = DataLoader(dataset = train_data,\n",
        "                              batch_size = BATCH_SIZE,\n",
        "                              shuffle = True\n",
        "                              )\n",
        "\n",
        "test_dataloader = DataLoader(dataset = test_data,\n",
        "                             batch_size= BATCH_SIZE,\n",
        "                             shuffle = False)"
      ],
      "metadata": {
        "id": "hHAaU_Xudepa"
      },
      "execution_count": 119,
      "outputs": []
    },
    {
      "cell_type": "code",
      "source": [
        "print(f\"LEngth of trainDataLoader : {len(train_dataloader)} batches of {BATCH_SIZE}\")\n",
        "print(f\"length of testDataLoader : {len(test_dataloader)} batches of {BATCH_SIZE}\")"
      ],
      "metadata": {
        "colab": {
          "base_uri": "https://localhost:8080/"
        },
        "id": "KCRGAH8lb45F",
        "outputId": "0bda0940-8c76-45cf-cfa0-70fea97f02d9"
      },
      "execution_count": 120,
      "outputs": [
        {
          "output_type": "stream",
          "name": "stdout",
          "text": [
            "LEngth of trainDataLoader : 1875 batches of 32\n",
            "length of testDataLoader : 313 batches of 32\n"
          ]
        }
      ]
    },
    {
      "cell_type": "markdown",
      "source": [
        "### Checking whast inside the training data loader"
      ],
      "metadata": {
        "id": "65-Woqq-erXB"
      }
    },
    {
      "cell_type": "code",
      "source": [
        "train_features_batch, train_labels_batch = next(iter(train_dataloader))\n",
        "train_features_batch.shape, train_labels_batch.shape"
      ],
      "metadata": {
        "colab": {
          "base_uri": "https://localhost:8080/"
        },
        "id": "whgUX4kKdt5f",
        "outputId": "13ba775e-f5cf-4c6c-be89-896352efd27b"
      },
      "execution_count": 121,
      "outputs": [
        {
          "output_type": "execute_result",
          "data": {
            "text/plain": [
              "(torch.Size([32, 1, 28, 28]), torch.Size([32]))"
            ]
          },
          "metadata": {},
          "execution_count": 121
        }
      ]
    },
    {
      "cell_type": "code",
      "source": [
        "# Random index within the batch\n",
        "random_idx = torch.randint(0, len(train_features_batch), size=[1]).item()\n",
        "\n",
        "# Select the image and label\n",
        "img, label = train_features_batch[random_idx], train_labels_batch[random_idx]\n",
        "\n",
        "# Visualize the image\n",
        "plt.imshow(img.squeeze(), cmap='gray')  # Use .squeeze() for grayscale\n",
        "plt.title(f\"Class: {number_of_classes[label.item()]}\")  # Convert label to class name\n",
        "plt.axis(False)\n",
        "plt.show()\n"
      ],
      "metadata": {
        "colab": {
          "base_uri": "https://localhost:8080/",
          "height": 428
        },
        "id": "HqCtC_atolxO",
        "outputId": "37be108b-c6f5-4713-a372-6a124be5ef25"
      },
      "execution_count": 122,
      "outputs": [
        {
          "output_type": "display_data",
          "data": {
            "text/plain": [
              "<Figure size 640x480 with 1 Axes>"
            ],
            "image/png": "[encoded data removed]"
          },
          "metadata": {}
        }
      ]
    },
    {
      "cell_type": "markdown",
      "source": [
        "## model 0: Build a baseline\n",
        "\n",
        "* Creating a flatten layer"
      ],
      "metadata": {
        "id": "0ax_kr_B0P2U"
      }
    },
    {
      "cell_type": "code",
      "source": [],
      "metadata": {
        "id": "WOSlHCmKI1Px"
      },
      "execution_count": 122,
      "outputs": []
    },
    {
      "cell_type": "code",
      "source": [
        "# create a flatten layer\n",
        "flatten_model = nn.Flatten()\n",
        "\n",
        "# get a single sample\n",
        "x = train_features_batch[0]\n",
        "print(x.shape)\n",
        "\n",
        "# passing the sample to the flatten mpdel\n",
        "\n",
        "output = flatten_model(x)\n",
        "print(output.shape)\n"
      ],
      "metadata": {
        "colab": {
          "base_uri": "https://localhost:8080/"
        },
        "id": "a1scKAdcyqtH",
        "outputId": "ab9d2de2-7f9b-49c1-d53f-4799d5642579"
      },
      "execution_count": 123,
      "outputs": [
        {
          "output_type": "stream",
          "name": "stdout",
          "text": [
            "torch.Size([1, 28, 28])\n",
            "torch.Size([1, 784])\n"
          ]
        }
      ]
    },
    {
      "cell_type": "code",
      "source": [
        "class modelv0(nn.Module):\n",
        "  def __init__(self, input_shape: int, hidden_units : int, output_shape: int):\n",
        "    super().__init__()\n",
        "    self.layer_stack = nn.Sequential(\n",
        "        nn.Flatten(),\n",
        "        nn.Linear(in_features= input_shape, out_features = hidden_units),\n",
        "        nn.Linear(in_features = hidden_units, out_features = output_shape)\n",
        "\n",
        "    )\n",
        "\n",
        "  def forward(self, x):\n",
        "    return self.layer_stack(x)"
      ],
      "metadata": {
        "id": "tNlN-wtv2HzF"
      },
      "execution_count": 124,
      "outputs": []
    },
    {
      "cell_type": "code",
      "source": [
        "torch.manual_seed(42)\n",
        "\n",
        "model0 = modelv0(\n",
        "    input_shape = 28*28,\n",
        "    hidden_units = 10,\n",
        "    output_shape= len(number_of_classes)\n",
        ").to(device)\n",
        "model0"
      ],
      "metadata": {
        "colab": {
          "base_uri": "https://localhost:8080/"
        },
        "id": "WdWNXoAcHf-i",
        "outputId": "caf1ada1-4838-498b-9efe-96798a8e2f7b"
      },
      "execution_count": 125,
      "outputs": [
        {
          "output_type": "execute_result",
          "data": {
            "text/plain": [
              "modelv0(\n",
              "  (layer_stack): Sequential(\n",
              "    (0): Flatten(start_dim=1, end_dim=-1)\n",
              "    (1): Linear(in_features=784, out_features=10, bias=True)\n",
              "    (2): Linear(in_features=10, out_features=10, bias=True)\n",
              "  )\n",
              ")"
            ]
          },
          "metadata": {},
          "execution_count": 125
        }
      ]
    },
    {
      "cell_type": "markdown",
      "source": [
        "## Setup loss , optimizer and evaluation metrics\n",
        "\n",
        "* Loss function: since we are working with a multiclass data, our loss function will be `nn.CrossEntropyLoss()`\n",
        "* optimize = SGD\n",
        "* Evaluation metric:  accuracy"
      ],
      "metadata": {
        "id": "1GOkZxSU55Vn"
      }
    },
    {
      "cell_type": "code",
      "source": [
        "import requests\n",
        "from pathlib import Path\n",
        "\n",
        "# Download helper functions from Learn PyTorch repo (if not already downloaded)\n",
        "if Path(\"helper_functions.py\").is_file():\n",
        "  print(\"helper_functions.py already exists, skipping download\")\n",
        "else:\n",
        "  print(\"Downloading helper_functions.py\")\n",
        "  # Note: you need the \"raw\" GitHub URL for this to work\n",
        "  request = requests.get(\"https://raw.githubusercontent.com/mrdbourke/pytorch-deep-learning/main/helper_functions.py\")\n",
        "  with open(\"helper_functions.py\", \"wb\") as f:\n",
        "    f.write(request.content)"
      ],
      "metadata": {
        "colab": {
          "base_uri": "https://localhost:8080/"
        },
        "id": "-uJWbD0i54pa",
        "outputId": "924a25c6-3cb0-40f3-ec51-99af1dcd85a6"
      },
      "execution_count": 126,
      "outputs": [
        {
          "output_type": "stream",
          "name": "stdout",
          "text": [
            "Downloading helper_functions.py\n"
          ]
        }
      ]
    },
    {
      "cell_type": "code",
      "source": [
        "from helper_functions import accuracy_fn\n",
        "\n",
        "# seting up loss function and optimizer\n",
        "Loss = nn.CrossEntropyLoss()\n",
        "optimizer = torch.optim.SGD(params = model0.parameters(), lr = 0.1\n",
        "                            )"
      ],
      "metadata": {
        "id": "caJHAa-vdYfC"
      },
      "execution_count": 127,
      "outputs": []
    },
    {
      "cell_type": "markdown",
      "source": [
        "#### Timer to calculate the time\n"
      ],
      "metadata": {
        "id": "83XdOlDai2wm"
      }
    },
    {
      "cell_type": "code",
      "source": [
        "import time\n",
        "\n",
        "start_time = time.time()  # Record the start time\n",
        "\n",
        "# code model in between\n",
        "\n",
        "end_time = time.time()  # Record the end time\n",
        "elapsed_time = end_time - start_time\n",
        "\n",
        "print(f\"Time taken: {elapsed_time:.4f} seconds\")"
      ],
      "metadata": {
        "colab": {
          "base_uri": "https://localhost:8080/"
        },
        "id": "ljLPXV7VhCAm",
        "outputId": "ead86ade-0532-4b5c-d7bc-35baf0e9b6b6"
      },
      "execution_count": 128,
      "outputs": [
        {
          "output_type": "stream",
          "name": "stdout",
          "text": [
            "Time taken: 0.0000 seconds\n"
          ]
        }
      ]
    },
    {
      "cell_type": "markdown",
      "source": [
        "### Creating training loop and traing a model on batches of data\n",
        "* Loop through epochs\n",
        "* loop through training batches, perform training steps, calculate the training loss \"per batch\"\n",
        "* Lopp through testing batches, perform testing steps, calculate the test loss \"per batch\"\n",
        "* Print out whats happening\n"
      ],
      "metadata": {
        "id": "xJmJc9wBjIkn"
      }
    },
    {
      "cell_type": "code",
      "source": [
        "from sklearn.metrics import accuracy_score\n",
        "\n",
        "# import tqdm for progress bar\n",
        "from tqdm.auto import tqdm\n",
        "\n",
        "# set the seed and start the timer\n",
        "\n",
        "torch.manual_seed(42)\n",
        "# START the TIMER\n",
        "start_time = time.time()\n",
        "\n",
        "epochs = 3\n",
        "\n",
        "# creating training and test loop.\n",
        "\n",
        "for epoch in tqdm(range(epochs)):\n",
        "  print(f'Epochs: {epoch}\\n----')\n",
        "\n",
        "  train_loss = 0\n",
        "  # Adding a lopp to lopp through the training batches\n",
        "  for batch, (X,y) in enumerate(train_dataloader):\n",
        "    # enumerate means that we are going batch by batch the batch here is theinder\n",
        "    # we are having\n",
        "    model0.train()\n",
        "    # Foward Pass\n",
        "    y_pred = model0(X.to(device))\n",
        "\n",
        "    # Loss calculation\n",
        "    loss = Loss(y_pred, y.to(device))\n",
        "    # Convert tensor loss to Python float\n",
        "    train_loss += loss.item() # accumulating the train loss\n",
        "\n",
        "    # Optimizer zero grad\n",
        "    optimizer.zero_grad()\n",
        "\n",
        "    #Loss baclward\n",
        "    loss.backward()\n",
        "\n",
        "    # optmizer step\n",
        "    optimizer.step()\n",
        "\n",
        "    # Print out whats hapening\n",
        "    if batch % 400 == 0:\n",
        "      print(f'Looked at {batch * len(X)}/ {len(train_dataloader.dataset)} samples.')\n",
        "  # Divde total train loss with length of the train loader\n",
        "  train_loss /= len(train_dataloader)\n",
        "\n",
        "  test_loss, test_acc =0.0,0.0\n",
        "  model0.eval()\n",
        "  with torch.inference_mode():\n",
        "    for X_test,y_test in test_dataloader:\n",
        "      # Forward Pass\n",
        "      test_logit = model0(X_test.to(device))\n",
        "      test_pred = test_logit.argmax(dim =1) # it will give the labels\n",
        "\n",
        "      # backward Pass\n",
        "      t_loss = Loss(test_logit, y_test.to(device))\n",
        "      test_loss += t_loss.item()\n",
        "\n",
        "      # calculate the accuracy\n",
        "      # so we are comparing the labels with labels\n",
        "      test_acc +=  accuracy_score(y_true = y_test.cpu().numpy(),\n",
        "                                  y_pred = test_pred.cpu().numpy())*100\n",
        "\n",
        "    # Calculate the tess loss avg per batch\n",
        "    test_loss /= len(test_dataloader)\n",
        "    # calculate the test accuracy per batch\n",
        "    test_acc /= len(test_dataloader)\n",
        "\n",
        "  print(f'\\nTrain Loss: {train_loss:.4f} | Test Loss: {test_loss:.4f}, Test acc: {test_acc:.2f}')\n",
        "\n",
        "\n",
        "end_time = time.time()  # Record the end time\n",
        "elapsed_time = end_time - start_time\n",
        "\n",
        "\n",
        "print(f\"Time taken: {elapsed_time:.4f} seconds\")\n",
        "\n",
        "\n",
        "\n",
        "\n"
      ],
      "metadata": {
        "colab": {
          "base_uri": "https://localhost:8080/",
          "height": 557,
          "referenced_widgets": [
            "0188a55ec7a74daea7ff311878b3c67c",
            "2af2da6566754572ad4cebb3f9e62ea0",
            "3119644268a543908b1d9d6fe499b610",
            "bb48e5cd24604641a38fd1aa781d2a60",
            "b596d3eac9714306a16a954f2c9494e8",
            "3783b2a283b0484ebe1de8f31aeee12c",
            "515befe919064b63b7411e3b80189ff3",
            "8b4ed8ea676447418b17a93173aac593",
            "8b9fa30f69514be0bceccd3affd7d862",
            "e1a5f66c4450402099d203711042c78d",
            "e489ec7205fa4623a2485b6a94b71570"
          ]
        },
        "id": "ks5ioYElkFZy",
        "outputId": "3d4b8d15-4315-4d9b-8abb-3d25fece4ffe"
      },
      "execution_count": 129,
      "outputs": [
        {
          "output_type": "display_data",
          "data": {
            "text/plain": [
              "  0%|          | 0/3 [00:00<?, ?it/s]"
            ],
            "application/vnd.jupyter.widget-view+json": {
              "version_major": 2,
              "version_minor": 0,
              "model_id": "0188a55ec7a74daea7ff311878b3c67c"
            }
          },
          "metadata": {}
        },
        {
          "output_type": "stream",
          "name": "stdout",
          "text": [
            "Epochs: 0\n",
            "----\n",
            "Looked at 0/ 60000 samples.\n",
            "Looked at 12800/ 60000 samples.\n",
            "Looked at 25600/ 60000 samples.\n",
            "Looked at 38400/ 60000 samples.\n",
            "Looked at 51200/ 60000 samples.\n",
            "\n",
            "Train Loss: 0.5904 | Test Loss: 0.5095, Test acc: 82.04\n",
            "Epochs: 1\n",
            "----\n",
            "Looked at 0/ 60000 samples.\n",
            "Looked at 12800/ 60000 samples.\n",
            "Looked at 25600/ 60000 samples.\n",
            "Looked at 38400/ 60000 samples.\n",
            "Looked at 51200/ 60000 samples.\n",
            "\n",
            "Train Loss: 0.4763 | Test Loss: 0.4799, Test acc: 83.20\n",
            "Epochs: 2\n",
            "----\n",
            "Looked at 0/ 60000 samples.\n",
            "Looked at 12800/ 60000 samples.\n",
            "Looked at 25600/ 60000 samples.\n",
            "Looked at 38400/ 60000 samples.\n",
            "Looked at 51200/ 60000 samples.\n",
            "\n",
            "Train Loss: 0.4550 | Test Loss: 0.4766, Test acc: 83.43\n",
            "Time taken: 35.7633 seconds\n"
          ]
        }
      ]
    },
    {
      "cell_type": "markdown",
      "source": [
        "#### Make prediction and get model0 results"
      ],
      "metadata": {
        "id": "vR70eBxK1r2t"
      }
    },
    {
      "cell_type": "code",
      "source": [
        "torch.manual_seed(42)\n",
        "\n",
        "loss_eval, acc_eval = 0.0,0.0\n",
        "model0.eval()\n",
        "with torch.inference_mode():\n",
        "  for X, y in tqdm(test_dataloader):\n",
        "    y_pred = model0(X.to(device))\n",
        "    loss = Loss(y_pred, y.to(device))\n",
        "    loss_eval += loss.item()\n",
        "\n",
        "    acc_eval += accuracy_score(y_true = y.cpu().numpy(),\n",
        "                               y_pred = y_pred.argmax(dim =1).cpu().numpy())*100\n",
        "\n",
        "loss_eval /= len(test_dataloader)\n",
        "acc_eval /= len(test_dataloader)\n",
        "\n",
        "print(f'Loss: {loss_eval:.4f} | Accuracy: {acc_eval:.2f}')\n",
        "\n",
        "\n",
        "\n"
      ],
      "metadata": {
        "colab": {
          "base_uri": "https://localhost:8080/",
          "height": 67,
          "referenced_widgets": [
            "8af0214ab72a48fd96f14ac20833c30a",
            "ce869b44276a454bab28efe309763440",
            "da4351dd73894438b0d5991856d7dddc",
            "4b8b6d4d8c6445c19ab3d620a8fd0f9d",
            "9d62c10b2a4f4a7b9150e75541c89a9e",
            "cc00ff7371c342d2b3899e391de7041a",
            "1a57edba7222431d9da41d9e89de01d0",
            "1870eb71698d4aec877d12394f107c86",
            "a0d3666a34b44907a86f25019344d6e9",
            "fbcf6514e4b041558b6560e14e9c6ccc",
            "617e7a2598a84a17a59ed9aaa753c265"
          ]
        },
        "id": "uXmq4P6X1xNN",
        "outputId": "0cf4ff0e-889c-4475-e55e-d96c0b538c0d"
      },
      "execution_count": 130,
      "outputs": [
        {
          "output_type": "display_data",
          "data": {
            "text/plain": [
              "  0%|          | 0/313 [00:00<?, ?it/s]"
            ],
            "application/vnd.jupyter.widget-view+json": {
              "version_major": 2,
              "version_minor": 0,
              "model_id": "8af0214ab72a48fd96f14ac20833c30a"
            }
          },
          "metadata": {}
        },
        {
          "output_type": "stream",
          "name": "stdout",
          "text": [
            "Loss: 0.4766 | Accuracy: 83.43\n"
          ]
        }
      ]
    },
    {
      "cell_type": "markdown",
      "source": [
        "## Model 1: Building a better model with non-Linearity"
      ],
      "metadata": {
        "id": "xYHkzIFa_3Qw"
      }
    },
    {
      "cell_type": "markdown",
      "source": [
        "### importing Librares"
      ],
      "metadata": {
        "id": "tH0xbS_DZHBC"
      }
    },
    {
      "cell_type": "code",
      "source": [
        "#Importing the Libraries\n",
        "import torch\n",
        "from torch import nn\n",
        "import matplotlib.pyplot as plt\n",
        "\n",
        "import torchvision\n",
        "from torchvision import datasets, transforms\n",
        "from torch.utils.data import DataLoader\n",
        "\n",
        "from sklearn.metrics import accuracy_score\n",
        "import time"
      ],
      "metadata": {
        "id": "vi8pJR-bXChv"
      },
      "execution_count": 131,
      "outputs": []
    },
    {
      "cell_type": "markdown",
      "source": [
        "### Data Set Loading"
      ],
      "metadata": {
        "id": "FQIf2o4sZM6z"
      }
    },
    {
      "cell_type": "code",
      "source": [
        "device = torch.device('cuda' if torch.cuda.is_available() else 'cpu')\n",
        "device"
      ],
      "metadata": {
        "colab": {
          "base_uri": "https://localhost:8080/"
        },
        "id": "ZnHQC5egeW1U",
        "outputId": "c0a5b0b6-d6b5-4896-b678-073a46a4a9ed"
      },
      "execution_count": 132,
      "outputs": [
        {
          "output_type": "execute_result",
          "data": {
            "text/plain": [
              "device(type='cpu')"
            ]
          },
          "metadata": {},
          "execution_count": 132
        }
      ]
    },
    {
      "cell_type": "code",
      "source": [
        "train_data = datasets.FashionMNIST(\n",
        "    root = 'data', # Where to download data to(Folder created in the colab)\n",
        "    train = True, # do we want the training data set\n",
        "    download = True, # do we want to download yes/no\n",
        "    transform = torchvision.transforms.ToTensor(), # how do we want to transform the data\n",
        "    target_transform = None # how do we want to trandform the labels / targets\n",
        ")\n",
        "\n",
        "test_data = datasets.FashionMNIST(\n",
        "    root = 'data', # Where to download data to(Foilder Created in the colab)\n",
        "    train = False, # do we want the training data set\n",
        "    download = True, # do we want to download yes/no\n",
        "    transform = torchvision.transforms.ToTensor(), # how do we want to transform the data\n",
        "    target_transform = None # how do we want to trandform the labels / targets\n",
        ")"
      ],
      "metadata": {
        "id": "2Zrn7KvTXwfw"
      },
      "execution_count": 133,
      "outputs": []
    },
    {
      "cell_type": "markdown",
      "source": [
        "### DataLoader Creationg for batch"
      ],
      "metadata": {
        "id": "U0BU5fBfZOWf"
      }
    },
    {
      "cell_type": "code",
      "source": [
        "\n",
        "Batch_size = 32\n",
        "train_loader = DataLoader(dataset= train_data,\n",
        "                          shuffle = True,\n",
        "                          batch_size = Batch_size\n",
        "                          )\n",
        "\n",
        "test_loader = DataLoader(dataset = test_data,\n",
        "                         shuffle = False,\n",
        "                         batch_size = Batch_size)"
      ],
      "metadata": {
        "id": "LbRNjLaaYfDw"
      },
      "execution_count": 134,
      "outputs": []
    },
    {
      "cell_type": "markdown",
      "source": [
        "### Model V1"
      ],
      "metadata": {
        "id": "M2rEywjxZRqB"
      }
    },
    {
      "cell_type": "code",
      "source": [
        "class modelv1(nn.Module):\n",
        "  def __init__(self,\n",
        "               input_shape,\n",
        "               hidden_units,\n",
        "               output_shape):\n",
        "    super().__init__()\n",
        "    self.layer_stack = nn.Sequential(\n",
        "        nn.Flatten(),\n",
        "        nn.Linear(in_features = input_shape, out_features = hidden_units),\n",
        "        nn.ReLU(),\n",
        "        nn.Linear(in_features = hidden_units, out_features = hidden_units),\n",
        "        nn.ReLU(),\n",
        "        nn.Linear(in_features = hidden_units, out_features = output_shape)\n",
        "    )\n",
        "\n",
        "  def forward(self, x):\n",
        "    return self.layer_stack(x)"
      ],
      "metadata": {
        "id": "GNj04L67_9fv"
      },
      "execution_count": 135,
      "outputs": []
    },
    {
      "cell_type": "code",
      "source": [
        "output_shape = len(train_data.classes)\n",
        "output_shape"
      ],
      "metadata": {
        "colab": {
          "base_uri": "https://localhost:8080/"
        },
        "id": "0Aq7qS-oaHSH",
        "outputId": "16ef8c97-0d0d-41c5-b09c-2ebb3571c72b"
      },
      "execution_count": 136,
      "outputs": [
        {
          "output_type": "execute_result",
          "data": {
            "text/plain": [
              "10"
            ]
          },
          "metadata": {},
          "execution_count": 136
        }
      ]
    },
    {
      "cell_type": "code",
      "source": [
        "## instances of the model\n",
        "input_shape = 28*28\n",
        "hidden_units = 10\n",
        "output_shape = len(train_data.classes)\n",
        "\n",
        "model1 = modelv1(input_shape,\n",
        "                 hidden_units,\n",
        "                 output_shape).to(device)\n",
        "model1"
      ],
      "metadata": {
        "colab": {
          "base_uri": "https://localhost:8080/"
        },
        "id": "zQwFs5dTZtSj",
        "outputId": "fdf6a220-b3cc-4ac4-9b93-943657d26057"
      },
      "execution_count": 137,
      "outputs": [
        {
          "output_type": "execute_result",
          "data": {
            "text/plain": [
              "modelv1(\n",
              "  (layer_stack): Sequential(\n",
              "    (0): Flatten(start_dim=1, end_dim=-1)\n",
              "    (1): Linear(in_features=784, out_features=10, bias=True)\n",
              "    (2): ReLU()\n",
              "    (3): Linear(in_features=10, out_features=10, bias=True)\n",
              "    (4): ReLU()\n",
              "    (5): Linear(in_features=10, out_features=10, bias=True)\n",
              "  )\n",
              ")"
            ]
          },
          "metadata": {},
          "execution_count": 137
        }
      ]
    },
    {
      "cell_type": "code",
      "source": [
        "## Loss and Optmizer\n",
        "Loss = nn.CrossEntropyLoss()\n",
        "optimizer = torch.optim.SGD(params= model1.parameters(), lr = 0.1)"
      ],
      "metadata": {
        "id": "UkfCy1rpXBKR"
      },
      "execution_count": 138,
      "outputs": []
    },
    {
      "cell_type": "markdown",
      "source": [
        "### Training and Testing loop"
      ],
      "metadata": {
        "id": "jJ5k-8_3acmM"
      }
    },
    {
      "cell_type": "code",
      "source": [
        "epochs = 3\n",
        "\n",
        "torch.manual_seed(42)\n",
        "# START the TIMER\n",
        "from tqdm.auto import tqdm\n",
        "\n",
        "start_time = time.time()\n",
        "\n",
        "for epoch in tqdm(range(epochs)):\n",
        "  for batch, (X_train,Y_train) in enumerate(train_loader):\n",
        "    model1.train()\n",
        "    # Forward Pass\n",
        "    y_logits = model1(X_train.to(device))\n",
        "    y_prob = torch.softmax(y_logits, dim =1)\n",
        "    y_pred = torch.argmax(y_prob, dim = 1)\n",
        "\n",
        "    # Loss\n",
        "    loss = Loss(y_logits, Y_train.to(device))\n",
        "    # accuracy\n",
        "    acc = accuracy_score(y_true = Y_train.cpu().numpy(),\n",
        "                         y_pred = y_pred.cpu().numpy() )\n",
        "    # optimizer zero grad\n",
        "    optimizer.zero_grad()\n",
        "    # loss backward\n",
        "    loss.backward()\n",
        "    #optmizer step\n",
        "    optimizer.step()\n",
        "\n",
        "  # model evaluate\n",
        "\n",
        "  for _, (X_test, y_test) in enumerate(test_loader):\n",
        "    model1.eval()\n",
        "    with torch.inference_mode():\n",
        "      test_logits = model1(X_test.to(device))\n",
        "      test_prob = torch.softmax(test_logits, dim = 1)\n",
        "      test_pred = torch.argmax(test_prob, dim = 1)\n",
        "\n",
        "      test_loss = Loss(test_logits, y_test.to(device))\n",
        "      test_acc = accuracy_score(y_true = y_test.cpu().numpy(),\n",
        "                                y_pred = test_pred.cpu().numpy())\n",
        "\n",
        "  print(f'Epochs: {epoch}\\n----')\n",
        "  print(f'Train Loss: {loss:.4f} | Train Acc: {acc:.2f}')\n",
        "  print(f'Test Loss: {test_loss:.4f} | Test Acc: {test_acc:.2f}')\n",
        "\n",
        "\n",
        "\n",
        "\n",
        "end_time = time.time()  # Record the end time\n",
        "elapsed_time = end_time - start_time\n",
        "\n",
        "\n",
        "print(f\"Time taken: {elapsed_time:.4f} seconds\")\n",
        "\n"
      ],
      "metadata": {
        "colab": {
          "base_uri": "https://localhost:8080/",
          "height": 285,
          "referenced_widgets": [
            "10480bd3baa54b2bbee095d859d8648d",
            "15b4599335e0470cabf37ab64432a8b3",
            "568093435d304aea8e4db451fa80c624",
            "f00195fdc48c48d28b1f83239bee5055",
            "fefc12d902594179b7b85adcf5a910e7",
            "1ff7e75effb546f9b39d354b9b229c29",
            "4e4700d14d254331a14e5ada1b24594f",
            "ebdd26cd55fe44cea17b63f2785690ec",
            "07669a7614e14678be39c64f613fe5ef",
            "36c42f185d2c45469a217661a0733a62",
            "8f713c1937d94766832ed62d926cc29f"
          ]
        },
        "id": "1Ha2VTxzafki",
        "outputId": "54a3b013-93a1-472d-905e-8cf55cdf4391"
      },
      "execution_count": 139,
      "outputs": [
        {
          "output_type": "display_data",
          "data": {
            "text/plain": [
              "  0%|          | 0/3 [00:00<?, ?it/s]"
            ],
            "application/vnd.jupyter.widget-view+json": {
              "version_major": 2,
              "version_minor": 0,
              "model_id": "10480bd3baa54b2bbee095d859d8648d"
            }
          },
          "metadata": {}
        },
        {
          "output_type": "stream",
          "name": "stdout",
          "text": [
            "Epochs: 0\n",
            "----\n",
            "Train Loss: 0.4692 | Train Acc: 0.81\n",
            "Test Loss: 0.3835 | Test Acc: 0.81\n",
            "Epochs: 1\n",
            "----\n",
            "Train Loss: 0.5277 | Train Acc: 0.78\n",
            "Test Loss: 0.2113 | Test Acc: 0.94\n",
            "Epochs: 2\n",
            "----\n",
            "Train Loss: 0.4089 | Train Acc: 0.91\n",
            "Test Loss: 0.1975 | Test Acc: 0.94\n",
            "Time taken: 43.2524 seconds\n"
          ]
        }
      ]
    },
    {
      "cell_type": "markdown",
      "source": [
        "#### Functionizing training loop and testing Loop\n",
        "Let's create a function for\n",
        "* Trining Loop: `train_step()`\n",
        "* Testing Loop : `test_step()`"
      ],
      "metadata": {
        "id": "VHEkCWGalCLv"
      }
    },
    {
      "cell_type": "markdown",
      "source": [
        "## ModelV2 = CNN"
      ],
      "metadata": {
        "id": "64Z8y27iuKJR"
      }
    },
    {
      "cell_type": "markdown",
      "source": [
        "### Importing Libraries"
      ],
      "metadata": {
        "id": "SRsuxv911MqN"
      }
    },
    {
      "cell_type": "code",
      "source": [
        "import torch\n",
        "from torch import nn\n",
        "\n",
        "import torchvision\n",
        "from torchvision import datasets, transforms\n",
        "from torch.utils.data import DataLoader\n",
        "\n",
        "import matplotlib.pyplot as plt\n",
        "\n",
        "import time\n",
        "\n",
        "from sklearn.metrics import accuracy_score"
      ],
      "metadata": {
        "id": "cek-FCva1MDs"
      },
      "execution_count": 1,
      "outputs": []
    },
    {
      "cell_type": "markdown",
      "source": [
        "### DataSet Loading\n"
      ],
      "metadata": {
        "id": "rJOT2ovY1lom"
      }
    },
    {
      "cell_type": "code",
      "source": [
        "train_data = datasets.FashionMNIST(\n",
        "    root = 'data',\n",
        "    train = True,\n",
        "    download = True,\n",
        "    transform = torchvision.transforms.ToTensor(),\n",
        "    target_transform = None\n",
        ")\n",
        "\n",
        "test_data = datasets.FashionMNIST(\n",
        "    root = 'data',\n",
        "    train = False,\n",
        "    download = True,\n",
        "    transform = torchvision.transforms.ToTensor(),\n",
        "    target_transform = None\n",
        ")"
      ],
      "metadata": {
        "colab": {
          "base_uri": "https://localhost:8080/"
        },
        "id": "6U2lZqFj1ofo",
        "outputId": "ab631c51-77b5-4e1a-ba99-f4b5cca17279"
      },
      "execution_count": 2,
      "outputs": [
        {
          "output_type": "stream",
          "name": "stdout",
          "text": [
            "Downloading http://fashion-mnist.s3-website.eu-central-1.amazonaws.com/train-images-idx3-ubyte.gz\n",
            "Downloading http://fashion-mnist.s3-website.eu-central-1.amazonaws.com/train-images-idx3-ubyte.gz to data/FashionMNIST/raw/train-images-idx3-ubyte.gz\n"
          ]
        },
        {
          "output_type": "stream",
          "name": "stderr",
          "text": [
            "100%|██████████| 26.4M/26.4M [00:01<00:00, 16.2MB/s]\n"
          ]
        },
        {
          "output_type": "stream",
          "name": "stdout",
          "text": [
            "Extracting data/FashionMNIST/raw/train-images-idx3-ubyte.gz to data/FashionMNIST/raw\n",
            "\n",
            "Downloading http://fashion-mnist.s3-website.eu-central-1.amazonaws.com/train-labels-idx1-ubyte.gz\n",
            "Downloading http://fashion-mnist.s3-website.eu-central-1.amazonaws.com/train-labels-idx1-ubyte.gz to data/FashionMNIST/raw/train-labels-idx1-ubyte.gz\n"
          ]
        },
        {
          "output_type": "stream",
          "name": "stderr",
          "text": [
            "100%|██████████| 29.5k/29.5k [00:00<00:00, 303kB/s]\n"
          ]
        },
        {
          "output_type": "stream",
          "name": "stdout",
          "text": [
            "Extracting data/FashionMNIST/raw/train-labels-idx1-ubyte.gz to data/FashionMNIST/raw\n",
            "\n",
            "Downloading http://fashion-mnist.s3-website.eu-central-1.amazonaws.com/t10k-images-idx3-ubyte.gz\n",
            "Downloading http://fashion-mnist.s3-website.eu-central-1.amazonaws.com/t10k-images-idx3-ubyte.gz to data/FashionMNIST/raw/t10k-images-idx3-ubyte.gz\n"
          ]
        },
        {
          "output_type": "stream",
          "name": "stderr",
          "text": [
            "100%|██████████| 4.42M/4.42M [00:00<00:00, 5.49MB/s]\n"
          ]
        },
        {
          "output_type": "stream",
          "name": "stdout",
          "text": [
            "Extracting data/FashionMNIST/raw/t10k-images-idx3-ubyte.gz to data/FashionMNIST/raw\n",
            "\n",
            "Downloading http://fashion-mnist.s3-website.eu-central-1.amazonaws.com/t10k-labels-idx1-ubyte.gz\n",
            "Downloading http://fashion-mnist.s3-website.eu-central-1.amazonaws.com/t10k-labels-idx1-ubyte.gz to data/FashionMNIST/raw/t10k-labels-idx1-ubyte.gz\n"
          ]
        },
        {
          "output_type": "stream",
          "name": "stderr",
          "text": [
            "100%|██████████| 5.15k/5.15k [00:00<00:00, 23.5MB/s]"
          ]
        },
        {
          "output_type": "stream",
          "name": "stdout",
          "text": [
            "Extracting data/FashionMNIST/raw/t10k-labels-idx1-ubyte.gz to data/FashionMNIST/raw\n",
            "\n"
          ]
        },
        {
          "output_type": "stream",
          "name": "stderr",
          "text": [
            "\n"
          ]
        }
      ]
    },
    {
      "cell_type": "code",
      "source": [
        "## Device Agnostic Code\n",
        "\n",
        "device = 'cuda' if torch.cuda.is_available() else 'cpu'\n",
        "device"
      ],
      "metadata": {
        "colab": {
          "base_uri": "https://localhost:8080/",
          "height": 36
        },
        "id": "Py6w-6RV15FR",
        "outputId": "f1a0e0e9-b294-424c-c85d-771c76a8085e"
      },
      "execution_count": 3,
      "outputs": [
        {
          "output_type": "execute_result",
          "data": {
            "text/plain": [
              "'cuda'"
            ],
            "application/vnd.google.colaboratory.intrinsic+json": {
              "type": "string"
            }
          },
          "metadata": {},
          "execution_count": 3
        }
      ]
    },
    {
      "cell_type": "markdown",
      "source": [
        "### Preparing DataLoader"
      ],
      "metadata": {
        "id": "6JCiIB-B2H6m"
      }
    },
    {
      "cell_type": "code",
      "source": [
        "Batch_size = 32\n",
        "\n",
        "train_loader = DataLoader(dataset = train_data,\n",
        "                          shuffle = True,\n",
        "                          batch_size = Batch_size)\n",
        "\n",
        "test_loader = DataLoader(dataset = test_data,\n",
        "                         shuffle = False,\n",
        "                         batch_size = Batch_size)"
      ],
      "metadata": {
        "id": "Vu7Is3Ah2Elc"
      },
      "execution_count": 4,
      "outputs": []
    },
    {
      "cell_type": "code",
      "source": [
        "classes = train_data.classes\n",
        "len(classes)"
      ],
      "metadata": {
        "colab": {
          "base_uri": "https://localhost:8080/"
        },
        "id": "wlaV4hQiSj7f",
        "outputId": "676763ab-a3e4-43e2-c395-5850638193a2"
      },
      "execution_count": 5,
      "outputs": [
        {
          "output_type": "execute_result",
          "data": {
            "text/plain": [
              "10"
            ]
          },
          "metadata": {},
          "execution_count": 5
        }
      ]
    },
    {
      "cell_type": "markdown",
      "source": [
        "### CNN Model\n",
        "* Its a 2 Block Model: `Conv1 -> ReLU() -> MaPool` --->> `Conv2 -> ReLU() -> MaPool`\n",
        "* `input_size= 1`: It defines the number of input channels in the firstt convolution Layer(`nn.Conv2d`).\n",
        "The Valuse `1` is typically used for the gray scale image that is only one channel.\n",
        "* `input_size = 3` if the channel is RGB then the input channel will be 3(one for each channel: Red, Green and Blue)"
      ],
      "metadata": {
        "id": "Fgh4CxA22Wm2"
      }
    },
    {
      "cell_type": "code",
      "source": [
        "class ModelV2(nn.Module):\n",
        "  def __init__(self, input_shape, hidden_units, output_shape):\n",
        "    super().__init__()\n",
        "    # Define the 1st Convolution layer Block\n",
        "    self.Conv_Block_1 = nn.Sequential(\n",
        "        nn.Conv2d(in_channels = input_shape,\n",
        "                  out_channels = hidden_units,\n",
        "                  kernel_size = 3,\n",
        "                  stride = 1,\n",
        "                  padding = 1),\n",
        "        nn.ReLU(),\n",
        "        nn.Conv2d(in_channels = hidden_units,\n",
        "                  out_channels= hidden_units,\n",
        "                  kernel_size = 3,\n",
        "                  stride = 1,\n",
        "                  padding = 1),\n",
        "        nn.ReLU(),\n",
        "        nn.MaxPool2d(kernel_size = 2)\n",
        "    )\n",
        "    # Defibe the 2nd Convolution layer Block\n",
        "    self.Conv_Block_2 = nn.Sequential(\n",
        "        nn.Conv2d(in_channels = hidden_units, # matchup with the previous layer out channels\n",
        "                  out_channels = hidden_units,\n",
        "                  kernel_size = 3,\n",
        "                  stride = 1,\n",
        "                  padding = 1),\n",
        "        nn.ReLU(),\n",
        "        nn.Conv2d(in_channels = hidden_units,\n",
        "                  out_channels = hidden_units,\n",
        "                  kernel_size = 3,\n",
        "                  stride = 1,\n",
        "                  padding = 1),\n",
        "        nn.ReLU(),\n",
        "        nn.MaxPool2d(kernel_size = 2)\n",
        "\n",
        "    )\n",
        "    # Define the classifier layer\n",
        "    self.Classifier = nn.Sequential(\n",
        "        nn.Flatten(),\n",
        "        #The in_features argument in the nn.Linear layer should be\n",
        "        #calculated based on the output shape of the last convolutional block after flattening.\n",
        "        #Currently, it is set to hidden_units, which is incorrect.\n",
        "        #You need to calculate the number of features after the last MaxPool2d layer.\n",
        "        nn.Linear(in_features = hidden_units*7*7, ## Need to be calculated\n",
        "                 out_features = output_shape)\n",
        "    )\n",
        "\n",
        "  def forward(self, x):\n",
        "    x = self.Conv_Block_1(x)\n",
        "    #print(\"After Conv_Block_1\",x.shape)\n",
        "    x = self.Conv_Block_2(x)\n",
        "    #print(\"After_Conv_Block 2\",x.shape)\n",
        "    x = self.Classifier( x)\n",
        "    return x\n",
        "############################## IMPORTANT ###################################\n",
        "# Use above print statemet for the calculation of the Classifier Layer\n",
        "# For this use a dummy image and pass it of the same size then\n",
        "#we wil get to know easily\n"
      ],
      "metadata": {
        "id": "RaTwXSAplB7y"
      },
      "execution_count": 6,
      "outputs": []
    },
    {
      "cell_type": "markdown",
      "source": [
        "## creating the instance for the Model"
      ],
      "metadata": {
        "id": "xLhRTLCi_AUy"
      }
    },
    {
      "cell_type": "code",
      "source": [
        "INPUT_SHAPE = 1\n",
        "HIDDEN_UNITS =10\n",
        "OUTPUT_SHAPE = len(classes)\n",
        "\n",
        "torch.manual_seed(42)\n",
        "torch.cuda.manual_seed(42)\n",
        "\n",
        "model2 = ModelV2(input_shape =INPUT_SHAPE,\n",
        "                 hidden_units = HIDDEN_UNITS,\n",
        "                 output_shape = OUTPUT_SHAPE).to(device)\n",
        "model2"
      ],
      "metadata": {
        "colab": {
          "base_uri": "https://localhost:8080/"
        },
        "id": "bAbx5QOd_ETU",
        "outputId": "f4bfb0c7-9fc2-4c48-f523-a4bf30b16414"
      },
      "execution_count": 7,
      "outputs": [
        {
          "output_type": "execute_result",
          "data": {
            "text/plain": [
              "ModelV2(\n",
              "  (Conv_Block_1): Sequential(\n",
              "    (0): Conv2d(1, 10, kernel_size=(3, 3), stride=(1, 1), padding=(1, 1))\n",
              "    (1): ReLU()\n",
              "    (2): Conv2d(10, 10, kernel_size=(3, 3), stride=(1, 1), padding=(1, 1))\n",
              "    (3): ReLU()\n",
              "    (4): MaxPool2d(kernel_size=2, stride=2, padding=0, dilation=1, ceil_mode=False)\n",
              "  )\n",
              "  (Conv_Block_2): Sequential(\n",
              "    (0): Conv2d(10, 10, kernel_size=(3, 3), stride=(1, 1), padding=(1, 1))\n",
              "    (1): ReLU()\n",
              "    (2): Conv2d(10, 10, kernel_size=(3, 3), stride=(1, 1), padding=(1, 1))\n",
              "    (3): ReLU()\n",
              "    (4): MaxPool2d(kernel_size=2, stride=2, padding=0, dilation=1, ceil_mode=False)\n",
              "  )\n",
              "  (Classifier): Sequential(\n",
              "    (0): Flatten(start_dim=1, end_dim=-1)\n",
              "    (1): Linear(in_features=490, out_features=10, bias=True)\n",
              "  )\n",
              ")"
            ]
          },
          "metadata": {},
          "execution_count": 7
        }
      ]
    },
    {
      "cell_type": "markdown",
      "source": [
        "### Stepping through `nn.Conv2d`"
      ],
      "metadata": {
        "id": "WaKf_HXfZDau"
      }
    },
    {
      "cell_type": "code",
      "source": [
        "## Lets create a dummy data\n",
        "torch.manual_seed(42)\n",
        "torch.cuda.manual_seed(42)\n",
        "# Create a batch of images\n",
        "image = torch.randn(32,1,64,64).to(device)\n",
        "test_image = image[0]\n",
        "print(image)"
      ],
      "metadata": {
        "colab": {
          "base_uri": "https://localhost:8080/"
        },
        "id": "PqSenCVsZHin",
        "outputId": "83aa66d4-778e-4f84-9b51-59a8fb09ce20"
      },
      "execution_count": 13,
      "outputs": [
        {
          "output_type": "stream",
          "name": "stdout",
          "text": [
            "tensor([[[[ 1.9269e+00,  1.4873e+00,  9.0072e-01,  ...,  1.8446e+00,\n",
            "           -1.1845e+00,  1.3835e+00],\n",
            "          [ 1.4451e+00,  8.5641e-01,  2.2181e+00,  ...,  3.3989e-01,\n",
            "            7.1997e-01,  4.1141e-01],\n",
            "          [ 1.9312e+00,  1.0119e+00, -1.4364e+00,  ..., -5.5580e-01,\n",
            "            7.0427e-01,  7.0988e-01],\n",
            "          ...,\n",
            "          [-5.6103e-01, -4.8296e-01,  4.7696e-01,  ..., -2.7131e-01,\n",
            "           -9.5366e-01, -6.7366e-01],\n",
            "          [ 3.0757e-01, -1.2766e-01,  3.6591e-02,  ..., -2.0060e+00,\n",
            "            2.8237e-01, -8.1112e-01],\n",
            "          [-1.5486e+00,  4.8512e-02, -7.7123e-01,  ..., -1.4031e-01,\n",
            "            9.4162e-01, -1.1843e-02]]],\n",
            "\n",
            "\n",
            "        [[[-5.1969e-01,  1.8524e+00,  1.8365e+00,  ...,  8.9349e-01,\n",
            "           -1.5114e+00, -8.5147e-01],\n",
            "          [ 2.0818e+00,  1.0677e+00, -1.4277e+00,  ...,  1.6612e+00,\n",
            "           -2.6223e+00, -4.3193e-01],\n",
            "          [-1.0099e-01, -4.3878e-01, -1.9775e+00,  ...,  2.1060e-01,\n",
            "            2.5360e-01, -7.3184e-01],\n",
            "          ...,\n",
            "          [ 2.7785e-01,  7.3420e-01, -3.7356e-01,  ..., -4.6010e-01,\n",
            "            1.8153e-01,  1.8500e-01],\n",
            "          [ 7.2050e-01, -2.8325e-01,  9.3731e-02,  ..., -1.0022e-01,\n",
            "           -2.3609e+00,  2.2465e+00],\n",
            "          [-1.3242e+00, -1.9728e-01,  2.9199e-01,  ...,  5.4093e-01,\n",
            "            6.9398e-01,  1.8563e+00]]],\n",
            "\n",
            "\n",
            "        [[[-7.9778e-01,  1.0261e+00,  1.1465e+00,  ...,  1.2134e+00,\n",
            "            9.3540e-01, -7.8021e-02],\n",
            "          [-1.4647e+00, -1.9571e+00,  1.0173e-01,  ..., -1.9986e+00,\n",
            "           -7.4091e-01,  7.0106e-01],\n",
            "          [-1.3938e+00,  8.4655e-01, -1.7191e+00,  ..., -1.1867e+00,\n",
            "            1.3202e-01,  3.4074e-01],\n",
            "          ...,\n",
            "          [ 8.2062e-01, -3.7446e-01,  1.2499e+00,  ..., -6.7598e-02,\n",
            "            3.8538e-02,  6.3353e-01],\n",
            "          [-5.5894e-01, -3.3928e-01,  2.3470e-01,  ...,  2.1181e+00,\n",
            "            2.4569e+00,  1.3083e+00],\n",
            "          [-4.0923e-01,  1.5199e+00,  2.4013e-01,  ..., -2.5580e-01,\n",
            "            7.8699e-01,  9.9244e-01]]],\n",
            "\n",
            "\n",
            "        ...,\n",
            "\n",
            "\n",
            "        [[[-4.0809e-01, -1.5432e+00,  3.3497e-02,  ..., -1.3274e+00,\n",
            "           -3.3929e-01,  4.2331e-01],\n",
            "          [-8.0787e-01, -7.1299e-01,  5.7128e-01,  ...,  3.8368e-01,\n",
            "           -8.5506e-01, -5.2411e-01],\n",
            "          [ 8.7648e-01, -1.3979e+00,  3.1500e-01,  ...,  1.2887e+00,\n",
            "            1.4207e+00,  5.2950e-01],\n",
            "          ...,\n",
            "          [ 1.7657e-01,  7.7345e-02, -7.1869e-02,  ..., -1.9038e+00,\n",
            "           -9.1220e-02, -1.0321e+00],\n",
            "          [ 6.8996e-01,  1.0529e+00, -5.6667e-02,  ...,  1.7048e+00,\n",
            "           -1.1823e+00, -7.9152e-04],\n",
            "          [-4.7500e-01, -4.5907e-01,  1.1722e+00,  ...,  3.9117e-02,\n",
            "           -1.0929e-01, -6.1089e-01]]],\n",
            "\n",
            "\n",
            "        [[[-1.4955e+00,  1.3035e+00,  1.3099e+00,  ...,  3.2157e-01,\n",
            "           -5.4228e-01,  2.5331e+00],\n",
            "          [ 6.6644e-01,  2.3270e-01,  1.0575e+00,  ...,  1.8612e+00,\n",
            "            1.3332e+00, -1.2523e+00],\n",
            "          [ 5.1452e-01, -1.9825e+00, -8.5394e-02,  ..., -1.7027e+00,\n",
            "           -5.2062e-01, -8.8964e-01],\n",
            "          ...,\n",
            "          [ 1.0744e-01, -2.8893e-01,  1.5928e-01,  ..., -3.8747e-01,\n",
            "           -3.4064e-01, -1.7713e+00],\n",
            "          [-3.7067e-01, -5.7773e-01,  1.5868e+00,  ..., -2.6977e-01,\n",
            "            4.3275e-01,  4.2733e-01],\n",
            "          [ 2.6848e-01,  1.0542e-01, -6.9726e-01,  ...,  8.9559e-01,\n",
            "            1.1711e+00,  5.9482e-01]]],\n",
            "\n",
            "\n",
            "        [[[-8.3558e-01, -8.9248e-01,  5.3746e-01,  ...,  2.4994e-01,\n",
            "            1.8146e+00,  1.0809e+00],\n",
            "          [-7.6798e-02, -5.2101e-01, -1.6695e+00,  ..., -1.4566e-01,\n",
            "           -1.5373e+00, -1.6977e+00],\n",
            "          [-8.2028e-01,  1.5499e-01,  7.2537e-01,  ..., -2.2325e-01,\n",
            "           -4.4791e-01, -1.0132e+00],\n",
            "          ...,\n",
            "          [-7.9158e-01, -9.1413e-01,  5.9766e-01,  ..., -4.8726e-01,\n",
            "           -4.7877e-01,  1.7641e+00],\n",
            "          [ 8.9350e-01, -5.8494e-01,  3.0121e-01,  ...,  8.3375e-02,\n",
            "           -8.2476e-01, -1.3391e+00],\n",
            "          [ 2.8893e-01, -8.7236e-01,  9.7417e-01,  ...,  2.1701e-01,\n",
            "            6.1442e-01, -6.9391e-01]]]], device='cuda:0')\n"
          ]
        }
      ]
    },
    {
      "cell_type": "code",
      "source": [
        "test_image.shape"
      ],
      "metadata": {
        "colab": {
          "base_uri": "https://localhost:8080/"
        },
        "id": "Kvvdq2fSHtQn",
        "outputId": "6fb509a9-1a35-4e62-d757-0d77caed4331"
      },
      "execution_count": 14,
      "outputs": [
        {
          "output_type": "execute_result",
          "data": {
            "text/plain": [
              "torch.Size([1, 64, 64])"
            ]
          },
          "metadata": {},
          "execution_count": 14
        }
      ]
    },
    {
      "cell_type": "code",
      "source": [
        "conv_layer = nn.Conv2d(in_channels = 1,\n",
        "                       out_channels = 10,\n",
        "                       kernel_size  = 3,\n",
        "                       stride = 1,\n",
        "                       padding = 1\n",
        "                       ).to(device)\n",
        "conv_layer\n",
        "\n",
        "#Pass the data throug the convolution LAyer\n",
        "\n",
        "output_conv =conv_layer(test_image)\n",
        "output_conv"
      ],
      "metadata": {
        "colab": {
          "base_uri": "https://localhost:8080/"
        },
        "id": "nHI-thEZCJ5g",
        "outputId": "a6623e70-7e0f-4eaa-fd7d-4a3fee0d5c4c"
      },
      "execution_count": 16,
      "outputs": [
        {
          "output_type": "execute_result",
          "data": {
            "text/plain": [
              "tensor([[[-1.2092, -0.7907, -0.3311,  ..., -0.6100, -0.1572, -0.8263],\n",
              "         [-0.5083,  0.1028, -0.5890,  ..., -0.5368,  0.2230, -0.5964],\n",
              "         [-0.7048,  1.1704,  0.7979,  ...,  0.2404, -0.4757, -0.1548],\n",
              "         ...,\n",
              "         [-0.1170, -0.1749, -0.1123,  ...,  0.1325,  0.3027, -0.0834],\n",
              "         [-0.2327, -0.1245, -0.3285,  ...,  0.0615, -0.9862, -0.3990],\n",
              "         [ 0.0168, -0.3001, -0.0894,  ...,  0.2617, -1.2084, -0.1157]],\n",
              "\n",
              "        [[-0.5907, -0.1812, -0.0607,  ...,  0.4435, -0.0974,  0.3552],\n",
              "         [-0.9936,  0.3247,  0.6260,  ..., -0.2181,  0.6229, -0.4740],\n",
              "         [-0.7560,  1.2538, -0.3776,  ...,  0.3415,  0.0936,  0.3029],\n",
              "         ...,\n",
              "         [ 0.3855,  0.4551,  0.1153,  ...,  0.7888,  0.0165,  0.7870],\n",
              "         [ 0.8235, -0.0578,  0.1677,  ...,  1.2522,  0.3722,  0.5823],\n",
              "         [ 0.3266,  0.6379,  0.2837,  ...,  0.8460, -0.4204,  0.5070]],\n",
              "\n",
              "        [[-0.3670, -0.7108,  0.1471,  ...,  0.0941,  0.0100,  0.2588],\n",
              "         [-0.2422,  0.7130,  1.2393,  ...,  0.5582, -0.3924,  0.3912],\n",
              "         [ 0.3718,  0.0226,  0.9463,  ...,  0.0928,  0.2149,  0.3850],\n",
              "         ...,\n",
              "         [ 0.4013,  0.2110,  0.0397,  ...,  0.4408,  0.7672,  0.5029],\n",
              "         [ 0.3735,  0.2886,  0.1182,  ...,  0.3813,  0.3264,  0.1844],\n",
              "         [ 0.5139,  0.4635,  0.2066,  ..., -0.1931,  0.2706,  0.1564]],\n",
              "\n",
              "        ...,\n",
              "\n",
              "        [[ 0.6082,  0.7138,  0.2055,  ..., -0.0169,  0.2816,  0.0465],\n",
              "         [ 0.5570,  1.1460, -0.3614,  ..., -0.2906,  0.0522,  0.2253],\n",
              "         [ 0.7810,  0.0429, -0.8786,  ...,  0.0660,  0.0984, -0.0542],\n",
              "         ...,\n",
              "         [-0.3831, -0.1472, -0.1750,  ..., -0.4180, -1.0726, -0.6807],\n",
              "         [-0.6500, -0.3012, -0.3554,  ..., -0.1888, -0.5101,  0.0457],\n",
              "         [-0.5898, -0.6891, -0.1420,  ...,  0.3479, -0.0507, -0.1173]],\n",
              "\n",
              "        [[-0.8759, -1.0886, -1.2081,  ..., -0.7448, -0.6219, -0.6583],\n",
              "         [-1.4329, -1.9298, -0.6742,  ..., -0.8806, -0.2068, -1.0289],\n",
              "         [-1.4115, -0.8987, -0.7534,  ..., -0.7561, -0.8317, -0.7063],\n",
              "         ...,\n",
              "         [-0.2632, -0.2947, -0.4113,  ..., -0.1240,  0.2342, -0.0326],\n",
              "         [ 0.3248,  0.2597, -0.1285,  ..., -0.8467, -0.1424, -0.2926],\n",
              "         [-0.2143, -0.1442, -0.2526,  ..., -0.0274, -0.2892, -0.1355]],\n",
              "\n",
              "        [[ 0.8803,  1.5258,  0.5811,  ...,  0.5695,  0.7083,  0.1918],\n",
              "         [ 1.3588,  1.4932,  0.9225,  ...,  1.0487,  0.8592,  0.5970],\n",
              "         [ 0.9124,  1.7512,  0.6880,  ...,  0.9165,  0.6116,  0.7619],\n",
              "         ...,\n",
              "         [ 0.0243,  0.1593,  0.6299,  ...,  0.4578, -0.0917, -0.0381],\n",
              "         [ 0.1735,  0.0215,  0.4840,  ...,  0.4076, -0.6975, -0.1189],\n",
              "         [ 0.0087, -0.2033,  0.2501,  ...,  0.8342,  0.0104,  0.3599]]],\n",
              "       device='cuda:0', grad_fn=<SqueezeBackward1>)"
            ]
          },
          "metadata": {},
          "execution_count": 16
        }
      ]
    },
    {
      "cell_type": "code",
      "source": [
        "output_conv.shape"
      ],
      "metadata": {
        "colab": {
          "base_uri": "https://localhost:8080/"
        },
        "id": "mwfkcgC6Jfcr",
        "outputId": "5d4c97a8-ee7a-49b5-9c86-29a2e510085e"
      },
      "execution_count": 17,
      "outputs": [
        {
          "output_type": "execute_result",
          "data": {
            "text/plain": [
              "torch.Size([10, 64, 64])"
            ]
          },
          "metadata": {},
          "execution_count": 17
        }
      ]
    },
    {
      "cell_type": "markdown",
      "source": [
        "### stepping `nn.MaxPool2d`"
      ],
      "metadata": {
        "id": "pACB0Ry9l3aW"
      }
    },
    {
      "cell_type": "code",
      "source": [
        "max_pool = nn.MaxPool2d(kernel_size = 2)\n",
        "output_pool =max_pool(output_conv)\n",
        "output_pool.shape"
      ],
      "metadata": {
        "colab": {
          "base_uri": "https://localhost:8080/"
        },
        "id": "kbS_9JtjKk4X",
        "outputId": "15b55219-8c90-4a7c-a13b-b35b0c61f57f"
      },
      "execution_count": 18,
      "outputs": [
        {
          "output_type": "execute_result",
          "data": {
            "text/plain": [
              "torch.Size([10, 32, 32])"
            ]
          },
          "metadata": {},
          "execution_count": 18
        }
      ]
    },
    {
      "cell_type": "code",
      "source": [
        "## dummy pass\n",
        "image.shape"
      ],
      "metadata": {
        "colab": {
          "base_uri": "https://localhost:8080/"
        },
        "id": "rbqjSGZzpkPz",
        "outputId": "2327803d-39a9-4d59-f7d8-0bfdffd7c718"
      },
      "execution_count": 19,
      "outputs": [
        {
          "output_type": "execute_result",
          "data": {
            "text/plain": [
              "torch.Size([32, 1, 64, 64])"
            ]
          },
          "metadata": {},
          "execution_count": 19
        }
      ]
    },
    {
      "cell_type": "code",
      "source": [
        "10*16*16"
      ],
      "metadata": {
        "colab": {
          "base_uri": "https://localhost:8080/"
        },
        "id": "hPDP4ViDuCu7",
        "outputId": "bcdb80cb-06c8-4261-cf82-f519b8531329"
      },
      "execution_count": 21,
      "outputs": [
        {
          "output_type": "execute_result",
          "data": {
            "text/plain": [
              "2560"
            ]
          },
          "metadata": {},
          "execution_count": 21
        }
      ]
    },
    {
      "cell_type": "code",
      "source": [
        "# Pass the image from our model\n",
        "#model2(image).shape"
      ],
      "metadata": {
        "id": "cKyU2dRVp9md"
      },
      "execution_count": 22,
      "outputs": []
    },
    {
      "cell_type": "markdown",
      "source": [
        "## Training the CNN Model"
      ],
      "metadata": {
        "id": "mt6IT26guxsP"
      }
    },
    {
      "cell_type": "code",
      "source": [
        "Loss = nn.CrossEntropyLoss()\n",
        "optimizer = torch.optim.SGD(params = model2.parameters(), lr = 0.1)\n"
      ],
      "metadata": {
        "id": "IMQN1BpGuw2l"
      },
      "execution_count": 23,
      "outputs": []
    },
    {
      "cell_type": "code",
      "source": [
        "# Training Loop\n",
        "from tqdm.auto import tqdm\n",
        "\n",
        "start_time = time.time()\n",
        "\n",
        "\n",
        "epochs = 3\n",
        "\n",
        "for epoch in tqdm(range(epochs)):\n",
        "  model2.train()\n",
        "  train_loss, train_acc = 0.0,0.0\n",
        "  for batch, (X,Y) in enumerate(train_loader):\n",
        "    X = X.to(device)\n",
        "    Y = Y.to(device)\n",
        "\n",
        "\n",
        "    # Forward Pass\n",
        "\n",
        "    y_logits = model2(X)\n",
        "    y_prob = torch.softmax(y_logits, dim =1)\n",
        "    y_pred = torch.argmax(y_prob, dim =1)\n",
        "\n",
        "    # Loss and accuracy\n",
        "    loss = Loss(y_logits, Y)\n",
        "    acc = accuracy_score(y_true = Y.cpu().numpy(),\n",
        "                         y_pred = y_pred.cpu().numpy())*100\n",
        "\n",
        "    # optimizer zero grad\n",
        "    optimizer.zero_grad()\n",
        "\n",
        "    # loss backward\n",
        "    loss.backward()\n",
        "\n",
        "    # optimizer step\n",
        "    optimizer.step()\n",
        "\n",
        "    train_loss += loss.item()\n",
        "    train_acc += acc\n",
        "\n",
        "  train_loss /= len(train_loader)\n",
        "  train_acc /= len(train_loader)\n",
        "\n",
        "  # Testing Loop\n",
        "  model2.eval()\n",
        "  test_loss, test_acc = 0.0,0.0\n",
        "  with torch.inference_mode():\n",
        "    for _, (X_test, Y_test) in enumerate(test_loader):\n",
        "      X_test, Y_test = X_test.to(device), Y_test.to(device)\n",
        "\n",
        "      # Forward PAss\n",
        "      test_logits = model2(X_test)\n",
        "      test_prob = torch.softmax(test_logits, dim = 1)\n",
        "      test_pred = torch.argmax(test_prob, dim = 1)\n",
        "\n",
        "      # Loss and acc\n",
        "      test_loss += Loss(test_logits, Y_test).item()\n",
        "      test_acc += accuracy_score(y_true = Y_test.cpu().numpy(),\n",
        "                                y_pred = test_pred.cpu().numpy())*100\n",
        "\n",
        "    test_loss /= len(test_loader)\n",
        "    test_acc /= len(test_loader)\n",
        "\n",
        "  print(f'Epochs: {epoch}\\n----')\n",
        "  print(f'Train Loss: {loss:.4f} | Train Acc: {acc:.2f}%')\n",
        "  print(f'Test Loss: {test_loss:.4f} | Test Acc: {test_acc:.2f}%')\n",
        "\n",
        "\n",
        "\n",
        "\n",
        "end_time = time.time()  # Record the end time\n",
        "elapsed_time = end_time - start_time\n",
        "\n",
        "\n",
        "print(f\"Time taken: {elapsed_time:.4f} seconds\")"
      ],
      "metadata": {
        "colab": {
          "base_uri": "https://localhost:8080/",
          "height": 285,
          "referenced_widgets": [
            "76c713713e684518bad339e4e2b66aa0",
            "c5becbc64ec9449db5ac2db883118104",
            "0f2704956e9e4867a6e990538d30ab82",
            "12c35be9ea434fb6a5babb6a989ec55e",
            "c3dfcef654654e418d614a7fbf658fdc",
            "f602432849024a4c9b7334a236f18de6",
            "6bff635e1a514a7d945e020707fa7aa2",
            "edc9676aa62941818e3bd234a6506e13",
            "c764b407907c4769a8935795ea424934",
            "2f1c16ce6ec146e3bef23ccf2cac01c4",
            "0a2e6a819bdc47828dcd5347f05eb57c"
          ]
        },
        "id": "Lx1acrXHy4Pq",
        "outputId": "784c8936-52de-466f-ecd9-25f76be76b11"
      },
      "execution_count": 26,
      "outputs": [
        {
          "output_type": "display_data",
          "data": {
            "text/plain": [
              "  0%|          | 0/3 [00:00<?, ?it/s]"
            ],
            "application/vnd.jupyter.widget-view+json": {
              "version_major": 2,
              "version_minor": 0,
              "model_id": "76c713713e684518bad339e4e2b66aa0"
            }
          },
          "metadata": {}
        },
        {
          "output_type": "stream",
          "name": "stdout",
          "text": [
            "Epochs: 0\n",
            "----\n",
            "Train Loss: 0.4230 | Train Acc: 84.38%\n",
            "Test Loss: 0.3434 | Test Acc: 87.68%\n",
            "Epochs: 1\n",
            "----\n",
            "Train Loss: 0.3683 | Train Acc: 90.62%\n",
            "Test Loss: 0.3111 | Test Acc: 88.78%\n",
            "Epochs: 2\n",
            "----\n",
            "Train Loss: 0.3160 | Train Acc: 87.50%\n",
            "Test Loss: 0.3467 | Test Acc: 87.13%\n",
            "Time taken: 37.7567 seconds\n"
          ]
        }
      ]
    },
    {
      "cell_type": "code",
      "source": [
        "print(f\"Time taken(CPU): {elapsed_time:.4f} seconds\")"
      ],
      "metadata": {
        "colab": {
          "base_uri": "https://localhost:8080/"
        },
        "id": "gJ8HTi5j0HTZ",
        "outputId": "cb44a2fb-436b-4d73-a45f-e17e7c9137b5"
      },
      "execution_count": 27,
      "outputs": [
        {
          "output_type": "stream",
          "name": "stdout",
          "text": [
            "Time taken(CPU): 37.7567 seconds\n"
          ]
        }
      ]
    },
    {
      "cell_type": "markdown",
      "source": [
        "#### Make and evaluate random predictions with best model"
      ],
      "metadata": {
        "id": "ZVc7FjERTVrV"
      }
    },
    {
      "cell_type": "code",
      "source": [
        "\n",
        "\n",
        "import random\n",
        "\n",
        "\n",
        "# Set the model to evaluation mode\n",
        "model2.eval()\n",
        "\n",
        "# Select a random image from the test dataset\n",
        "random_index = random.randint(0, len(test_data) - 1)  # Random index\n",
        "random_image, true_label = test_data[random_index]  # Get the random image and its true label\n",
        "\n",
        "# Add a batch dimension to the image (required for the model)\n",
        "random_image = random_image.unsqueeze(0).to(device)  # Shape: [1, channels, height, width]\n",
        "\n",
        "# Pass the random image through the model\n",
        "with torch.inference_mode():\n",
        "    random_logits = model2(random_image)\n",
        "    random_probs = torch.softmax(random_logits, dim=1)  # Convert logits to probabilities\n",
        "    random_pred = torch.argmax(random_probs, dim=1)  # Get the predicted class\n",
        "\n",
        "# Display the results\n",
        "print(f\"Random Image Index: {random_index}\")\n",
        "print(f\"True Label: {true_label}\")\n",
        "print(f\"Predicted Probabilities: {random_probs}\")\n",
        "print(f\"Predicted Class: {random_pred.item()}\")\n",
        "\n",
        "# Visualize the random image\n",
        "plt.imshow(random_image.squeeze().cpu().numpy(), cmap=\"gray\")  # Adjust for grayscale/RGB\n",
        "plt.title(f\"True Label: {true_label} | Predicted: {random_pred.item()}\")\n",
        "plt.axis(\"off\")\n",
        "plt.show()"
      ],
      "metadata": {
        "colab": {
          "base_uri": "https://localhost:8080/",
          "height": 539
        },
        "id": "2pVj0Lu5SfBf",
        "outputId": "6c0f7127-0eee-460d-abaf-5630cfac26b7"
      },
      "execution_count": 28,
      "outputs": [
        {
          "output_type": "stream",
          "name": "stdout",
          "text": [
            "Random Image Index: 9455\n",
            "True Label: 6\n",
            "Predicted Probabilities: tensor([[6.1266e-02, 3.1035e-03, 1.1324e-01, 4.9480e-02, 7.7913e-05, 3.0119e-05,\n",
            "         7.7248e-01, 6.0403e-05, 4.9348e-05, 2.1185e-04]], device='cuda:0')\n",
            "Predicted Class: 6\n"
          ]
        },
        {
          "output_type": "display_data",
          "data": {
            "text/plain": [
              "<Figure size 640x480 with 1 Axes>"
            ],
            "image/png": "[encoded data removed]"
          },
          "metadata": {}
        }
      ]
    },
    {
      "cell_type": "markdown",
      "source": [
        "#### METRICS\n",
        "* F1 Score,\n",
        "* Recall\n",
        "* Precision\n",
        "* Confusion metrics"
      ],
      "metadata": {
        "id": "ijRfn5KHBZ9G"
      }
    },
    {
      "cell_type": "code",
      "source": [
        "import torch\n",
        "from sklearn.metrics import (\n",
        "    f1_score,\n",
        "    recall_score,\n",
        "    precision_score,\n",
        "    confusion_matrix,\n",
        "    ConfusionMatrixDisplay\n",
        ")\n",
        "import matplotlib.pyplot as plt\n",
        "import numpy as np\n",
        "\n",
        "\n",
        "class_names = train_data.classes\n",
        "# Set the model to evaluation mode\n",
        "model2.eval()\n",
        "\n",
        "# Initialize lists to store predictions and true labels\n",
        "all_preds = []\n",
        "all_labels = []\n",
        "\n",
        "# Evaluate the model on the test dataset\n",
        "with torch.inference_mode():\n",
        "    for X_test, y_test in test_loader:\n",
        "        X_test, y_test = X_test.to(device), y_test.to(device)\n",
        "\n",
        "        # Forward pass\n",
        "        test_logits = model2(X_test)\n",
        "        test_preds = torch.argmax(test_logits, dim=1)\n",
        "\n",
        "        # Store predictions and labels\n",
        "        all_preds.extend(test_preds.cpu().numpy())\n",
        "        all_labels.extend(y_test.cpu().numpy())\n",
        "\n",
        "# Convert lists to numpy arrays\n",
        "all_preds = np.array(all_preds)\n",
        "all_labels = np.array(all_labels)\n",
        "\n",
        "# Calculate metrics\n",
        "f1 = f1_score(all_labels, all_preds, average=\"weighted\", zero_division=0)\n",
        "recall = recall_score(all_labels, all_preds, average=\"weighted\", zero_division=0)\n",
        "precision = precision_score(all_labels, all_preds, average=\"weighted\", zero_division=0)\n",
        "conf_matrix = confusion_matrix(all_labels, all_preds)\n",
        "\n",
        "# Print metrics\n",
        "print(f\"F1 Score: {f1:.4f}\")\n",
        "print(f\"Recall: {recall:.4f}\")\n",
        "print(f\"Precision: {precision:.4f}\")\n",
        "print(f\"Confusion Matrix:\\n{conf_matrix}\")\n",
        "plt.figure(figsize=(10, 10))\n",
        "# Plot the confusion matrix\n",
        "disp = ConfusionMatrixDisplay(conf_matrix, display_labels=class_names)\n",
        "disp.plot()\n",
        "plt.xticks(rotation=45)\n",
        "plt.show()"
      ],
      "metadata": {
        "colab": {
          "base_uri": "https://localhost:8080/",
          "height": 770
        },
        "id": "yoeerWvIEzh_",
        "outputId": "42874126-410e-4d9d-f40a-49912d7e5f80"
      },
      "execution_count": 37,
      "outputs": [
        {
          "output_type": "stream",
          "name": "stdout",
          "text": [
            "F1 Score: 0.8738\n",
            "Recall: 0.8713\n",
            "Precision: 0.8925\n",
            "Confusion Matrix:\n",
            "[[579   1  34  17   3   2 360   0   4   0]\n",
            " [  1 982   0   8   3   0   4   0   2   0]\n",
            " [  3   1 847   4  46   0  99   0   0   0]\n",
            " [  3   8  22 872  24   0  69   0   2   0]\n",
            " [  0   1  82  20 730   0 166   0   1   0]\n",
            " [  0   0   0   0   0 969   0  25   0   6]\n",
            " [ 27   4  76  15  42   0 822   0  14   0]\n",
            " [  0   0   0   0   0   6   0 982   0  12]\n",
            " [  2   0   7   3   2   2   8   5 971   0]\n",
            " [  0   0   0   0   0   6   0  35   0 959]]\n"
          ]
        },
        {
          "output_type": "display_data",
          "data": {
            "text/plain": [
              "<Figure size 1000x1000 with 0 Axes>"
            ]
          },
          "metadata": {}
        },
        {
          "output_type": "display_data",
          "data": {
            "text/plain": [
              "<Figure size 640x480 with 2 Axes>"
            ],
            "image/png": "[encoded data removed]"
          },
          "metadata": {}
        }
      ]
    },
    {
      "cell_type": "code",
      "source": [
        "# Save model weights only\n",
        "torch.save(model2.state_dict(), \"model_weights.pth\")\n",
        "\n",
        "# Save entire model\n",
        "torch.save(model2, \"model.pth\")"
      ],
      "metadata": {
        "id": "G2i3Ryr_N9Bw"
      },
      "execution_count": 38,
      "outputs": []
    },
    {
      "cell_type": "code",
      "source": [
        "# Load weights into a new model instance\n",
        "torch.manual_seed(42)\n",
        "modelv3 = ModelV2(input_shape = 1,\n",
        "                  hidden_units = 10,\n",
        "                  output_shape = len(classes)).to(device)\n",
        "\n",
        "modelv3.load_state_dict(torch.load(\"model_weights.pth\",weights_only=True))\n",
        "modelv3.eval()  # Set to evaluation mode"
      ],
      "metadata": {
        "colab": {
          "base_uri": "https://localhost:8080/"
        },
        "id": "ql80v7rSOXZA",
        "outputId": "159afee8-fa37-44ce-cf73-1f7dbe51fc98"
      },
      "execution_count": 42,
      "outputs": [
        {
          "output_type": "execute_result",
          "data": {
            "text/plain": [
              "ModelV2(\n",
              "  (Conv_Block_1): Sequential(\n",
              "    (0): Conv2d(1, 10, kernel_size=(3, 3), stride=(1, 1), padding=(1, 1))\n",
              "    (1): ReLU()\n",
              "    (2): Conv2d(10, 10, kernel_size=(3, 3), stride=(1, 1), padding=(1, 1))\n",
              "    (3): ReLU()\n",
              "    (4): MaxPool2d(kernel_size=2, stride=2, padding=0, dilation=1, ceil_mode=False)\n",
              "  )\n",
              "  (Conv_Block_2): Sequential(\n",
              "    (0): Conv2d(10, 10, kernel_size=(3, 3), stride=(1, 1), padding=(1, 1))\n",
              "    (1): ReLU()\n",
              "    (2): Conv2d(10, 10, kernel_size=(3, 3), stride=(1, 1), padding=(1, 1))\n",
              "    (3): ReLU()\n",
              "    (4): MaxPool2d(kernel_size=2, stride=2, padding=0, dilation=1, ceil_mode=False)\n",
              "  )\n",
              "  (Classifier): Sequential(\n",
              "    (0): Flatten(start_dim=1, end_dim=-1)\n",
              "    (1): Linear(in_features=490, out_features=10, bias=True)\n",
              "  )\n",
              ")"
            ]
          },
          "metadata": {},
          "execution_count": 42
        }
      ]
    },
    {
      "cell_type": "code",
      "source": [
        "# Evaluate model 3\n",
        "\n",
        "modelv3.eval()\n",
        "with torch.inference_mode():\n",
        "  for x_test, y_test in tqdm(test_loader):\n",
        "    x_test, y_test = x_test.to(device), y_test.to(device)\n",
        "\n",
        "    eval_logits = modelv3(x_test)\n",
        "    eval_pred = torch.argmax(torch.softmax(eval_logits, dim=1), dim = 1)\n",
        "\n",
        "    eval_loss =  Loss(eval_logits, y_test)\n",
        "    eval_acc = accuracy_score(y_true = y_test.cpu().numpy(),\n",
        "                              y_pred = eval_pred.cpu().numpy())*100\n",
        "\n",
        "print(f'Eval Loss: {eval_loss:.4f} | Eval Acc: {eval_acc:.2f}%')\n"
      ],
      "metadata": {
        "colab": {
          "base_uri": "https://localhost:8080/",
          "height": 67,
          "referenced_widgets": [
            "14de92f67bb6478f87d5c2ef2710d7f6",
            "f12b2fc95eda4b68a9c7be1fcf187a10",
            "757aac56812f467a922d215788a66cf9",
            "9311bfb0dd7044c084a1107d366b69ae",
            "85c770dea7b848858aba769c5dbf02ba",
            "09057bc195ae4e348bff5d2bdd84e04c",
            "f2c3584ca5e8456290a667efb7a73e44",
            "01d054241f144a8aab4edb1158dca151",
            "d034db4e909d4a2c8a0486fc8ccf4226",
            "dc32053a6bf84a06abad7fdc927c8bc3",
            "605752f6c5964441b5361a7ecab443c1"
          ]
        },
        "id": "1mOlmNOjPs98",
        "outputId": "ebd826d5-a28e-4c56-b269-7df03d89e581"
      },
      "execution_count": 44,
      "outputs": [
        {
          "output_type": "display_data",
          "data": {
            "text/plain": [
              "  0%|          | 0/313 [00:00<?, ?it/s]"
            ],
            "application/vnd.jupyter.widget-view+json": {
              "version_major": 2,
              "version_minor": 0,
              "model_id": "14de92f67bb6478f87d5c2ef2710d7f6"
            }
          },
          "metadata": {}
        },
        {
          "output_type": "stream",
          "name": "stdout",
          "text": [
            "Eval Loss: 0.2282 | Eval Acc: 87.50%\n"
          ]
        }
      ]
    }
  ]
}