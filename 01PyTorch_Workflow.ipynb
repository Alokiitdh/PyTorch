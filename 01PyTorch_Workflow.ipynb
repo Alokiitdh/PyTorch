{
  "nbformat": 4,
  "nbformat_minor": 0,
  "metadata": {
    "colab": {
      "provenance": [],
      "authorship_tag": "ABX9TyNE6yqi2TRQH3Ok2DmKZYj9"
    },
    "kernelspec": {
      "name": "python3",
      "display_name": "Python 3"
    },
    "language_info": {
      "name": "python"
    }
  },
  "cells": [
    {
      "cell_type": "markdown",
      "source": [
        "# Pytorch WorkFlow"
      ],
      "metadata": {
        "id": "1mWKwvqMRqNT"
      }
    },
    {
      "cell_type": "markdown",
      "source": [
        "#### What we are Covering\n",
        "\n",
        "1. Data Prepare and Load\n",
        "2. Build model\n",
        "3. Fitting the model to data (Training)\n",
        "4. Making Predictions and evaluating a model (inference)\n",
        "5. Save and Reload a model\n",
        "6. Putting it all together\n"
      ],
      "metadata": {
        "id": "r4WcnQ5xRv51"
      }
    },
    {
      "cell_type": "code",
      "execution_count": 1,
      "metadata": {
        "id": "4dzGOjyYVygZ"
      },
      "outputs": [],
      "source": [
        "import torch\n",
        "from torch import nn\n",
        "import matplotlib.pyplot as plt"
      ]
    },
    {
      "cell_type": "markdown",
      "source": [
        "## 1. Data Prepare and Load\n",
        "\n",
        "Data can be anything in MAchine LEarning\n",
        "\n",
        "1.   excel SPreadsheet\n",
        "2.   Images of any kind\n",
        "3.   Videos (YouTube has lots of data ...)\n",
        "4. Audio like songs or podcasts\n",
        "5. DNA\n",
        "6. Texts\n",
        "\n",
        "MAchine LEarning is a game of two parts\n",
        "1. Get Data in to a numerical representations\n",
        "2. Build a model to learn patters in that numerical representation,\n",
        "\n",
        "To showcase this lets create some *Known* data using the linear regression formula.\n",
        "\n",
        "We will use a linear regression formula to make straight line with *Known* Parameters"
      ],
      "metadata": {
        "id": "2qx9y7O2Uykg"
      }
    },
    {
      "cell_type": "code",
      "source": [
        "num = torch.randn(size = (2,2,2))\n",
        "print(num.shape)\n",
        "num2= num.unsqueeze(dim = 1)\n",
        "print(num2.shape)"
      ],
      "metadata": {
        "colab": {
          "base_uri": "https://localhost:8080/"
        },
        "id": "nTSQqPst3p9D",
        "outputId": "360f3e9f-e289-423f-d560-2ce9b347b360"
      },
      "execution_count": 4,
      "outputs": [
        {
          "output_type": "stream",
          "name": "stdout",
          "text": [
            "torch.Size([2, 2, 2])\n",
            "torch.Size([2, 1, 2, 2])\n"
          ]
        }
      ]
    },
    {
      "cell_type": "code",
      "source": [
        "# revision\n",
        "tensor = torch.rand(1)\n",
        "print(tensor)\n",
        "tensor2 = torch.randn(1)\n",
        "print(tensor2)\n",
        "print(tensor2.dtype)\n",
        "\n",
        "range_tensor = torch.arange(0,11,2)\n",
        "print(range_tensor)\n",
        "print(range_tensor.dtype)\n",
        "for i in range(len(range_tensor)):\n",
        "  print(range_tensor[i])\n",
        "\n",
        "\n",
        "chnged = range_tensor.type(torch.float32)\n",
        "print(chnged.dtype)\n"
      ],
      "metadata": {
        "colab": {
          "base_uri": "https://localhost:8080/"
        },
        "id": "01WteXyWsxvc",
        "outputId": "ba8d5b33-f262-43bd-9cc7-20fbe4caeb65"
      },
      "execution_count": 5,
      "outputs": [
        {
          "output_type": "stream",
          "name": "stdout",
          "text": [
            "tensor([0.6821])\n",
            "tensor([-0.9355])\n",
            "torch.float32\n",
            "tensor([ 0,  2,  4,  6,  8, 10])\n",
            "torch.int64\n",
            "tensor(0)\n",
            "tensor(2)\n",
            "tensor(4)\n",
            "tensor(6)\n",
            "tensor(8)\n",
            "tensor(10)\n",
            "torch.float32\n"
          ]
        }
      ]
    },
    {
      "cell_type": "code",
      "source": [
        "1 # Create Known Parameters\n",
        "weight = 0.7\n",
        "bias = 0.3\n",
        "\n",
        "start = 0\n",
        "end = 1\n",
        "steps = 0.02\n",
        "\n",
        "X = torch.arange(start, end, steps)\n",
        "X_rs= torch.reshape(X, shape = (len(X), 1))\n",
        "print(X_rs)\n",
        "print(X_rs.shape)\n",
        "Y_ = weight*X_rs + bias\n",
        "# Adding  some noise\n",
        "noise =  torch.randn_like(Y_) *.1\n",
        "Y= Y_ + noise\n",
        "#print(Y)"
      ],
      "metadata": {
        "colab": {
          "base_uri": "https://localhost:8080/"
        },
        "id": "4-TrfZ3aU34B",
        "outputId": "b20a3467-91ad-4e42-f8dd-17b2817bbea8"
      },
      "execution_count": 6,
      "outputs": [
        {
          "output_type": "stream",
          "name": "stdout",
          "text": [
            "tensor([[0.0000],\n",
            "        [0.0200],\n",
            "        [0.0400],\n",
            "        [0.0600],\n",
            "        [0.0800],\n",
            "        [0.1000],\n",
            "        [0.1200],\n",
            "        [0.1400],\n",
            "        [0.1600],\n",
            "        [0.1800],\n",
            "        [0.2000],\n",
            "        [0.2200],\n",
            "        [0.2400],\n",
            "        [0.2600],\n",
            "        [0.2800],\n",
            "        [0.3000],\n",
            "        [0.3200],\n",
            "        [0.3400],\n",
            "        [0.3600],\n",
            "        [0.3800],\n",
            "        [0.4000],\n",
            "        [0.4200],\n",
            "        [0.4400],\n",
            "        [0.4600],\n",
            "        [0.4800],\n",
            "        [0.5000],\n",
            "        [0.5200],\n",
            "        [0.5400],\n",
            "        [0.5600],\n",
            "        [0.5800],\n",
            "        [0.6000],\n",
            "        [0.6200],\n",
            "        [0.6400],\n",
            "        [0.6600],\n",
            "        [0.6800],\n",
            "        [0.7000],\n",
            "        [0.7200],\n",
            "        [0.7400],\n",
            "        [0.7600],\n",
            "        [0.7800],\n",
            "        [0.8000],\n",
            "        [0.8200],\n",
            "        [0.8400],\n",
            "        [0.8600],\n",
            "        [0.8800],\n",
            "        [0.9000],\n",
            "        [0.9200],\n",
            "        [0.9400],\n",
            "        [0.9600],\n",
            "        [0.9800]])\n",
            "torch.Size([50, 1])\n"
          ]
        }
      ]
    },
    {
      "cell_type": "code",
      "source": [
        "len(X), len(Y)"
      ],
      "metadata": {
        "colab": {
          "base_uri": "https://localhost:8080/"
        },
        "id": "GG-L9jxnX32M",
        "outputId": "454266c9-1f4f-407c-f84a-8b32c630b52e"
      },
      "execution_count": 7,
      "outputs": [
        {
          "output_type": "execute_result",
          "data": {
            "text/plain": [
              "(50, 50)"
            ]
          },
          "metadata": {},
          "execution_count": 7
        }
      ]
    },
    {
      "cell_type": "markdown",
      "source": [
        "### Spliting Data in Training and Split"
      ],
      "metadata": {
        "id": "kvlXZmfxYl4s"
      }
    },
    {
      "cell_type": "code",
      "source": [
        "# xreate a train test split\n",
        "\n",
        "train_split =int(0.8*len(X)) # used as an index\n",
        "print(train_split)\n",
        "x_train, y_train = X_rs[:train_split], Y[:train_split]  # First 80% for training\n",
        "x_test, y_test = X_rs[train_split:], Y[train_split:]    # Last 20% for testing\n",
        "\n",
        "print(\"Train size:\", len(x_train), len(y_train))\n",
        "print(\"Test size:\", len(x_test), len(y_test))"
      ],
      "metadata": {
        "colab": {
          "base_uri": "https://localhost:8080/"
        },
        "id": "myZr3HQlYudw",
        "outputId": "f457040c-fb17-4699-8f94-7cd28474153f"
      },
      "execution_count": 8,
      "outputs": [
        {
          "output_type": "stream",
          "name": "stdout",
          "text": [
            "40\n",
            "Train size: 40 40\n",
            "Test size: 10 10\n"
          ]
        }
      ]
    },
    {
      "cell_type": "markdown",
      "source": [
        "#### Building a function to visualize the data\n",
        "Visualzie, visualize\n"
      ],
      "metadata": {
        "id": "yULOTgwZ2PHB"
      }
    },
    {
      "cell_type": "code",
      "source": [
        "def plot_prediction(train_data = x_train,\n",
        "                    train_label = y_train,\n",
        "                    test_data = x_test,\n",
        "                    test_label = y_test,\n",
        "                    prediction = None):\n",
        "  plt.figure(figsize = (10,7))\n",
        "  #Plot Training data in blue\n",
        "  plt.scatter(train_data, train_label, c='b', s=4, label = 'Training Data')\n",
        "  # plot tets data in green\n",
        "  plt.scatter(test_data, test_label, c = 'g', s= 4, label = 'Test_data')\n",
        "  if prediction is not None:\n",
        "    plt.scatter(test_data, prediction, c='r', s= 4, label = 'Prediction')\n",
        "\n",
        "  plt.legend()"
      ],
      "metadata": {
        "id": "33x4dYH-2Lz0"
      },
      "execution_count": 9,
      "outputs": []
    },
    {
      "cell_type": "code",
      "source": [
        "plot_prediction()"
      ],
      "metadata": {
        "colab": {
          "base_uri": "https://localhost:8080/",
          "height": 470
        },
        "id": "Fj5y_vLA4dLK",
        "outputId": "278597b5-e53e-4997-c53f-e34bab72febd"
      },
      "execution_count": 10,
      "outputs": [
        {
          "output_type": "display_data",
          "data": {
            "text/plain": [
              "<Figure size 1000x700 with 1 Axes>"
            ],
            "image/png": "[encoded data removed]"
          },
          "metadata": {}
        }
      ]
    },
    {
      "cell_type": "markdown",
      "source": [
        "#### Building our first PyTorch Model"
      ],
      "metadata": {
        "id": "eTlH6bD_5v_-"
      }
    },
    {
      "cell_type": "code",
      "source": [
        "class LinearRegressionModel(nn.Module):\n",
        "  def __init__(self):\n",
        "    super().__init__()\n",
        "  #Define weights and bias as learnable parameters(Model Parameters)\n",
        "    self.weights =nn.Parameter(torch.randn(1,\n",
        "                                         requires_grad=True,\n",
        "                                         dtype = torch.float))\n",
        "    self.bias = nn.Parameter(torch.randn(1,\n",
        "                                        requires_grad=True,\n",
        "                                        dtype = torch.float))\n",
        "\n",
        "# forward\n",
        "  def forward(self,x ):\n",
        "    return self.weights * x + self.bias"
      ],
      "metadata": {
        "id": "v5zIx2F_93Wq"
      },
      "execution_count": 17,
      "outputs": []
    },
    {
      "cell_type": "markdown",
      "source": [
        "There are two main algorithms to make the parametrs adjust or lrarning:\n",
        "1. Gradient Descet\n",
        "2. Back Propagation"
      ],
      "metadata": {
        "id": "7Sp6mrLqLyKF"
      }
    },
    {
      "cell_type": "markdown",
      "source": [
        "### Pytorch Model Building Esentials:\n",
        "* torch.nn - Cntains all of the buidings for computational graph(Neural Network)\n",
        "* nn.Parameters - what parameters should our model try and learn, often a PyTorch LAyer from torch.nn will set these for us.\n",
        "* torch.nnn.Module - the base class for all NN modules\n",
        "* torch.optim - this where Optimizers live and have gradient descent\n",
        "* def forward () - All nn.Module subclasses require you to overwrite forward(), this method define what happens in the forward computation."
      ],
      "metadata": {
        "id": "LbIVruBiPlBE"
      }
    },
    {
      "cell_type": "code",
      "source": [
        "# random seed : these random values are now deterministic.\n",
        "torch.manual_seed(42)\n",
        "# Model Parameters (instance of the model)\n",
        "model_0 = LinearRegressionModel()\n",
        "\n",
        "print(list(model_0.parameters()))\n",
        "# Returns a dictionary containing all the parameters\n",
        "#and their associated names as key-value pairs.\n",
        "print(model_0.state_dict())"
      ],
      "metadata": {
        "colab": {
          "base_uri": "https://localhost:8080/"
        },
        "id": "2wpR_NB-MAAI",
        "outputId": "a3810326-08bb-4010-ca1c-3d32211a88be"
      },
      "execution_count": 18,
      "outputs": [
        {
          "output_type": "stream",
          "name": "stdout",
          "text": [
            "[Parameter containing:\n",
            "tensor([0.3367], requires_grad=True), Parameter containing:\n",
            "tensor([0.1288], requires_grad=True)]\n",
            "OrderedDict([('weights', tensor([0.3367])), ('bias', tensor([0.1288]))])\n"
          ]
        }
      ]
    },
    {
      "cell_type": "code",
      "source": [
        "x_test, y_test"
      ],
      "metadata": {
        "colab": {
          "base_uri": "https://localhost:8080/"
        },
        "id": "rDkruOph2Eu_",
        "outputId": "55544abc-eaed-477b-ec36-d2f5361f3c97"
      },
      "execution_count": 20,
      "outputs": [
        {
          "output_type": "execute_result",
          "data": {
            "text/plain": [
              "(tensor([[0.8000],\n",
              "         [0.8200],\n",
              "         [0.8400],\n",
              "         [0.8600],\n",
              "         [0.8800],\n",
              "         [0.9000],\n",
              "         [0.9200],\n",
              "         [0.9400],\n",
              "         [0.9600],\n",
              "         [0.9800]]),\n",
              " tensor([[0.9232],\n",
              "         [0.9809],\n",
              "         [0.7956],\n",
              "         [1.0517],\n",
              "         [0.9365],\n",
              "         [0.9605],\n",
              "         [1.0882],\n",
              "         [0.9049],\n",
              "         [1.0939],\n",
              "         [1.1459]]))"
            ]
          },
          "metadata": {},
          "execution_count": 20
        }
      ]
    },
    {
      "cell_type": "markdown",
      "source": [
        "link: https://www.learnpytorch.io/01_pytorch_workflow/"
      ],
      "metadata": {
        "id": "XAuYHpjC46aP"
      }
    },
    {
      "cell_type": "code",
      "source": [
        "with torch.inference_mode(): #\n",
        "  y_preds = model_0(x_test)\n",
        "  print(y_preds)\n",
        "  plot_prediction(prediction = y_preds)\n"
      ],
      "metadata": {
        "colab": {
          "base_uri": "https://localhost:8080/",
          "height": 644
        },
        "id": "DoMYfGg40unl",
        "outputId": "288ec2fd-1fc3-4700-dfec-3385ac691414"
      },
      "execution_count": 23,
      "outputs": [
        {
          "output_type": "stream",
          "name": "stdout",
          "text": [
            "tensor([[0.3982],\n",
            "        [0.4049],\n",
            "        [0.4116],\n",
            "        [0.4184],\n",
            "        [0.4251],\n",
            "        [0.4318],\n",
            "        [0.4386],\n",
            "        [0.4453],\n",
            "        [0.4520],\n",
            "        [0.4588]])\n"
          ]
        },
        {
          "output_type": "display_data",
          "data": {
            "text/plain": [
              "<Figure size 1000x700 with 1 Axes>"
            ],
            "image/png": "[encoded data removed]"
          },
          "metadata": {}
        }
      ]
    },
    {
      "cell_type": "markdown",
      "source": [
        "### Training Our model:\n",
        "Moving model from unknown parameters to known parameters\n",
        "1. HOw wrong the momedl prediction are we will use LOSS FUNCTIONS\n",
        "2. Optimizer: adjust the weights and biases od = fthe model\n",
        "\n",
        "NOTE: Loss function may be called as cost function\n",
        "\n",
        "For PyTorch we need\n",
        "* A Training Loop\n",
        "* A Testing Loop\n",
        "\n"
      ],
      "metadata": {
        "id": "FLG7_jh85WQw"
      }
    },
    {
      "cell_type": "code",
      "source": [
        "model_0.state_dict()\n"
      ],
      "metadata": {
        "colab": {
          "base_uri": "https://localhost:8080/"
        },
        "id": "u1u6mLeh5fLT",
        "outputId": "b105e401-f294-400a-bbbf-595cb6f06d16"
      },
      "execution_count": 24,
      "outputs": [
        {
          "output_type": "execute_result",
          "data": {
            "text/plain": [
              "OrderedDict([('weights', tensor([0.3367])), ('bias', tensor([0.1288]))])"
            ]
          },
          "metadata": {},
          "execution_count": 24
        }
      ]
    },
    {
      "cell_type": "code",
      "source": [
        "# Set up LOSS Function(MAE)\n",
        "Loss = nn.L1Loss()\n",
        "print(Loss(y_preds, y_test))\n",
        "\n",
        "# Setup Optimizer\n",
        "\n",
        "optimizer = torch.optim.SGD(params = model_0.parameters(), lr= 0.01)"
      ],
      "metadata": {
        "colab": {
          "base_uri": "https://localhost:8080/"
        },
        "id": "kSw5dGaj-U_W",
        "outputId": "a3893804-9ce9-4c3a-db54-c39f0f476af8"
      },
      "execution_count": 27,
      "outputs": [
        {
          "output_type": "stream",
          "name": "stdout",
          "text": [
            "tensor(0.5597)\n"
          ]
        }
      ]
    },
    {
      "cell_type": "markdown",
      "source": [
        "#### Training Loop and Testing Loop Building\n",
        "1. Loop through the data\n",
        "2. forward Pass(Data moving through our model \"forwad\")\n",
        "3. Calculate the Loss(Compareb forwars predictions to ground truth labels)\n",
        "4. Optimizer Zero Grad\n",
        "5. Loss Backward- move backward through the network to calculate the gradient of each of the parameters of our model with respect to the loss(**BackPropagation**)\n",
        "6. Optimizer step- Use the optimizer to adjust our models's parameters to try and improve the loss(**Gradient Descent**)\n"
      ],
      "metadata": {
        "id": "mUn5-biFF-CS"
      }
    },
    {
      "cell_type": "code",
      "source": [
        "# An Epoch is One loop through the Data\n",
        "epochs = 1\n",
        "\n",
        "# 1. Loop through the data\n",
        "\n",
        "for epoch in range(epochs):\n",
        "  # set the model to training mode\n",
        "  model_0.train() # Turn on grad\n",
        "\n",
        "  # 2. Forward Pass\n",
        "  y_preds = model_0(x_train)\n",
        "\n",
        "  # 3. Calculate the loss\n",
        "\n",
        "  loss = Loss(y_preds, y_train)\n",
        "\n",
        "  # 4. Optimizer zer grad\n",
        "  optimizer.zero_grad()\n",
        "\n",
        "  # 5. Perform Backpropagation\n",
        "  loss.backward()\n",
        "\n",
        "  # 6. Step the optimizer\n",
        "\n",
        "  optimizer.step()\n",
        "\n",
        "\n",
        "  #model_0.eval() # Turns off gradient tracking\n"
      ],
      "metadata": {
        "id": "yYedDu-aF7V7"
      },
      "execution_count": null,
      "outputs": []
    },
    {
      "cell_type": "code",
      "source": [
        "for i in range(1):\n",
        "  print(i)"
      ],
      "metadata": {
        "colab": {
          "base_uri": "https://localhost:8080/"
        },
        "id": "VlbP4is3iXpp",
        "outputId": "4159ac04-c494-4034-8781-e35e0a96bd9b"
      },
      "execution_count": 31,
      "outputs": [
        {
          "output_type": "stream",
          "name": "stdout",
          "text": [
            "0\n"
          ]
        }
      ]
    },
    {
      "cell_type": "code",
      "source": [
        "for epoch in range(epochs):\n",
        "  y_preds = model_0(x_train)\n",
        "  loss = Loss(y_preds, y_train)\n",
        "\n",
        "  optimizer.zero_grad()\n",
        "  loss.backward()\n",
        "  optimizer.step()"
      ],
      "metadata": {
        "id": "63cznbVAiUE4"
      },
      "execution_count": null,
      "outputs": []
    },
    {
      "cell_type": "code",
      "source": [],
      "metadata": {
        "id": "AOTDOINvWEvF"
      },
      "execution_count": null,
      "outputs": []
    },
    {
      "cell_type": "code",
      "source": [],
      "metadata": {
        "id": "CihnUQxLWErk"
      },
      "execution_count": null,
      "outputs": []
    },
    {
      "cell_type": "code",
      "source": [],
      "metadata": {
        "id": "CJK4a1CHWEor"
      },
      "execution_count": null,
      "outputs": []
    },
    {
      "cell_type": "code",
      "source": [],
      "metadata": {
        "id": "WN2OZbh8WElv"
      },
      "execution_count": null,
      "outputs": []
    },
    {
      "cell_type": "code",
      "source": [
        "import torch\n",
        "from torch import nn\n",
        "import matplotlib.pyplot as plt\n",
        "from sklearn.model_selection import train_test_split"
      ],
      "metadata": {
        "id": "ahKOJSv0VOZq"
      },
      "execution_count": 102,
      "outputs": []
    },
    {
      "cell_type": "code",
      "source": [
        "# generating the random data'\n",
        "w = 0.7\n",
        "b = 0.3\n",
        "\n",
        "data = torch.rand(50).unsqueeze(dim=1)\n",
        "print(data.shape)\n",
        "print(data)\n",
        "\n",
        "target = w*data + b\n",
        "\n",
        "plt.scatter(data, target)"
      ],
      "metadata": {
        "colab": {
          "base_uri": "https://localhost:8080/",
          "height": 1000
        },
        "id": "izd4dS9RklAM",
        "outputId": "bbc9630e-74bc-4c20-90d8-ec3cb2397cfb"
      },
      "execution_count": 103,
      "outputs": [
        {
          "output_type": "stream",
          "name": "stdout",
          "text": [
            "torch.Size([50, 1])\n",
            "tensor([[0.3904],\n",
            "        [0.6009],\n",
            "        [0.2566],\n",
            "        [0.7936],\n",
            "        [0.9408],\n",
            "        [0.1332],\n",
            "        [0.9346],\n",
            "        [0.5936],\n",
            "        [0.8694],\n",
            "        [0.5677],\n",
            "        [0.7411],\n",
            "        [0.4294],\n",
            "        [0.8854],\n",
            "        [0.5739],\n",
            "        [0.2666],\n",
            "        [0.6274],\n",
            "        [0.2696],\n",
            "        [0.4414],\n",
            "        [0.2969],\n",
            "        [0.8317],\n",
            "        [0.1053],\n",
            "        [0.2695],\n",
            "        [0.3588],\n",
            "        [0.1994],\n",
            "        [0.5472],\n",
            "        [0.0062],\n",
            "        [0.9516],\n",
            "        [0.0753],\n",
            "        [0.8860],\n",
            "        [0.5832],\n",
            "        [0.3376],\n",
            "        [0.8090],\n",
            "        [0.5779],\n",
            "        [0.9040],\n",
            "        [0.5547],\n",
            "        [0.3423],\n",
            "        [0.6343],\n",
            "        [0.3644],\n",
            "        [0.7104],\n",
            "        [0.9464],\n",
            "        [0.7890],\n",
            "        [0.2814],\n",
            "        [0.7886],\n",
            "        [0.5895],\n",
            "        [0.7539],\n",
            "        [0.1952],\n",
            "        [0.0050],\n",
            "        [0.3068],\n",
            "        [0.1165],\n",
            "        [0.9103]])\n"
          ]
        },
        {
          "output_type": "execute_result",
          "data": {
            "text/plain": [
              "<matplotlib.collections.PathCollection at 0x7fb4d0fcfeb0>"
            ]
          },
          "metadata": {},
          "execution_count": 103
        },
        {
          "output_type": "display_data",
          "data": {
            "text/plain": [
              "<Figure size 640x480 with 1 Axes>"
            ],
            "image/png": "[encoded data removed]"
          },
          "metadata": {}
        }
      ]
    },
    {
      "cell_type": "code",
      "source": [
        "X_train, X_test, y_train, y_test = train_test_split(data, target, random_state=42)"
      ],
      "metadata": {
        "id": "xIM3lMw7VMW7"
      },
      "execution_count": 104,
      "outputs": []
    },
    {
      "cell_type": "code",
      "source": [
        "# Defining model\n",
        "class LinearRegressionModel(nn.Module):\n",
        "  def __init__(self):\n",
        "    super().__init__()\n",
        "    self.weights = nn.Parameter(torch.rand(1,\n",
        "                                            requires_grad= True,\n",
        "                                            dtype= float))\n",
        "    self.bias = nn.Parameter(torch.rand(1,\n",
        "                                        requires_grad=True,\n",
        "                                        dtype=  float))\n",
        "\n",
        "  def forward(self,x):\n",
        "    return self.weights * x + self.bias\n",
        ""
      ],
      "metadata": {
        "id": "EjdmGh-WSle9"
      },
      "execution_count": 105,
      "outputs": []
    },
    {
      "cell_type": "code",
      "source": [
        "torch.manual_seed(42)\n",
        "model = LinearRegressionModel()"
      ],
      "metadata": {
        "id": "YO914aj5UCc1"
      },
      "execution_count": 106,
      "outputs": []
    },
    {
      "cell_type": "code",
      "source": [
        "model.state_dict()"
      ],
      "metadata": {
        "colab": {
          "base_uri": "https://localhost:8080/"
        },
        "id": "wFx1RPAA9dbX",
        "outputId": "f4bc5852-b487-4fce-b475-2735397a3288"
      },
      "execution_count": 107,
      "outputs": [
        {
          "output_type": "execute_result",
          "data": {
            "text/plain": [
              "OrderedDict([('weights', tensor([0.0582], dtype=torch.float64)),\n",
              "             ('bias', tensor([0.0629], dtype=torch.float64))])"
            ]
          },
          "metadata": {},
          "execution_count": 107
        }
      ]
    },
    {
      "cell_type": "code",
      "source": [
        "Loss = nn.L1Loss()\n",
        "optimizer = torch.optim.SGD(params= model.parameters(), lr = 0.01)"
      ],
      "metadata": {
        "id": "TDAMzVb8T38F"
      },
      "execution_count": 108,
      "outputs": []
    },
    {
      "cell_type": "code",
      "source": [
        "epochs = 100\n",
        "\n",
        "for epoch in range(epochs):\n",
        "  model.train()\n",
        "  y_preds = model(X_train)\n",
        "\n",
        "  loss = Loss(y_preds, y_train)\n",
        "\n",
        "  optimizer.zero_grad()\n",
        "  loss.backward()\n",
        "  optimizer.step()\n",
        "print(f' Loss: {loss}')\n"
      ],
      "metadata": {
        "colab": {
          "base_uri": "https://localhost:8080/"
        },
        "id": "tI2D4OgHUJ2f",
        "outputId": "6a7c6fa3-6413-4836-c89a-c9809e0ed5fe"
      },
      "execution_count": 110,
      "outputs": [
        {
          "output_type": "stream",
          "name": "stdout",
          "text": [
            " Loss: 0.034371061969931546\n"
          ]
        }
      ]
    },
    {
      "cell_type": "code",
      "source": [
        "print(f'Wights: {model.weights.item()} Bias:{model.bias.item()}')"
      ],
      "metadata": {
        "colab": {
          "base_uri": "https://localhost:8080/"
        },
        "id": "yehBKuT-9685",
        "outputId": "e60405a3-ef88-4274-869c-5f34820fffdc"
      },
      "execution_count": 111,
      "outputs": [
        {
          "output_type": "stream",
          "name": "stdout",
          "text": [
            "Wights: 0.5512761524508503 Bias:0.38723449174890273\n"
          ]
        }
      ]
    },
    {
      "cell_type": "code",
      "source": [
        "model.eval()\n",
        "with torch.no_grad():\n",
        "  y_preds_test = model(X_test)\n",
        "\n",
        "plt.scatter(X_train, y_train, label=\"Actual Data\")\n",
        "plt.scatter(X_test, y_preds_test, label=\"Predictions\")\n",
        "plt.legend()\n",
        "plt.title(\"Model Predictions vs Actual Data\")\n",
        "plt.show()"
      ],
      "metadata": {
        "colab": {
          "base_uri": "https://localhost:8080/",
          "height": 452
        },
        "outputId": "18e7d474-7b14-48c8-85bd-baf235990299",
        "id": "PJdUKhKjAkla"
      },
      "execution_count": 112,
      "outputs": [
        {
          "output_type": "display_data",
          "data": {
            "text/plain": [
              "<Figure size 640x480 with 1 Axes>"
            ],
            "image/png": "[encoded data removed]"
          },
          "metadata": {}
        }
      ]
    }
  ]
}