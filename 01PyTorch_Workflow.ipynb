{
  "nbformat": 4,
  "nbformat_minor": 0,
  "metadata": {
    "colab": {
      "provenance": [],
      "authorship_tag": "ABX9TyPpZP9n8Wk7iMaqfGgnZi3J"
    },
    "kernelspec": {
      "name": "python3",
      "display_name": "Python 3"
    },
    "language_info": {
      "name": "python"
    }
  },
  "cells": [
    {
      "cell_type": "markdown",
      "source": [
        "# Pytorch WorkFlow"
      ],
      "metadata": {
        "id": "1mWKwvqMRqNT"
      }
    },
    {
      "cell_type": "markdown",
      "source": [
        "#### What we are Covering\n",
        "\n",
        "1. Data Prepare and Load\n",
        "2. Build model\n",
        "3. Fitting the model to data (Training)\n",
        "4. Making Predictions and evaluating a model (inference)\n",
        "5. Save and Reload a model\n",
        "6. Putting it all together\n"
      ],
      "metadata": {
        "id": "r4WcnQ5xRv51"
      }
    },
    {
      "cell_type": "code",
      "execution_count": 2,
      "metadata": {
        "id": "4dzGOjyYVygZ"
      },
      "outputs": [],
      "source": [
        "import torch\n",
        "from torch import nn\n",
        "import matplotlib.pyplot as plt"
      ]
    },
    {
      "cell_type": "markdown",
      "source": [
        "## 1. Data Prepare and Load\n",
        "\n",
        "Data can be anything in MAchine LEarning\n",
        "\n",
        "1.   excel SPreadsheet\n",
        "2.   Images of any kind\n",
        "3.   Videos (YouTube has lots of data ...)\n",
        "4. Audio like songs or podcasts\n",
        "5. DNA\n",
        "6. Texts\n",
        "\n",
        "MAchine LEarning is a game of two parts\n",
        "1. Get Data in to a numerical representations\n",
        "2. Build a model to learn patters in that numerical representation,\n",
        "\n",
        "To showcase this lets create some *Known* data using the linear regression formula.\n",
        "\n",
        "We will use a linear regression formula to make straight line with *Known* Parameters"
      ],
      "metadata": {
        "id": "2qx9y7O2Uykg"
      }
    },
    {
      "cell_type": "code",
      "source": [
        "num = torch.randn(size = (2,2,2))\n",
        "print(num.shape)\n",
        "num2= num.unsqueeze(dim = 1)\n",
        "print(num2.shape)"
      ],
      "metadata": {
        "colab": {
          "base_uri": "https://localhost:8080/"
        },
        "id": "nTSQqPst3p9D",
        "outputId": "f9ab9618-e65e-4e34-e9cb-f974a55638a2"
      },
      "execution_count": 28,
      "outputs": [
        {
          "output_type": "stream",
          "name": "stdout",
          "text": [
            "torch.Size([2, 2, 2])\n",
            "torch.Size([2, 1, 2, 2])\n"
          ]
        }
      ]
    },
    {
      "cell_type": "code",
      "source": [
        "# revision\n",
        "tensor = torch.rand(1)\n",
        "print(tensor)\n",
        "tensor2 = torch.randn(1)\n",
        "print(tensor2)\n",
        "print(tensor2.dtype)\n",
        "\n",
        "range_tensor = torch.arange(0,11,2)\n",
        "print(range_tensor)\n",
        "print(range_tensor.dtype)\n",
        "for i in range(len(range_tensor)):\n",
        "  print(range_tensor[i])\n",
        "\n",
        "\n",
        "chnged = range_tensor.type(torch.float32)\n",
        "print(chnged.dtype)\n"
      ],
      "metadata": {
        "colab": {
          "base_uri": "https://localhost:8080/"
        },
        "id": "01WteXyWsxvc",
        "outputId": "8437c5e4-c6d8-48c8-a40c-83a379f91eff"
      },
      "execution_count": 14,
      "outputs": [
        {
          "output_type": "stream",
          "name": "stdout",
          "text": [
            "tensor([0.8779])\n",
            "tensor([-0.8571])\n",
            "torch.float32\n",
            "tensor([ 0,  2,  4,  6,  8, 10])\n",
            "torch.int64\n",
            "tensor(0)\n",
            "tensor(2)\n",
            "tensor(4)\n",
            "tensor(6)\n",
            "tensor(8)\n",
            "tensor(10)\n",
            "torch.float32\n"
          ]
        }
      ]
    },
    {
      "cell_type": "code",
      "source": [
        "1 # Create Known Parameters\n",
        "weight = 0.7\n",
        "bias = 0.3\n",
        "\n",
        "start = 0\n",
        "end = 1\n",
        "steps = 0.02\n",
        "\n",
        "X = torch.arange(start, end, steps)\n",
        "X_rs= torch.reshape(X, shape = (len(X), 1))\n",
        "print(X_rs)\n",
        "print(X_rs.shape)\n",
        "Y_ = weight*X_rs + bias\n",
        "# Adding  some noise\n",
        "noise =  torch.randn_like(Y_) *.1\n",
        "Y= Y_ + noise\n",
        "#print(Y)"
      ],
      "metadata": {
        "colab": {
          "base_uri": "https://localhost:8080/"
        },
        "id": "4-TrfZ3aU34B",
        "outputId": "d616294c-d239-4c83-a023-f6409bca7cab"
      },
      "execution_count": 29,
      "outputs": [
        {
          "output_type": "stream",
          "name": "stdout",
          "text": [
            "tensor([[0.0000],\n",
            "        [0.0200],\n",
            "        [0.0400],\n",
            "        [0.0600],\n",
            "        [0.0800],\n",
            "        [0.1000],\n",
            "        [0.1200],\n",
            "        [0.1400],\n",
            "        [0.1600],\n",
            "        [0.1800],\n",
            "        [0.2000],\n",
            "        [0.2200],\n",
            "        [0.2400],\n",
            "        [0.2600],\n",
            "        [0.2800],\n",
            "        [0.3000],\n",
            "        [0.3200],\n",
            "        [0.3400],\n",
            "        [0.3600],\n",
            "        [0.3800],\n",
            "        [0.4000],\n",
            "        [0.4200],\n",
            "        [0.4400],\n",
            "        [0.4600],\n",
            "        [0.4800],\n",
            "        [0.5000],\n",
            "        [0.5200],\n",
            "        [0.5400],\n",
            "        [0.5600],\n",
            "        [0.5800],\n",
            "        [0.6000],\n",
            "        [0.6200],\n",
            "        [0.6400],\n",
            "        [0.6600],\n",
            "        [0.6800],\n",
            "        [0.7000],\n",
            "        [0.7200],\n",
            "        [0.7400],\n",
            "        [0.7600],\n",
            "        [0.7800],\n",
            "        [0.8000],\n",
            "        [0.8200],\n",
            "        [0.8400],\n",
            "        [0.8600],\n",
            "        [0.8800],\n",
            "        [0.9000],\n",
            "        [0.9200],\n",
            "        [0.9400],\n",
            "        [0.9600],\n",
            "        [0.9800]])\n",
            "torch.Size([50, 1])\n"
          ]
        }
      ]
    },
    {
      "cell_type": "code",
      "source": [
        "len(X), len(Y)"
      ],
      "metadata": {
        "colab": {
          "base_uri": "https://localhost:8080/"
        },
        "id": "GG-L9jxnX32M",
        "outputId": "c38648ac-d78f-4ffd-8ec1-a1b0d346d6cb"
      },
      "execution_count": 30,
      "outputs": [
        {
          "output_type": "execute_result",
          "data": {
            "text/plain": [
              "(50, 50)"
            ]
          },
          "metadata": {},
          "execution_count": 30
        }
      ]
    },
    {
      "cell_type": "markdown",
      "source": [
        "### Spliting Data in Training and Split"
      ],
      "metadata": {
        "id": "kvlXZmfxYl4s"
      }
    },
    {
      "cell_type": "code",
      "source": [
        "# xreate a train test split\n",
        "\n",
        "train_split =int(0.8*len(X)) # used as an index\n",
        "print(train_split)\n",
        "x_train, y_train = X_rs[:train_split], Y[:train_split]  # First 80% for training\n",
        "x_test, y_test = X_rs[train_split:], Y[train_split:]    # Last 20% for testing\n",
        "\n",
        "print(\"Train size:\", len(x_train), len(y_train))\n",
        "print(\"Test size:\", len(x_test), len(y_test))"
      ],
      "metadata": {
        "colab": {
          "base_uri": "https://localhost:8080/"
        },
        "id": "myZr3HQlYudw",
        "outputId": "22ddebff-5a54-4021-a123-c02a0a926416"
      },
      "execution_count": 31,
      "outputs": [
        {
          "output_type": "stream",
          "name": "stdout",
          "text": [
            "40\n",
            "Train size: 40 40\n",
            "Test size: 10 10\n"
          ]
        }
      ]
    },
    {
      "cell_type": "markdown",
      "source": [
        "#### Building a function to visualize the data\n",
        "Visualzie, visualize\n"
      ],
      "metadata": {
        "id": "yULOTgwZ2PHB"
      }
    },
    {
      "cell_type": "code",
      "source": [
        "def plot_prediction(train_data = x_train,\n",
        "                    train_label = y_train,\n",
        "                    test_data = x_test,\n",
        "                    test_label = y_test,\n",
        "                    prediction = None):\n",
        "  plt.figure(figsize = (10,7))\n",
        "  #Plot Training data in blue\n",
        "  plt.scatter(train_data, train_label, c='b', s=4, label = 'Training Data')\n",
        "  # plot tets data in green\n",
        "  plt.scatter(test_data, test_label, c = 'g', s= 4, label = 'Test_data')\n",
        "  if prediction is not None:\n",
        "    plt.scatter(test_data, prediction, c='r', s= 4, label = 'Prediction')\n",
        "\n",
        "  plt.legend()"
      ],
      "metadata": {
        "id": "33x4dYH-2Lz0"
      },
      "execution_count": 32,
      "outputs": []
    },
    {
      "cell_type": "code",
      "source": [
        "plot_prediction()"
      ],
      "metadata": {
        "colab": {
          "base_uri": "https://localhost:8080/",
          "height": 460
        },
        "id": "Fj5y_vLA4dLK",
        "outputId": "fae18f44-140d-43b0-a0c7-26e6a15f58e1"
      },
      "execution_count": null,
      "outputs": [
        {
          "output_type": "display_data",
          "data": {
            "text/plain": [
              "<Figure size 1000x700 with 1 Axes>"
            ],
            "image/png": "[encoded data removed]"
          },
          "metadata": {}
        }
      ]
    },
    {
      "cell_type": "markdown",
      "source": [
        "#### Building our first PyTorch Model"
      ],
      "metadata": {
        "id": "eTlH6bD_5v_-"
      }
    },
    {
      "cell_type": "code",
      "source": [
        "class LinearRegressionModel(nn.Module):# almost everithing in pytorch inherit eith nn.Module\n",
        " def __init__(self):\n",
        "  super().__init__()\n",
        "  #Define weights and bias as learnable parameters(Model Parameters)\n",
        "  self.weights =nn.Parameter(torch.randn(1,\n",
        "                                         requires_grad=True,\n",
        "                                         dtype = torch.float))\n",
        "  self.bias = nn.Parameter(torch.randn(1,\n",
        "                                        requires_grad=True,\n",
        "                                        dtype = torch.float))\n",
        "\n",
        "  # forward\n",
        "  def forward(self,x ):\n",
        "    return self.weights * x + self.bias"
      ],
      "metadata": {
        "id": "v5zIx2F_93Wq"
      },
      "execution_count": null,
      "outputs": []
    },
    {
      "cell_type": "markdown",
      "source": [
        "There are two main algorithms to make the parametrs adjust or lrarning:\n",
        "1. Gradient Descet\n",
        "2. Back Propagation"
      ],
      "metadata": {
        "id": "7Sp6mrLqLyKF"
      }
    },
    {
      "cell_type": "markdown",
      "source": [
        "### Pytorch Model Building Esentials:\n",
        "* torch.nn - Cntains all of the buidings for computational graph(Neural Network)\n",
        "* nn.Parameters - what parameters should our model try and learn, often a PyTorch LAyer from torch.nn will set these for us.\n",
        "* torch.nnn.Module - the base class for all NN modules\n",
        "* torch.optim - this where Optimizers live and have gradient descent\n",
        "* def forward () - All nn.Module subclasses require you to overwrite forward(), this method define what happens in the forward computation."
      ],
      "metadata": {
        "id": "LbIVruBiPlBE"
      }
    },
    {
      "cell_type": "code",
      "source": [
        "# random seed : these random values are now deterministic.\n",
        "torch.manual_seed(42)\n",
        "# Model Parameters (instance of the model)\n",
        "model_0 = LinearRegressionModel()\n",
        "\n",
        "print(list(model_0.parameters()))\n",
        "# Returns a dictionary containing all the parameters\n",
        "#and their associated names as key-value pairs.\n",
        "print(model_0.state_dict())"
      ],
      "metadata": {
        "colab": {
          "base_uri": "https://localhost:8080/"
        },
        "id": "2wpR_NB-MAAI",
        "outputId": "95ead2fd-5b44-4a35-f799-aeaa94d9e156"
      },
      "execution_count": null,
      "outputs": [
        {
          "output_type": "stream",
          "name": "stdout",
          "text": [
            "[Parameter containing:\n",
            "tensor([0.3367], requires_grad=True), Parameter containing:\n",
            "tensor([0.1288], requires_grad=True)]\n",
            "OrderedDict([('weights', tensor([0.3367])), ('bias', tensor([0.1288]))])\n"
          ]
        }
      ]
    }
  ]
}