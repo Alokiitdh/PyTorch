{
  "nbformat": 4,
  "nbformat_minor": 0,
  "metadata": {
    "colab": {
      "provenance": [],
      "authorship_tag": "ABX9TyOtCEJuEYj2r1HhlJYwXbvd"
    },
    "kernelspec": {
      "name": "python3",
      "display_name": "Python 3"
    },
    "language_info": {
      "name": "python"
    }
  },
  "cells": [
    {
      "cell_type": "markdown",
      "source": [
        "# Pytorch WorkFlow"
      ],
      "metadata": {
        "id": "1mWKwvqMRqNT"
      }
    },
    {
      "cell_type": "markdown",
      "source": [
        "#### What we are Covering\n",
        "\n",
        "1. Data Prepare and Load\n",
        "2. Build model\n",
        "3. Fitting the model to data (Training)\n",
        "4. Making Predictions and evaluating a model (inference)\n",
        "5. Save and Reload a model\n",
        "6. Putting it all together\n"
      ],
      "metadata": {
        "id": "r4WcnQ5xRv51"
      }
    },
    {
      "cell_type": "code",
      "execution_count": 193,
      "metadata": {
        "id": "4dzGOjyYVygZ"
      },
      "outputs": [],
      "source": [
        "import torch\n",
        "from torch import nn\n",
        "import matplotlib.pyplot as plt"
      ]
    },
    {
      "cell_type": "markdown",
      "source": [
        "## 1. Data Prepare and Load\n",
        "\n",
        "Data can be anything in MAchine LEarning\n",
        "\n",
        "1.   excel SPreadsheet\n",
        "2.   Images of any kind\n",
        "3.   Videos (YouTube has lots of data ...)\n",
        "4. Audio like songs or podcasts\n",
        "5. DNA\n",
        "6. Texts\n",
        "\n",
        "MAchine LEarning is a game of two parts\n",
        "1. Get Data in to a numerical representations\n",
        "2. Build a model to learn patters in that numerical representation,\n",
        "\n",
        "To showcase this lets create some *Known* data using the linear regression formula.\n",
        "\n",
        "We will use a linear regression formula to make straight line with *Known* Parameters"
      ],
      "metadata": {
        "id": "2qx9y7O2Uykg"
      }
    },
    {
      "cell_type": "code",
      "source": [
        "num = torch.randn(size = (2,2,2))\n",
        "print(num.shape)\n",
        "num2= num.unsqueeze(dim = 1)\n",
        "print(num2.shape)"
      ],
      "metadata": {
        "colab": {
          "base_uri": "https://localhost:8080/"
        },
        "id": "nTSQqPst3p9D",
        "outputId": "1b7baa1e-13ee-42d2-ed21-678394dd1a3f"
      },
      "execution_count": 194,
      "outputs": [
        {
          "output_type": "stream",
          "name": "stdout",
          "text": [
            "torch.Size([2, 2, 2])\n",
            "torch.Size([2, 1, 2, 2])\n"
          ]
        }
      ]
    },
    {
      "cell_type": "code",
      "source": [
        "# revision\n",
        "tensor = torch.rand(1)\n",
        "print(tensor)\n",
        "tensor2 = torch.randn(1)\n",
        "print(tensor2)\n",
        "print(tensor2.dtype)\n",
        "\n",
        "range_tensor = torch.arange(0,11,2)\n",
        "print(range_tensor)\n",
        "print(range_tensor.dtype)\n",
        "for i in range(len(range_tensor)):\n",
        "  print(range_tensor[i])\n",
        "\n",
        "\n",
        "chnged = range_tensor.type(torch.float32)\n",
        "print(chnged.dtype)\n"
      ],
      "metadata": {
        "colab": {
          "base_uri": "https://localhost:8080/"
        },
        "id": "01WteXyWsxvc",
        "outputId": "17dd2ab9-c4b6-4ab3-9355-0d8be356e5df"
      },
      "execution_count": 195,
      "outputs": [
        {
          "output_type": "stream",
          "name": "stdout",
          "text": [
            "tensor([0.2696])\n",
            "tensor([-1.4285])\n",
            "torch.float32\n",
            "tensor([ 0,  2,  4,  6,  8, 10])\n",
            "torch.int64\n",
            "tensor(0)\n",
            "tensor(2)\n",
            "tensor(4)\n",
            "tensor(6)\n",
            "tensor(8)\n",
            "tensor(10)\n",
            "torch.float32\n"
          ]
        }
      ]
    },
    {
      "cell_type": "code",
      "source": [
        "1 # Create Known Parameters\n",
        "weight = 0.7\n",
        "bias = 0.3\n",
        "\n",
        "start = 0\n",
        "end = 1\n",
        "steps = 0.02\n",
        "\n",
        "X = torch.arange(start, end, steps)\n",
        "X_rs= torch.reshape(X, shape = (len(X), 1))\n",
        "print(X_rs)\n",
        "print(X_rs.shape)\n",
        "Y = weight*X_rs + bias\n",
        "# Adding  some noise\n",
        "#noise =  torch.randn_like(Y_) *.1\n",
        "#Y= Y_ + noise\n",
        "#print(Y)"
      ],
      "metadata": {
        "colab": {
          "base_uri": "https://localhost:8080/"
        },
        "id": "4-TrfZ3aU34B",
        "outputId": "c81a6320-988f-4d3b-c93b-81559a25ad5d"
      },
      "execution_count": 209,
      "outputs": [
        {
          "output_type": "stream",
          "name": "stdout",
          "text": [
            "tensor([[0.0000],\n",
            "        [0.0200],\n",
            "        [0.0400],\n",
            "        [0.0600],\n",
            "        [0.0800],\n",
            "        [0.1000],\n",
            "        [0.1200],\n",
            "        [0.1400],\n",
            "        [0.1600],\n",
            "        [0.1800],\n",
            "        [0.2000],\n",
            "        [0.2200],\n",
            "        [0.2400],\n",
            "        [0.2600],\n",
            "        [0.2800],\n",
            "        [0.3000],\n",
            "        [0.3200],\n",
            "        [0.3400],\n",
            "        [0.3600],\n",
            "        [0.3800],\n",
            "        [0.4000],\n",
            "        [0.4200],\n",
            "        [0.4400],\n",
            "        [0.4600],\n",
            "        [0.4800],\n",
            "        [0.5000],\n",
            "        [0.5200],\n",
            "        [0.5400],\n",
            "        [0.5600],\n",
            "        [0.5800],\n",
            "        [0.6000],\n",
            "        [0.6200],\n",
            "        [0.6400],\n",
            "        [0.6600],\n",
            "        [0.6800],\n",
            "        [0.7000],\n",
            "        [0.7200],\n",
            "        [0.7400],\n",
            "        [0.7600],\n",
            "        [0.7800],\n",
            "        [0.8000],\n",
            "        [0.8200],\n",
            "        [0.8400],\n",
            "        [0.8600],\n",
            "        [0.8800],\n",
            "        [0.9000],\n",
            "        [0.9200],\n",
            "        [0.9400],\n",
            "        [0.9600],\n",
            "        [0.9800]])\n",
            "torch.Size([50, 1])\n"
          ]
        }
      ]
    },
    {
      "cell_type": "code",
      "source": [
        "len(X), len(Y)"
      ],
      "metadata": {
        "colab": {
          "base_uri": "https://localhost:8080/"
        },
        "id": "GG-L9jxnX32M",
        "outputId": "9e0e14e8-a15e-4f3b-b23a-bb84c6553627"
      },
      "execution_count": 210,
      "outputs": [
        {
          "output_type": "execute_result",
          "data": {
            "text/plain": [
              "(50, 50)"
            ]
          },
          "metadata": {},
          "execution_count": 210
        }
      ]
    },
    {
      "cell_type": "markdown",
      "source": [
        "### Spliting Data in Training and Split"
      ],
      "metadata": {
        "id": "kvlXZmfxYl4s"
      }
    },
    {
      "cell_type": "code",
      "source": [
        "# xreate a train test split\n",
        "\n",
        "train_split =int(0.8*len(X)) # used as an index\n",
        "print(train_split)\n",
        "x_train, y_train = X_rs[:train_split], Y[:train_split]  # First 80% for training\n",
        "x_test, y_test = X_rs[train_split:], Y[train_split:]    # Last 20% for testing\n",
        "\n",
        "print(\"Train size:\", len(x_train), len(y_train))\n",
        "print(\"Test size:\", len(x_test), len(y_test))"
      ],
      "metadata": {
        "colab": {
          "base_uri": "https://localhost:8080/"
        },
        "id": "myZr3HQlYudw",
        "outputId": "f4bdb678-f27e-4aa8-bf7a-42aa9d6ab884"
      },
      "execution_count": 211,
      "outputs": [
        {
          "output_type": "stream",
          "name": "stdout",
          "text": [
            "40\n",
            "Train size: 40 40\n",
            "Test size: 10 10\n"
          ]
        }
      ]
    },
    {
      "cell_type": "markdown",
      "source": [
        "#### Building a function to visualize the data\n",
        "Visualzie, visualize\n"
      ],
      "metadata": {
        "id": "yULOTgwZ2PHB"
      }
    },
    {
      "cell_type": "code",
      "source": [
        "def plot_prediction(train_data = x_train,\n",
        "                    train_label = y_train,\n",
        "                    test_data = x_test,\n",
        "                    test_label = y_test,\n",
        "                    prediction = None):\n",
        "  plt.figure(figsize = (10,7))\n",
        "  #Plot Training data in blue\n",
        "  plt.scatter(train_data, train_label, c='b', s=4, label = 'Training Data')\n",
        "  # plot tets data in green\n",
        "  plt.scatter(test_data, test_label, c = 'g', s= 4, label = 'Test_data')\n",
        "  if prediction is not None:\n",
        "    plt.scatter(test_data, prediction, c='r', s= 4, label = 'Prediction')\n",
        "\n",
        "  plt.legend()"
      ],
      "metadata": {
        "id": "33x4dYH-2Lz0"
      },
      "execution_count": 212,
      "outputs": []
    },
    {
      "cell_type": "code",
      "source": [
        "plot_prediction()"
      ],
      "metadata": {
        "colab": {
          "base_uri": "https://localhost:8080/",
          "height": 470
        },
        "id": "Fj5y_vLA4dLK",
        "outputId": "c81ec8e1-c7c8-4147-bb85-ec20e071725c"
      },
      "execution_count": 213,
      "outputs": [
        {
          "output_type": "display_data",
          "data": {
            "text/plain": [
              "<Figure size 1000x700 with 1 Axes>"
            ],
            "image/png": "[encoded data removed]"
          },
          "metadata": {}
        }
      ]
    },
    {
      "cell_type": "markdown",
      "source": [
        "#### Building our first PyTorch Model"
      ],
      "metadata": {
        "id": "eTlH6bD_5v_-"
      }
    },
    {
      "cell_type": "code",
      "source": [
        "class LinearRegressionModel(nn.Module):\n",
        "  def __init__(self):\n",
        "    super().__init__()\n",
        "  #Define weights and bias as learnable parameters(Model Parameters)\n",
        "    self.weights =nn.Parameter(torch.randn(1,\n",
        "                                         requires_grad=True,\n",
        "                                         dtype = torch.float))\n",
        "    self.bias = nn.Parameter(torch.randn(1,\n",
        "                                        requires_grad=True,\n",
        "                                        dtype = torch.float))\n",
        "\n",
        "# forward\n",
        "  def forward(self,x ):\n",
        "    return self.weights * x + self.bias"
      ],
      "metadata": {
        "id": "v5zIx2F_93Wq"
      },
      "execution_count": 214,
      "outputs": []
    },
    {
      "cell_type": "markdown",
      "source": [
        "There are two main algorithms to make the parametrs adjust or lrarning:\n",
        "1. Gradient Descet\n",
        "2. Back Propagation"
      ],
      "metadata": {
        "id": "7Sp6mrLqLyKF"
      }
    },
    {
      "cell_type": "markdown",
      "source": [
        "### Pytorch Model Building Esentials:\n",
        "* torch.nn - Cntains all of the buidings for computational graph(Neural Network)\n",
        "* nn.Parameters - what parameters should our model try and learn, often a PyTorch LAyer from torch.nn will set these for us.\n",
        "* torch.nnn.Module - the base class for all NN modules\n",
        "* torch.optim - this where Optimizers live and have gradient descent\n",
        "* def forward () - All nn.Module subclasses require you to overwrite forward(), this method define what happens in the forward computation."
      ],
      "metadata": {
        "id": "LbIVruBiPlBE"
      }
    },
    {
      "cell_type": "code",
      "source": [
        "# random seed : these random values are now deterministic.\n",
        "torch.manual_seed(42)\n",
        "# Model Parameters (instance of the model)\n",
        "model_0 = LinearRegressionModel()\n",
        "\n",
        "print(list(model_0.parameters()))\n",
        "# Returns a dictionary containing all the parameters\n",
        "#and their associated names as key-value pairs.\n",
        "print(model_0.state_dict())"
      ],
      "metadata": {
        "colab": {
          "base_uri": "https://localhost:8080/"
        },
        "id": "2wpR_NB-MAAI",
        "outputId": "389b6c87-cbe0-4214-b8f8-5cdefbbeadf3"
      },
      "execution_count": 215,
      "outputs": [
        {
          "output_type": "stream",
          "name": "stdout",
          "text": [
            "[Parameter containing:\n",
            "tensor([0.3367], requires_grad=True), Parameter containing:\n",
            "tensor([0.1288], requires_grad=True)]\n",
            "OrderedDict([('weights', tensor([0.3367])), ('bias', tensor([0.1288]))])\n"
          ]
        }
      ]
    },
    {
      "cell_type": "code",
      "source": [
        "x_test, y_test"
      ],
      "metadata": {
        "colab": {
          "base_uri": "https://localhost:8080/"
        },
        "id": "rDkruOph2Eu_",
        "outputId": "ab357e21-79fe-40d3-9361-3a6d7185bd4c"
      },
      "execution_count": 216,
      "outputs": [
        {
          "output_type": "execute_result",
          "data": {
            "text/plain": [
              "(tensor([[0.8000],\n",
              "         [0.8200],\n",
              "         [0.8400],\n",
              "         [0.8600],\n",
              "         [0.8800],\n",
              "         [0.9000],\n",
              "         [0.9200],\n",
              "         [0.9400],\n",
              "         [0.9600],\n",
              "         [0.9800]]),\n",
              " tensor([[0.8600],\n",
              "         [0.8740],\n",
              "         [0.8880],\n",
              "         [0.9020],\n",
              "         [0.9160],\n",
              "         [0.9300],\n",
              "         [0.9440],\n",
              "         [0.9580],\n",
              "         [0.9720],\n",
              "         [0.9860]]))"
            ]
          },
          "metadata": {},
          "execution_count": 216
        }
      ]
    },
    {
      "cell_type": "markdown",
      "source": [
        "link: https://www.learnpytorch.io/01_pytorch_workflow/"
      ],
      "metadata": {
        "id": "XAuYHpjC46aP"
      }
    },
    {
      "cell_type": "code",
      "source": [
        "with torch.inference_mode(): #\n",
        "  y_preds = model_0(x_test)\n",
        "  print(y_preds)\n",
        "  plot_prediction(prediction = y_preds)\n"
      ],
      "metadata": {
        "colab": {
          "base_uri": "https://localhost:8080/",
          "height": 644
        },
        "id": "DoMYfGg40unl",
        "outputId": "502d74d7-4df8-47f4-b340-5dba58a7a994"
      },
      "execution_count": 217,
      "outputs": [
        {
          "output_type": "stream",
          "name": "stdout",
          "text": [
            "tensor([[0.3982],\n",
            "        [0.4049],\n",
            "        [0.4116],\n",
            "        [0.4184],\n",
            "        [0.4251],\n",
            "        [0.4318],\n",
            "        [0.4386],\n",
            "        [0.4453],\n",
            "        [0.4520],\n",
            "        [0.4588]])\n"
          ]
        },
        {
          "output_type": "display_data",
          "data": {
            "text/plain": [
              "<Figure size 1000x700 with 1 Axes>"
            ],
            "image/png": "[encoded data removed]"
          },
          "metadata": {}
        }
      ]
    },
    {
      "cell_type": "markdown",
      "source": [
        "### Training Our model:\n",
        "Moving model from unknown parameters to known parameters\n",
        "1. HOw wrong the momedl prediction are we will use LOSS FUNCTIONS\n",
        "2. Optimizer: adjust the weights and biases od = fthe model\n",
        "\n",
        "NOTE: Loss function may be called as cost function\n",
        "\n",
        "For PyTorch we need\n",
        "* A Training Loop\n",
        "* A Testing Loop\n",
        "\n"
      ],
      "metadata": {
        "id": "FLG7_jh85WQw"
      }
    },
    {
      "cell_type": "code",
      "source": [
        "model_0.state_dict()\n"
      ],
      "metadata": {
        "colab": {
          "base_uri": "https://localhost:8080/"
        },
        "id": "u1u6mLeh5fLT",
        "outputId": "4825d91c-21c0-4ea2-8e48-7f8085a7b519"
      },
      "execution_count": 218,
      "outputs": [
        {
          "output_type": "execute_result",
          "data": {
            "text/plain": [
              "OrderedDict([('weights', tensor([0.3367])), ('bias', tensor([0.1288]))])"
            ]
          },
          "metadata": {},
          "execution_count": 218
        }
      ]
    },
    {
      "cell_type": "code",
      "source": [
        "# Set up LOSS Function(MAE)\n",
        "Loss = nn.L1Loss()\n",
        "optimizer = torch.optim.SGD(params = model_0.parameters(), lr= 0.01)"
      ],
      "metadata": {
        "id": "kSw5dGaj-U_W"
      },
      "execution_count": 219,
      "outputs": []
    },
    {
      "cell_type": "markdown",
      "source": [
        "#### Training Loop and Testing Loop Building\n",
        "1. Loop through the data\n",
        "2. forward Pass(Data moving through our model \"forwad\")\n",
        "3. Calculate the Loss(Compareb forwars predictions to ground truth labels)\n",
        "4. Optimizer Zero Grad\n",
        "5. Loss Backward- move backward through the network to calculate the gradient of each of the parameters of our model with respect to the loss(**BackPropagation**)\n",
        "6. Optimizer step- Use the optimizer to adjust our models's parameters to try and improve the loss(**Gradient Descent**)\n"
      ],
      "metadata": {
        "id": "mUn5-biFF-CS"
      }
    },
    {
      "cell_type": "code",
      "source": [
        "# An Epoch is One loop through the Data\n",
        "epochs = 100\n",
        "\n",
        "# 1. Loop through the data\n",
        "\n",
        "for epoch in range(epochs):\n",
        "  # set the model to training mode\n",
        "  model_0.train() # Turn on grad\n",
        "\n",
        "  # 2. Forward Pass\n",
        "  y_preds = model_0(x_train)\n",
        "\n",
        "  # 3. Calculate the loss\n",
        "\n",
        "  loss = Loss(y_preds, y_train)\n",
        "\n",
        "  # 4. Optimizer zer grad\n",
        "  optimizer.zero_grad()\n",
        "\n",
        "  # 5. Perform Backpropagation\n",
        "  loss.backward()\n",
        "\n",
        "  # 6. Step the optimizer\n",
        "\n",
        "  optimizer.step()\n",
        "\n",
        "\n",
        "#### Testing\n",
        "  model_0.eval()\n",
        "  with torch.inference_mode():\n",
        "    test_pred = model_0(x_test)\n",
        "    test_loss = Loss(test_pred, y_test)\n",
        "\n",
        "  if epoch % 10 == 0:\n",
        "    print(f'Epoch: {epoch} | Loss: {loss} | Test Loss: {test_loss}')\n",
        "    print(f'Weight: {model_0.weights.item()},  Bias: {model_0.bias.item()}')\n"
      ],
      "metadata": {
        "colab": {
          "base_uri": "https://localhost:8080/"
        },
        "id": "yYedDu-aF7V7",
        "outputId": "4d56baee-e460-4cc0-c883-6b78ce8a2007"
      },
      "execution_count": 222,
      "outputs": [
        {
          "output_type": "stream",
          "name": "stdout",
          "text": [
            "Epoch: 0 | Loss: 0.0072835334576666355 | Test Loss: 0.016474086791276932\n",
            "Weight: 0.6654107570648193,  Bias: 0.31431034207344055\n",
            "Epoch: 10 | Loss: 0.0038517764769494534 | Test Loss: 0.008201557211577892\n",
            "Weight: 0.6825708150863647,  Bias: 0.30731043219566345\n",
            "Epoch: 20 | Loss: 0.008932482451200485 | Test Loss: 0.005023092031478882\n",
            "Weight: 0.6951308250427246,  Bias: 0.29931047558784485\n",
            "Epoch: 30 | Loss: 0.008932482451200485 | Test Loss: 0.005023092031478882\n",
            "Weight: 0.6951308250427246,  Bias: 0.29931047558784485\n",
            "Epoch: 40 | Loss: 0.008932482451200485 | Test Loss: 0.005023092031478882\n",
            "Weight: 0.6951308250427246,  Bias: 0.29931047558784485\n",
            "Epoch: 50 | Loss: 0.008932482451200485 | Test Loss: 0.005023092031478882\n",
            "Weight: 0.6951308250427246,  Bias: 0.29931047558784485\n",
            "Epoch: 60 | Loss: 0.008932482451200485 | Test Loss: 0.005023092031478882\n",
            "Weight: 0.6951308250427246,  Bias: 0.29931047558784485\n",
            "Epoch: 70 | Loss: 0.008932482451200485 | Test Loss: 0.005023092031478882\n",
            "Weight: 0.6951308250427246,  Bias: 0.29931047558784485\n",
            "Epoch: 80 | Loss: 0.008932482451200485 | Test Loss: 0.005023092031478882\n",
            "Weight: 0.6951308250427246,  Bias: 0.29931047558784485\n",
            "Epoch: 90 | Loss: 0.008932482451200485 | Test Loss: 0.005023092031478882\n",
            "Weight: 0.6951308250427246,  Bias: 0.29931047558784485\n"
          ]
        }
      ]
    },
    {
      "cell_type": "code",
      "source": [
        "plt.scatter(x_train, y_train, c='b', label='Training Data')\n",
        "plt.scatter(x_test, y_test, c='g', label='Test Data')\n",
        "plt.scatter(x_test, test_pred, c='r', label='Predictions')\n",
        "plt.legend()\n",
        "plt.show()"
      ],
      "metadata": {
        "colab": {
          "base_uri": "https://localhost:8080/",
          "height": 430
        },
        "id": "VlbP4is3iXpp",
        "outputId": "fe1065d3-1248-4c75-a37a-d65cb538b9ef"
      },
      "execution_count": 223,
      "outputs": [
        {
          "output_type": "display_data",
          "data": {
            "text/plain": [
              "<Figure size 640x480 with 1 Axes>"
            ],
            "image/png": "[encoded data removed]"
          },
          "metadata": {}
        }
      ]
    },
    {
      "cell_type": "code",
      "source": [],
      "metadata": {
        "id": "AOTDOINvWEvF"
      },
      "execution_count": null,
      "outputs": []
    },
    {
      "cell_type": "code",
      "source": [],
      "metadata": {
        "id": "WN2OZbh8WElv"
      },
      "execution_count": null,
      "outputs": []
    }
  ]
}