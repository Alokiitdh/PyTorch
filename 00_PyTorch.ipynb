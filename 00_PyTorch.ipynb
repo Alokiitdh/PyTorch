{
  "nbformat": 4,
  "nbformat_minor": 0,
  "metadata": {
    "colab": {
      "provenance": [],
      "gpuType": "T4"
    },
    "kernelspec": {
      "name": "python3",
      "display_name": "Python 3"
    },
    "language_info": {
      "name": "python"
    },
    "accelerator": "GPU"
  },
  "cells": [
    {
      "cell_type": "code",
      "execution_count": null,
      "metadata": {
        "colab": {
          "base_uri": "https://localhost:8080/"
        },
        "id": "IuoTR915tMsx",
        "outputId": "9fdcd98a-e172-4d2c-c522-5ee16082b67e"
      },
      "outputs": [
        {
          "output_type": "stream",
          "name": "stdout",
          "text": [
            "2.5.1+cu121\n"
          ]
        }
      ],
      "source": [
        "import torch\n",
        "import pandas as pd\n",
        "import numpy as np\n",
        "import matplotlib.pyplot as plt\n",
        "\n",
        "print(torch.__version__)"
      ]
    },
    {
      "cell_type": "code",
      "source": [
        "scalar = torch.tensor(7)\n",
        "scalar"
      ],
      "metadata": {
        "colab": {
          "base_uri": "https://localhost:8080/"
        },
        "id": "PyybpL3By2Zx",
        "outputId": "5d47c685-672b-45c9-df9e-00378f269d48"
      },
      "execution_count": null,
      "outputs": [
        {
          "output_type": "execute_result",
          "data": {
            "text/plain": [
              "tensor(7)"
            ]
          },
          "metadata": {},
          "execution_count": 5
        }
      ]
    },
    {
      "cell_type": "code",
      "source": [
        "scalar.ndim"
      ],
      "metadata": {
        "colab": {
          "base_uri": "https://localhost:8080/"
        },
        "id": "yZQZKENL056P",
        "outputId": "53aa393d-54e5-4084-a06d-d58134821719"
      },
      "execution_count": null,
      "outputs": [
        {
          "output_type": "execute_result",
          "data": {
            "text/plain": [
              "0"
            ]
          },
          "metadata": {},
          "execution_count": 6
        }
      ]
    },
    {
      "cell_type": "code",
      "source": [
        "vector = torch.tensor([2,2])\n",
        "vector"
      ],
      "metadata": {
        "colab": {
          "base_uri": "https://localhost:8080/"
        },
        "id": "5C37LNNf1efH",
        "outputId": "aad923fe-858d-4004-925a-ae7b8eda361c"
      },
      "execution_count": null,
      "outputs": [
        {
          "output_type": "execute_result",
          "data": {
            "text/plain": [
              "tensor([2, 2])"
            ]
          },
          "metadata": {},
          "execution_count": 7
        }
      ]
    },
    {
      "cell_type": "code",
      "source": [
        "vector.ndim # one square bracket"
      ],
      "metadata": {
        "colab": {
          "base_uri": "https://localhost:8080/"
        },
        "id": "d3dBT_f71o0l",
        "outputId": "05571403-ee64-4f0d-85bd-0815cb1332a9"
      },
      "execution_count": null,
      "outputs": [
        {
          "output_type": "execute_result",
          "data": {
            "text/plain": [
              "1"
            ]
          },
          "metadata": {},
          "execution_count": 8
        }
      ]
    },
    {
      "cell_type": "code",
      "source": [
        "vector.shape"
      ],
      "metadata": {
        "colab": {
          "base_uri": "https://localhost:8080/"
        },
        "id": "xlaavf2a3zsN",
        "outputId": "751965b6-a5e5-4c8d-907c-ad8d9510cdbd"
      },
      "execution_count": null,
      "outputs": [
        {
          "output_type": "execute_result",
          "data": {
            "text/plain": [
              "torch.Size([2])"
            ]
          },
          "metadata": {},
          "execution_count": 10
        }
      ]
    },
    {
      "cell_type": "code",
      "source": [
        "matrix = torch.tensor([[7,8],[9,10]])\n",
        "matrix"
      ],
      "metadata": {
        "colab": {
          "base_uri": "https://localhost:8080/"
        },
        "id": "NFZXHZ113ZIp",
        "outputId": "f5bdd67d-becf-4433-a1e8-c9af21fddbbe"
      },
      "execution_count": null,
      "outputs": [
        {
          "output_type": "execute_result",
          "data": {
            "text/plain": [
              "tensor([[ 7,  8],\n",
              "        [ 9, 10]])"
            ]
          },
          "metadata": {},
          "execution_count": 9
        }
      ]
    },
    {
      "cell_type": "code",
      "source": [
        "matrix.ndim # two square brackets"
      ],
      "metadata": {
        "colab": {
          "base_uri": "https://localhost:8080/"
        },
        "id": "XuAVWmPx3oLG",
        "outputId": "6aa321a1-fcbe-41af-80c4-ba498a201eab"
      },
      "execution_count": null,
      "outputs": [
        {
          "output_type": "execute_result",
          "data": {
            "text/plain": [
              "2"
            ]
          },
          "metadata": {},
          "execution_count": 11
        }
      ]
    },
    {
      "cell_type": "code",
      "source": [
        "matrix.shape"
      ],
      "metadata": {
        "colab": {
          "base_uri": "https://localhost:8080/"
        },
        "id": "33tzWubX355Z",
        "outputId": "88f62d8c-fc51-4d5c-db0d-5c97e663cf5f"
      },
      "execution_count": null,
      "outputs": [
        {
          "output_type": "execute_result",
          "data": {
            "text/plain": [
              "torch.Size([2, 2])"
            ]
          },
          "metadata": {},
          "execution_count": 12
        }
      ]
    },
    {
      "cell_type": "code",
      "source": [
        "# Tensor\n",
        "tensor = torch.tensor([[[1,2,3],[3,5,2],[3,5,2]]])\n",
        "tensor"
      ],
      "metadata": {
        "colab": {
          "base_uri": "https://localhost:8080/"
        },
        "id": "DQbnpNVa4HV3",
        "outputId": "0c740934-f3ec-4a65-83f8-440df7745f52"
      },
      "execution_count": null,
      "outputs": [
        {
          "output_type": "execute_result",
          "data": {
            "text/plain": [
              "tensor([[[1, 2, 3],\n",
              "         [3, 5, 2],\n",
              "         [3, 5, 2]]])"
            ]
          },
          "metadata": {},
          "execution_count": 13
        }
      ]
    },
    {
      "cell_type": "code",
      "source": [
        "tensor.ndim\n"
      ],
      "metadata": {
        "colab": {
          "base_uri": "https://localhost:8080/"
        },
        "id": "2L2BmyC_4guR",
        "outputId": "33b91cc6-799b-4ed5-bf00-1cd362d18228"
      },
      "execution_count": null,
      "outputs": [
        {
          "output_type": "execute_result",
          "data": {
            "text/plain": [
              "3"
            ]
          },
          "metadata": {},
          "execution_count": 14
        }
      ]
    },
    {
      "cell_type": "code",
      "source": [
        "tensor.shape"
      ],
      "metadata": {
        "colab": {
          "base_uri": "https://localhost:8080/"
        },
        "id": "2OBPky2P4j0Z",
        "outputId": "697fa464-1a6a-4065-c17a-8ac7399f0b2e"
      },
      "execution_count": null,
      "outputs": [
        {
          "output_type": "execute_result",
          "data": {
            "text/plain": [
              "torch.Size([1, 3, 3])"
            ]
          },
          "metadata": {},
          "execution_count": 15
        }
      ]
    },
    {
      "cell_type": "markdown",
      "source": [
        "# Random Tensors\n",
        "\n",
        "why random numbers?\n",
        "\n"
      ],
      "metadata": {
        "id": "ZgvoIohGv6_y"
      }
    },
    {
      "cell_type": "code",
      "source": [
        "random_tensor = torch.rand(3,4)\n",
        "random_tensor"
      ],
      "metadata": {
        "colab": {
          "base_uri": "https://localhost:8080/"
        },
        "id": "yVpx6Ys7v0QL",
        "outputId": "a92531f5-c7f2-4673-91b7-8099c0c3fe82"
      },
      "execution_count": null,
      "outputs": [
        {
          "output_type": "execute_result",
          "data": {
            "text/plain": [
              "tensor([[0.6987, 0.2264, 0.9879, 0.9028],\n",
              "        [0.6668, 0.4337, 0.3814, 0.5218],\n",
              "        [0.5726, 0.2869, 0.4174, 0.5314]])"
            ]
          },
          "metadata": {},
          "execution_count": 3
        }
      ]
    },
    {
      "cell_type": "code",
      "source": [
        "random_tensor.ndim"
      ],
      "metadata": {
        "colab": {
          "base_uri": "https://localhost:8080/"
        },
        "id": "XXYPmwDjyHTH",
        "outputId": "5f5e69de-9025-4fdc-8262-c4a2a6b52934"
      },
      "execution_count": null,
      "outputs": [
        {
          "output_type": "execute_result",
          "data": {
            "text/plain": [
              "2"
            ]
          },
          "metadata": {},
          "execution_count": 5
        }
      ]
    },
    {
      "cell_type": "code",
      "source": [
        "random_tensor.shape"
      ],
      "metadata": {
        "colab": {
          "base_uri": "https://localhost:8080/"
        },
        "id": "KkGPNENjyR1E",
        "outputId": "4048fc23-f318-4002-ad76-b92260625025"
      },
      "execution_count": null,
      "outputs": [
        {
          "output_type": "execute_result",
          "data": {
            "text/plain": [
              "torch.Size([3, 4])"
            ]
          },
          "metadata": {},
          "execution_count": 6
        }
      ]
    },
    {
      "cell_type": "code",
      "source": [
        "random_image_tensor = torch.rand(size=(224,224,3))\n",
        "random_image_tensor.shape, random_image_tensor.ndim"
      ],
      "metadata": {
        "colab": {
          "base_uri": "https://localhost:8080/"
        },
        "id": "c1amHm5GyiWf",
        "outputId": "d62889f1-18e6-4e31-97a3-c55e6f37b450"
      },
      "execution_count": null,
      "outputs": [
        {
          "output_type": "execute_result",
          "data": {
            "text/plain": [
              "(torch.Size([224, 224, 3]), 3)"
            ]
          },
          "metadata": {},
          "execution_count": 7
        }
      ]
    },
    {
      "cell_type": "code",
      "source": [
        "random_im_tn = torch.rand(3, 224,224)\n",
        "random_im_tn.shape, random_im_tn.ndim"
      ],
      "metadata": {
        "colab": {
          "base_uri": "https://localhost:8080/"
        },
        "id": "coLwZU2w0EMM",
        "outputId": "1804837b-e12c-41c7-afbf-7c555b372e4c"
      },
      "execution_count": null,
      "outputs": [
        {
          "output_type": "execute_result",
          "data": {
            "text/plain": [
              "(torch.Size([3, 224, 224]), 3)"
            ]
          },
          "metadata": {},
          "execution_count": 9
        }
      ]
    },
    {
      "cell_type": "markdown",
      "source": [
        "## Zeros and Ones\n"
      ],
      "metadata": {
        "id": "lX9jA9lS1RdC"
      }
    },
    {
      "cell_type": "code",
      "source": [
        "zero = torch.zeros(size = (3,4))\n",
        "zero"
      ],
      "metadata": {
        "colab": {
          "base_uri": "https://localhost:8080/"
        },
        "id": "EP08n6TJ1ceK",
        "outputId": "481495e2-ea66-47da-ea96-2a2354e6cc71"
      },
      "execution_count": null,
      "outputs": [
        {
          "output_type": "execute_result",
          "data": {
            "text/plain": [
              "tensor([[0., 0., 0., 0.],\n",
              "        [0., 0., 0., 0.],\n",
              "        [0., 0., 0., 0.]])"
            ]
          },
          "metadata": {},
          "execution_count": 10
        }
      ]
    },
    {
      "cell_type": "code",
      "source": [
        "ones = torch.ones(size = (3,4))\n",
        "ones"
      ],
      "metadata": {
        "colab": {
          "base_uri": "https://localhost:8080/"
        },
        "id": "pd9uQRp11jZe",
        "outputId": "204a8932-cf27-4dee-ac1d-6cc8777e26d7"
      },
      "execution_count": null,
      "outputs": [
        {
          "output_type": "execute_result",
          "data": {
            "text/plain": [
              "tensor([[1., 1., 1., 1.],\n",
              "        [1., 1., 1., 1.],\n",
              "        [1., 1., 1., 1.]])"
            ]
          },
          "metadata": {},
          "execution_count": 12
        }
      ]
    },
    {
      "cell_type": "code",
      "source": [
        "ones.dtype"
      ],
      "metadata": {
        "colab": {
          "base_uri": "https://localhost:8080/"
        },
        "id": "hKPHDz5p1w3n",
        "outputId": "2dbb6b68-6505-480c-c183-20fc6ee86ff1"
      },
      "execution_count": null,
      "outputs": [
        {
          "output_type": "execute_result",
          "data": {
            "text/plain": [
              "torch.float32"
            ]
          },
          "metadata": {},
          "execution_count": 14
        }
      ]
    },
    {
      "cell_type": "markdown",
      "source": [
        "### Creating range of tensors and tensor-like"
      ],
      "metadata": {
        "id": "1_sq_JHa2J6y"
      }
    },
    {
      "cell_type": "code",
      "source": [
        "ran =torch.arange(0,11,2)\n",
        "ran"
      ],
      "metadata": {
        "colab": {
          "base_uri": "https://localhost:8080/"
        },
        "id": "i0LRRII02RIW",
        "outputId": "23497bbe-2397-4eba-c1aa-e9bba38adba4"
      },
      "execution_count": null,
      "outputs": [
        {
          "output_type": "execute_result",
          "data": {
            "text/plain": [
              "tensor([ 0,  2,  4,  6,  8, 10])"
            ]
          },
          "metadata": {},
          "execution_count": 18
        }
      ]
    },
    {
      "cell_type": "code",
      "source": [
        "int_64_tensor = torch.tensor([3,4,5], dtype = None,\n",
        "                               device = None,\n",
        "                               requires_grad = False)\n",
        "\n",
        "int_64_tensor"
      ],
      "metadata": {
        "colab": {
          "base_uri": "https://localhost:8080/"
        },
        "id": "HSBZiDTZ9BRX",
        "outputId": "7e37396b-4083-4eeb-afc3-41263a3b79d8"
      },
      "execution_count": null,
      "outputs": [
        {
          "output_type": "execute_result",
          "data": {
            "text/plain": [
              "tensor([3, 4, 5])"
            ]
          },
          "metadata": {},
          "execution_count": 23
        }
      ]
    },
    {
      "cell_type": "code",
      "source": [
        "int_64_tensor.dtype"
      ],
      "metadata": {
        "colab": {
          "base_uri": "https://localhost:8080/"
        },
        "id": "Jfky6WvqyJG2",
        "outputId": "43c75ab3-b45e-4475-e05b-381fed626f9b"
      },
      "execution_count": null,
      "outputs": [
        {
          "output_type": "execute_result",
          "data": {
            "text/plain": [
              "torch.int64"
            ]
          },
          "metadata": {},
          "execution_count": 25
        }
      ]
    },
    {
      "cell_type": "markdown",
      "source": [
        "### changing d type of tensors\n"
      ],
      "metadata": {
        "id": "VgCwY-BKz0uG"
      }
    },
    {
      "cell_type": "code",
      "source": [
        "float_32_tensor = int_64_tensor.type(torch.float32)\n",
        "float_32_tensor.dtype"
      ],
      "metadata": {
        "colab": {
          "base_uri": "https://localhost:8080/"
        },
        "id": "c3cqKHUuycz2",
        "outputId": "71a5da07-7b83-49de-9ff3-0efe195f672b"
      },
      "execution_count": null,
      "outputs": [
        {
          "output_type": "execute_result",
          "data": {
            "text/plain": [
              "torch.float32"
            ]
          },
          "metadata": {},
          "execution_count": 27
        }
      ]
    },
    {
      "cell_type": "code",
      "source": [
        "mul = int_64_tensor * float_32_tensor\n",
        "mul"
      ],
      "metadata": {
        "colab": {
          "base_uri": "https://localhost:8080/"
        },
        "id": "guaA5mqz7iKY",
        "outputId": "d4ef8d39-3778-4624-beda-87551f010ee9"
      },
      "execution_count": null,
      "outputs": [
        {
          "output_type": "execute_result",
          "data": {
            "text/plain": [
              "tensor([ 9., 16., 25.])"
            ]
          },
          "metadata": {},
          "execution_count": 28
        }
      ]
    },
    {
      "cell_type": "code",
      "source": [
        "int_32_tensor = torch.tensor([3,5,8], dtype = torch.int32)\n",
        "int_32_tensor"
      ],
      "metadata": {
        "colab": {
          "base_uri": "https://localhost:8080/"
        },
        "id": "CxFIzygS76Yd",
        "outputId": "ee42a28b-858a-4f35-a843-f539f34973de"
      },
      "execution_count": null,
      "outputs": [
        {
          "output_type": "execute_result",
          "data": {
            "text/plain": [
              "tensor([3, 5, 8], dtype=torch.int32)"
            ]
          },
          "metadata": {},
          "execution_count": 29
        }
      ]
    },
    {
      "cell_type": "code",
      "source": [
        "# Create a arandom tensor\n",
        "\n",
        "ran_tensor = torch.rand(3,4)\n",
        "ran_tensor"
      ],
      "metadata": {
        "colab": {
          "base_uri": "https://localhost:8080/"
        },
        "id": "qfypPHSx9D04",
        "outputId": "b55983b7-24fd-4db3-efe1-df17881f8bd8"
      },
      "execution_count": null,
      "outputs": [
        {
          "output_type": "execute_result",
          "data": {
            "text/plain": [
              "tensor([[0.2723, 0.6804, 0.6877, 0.1069],\n",
              "        [0.4178, 0.9328, 0.3532, 0.6608],\n",
              "        [0.0847, 0.9551, 0.3939, 0.0727]])"
            ]
          },
          "metadata": {},
          "execution_count": 30
        }
      ]
    },
    {
      "cell_type": "code",
      "source": [
        "ran_tensor.max()"
      ],
      "metadata": {
        "colab": {
          "base_uri": "https://localhost:8080/"
        },
        "id": "jxjcNvHo9bi3",
        "outputId": "dbbbf91c-c9ad-43ff-8409-d2313df24994"
      },
      "execution_count": null,
      "outputs": [
        {
          "output_type": "execute_result",
          "data": {
            "text/plain": [
              "tensor(0.9551)"
            ]
          },
          "metadata": {},
          "execution_count": 32
        }
      ]
    },
    {
      "cell_type": "code",
      "source": [
        "ran_tensor.shape"
      ],
      "metadata": {
        "colab": {
          "base_uri": "https://localhost:8080/"
        },
        "id": "D1VgX59G9igp",
        "outputId": "01d545f0-9c18-46fc-961a-bc2756b77e09"
      },
      "execution_count": null,
      "outputs": [
        {
          "output_type": "execute_result",
          "data": {
            "text/plain": [
              "torch.Size([3, 4])"
            ]
          },
          "metadata": {},
          "execution_count": 35
        }
      ]
    },
    {
      "cell_type": "code",
      "source": [
        "ran_tensor.ndim"
      ],
      "metadata": {
        "colab": {
          "base_uri": "https://localhost:8080/"
        },
        "id": "7gh-qgGMBrIs",
        "outputId": "a7358f30-222a-4c46-a17d-e645c9164629"
      },
      "execution_count": null,
      "outputs": [
        {
          "output_type": "execute_result",
          "data": {
            "text/plain": [
              "2"
            ]
          },
          "metadata": {},
          "execution_count": 38
        }
      ]
    },
    {
      "cell_type": "code",
      "source": [
        "ran_tensor.device"
      ],
      "metadata": {
        "colab": {
          "base_uri": "https://localhost:8080/"
        },
        "id": "tLElfOYICLmy",
        "outputId": "ad67218e-68f3-4d41-8b9a-28109dc4d36c"
      },
      "execution_count": null,
      "outputs": [
        {
          "output_type": "execute_result",
          "data": {
            "text/plain": [
              "device(type='cpu')"
            ]
          },
          "metadata": {},
          "execution_count": 40
        }
      ]
    },
    {
      "cell_type": "markdown",
      "source": [
        "### Manipulating Tensors\n",
        "\n",
        "Tensor Operation inclydes\n",
        "1. Addition\n",
        "2. Subtraction\n",
        "3. Multiplication(element-wise)\n",
        "4. division\n",
        "5. Matrix Multiplication(DOT product)"
      ],
      "metadata": {
        "id": "TV06_6xnCmq4"
      }
    },
    {
      "cell_type": "code",
      "source": [
        "# Creating a tensor\n",
        "tensor = torch.randn([1,2,3])\n",
        "tensor"
      ],
      "metadata": {
        "colab": {
          "base_uri": "https://localhost:8080/"
        },
        "id": "qW_MoBBxCpL6",
        "outputId": "5d372048-62ae-41dc-f575-b9d59f9f1f12"
      },
      "execution_count": null,
      "outputs": [
        {
          "output_type": "execute_result",
          "data": {
            "text/plain": [
              "tensor([[[-0.8432, -0.3177, -2.2715],\n",
              "         [-0.2076,  1.5315,  0.5010]]])"
            ]
          },
          "metadata": {},
          "execution_count": 45
        }
      ]
    },
    {
      "cell_type": "code",
      "source": [
        "tensor + 10 # Element wis eAdiition"
      ],
      "metadata": {
        "colab": {
          "base_uri": "https://localhost:8080/"
        },
        "id": "MXGzlFaqEyv3",
        "outputId": "76a8c2e3-eab5-4133-ca7b-a2a548698f91"
      },
      "execution_count": null,
      "outputs": [
        {
          "output_type": "execute_result",
          "data": {
            "text/plain": [
              "tensor([[[ 9.1568,  9.6823,  7.7285],\n",
              "         [ 9.7924, 11.5315, 10.5010]]])"
            ]
          },
          "metadata": {},
          "execution_count": 48
        }
      ]
    },
    {
      "cell_type": "code",
      "source": [
        "tensor * 10 # Element wis emultiplication"
      ],
      "metadata": {
        "colab": {
          "base_uri": "https://localhost:8080/"
        },
        "id": "wTj6XlmgE9p_",
        "outputId": "1ed2a52a-a0b8-48fc-c960-d9ec48b3ea59"
      },
      "execution_count": null,
      "outputs": [
        {
          "output_type": "execute_result",
          "data": {
            "text/plain": [
              "tensor([[[ -8.4323,  -3.1765, -22.7154],\n",
              "         [ -2.0760,  15.3147,   5.0101]]])"
            ]
          },
          "metadata": {},
          "execution_count": 49
        }
      ]
    },
    {
      "cell_type": "code",
      "source": [
        "# Try out pytorcvh functions\n",
        "torch.mul(tensor, 10)"
      ],
      "metadata": {
        "colab": {
          "base_uri": "https://localhost:8080/"
        },
        "id": "7V4X1KJkFHSo",
        "outputId": "5391203a-70ed-4c3c-991c-39df89b4d486"
      },
      "execution_count": null,
      "outputs": [
        {
          "output_type": "execute_result",
          "data": {
            "text/plain": [
              "tensor([[[ -8.4323,  -3.1765, -22.7154],\n",
              "         [ -2.0760,  15.3147,   5.0101]]])"
            ]
          },
          "metadata": {},
          "execution_count": 50
        }
      ]
    },
    {
      "cell_type": "code",
      "source": [
        "### MAtrix Multiplication(Dot Product)\n",
        "# 1. Element wise Matrix mul\n",
        "\n",
        "tensor1= torch.randn(2,3)\n",
        "print(f'Tensor 1: {tensor1}')\n",
        "tensor2 = torch.randn(2,3)\n",
        "print(f'Tensor 2: {tensor2}')"
      ],
      "metadata": {
        "colab": {
          "base_uri": "https://localhost:8080/"
        },
        "id": "r_YVVL3pOeqx",
        "outputId": "4244f586-5412-4fe3-e33f-028e23e03ee9"
      },
      "execution_count": null,
      "outputs": [
        {
          "output_type": "stream",
          "name": "stdout",
          "text": [
            "Tensor 1: tensor([[-1.5489, -0.5228, -0.3234],\n",
            "        [-0.6818,  0.7554, -0.2602]])\n",
            "Tensor 2: tensor([[-0.8021, -0.9995, -0.7600],\n",
            "        [-0.8710,  1.4973, -0.2702]])\n"
          ]
        }
      ]
    },
    {
      "cell_type": "code",
      "source": [
        "tensor_ele = tensor1 * tensor2\n",
        "print(f'Element-wise: {tensor_ele}')"
      ],
      "metadata": {
        "colab": {
          "base_uri": "https://localhost:8080/"
        },
        "id": "shJkVO1fPS8k",
        "outputId": "c13207a7-c772-4604-f032-12b6cde239fb"
      },
      "execution_count": null,
      "outputs": [
        {
          "output_type": "stream",
          "name": "stdout",
          "text": [
            "Element-wisetensor([[1.2424, 0.5225, 0.2458],\n",
            "        [0.5939, 1.1310, 0.0703]])\n"
          ]
        }
      ]
    },
    {
      "cell_type": "code",
      "source": [
        "%%time\n",
        "tensor_mat_mul = torch.matmul(tensor1, tensor2.T)\n",
        "print(f'Matrix Multiplication: {tensor_mat_mul}')"
      ],
      "metadata": {
        "colab": {
          "base_uri": "https://localhost:8080/"
        },
        "id": "LdzHZg67QWW2",
        "outputId": "a5b9e67a-37f9-45b1-f256-ebf9fb8c77df"
      },
      "execution_count": null,
      "outputs": [
        {
          "output_type": "stream",
          "name": "stdout",
          "text": [
            "Matrix Multiplication: tensor([[ 2.0108,  0.6537],\n",
            "        [-0.0103,  1.7952]])\n",
            "CPU times: user 2.72 ms, sys: 2 µs, total: 2.72 ms\n",
            "Wall time: 2.23 ms\n"
          ]
        }
      ]
    },
    {
      "cell_type": "code",
      "source": [
        "tensor_mat_mul.shape\n",
        "tensor_mat_mul.ndim"
      ],
      "metadata": {
        "colab": {
          "base_uri": "https://localhost:8080/"
        },
        "id": "_cKdRjcpQl-d",
        "outputId": "750f4177-8d61-4665-c69a-2d3edaacac1f"
      },
      "execution_count": null,
      "outputs": [
        {
          "output_type": "execute_result",
          "data": {
            "text/plain": [
              "2"
            ]
          },
          "metadata": {},
          "execution_count": 58
        }
      ]
    },
    {
      "cell_type": "markdown",
      "source": [
        "### One of the most common errors in tensor\n",
        "**Two Rules must follows**\n",
        "1. The **Inner dimmension**  must match"
      ],
      "metadata": {
        "id": "KKrDQbGyUOBO"
      }
    },
    {
      "cell_type": "code",
      "source": [
        "tensormul = torch.matmul(torch.rand(3,2), torch.randn(3,2))"
      ],
      "metadata": {
        "colab": {
          "base_uri": "https://localhost:8080/",
          "height": 146
        },
        "id": "neenEBjOUNeR",
        "outputId": "fbe87e92-a01c-49f4-e88e-aba863a5a8ab"
      },
      "execution_count": null,
      "outputs": [
        {
          "output_type": "error",
          "ename": "RuntimeError",
          "evalue": "mat1 and mat2 shapes cannot be multiplied (3x2 and 3x2)",
          "traceback": [
            "\u001b[0;31m---------------------------------------------------------------------------\u001b[0m",
            "\u001b[0;31mRuntimeError\u001b[0m                              Traceback (most recent call last)",
            "\u001b[0;32m<ipython-input-60-1ae42d5b3da4>\u001b[0m in \u001b[0;36m<cell line: 1>\u001b[0;34m()\u001b[0m\n\u001b[0;32m----> 1\u001b[0;31m \u001b[0mtensormul\u001b[0m \u001b[0;34m=\u001b[0m \u001b[0mtorch\u001b[0m\u001b[0;34m.\u001b[0m\u001b[0mmatmul\u001b[0m\u001b[0;34m(\u001b[0m\u001b[0mtorch\u001b[0m\u001b[0;34m.\u001b[0m\u001b[0mrand\u001b[0m\u001b[0;34m(\u001b[0m\u001b[0;36m3\u001b[0m\u001b[0;34m,\u001b[0m\u001b[0;36m2\u001b[0m\u001b[0;34m)\u001b[0m\u001b[0;34m,\u001b[0m \u001b[0mtorch\u001b[0m\u001b[0;34m.\u001b[0m\u001b[0mrandn\u001b[0m\u001b[0;34m(\u001b[0m\u001b[0;36m3\u001b[0m\u001b[0;34m,\u001b[0m\u001b[0;36m2\u001b[0m\u001b[0;34m)\u001b[0m\u001b[0;34m)\u001b[0m\u001b[0;34m\u001b[0m\u001b[0;34m\u001b[0m\u001b[0m\n\u001b[0m",
            "\u001b[0;31mRuntimeError\u001b[0m: mat1 and mat2 shapes cannot be multiplied (3x2 and 3x2)"
          ]
        }
      ]
    },
    {
      "cell_type": "code",
      "source": [
        "tensormul = torch.matmul(torch.rand(3,2), torch.randn(2,3))\n",
        "tensormul"
      ],
      "metadata": {
        "colab": {
          "base_uri": "https://localhost:8080/"
        },
        "id": "9E4r6b4SQ7AJ",
        "outputId": "d00d9581-769e-45d0-f9b9-51c393ea3c53"
      },
      "execution_count": null,
      "outputs": [
        {
          "output_type": "execute_result",
          "data": {
            "text/plain": [
              "tensor([[ 0.8144,  0.7938, -0.1539],\n",
              "        [ 1.6043,  1.4452, -0.4060],\n",
              "        [ 0.6952,  0.5263, -0.2625]])"
            ]
          },
          "metadata": {},
          "execution_count": 64
        }
      ]
    },
    {
      "cell_type": "code",
      "source": [
        "tensor_A= torch.randn([3,2])\n",
        "tensor_B = torch.randn([3,2])\n",
        "\n",
        "tensor_A, tensor_B"
      ],
      "metadata": {
        "colab": {
          "base_uri": "https://localhost:8080/"
        },
        "id": "1Y6AdG8DW8QC",
        "outputId": "8ab0c14a-183e-4dd1-b8f8-b8e123778a64"
      },
      "execution_count": null,
      "outputs": [
        {
          "output_type": "execute_result",
          "data": {
            "text/plain": [
              "(tensor([[-0.9110,  2.1952],\n",
              "         [-0.6692,  0.0918],\n",
              "         [ 0.8700, -0.3560]]),\n",
              " tensor([[-0.3710,  0.9424],\n",
              "         [ 0.9013,  0.4198],\n",
              "         [ 1.2886, -0.1987]]))"
            ]
          },
          "metadata": {},
          "execution_count": 6
        }
      ]
    },
    {
      "cell_type": "code",
      "source": [
        "tensor_mul = torch.mm(tensor_A, tensor_B)\n",
        "tensor_mul"
      ],
      "metadata": {
        "colab": {
          "base_uri": "https://localhost:8080/",
          "height": 164
        },
        "id": "Kn9XFFeuXPPR",
        "outputId": "90683628-3e4a-43ad-9a2b-25a301dcc078"
      },
      "execution_count": null,
      "outputs": [
        {
          "output_type": "error",
          "ename": "RuntimeError",
          "evalue": "mat1 and mat2 shapes cannot be multiplied (3x2 and 3x2)",
          "traceback": [
            "\u001b[0;31m---------------------------------------------------------------------------\u001b[0m",
            "\u001b[0;31mRuntimeError\u001b[0m                              Traceback (most recent call last)",
            "\u001b[0;32m<ipython-input-3-9eb80c1f26b2>\u001b[0m in \u001b[0;36m<cell line: 1>\u001b[0;34m()\u001b[0m\n\u001b[0;32m----> 1\u001b[0;31m \u001b[0mtensor_mul\u001b[0m \u001b[0;34m=\u001b[0m \u001b[0mtorch\u001b[0m\u001b[0;34m.\u001b[0m\u001b[0mmm\u001b[0m\u001b[0;34m(\u001b[0m\u001b[0mtensor_A\u001b[0m\u001b[0;34m,\u001b[0m \u001b[0mtensor_B\u001b[0m\u001b[0;34m)\u001b[0m\u001b[0;34m\u001b[0m\u001b[0;34m\u001b[0m\u001b[0m\n\u001b[0m\u001b[1;32m      2\u001b[0m \u001b[0mtensor_mul\u001b[0m\u001b[0;34m\u001b[0m\u001b[0;34m\u001b[0m\u001b[0m\n",
            "\u001b[0;31mRuntimeError\u001b[0m: mat1 and mat2 shapes cannot be multiplied (3x2 and 3x2)"
          ]
        }
      ]
    },
    {
      "cell_type": "markdown",
      "source": [
        "To Fix tensor shape issues we can manipulate by using transpose"
      ],
      "metadata": {
        "id": "qdNYb9TIYCMy"
      }
    },
    {
      "cell_type": "code",
      "source": [
        "tensor_mul = torch.mm(tensor_A, tensor_B.T)\n",
        "tensor_mul"
      ],
      "metadata": {
        "colab": {
          "base_uri": "https://localhost:8080/"
        },
        "id": "AhLrSkqcYHko",
        "outputId": "41f484f2-4c66-4452-dfb6-8622d7f41159"
      },
      "execution_count": null,
      "outputs": [
        {
          "output_type": "execute_result",
          "data": {
            "text/plain": [
              "tensor([[ 0.2986,  0.2446,  0.4339],\n",
              "        [ 0.0448, -0.4113, -0.2050],\n",
              "        [-0.5124,  0.0981, -0.4323]])"
            ]
          },
          "metadata": {},
          "execution_count": 4
        }
      ]
    },
    {
      "cell_type": "code",
      "source": [
        "tensor_check = tensor_A.T * tensor_B\n",
        "tensor_check\n",
        "## It is not working because it is an elemnt wise multiplication not a matrix multiplicationi"
      ],
      "metadata": {
        "colab": {
          "base_uri": "https://localhost:8080/",
          "height": 182
        },
        "id": "sLZzaBA2YwPK",
        "outputId": "3234b6db-b9ea-4789-edff-317d7166ca24"
      },
      "execution_count": null,
      "outputs": [
        {
          "output_type": "error",
          "ename": "RuntimeError",
          "evalue": "The size of tensor a (3) must match the size of tensor b (2) at non-singleton dimension 1",
          "traceback": [
            "\u001b[0;31m---------------------------------------------------------------------------\u001b[0m",
            "\u001b[0;31mRuntimeError\u001b[0m                              Traceback (most recent call last)",
            "\u001b[0;32m<ipython-input-7-669062ea89aa>\u001b[0m in \u001b[0;36m<cell line: 1>\u001b[0;34m()\u001b[0m\n\u001b[0;32m----> 1\u001b[0;31m \u001b[0mtensor_check\u001b[0m \u001b[0;34m=\u001b[0m \u001b[0mtensor_A\u001b[0m\u001b[0;34m.\u001b[0m\u001b[0mT\u001b[0m \u001b[0;34m*\u001b[0m \u001b[0mtensor_B\u001b[0m\u001b[0;34m\u001b[0m\u001b[0;34m\u001b[0m\u001b[0m\n\u001b[0m\u001b[1;32m      2\u001b[0m \u001b[0mtensor_check\u001b[0m\u001b[0;34m\u001b[0m\u001b[0;34m\u001b[0m\u001b[0m\n",
            "\u001b[0;31mRuntimeError\u001b[0m: The size of tensor a (3) must match the size of tensor b (2) at non-singleton dimension 1"
          ]
        }
      ]
    },
    {
      "cell_type": "code",
      "source": [
        "tensor_check = torch.mm(tensor_A.T, tensor_B)\n",
        "tensor_check"
      ],
      "metadata": {
        "colab": {
          "base_uri": "https://localhost:8080/"
        },
        "id": "5lVfy1aUbP1K",
        "outputId": "2884e2f8-e246-4b54-ee23-32b79886e18f"
      },
      "execution_count": null,
      "outputs": [
        {
          "output_type": "execute_result",
          "data": {
            "text/plain": [
              "tensor([[ 0.8559, -1.3124],\n",
              "        [-1.1904,  2.1781]])"
            ]
          },
          "metadata": {},
          "execution_count": 8
        }
      ]
    },
    {
      "cell_type": "markdown",
      "source": [
        "### finding the min, max, mean, sum etc(tensor aggregation)\n",
        "\n",
        "\n",
        "\n"
      ],
      "metadata": {
        "id": "xjK02Ev9dT9J"
      }
    },
    {
      "cell_type": "code",
      "source": [
        "tensor_new = torch.randn([3,2]\n",
        "                         )\n",
        "tensor_arrange = torch.arange(0,100,12)\n",
        "print(tensor_new)\n",
        "print(tensor_arrange)"
      ],
      "metadata": {
        "colab": {
          "base_uri": "https://localhost:8080/"
        },
        "id": "cWxzdO8wdbPt",
        "outputId": "96ad87db-4979-4e2c-dd35-b200145f8ba3"
      },
      "execution_count": null,
      "outputs": [
        {
          "output_type": "stream",
          "name": "stdout",
          "text": [
            "tensor([[-0.1632, -1.1786],\n",
            "        [ 0.3226,  1.9455],\n",
            "        [ 1.0810, -2.1564]])\n",
            "tensor([ 0, 12, 24, 36, 48, 60, 72, 84, 96])\n"
          ]
        }
      ]
    },
    {
      "cell_type": "code",
      "source": [
        "tensor_arrange.dtype\n"
      ],
      "metadata": {
        "colab": {
          "base_uri": "https://localhost:8080/"
        },
        "id": "uXHLPNSJevF-",
        "outputId": "5357f9c2-4e05-476e-df3c-13b1a74a93dc"
      },
      "execution_count": null,
      "outputs": [
        {
          "output_type": "execute_result",
          "data": {
            "text/plain": [
              "torch.int64"
            ]
          },
          "metadata": {},
          "execution_count": 12
        }
      ]
    },
    {
      "cell_type": "code",
      "source": [
        "mean = torch.mean(tensor_arrange)\n",
        "mean"
      ],
      "metadata": {
        "colab": {
          "base_uri": "https://localhost:8080/",
          "height": 182
        },
        "id": "nlvh-Mx8eddr",
        "outputId": "3d5845e1-2ca4-4677-fc68-c82af9dd8c7f"
      },
      "execution_count": null,
      "outputs": [
        {
          "output_type": "error",
          "ename": "RuntimeError",
          "evalue": "mean(): could not infer output dtype. Input dtype must be either a floating point or complex dtype. Got: Long",
          "traceback": [
            "\u001b[0;31m---------------------------------------------------------------------------\u001b[0m",
            "\u001b[0;31mRuntimeError\u001b[0m                              Traceback (most recent call last)",
            "\u001b[0;32m<ipython-input-11-3d83420c7487>\u001b[0m in \u001b[0;36m<cell line: 1>\u001b[0;34m()\u001b[0m\n\u001b[0;32m----> 1\u001b[0;31m \u001b[0mmean\u001b[0m \u001b[0;34m=\u001b[0m \u001b[0mtorch\u001b[0m\u001b[0;34m.\u001b[0m\u001b[0mmean\u001b[0m\u001b[0;34m(\u001b[0m\u001b[0mtensor_arrange\u001b[0m\u001b[0;34m)\u001b[0m\u001b[0;34m\u001b[0m\u001b[0;34m\u001b[0m\u001b[0m\n\u001b[0m\u001b[1;32m      2\u001b[0m \u001b[0mmean\u001b[0m\u001b[0;34m\u001b[0m\u001b[0;34m\u001b[0m\u001b[0m\n",
            "\u001b[0;31mRuntimeError\u001b[0m: mean(): could not infer output dtype. Input dtype must be either a floating point or complex dtype. Got: Long"
          ]
        }
      ]
    },
    {
      "cell_type": "code",
      "source": [
        "mean = torch.mean(tensor_arrange.type(torch.float32))\n",
        "mean"
      ],
      "metadata": {
        "colab": {
          "base_uri": "https://localhost:8080/"
        },
        "id": "3imRAYCAe57w",
        "outputId": "78e31bd8-779b-4bbb-9496-149fc6c80147"
      },
      "execution_count": null,
      "outputs": [
        {
          "output_type": "execute_result",
          "data": {
            "text/plain": [
              "tensor(48.)"
            ]
          },
          "metadata": {},
          "execution_count": 13
        }
      ]
    },
    {
      "cell_type": "code",
      "source": [
        "sum = torch.sum(tensor_new)\n",
        "sum"
      ],
      "metadata": {
        "colab": {
          "base_uri": "https://localhost:8080/"
        },
        "id": "l26JfSL9l_UT",
        "outputId": "fc6e8e67-47e6-4684-ce44-0866673831e0"
      },
      "execution_count": null,
      "outputs": [
        {
          "output_type": "execute_result",
          "data": {
            "text/plain": [
              "tensor(-0.1493)"
            ]
          },
          "metadata": {},
          "execution_count": 15
        }
      ]
    },
    {
      "cell_type": "code",
      "source": [
        "max = torch.max(tensor_new)\n",
        "max"
      ],
      "metadata": {
        "colab": {
          "base_uri": "https://localhost:8080/"
        },
        "id": "uWIjEliIm2cm",
        "outputId": "3e7c568c-5768-4592-f176-8ee072c5b8bc"
      },
      "execution_count": null,
      "outputs": [
        {
          "output_type": "execute_result",
          "data": {
            "text/plain": [
              "tensor(1.9455)"
            ]
          },
          "metadata": {},
          "execution_count": 18
        }
      ]
    },
    {
      "cell_type": "markdown",
      "source": [
        "### Positional Mean and MAx"
      ],
      "metadata": {
        "id": "_RdPD6ronrZj"
      }
    },
    {
      "cell_type": "markdown",
      "source": [
        "####It return the indices"
      ],
      "metadata": {
        "id": "HXBElWr6o9Kl"
      }
    },
    {
      "cell_type": "code",
      "source": [
        "min = torch.argmax(tensor_arrange)\n",
        "min"
      ],
      "metadata": {
        "colab": {
          "base_uri": "https://localhost:8080/"
        },
        "id": "eV7S1nyznvWY",
        "outputId": "bce784b4-bd37-4be2-abe9-c890e87657c4"
      },
      "execution_count": null,
      "outputs": [
        {
          "output_type": "execute_result",
          "data": {
            "text/plain": [
              "tensor(8)"
            ]
          },
          "metadata": {},
          "execution_count": 21
        }
      ]
    },
    {
      "cell_type": "markdown",
      "source": [
        "### Reshaping, Stacking, Squeezing and Unsqueezing"
      ],
      "metadata": {
        "id": "FW8QITJ52SrE"
      }
    },
    {
      "cell_type": "code",
      "source": [
        "tensor = torch.arange(12)\n",
        "tensor"
      ],
      "metadata": {
        "colab": {
          "base_uri": "https://localhost:8080/"
        },
        "id": "FoP0cMtr2Y41",
        "outputId": "4b7a664e-5ac7-41bc-e4c1-1e8db2e682cb"
      },
      "execution_count": null,
      "outputs": [
        {
          "output_type": "execute_result",
          "data": {
            "text/plain": [
              "tensor([ 0,  1,  2,  3,  4,  5,  6,  7,  8,  9, 10, 11])"
            ]
          },
          "metadata": {},
          "execution_count": 30
        }
      ]
    },
    {
      "cell_type": "code",
      "source": [
        "shape = tensor.shape\n",
        "shape"
      ],
      "metadata": {
        "colab": {
          "base_uri": "https://localhost:8080/"
        },
        "id": "CEJCarwK3G8M",
        "outputId": "f335dbda-d98f-4f2c-d774-474bb13ad1df"
      },
      "execution_count": null,
      "outputs": [
        {
          "output_type": "execute_result",
          "data": {
            "text/plain": [
              "torch.Size([12])"
            ]
          },
          "metadata": {},
          "execution_count": 31
        }
      ]
    },
    {
      "cell_type": "code",
      "source": [
        "dim = tensor.dim\n",
        "dim"
      ],
      "metadata": {
        "colab": {
          "base_uri": "https://localhost:8080/"
        },
        "id": "AzXY6BlE3Kni",
        "outputId": "e13a4728-9d74-46fc-c058-dcab1b7efa63"
      },
      "execution_count": null,
      "outputs": [
        {
          "output_type": "execute_result",
          "data": {
            "text/plain": [
              "<function Tensor.dim>"
            ]
          },
          "metadata": {},
          "execution_count": 32
        }
      ]
    },
    {
      "cell_type": "code",
      "source": [
        "reshaped_tensor = torch.reshape(tensor,(4,3))\n",
        "print(reshaped_tensor)\n",
        "print(reshaped_tensor.shape)\n",
        "print(reshaped_tensor.ndim)"
      ],
      "metadata": {
        "colab": {
          "base_uri": "https://localhost:8080/"
        },
        "id": "oLJp020J3R_l",
        "outputId": "8db1034d-dbe7-4779-fab5-5fddd4bb875c"
      },
      "execution_count": null,
      "outputs": [
        {
          "output_type": "stream",
          "name": "stdout",
          "text": [
            "tensor([[ 0,  1,  2],\n",
            "        [ 3,  4,  5],\n",
            "        [ 6,  7,  8],\n",
            "        [ 9, 10, 11]])\n",
            "torch.Size([4, 3])\n",
            "2\n"
          ]
        }
      ]
    },
    {
      "cell_type": "code",
      "source": [
        "tensor_new = torch.randn([4,6])\n",
        "print(tensor_new)\n",
        "reshaped_tensor = torch.reshape(tensor_new,(6,4))\n",
        "print(reshaped_tensor)"
      ],
      "metadata": {
        "colab": {
          "base_uri": "https://localhost:8080/"
        },
        "id": "Tjets8Wz5ZRT",
        "outputId": "df382349-f76f-4d96-da44-52fae69b4d63"
      },
      "execution_count": null,
      "outputs": [
        {
          "output_type": "stream",
          "name": "stdout",
          "text": [
            "tensor([[-0.7158,  2.0058, -0.8480,  1.5450, -0.2875,  0.7387],\n",
            "        [ 0.2698,  0.5456, -1.2067, -0.4131, -1.6456,  1.5906],\n",
            "        [ 0.5828,  0.0049,  0.3545, -0.3409, -0.2776,  0.2528],\n",
            "        [-0.1862, -0.1082, -2.1614,  1.3054, -0.5795,  0.0182]])\n",
            "tensor([[-0.7158,  2.0058, -0.8480,  1.5450],\n",
            "        [-0.2875,  0.7387,  0.2698,  0.5456],\n",
            "        [-1.2067, -0.4131, -1.6456,  1.5906],\n",
            "        [ 0.5828,  0.0049,  0.3545, -0.3409],\n",
            "        [-0.2776,  0.2528, -0.1862, -0.1082],\n",
            "        [-2.1614,  1.3054, -0.5795,  0.0182]])\n"
          ]
        }
      ]
    },
    {
      "cell_type": "code",
      "source": [
        "import torch\n",
        "x = torch.rand(3,4)\n",
        "print(x)\n",
        "reshaped_tensor = torch.reshape(x,(6,2))\n",
        "print(reshaped_tensor)"
      ],
      "metadata": {
        "colab": {
          "base_uri": "https://localhost:8080/"
        },
        "id": "yhQIIFCnsc8I",
        "outputId": "c705b1fa-a136-4b30-fcf2-8e3dd91251bb"
      },
      "execution_count": null,
      "outputs": [
        {
          "output_type": "stream",
          "name": "stdout",
          "text": [
            "tensor([[0.4012, 0.1549, 0.5140, 0.4841],\n",
            "        [0.7719, 0.7210, 0.9553, 0.0211],\n",
            "        [0.2461, 0.6232, 0.8525, 0.7017]])\n",
            "tensor([[0.4012, 0.1549],\n",
            "        [0.5140, 0.4841],\n",
            "        [0.7719, 0.7210],\n",
            "        [0.9553, 0.0211],\n",
            "        [0.2461, 0.6232],\n",
            "        [0.8525, 0.7017]])\n"
          ]
        }
      ]
    },
    {
      "cell_type": "code",
      "source": [
        "z = x.view(3,4)\n",
        "z"
      ],
      "metadata": {
        "colab": {
          "base_uri": "https://localhost:8080/"
        },
        "id": "i4kr-36dv0W7",
        "outputId": "8e420c9b-299a-44e6-bcea-f9dadb52d9a5"
      },
      "execution_count": null,
      "outputs": [
        {
          "output_type": "execute_result",
          "data": {
            "text/plain": [
              "tensor([[4.0000, 0.1549, 0.5140, 0.4841],\n",
              "        [4.0000, 0.7210, 0.9553, 0.0211],\n",
              "        [4.0000, 0.6232, 0.8525, 0.7017]])"
            ]
          },
          "metadata": {},
          "execution_count": 15
        }
      ]
    },
    {
      "cell_type": "code",
      "source": [
        "z[:,0]=4\n",
        "z,x"
      ],
      "metadata": {
        "colab": {
          "base_uri": "https://localhost:8080/"
        },
        "id": "F2EhO8PUwElc",
        "outputId": "1dd0a89f-3923-4a8b-891b-87bec4ec4edd"
      },
      "execution_count": null,
      "outputs": [
        {
          "output_type": "execute_result",
          "data": {
            "text/plain": [
              "(tensor([[4.0000, 0.1549, 0.5140, 0.4841],\n",
              "         [4.0000, 0.7210, 0.9553, 0.0211],\n",
              "         [4.0000, 0.6232, 0.8525, 0.7017]]),\n",
              " tensor([[4.0000, 0.1549, 0.5140, 0.4841],\n",
              "         [4.0000, 0.7210, 0.9553, 0.0211],\n",
              "         [4.0000, 0.6232, 0.8525, 0.7017]]))"
            ]
          },
          "metadata": {},
          "execution_count": 13
        }
      ]
    },
    {
      "cell_type": "code",
      "source": [
        "stacked_tensor = torch.stack([z,z], dim =0)\n",
        "stacked_tensor"
      ],
      "metadata": {
        "colab": {
          "base_uri": "https://localhost:8080/"
        },
        "id": "7-u8I9cL1Cit",
        "outputId": "c70f99b4-f028-49ba-9473-49d056dd3184"
      },
      "execution_count": null,
      "outputs": [
        {
          "output_type": "execute_result",
          "data": {
            "text/plain": [
              "tensor([[[4.0000, 0.1549, 0.5140, 0.4841],\n",
              "         [4.0000, 0.7210, 0.9553, 0.0211],\n",
              "         [4.0000, 0.6232, 0.8525, 0.7017]],\n",
              "\n",
              "        [[4.0000, 0.1549, 0.5140, 0.4841],\n",
              "         [4.0000, 0.7210, 0.9553, 0.0211],\n",
              "         [4.0000, 0.6232, 0.8525, 0.7017]]])"
            ]
          },
          "metadata": {},
          "execution_count": 16
        }
      ]
    },
    {
      "cell_type": "code",
      "source": [
        "stacked_tensor.ndim, stacked_tensor.shape"
      ],
      "metadata": {
        "colab": {
          "base_uri": "https://localhost:8080/"
        },
        "id": "jAT8Xcct1QWn",
        "outputId": "cc19640f-89d2-414c-fbc2-3d014a445f2f"
      },
      "execution_count": null,
      "outputs": [
        {
          "output_type": "execute_result",
          "data": {
            "text/plain": [
              "(3, torch.Size([2, 3, 4]))"
            ]
          },
          "metadata": {},
          "execution_count": 17
        }
      ]
    },
    {
      "cell_type": "code",
      "source": [
        "reshaped_tensor =torch.reshape(stacked_tensor, shape=(6,4))\n",
        "reshaped_tensor, reshaped_tensor.ndim, reshaped_tensor.shape"
      ],
      "metadata": {
        "colab": {
          "base_uri": "https://localhost:8080/"
        },
        "id": "Ne-pZhiP1ks1",
        "outputId": "16f1c137-ea56-4c96-9b4d-d5613e41e1aa"
      },
      "execution_count": null,
      "outputs": [
        {
          "output_type": "execute_result",
          "data": {
            "text/plain": [
              "(tensor([[4.0000, 0.1549, 0.5140, 0.4841],\n",
              "         [4.0000, 0.7210, 0.9553, 0.0211],\n",
              "         [4.0000, 0.6232, 0.8525, 0.7017],\n",
              "         [4.0000, 0.1549, 0.5140, 0.4841],\n",
              "         [4.0000, 0.7210, 0.9553, 0.0211],\n",
              "         [4.0000, 0.6232, 0.8525, 0.7017]]),\n",
              " 2,\n",
              " torch.Size([6, 4]))"
            ]
          },
          "metadata": {},
          "execution_count": 19
        }
      ]
    },
    {
      "cell_type": "code",
      "source": [
        "reshaped_tensor.squeeze()\n",
        "reshaped_tensor.ndim"
      ],
      "metadata": {
        "colab": {
          "base_uri": "https://localhost:8080/"
        },
        "id": "OHuEe5zy5jlK",
        "outputId": "b61e0c67-9465-4ea3-d84a-a7da910ca825"
      },
      "execution_count": null,
      "outputs": [
        {
          "output_type": "execute_result",
          "data": {
            "text/plain": [
              "2"
            ]
          },
          "metadata": {},
          "execution_count": 23
        }
      ]
    },
    {
      "cell_type": "code",
      "source": [
        "q = torch.randn([1,2,1,2,1,2])\n",
        "q.shape, q.ndim"
      ],
      "metadata": {
        "colab": {
          "base_uri": "https://localhost:8080/"
        },
        "id": "NGP-g5Yg6gEX",
        "outputId": "ca20ae80-701b-4243-f156-659154c4b571"
      },
      "execution_count": null,
      "outputs": [
        {
          "output_type": "execute_result",
          "data": {
            "text/plain": [
              "(torch.Size([1, 2, 1, 2, 1, 2]), 6)"
            ]
          },
          "metadata": {},
          "execution_count": 22
        }
      ]
    },
    {
      "cell_type": "code",
      "source": [
        "print(q)"
      ],
      "metadata": {
        "colab": {
          "base_uri": "https://localhost:8080/"
        },
        "id": "950Fw6EO7QGB",
        "outputId": "c6dc65ca-fe44-4f45-cc50-05d8d32adaeb"
      },
      "execution_count": null,
      "outputs": [
        {
          "output_type": "stream",
          "name": "stdout",
          "text": [
            "tensor([[[[[[ 0.7686, -1.2906]],\n",
            "\n",
            "           [[ 1.0194, -1.0894]]]],\n",
            "\n",
            "\n",
            "\n",
            "         [[[[ 0.8664,  0.6953]],\n",
            "\n",
            "           [[-0.1118, -0.7503]]]]]])\n"
          ]
        }
      ]
    },
    {
      "cell_type": "code",
      "source": [
        "squeezed_tensor = q.squeeze()\n",
        "squeezed_tensor.shape, squeezed_tensor.ndim\n"
      ],
      "metadata": {
        "colab": {
          "base_uri": "https://localhost:8080/"
        },
        "id": "gqESaFMM68oQ",
        "outputId": "b5600971-3c2f-40cf-998d-2f6a9da76de1"
      },
      "execution_count": null,
      "outputs": [
        {
          "output_type": "execute_result",
          "data": {
            "text/plain": [
              "(torch.Size([2, 2, 2]), 3)"
            ]
          },
          "metadata": {},
          "execution_count": 26
        }
      ]
    },
    {
      "cell_type": "code",
      "source": [
        "print(squeezed_tensor)"
      ],
      "metadata": {
        "colab": {
          "base_uri": "https://localhost:8080/"
        },
        "id": "bmQTvusi7O-U",
        "outputId": "4c11850b-a2f0-4a1d-dc6c-20ea1e97dee5"
      },
      "execution_count": null,
      "outputs": [
        {
          "output_type": "stream",
          "name": "stdout",
          "text": [
            "tensor([[[ 0.7686, -1.2906],\n",
            "         [ 1.0194, -1.0894]],\n",
            "\n",
            "        [[ 0.8664,  0.6953],\n",
            "         [-0.1118, -0.7503]]])\n"
          ]
        }
      ]
    },
    {
      "cell_type": "code",
      "source": [
        "unsqueezed = squeezed_tensor.unsqueeze(dim=2)\n",
        "unsqueezed.shape, unsqueezed.ndim"
      ],
      "metadata": {
        "colab": {
          "base_uri": "https://localhost:8080/"
        },
        "id": "JQOGVD1wAgNL",
        "outputId": "d6a4a5d5-70d6-44b4-fc4a-fbfab4e18aa8"
      },
      "execution_count": null,
      "outputs": [
        {
          "output_type": "execute_result",
          "data": {
            "text/plain": [
              "(torch.Size([2, 2, 1, 2]), 4)"
            ]
          },
          "metadata": {},
          "execution_count": 31
        }
      ]
    },
    {
      "cell_type": "code",
      "source": [
        "new_ten = torch.randn([1,2,3])\n",
        "print(new_ten)\n",
        "print(new_ten.shape, new_ten.ndim)"
      ],
      "metadata": {
        "colab": {
          "base_uri": "https://localhost:8080/"
        },
        "id": "i3QFlRVhDFQs",
        "outputId": "342e937a-a794-4437-97be-b7c8e709bdea"
      },
      "execution_count": null,
      "outputs": [
        {
          "output_type": "stream",
          "name": "stdout",
          "text": [
            "tensor([[[-0.9626, -1.4026,  0.6306],\n",
            "         [-1.4663,  0.9871, -1.4644]]])\n",
            "torch.Size([1, 2, 3]) 3\n"
          ]
        }
      ]
    },
    {
      "cell_type": "code",
      "source": [
        "sq = new_ten.squeeze()\n",
        "sq.shape, sq.ndim\n",
        "print(sq)"
      ],
      "metadata": {
        "colab": {
          "base_uri": "https://localhost:8080/"
        },
        "id": "hmDIRKLFDYq-",
        "outputId": "fc21319d-b831-4f98-f459-a7095d3d2595"
      },
      "execution_count": null,
      "outputs": [
        {
          "output_type": "stream",
          "name": "stdout",
          "text": [
            "tensor([[-0.9626, -1.4026,  0.6306],\n",
            "        [-1.4663,  0.9871, -1.4644]])\n"
          ]
        }
      ]
    },
    {
      "cell_type": "code",
      "source": [
        "per_ten = torch.permute(new_ten, (2,0,1))\n",
        "print(per_ten)\n"
      ],
      "metadata": {
        "colab": {
          "base_uri": "https://localhost:8080/"
        },
        "id": "7Z6PKYTYDftp",
        "outputId": "be25e34d-0103-4ccf-b743-419af4776262"
      },
      "execution_count": null,
      "outputs": [
        {
          "output_type": "stream",
          "name": "stdout",
          "text": [
            "tensor([[[-0.9626, -1.4663]],\n",
            "\n",
            "        [[-1.4026,  0.9871]],\n",
            "\n",
            "        [[ 0.6306, -1.4644]]])\n"
          ]
        }
      ]
    },
    {
      "cell_type": "markdown",
      "source": [
        "### Indexing with Pytorch\n",
        "*Indexing with pytorch is similar to indexing with numpy*"
      ],
      "metadata": {
        "id": "TZHK_hyUE9wg"
      }
    },
    {
      "cell_type": "code",
      "source": [
        "import torch\n",
        "x = torch.arange(1,10).reshape(1,3,3)\n",
        "print(x)"
      ],
      "metadata": {
        "colab": {
          "base_uri": "https://localhost:8080/"
        },
        "id": "Z30dMFpkFBPl",
        "outputId": "84749c04-ceca-411a-9e84-a160405f16b7"
      },
      "execution_count": null,
      "outputs": [
        {
          "output_type": "stream",
          "name": "stdout",
          "text": [
            "tensor([[[1, 2, 3],\n",
            "         [4, 5, 6],\n",
            "         [7, 8, 9]]])\n"
          ]
        }
      ]
    },
    {
      "cell_type": "code",
      "source": [
        "y = torch.randn([2,3,3])\n",
        "print(y)\n",
        "##  (2 batches, 3 rows, 3 columns),"
      ],
      "metadata": {
        "colab": {
          "base_uri": "https://localhost:8080/"
        },
        "id": "sT2BbR6zF8aT",
        "outputId": "dbf598c6-e59f-4e3f-fc19-ac23a1f1ebf5"
      },
      "execution_count": null,
      "outputs": [
        {
          "output_type": "stream",
          "name": "stdout",
          "text": [
            "tensor([[[ 1.7705,  0.1768, -1.3673],\n",
            "         [ 0.4915, -0.5418,  0.1430],\n",
            "         [-0.5324, -0.2449,  1.0064]],\n",
            "\n",
            "        [[-1.1235, -0.0676,  0.5837],\n",
            "         [-0.2435,  0.4311,  0.8199],\n",
            "         [ 0.8219,  1.3867, -0.0383]]])\n"
          ]
        }
      ]
    },
    {
      "cell_type": "code",
      "source": [],
      "metadata": {
        "colab": {
          "base_uri": "https://localhost:8080/"
        },
        "id": "fLmvK4cWm-a6",
        "outputId": "e03a38c5-1d6c-4d8c-f704-c0a6c63ef670"
      },
      "execution_count": null,
      "outputs": [
        {
          "output_type": "execute_result",
          "data": {
            "text/plain": [
              "tensor([ 1.7705, -1.1235])"
            ]
          },
          "metadata": {},
          "execution_count": 76
        }
      ]
    },
    {
      "cell_type": "code",
      "source": [
        "# 1st bracket\n",
        "for i in range(3):\n",
        " print(f\"{i}Row: {y[i]}\")"
      ],
      "metadata": {
        "colab": {
          "base_uri": "https://localhost:8080/",
          "height": 291
        },
        "id": "K1CV4_LmGxPW",
        "outputId": "a6464af2-8c97-48e4-fd68-c23dc4064fd6"
      },
      "execution_count": null,
      "outputs": [
        {
          "output_type": "stream",
          "name": "stdout",
          "text": [
            "0Row: tensor([[ 0.1803, -1.2384,  1.2504],\n",
            "        [-0.7269,  1.1187, -0.7244],\n",
            "        [-1.1754, -1.2711, -0.2485]])\n",
            "1Row: tensor([[ 0.3018,  0.3445, -1.4418],\n",
            "        [ 0.5260,  1.3122,  2.0953],\n",
            "        [ 1.1241, -1.3597,  0.4734]])\n"
          ]
        },
        {
          "output_type": "error",
          "ename": "IndexError",
          "evalue": "index 2 is out of bounds for dimension 0 with size 2",
          "traceback": [
            "\u001b[0;31m---------------------------------------------------------------------------\u001b[0m",
            "\u001b[0;31mIndexError\u001b[0m                                Traceback (most recent call last)",
            "\u001b[0;32m<ipython-input-53-45b735ba5426>\u001b[0m in \u001b[0;36m<cell line: 2>\u001b[0;34m()\u001b[0m\n\u001b[1;32m      1\u001b[0m \u001b[0;31m# 1st bracket\u001b[0m\u001b[0;34m\u001b[0m\u001b[0;34m\u001b[0m\u001b[0m\n\u001b[1;32m      2\u001b[0m \u001b[0;32mfor\u001b[0m \u001b[0mi\u001b[0m \u001b[0;32min\u001b[0m \u001b[0mrange\u001b[0m\u001b[0;34m(\u001b[0m\u001b[0;36m3\u001b[0m\u001b[0;34m)\u001b[0m\u001b[0;34m:\u001b[0m\u001b[0;34m\u001b[0m\u001b[0;34m\u001b[0m\u001b[0m\n\u001b[0;32m----> 3\u001b[0;31m  \u001b[0mprint\u001b[0m\u001b[0;34m(\u001b[0m\u001b[0;34mf\"{i}Row: {y[i]}\"\u001b[0m\u001b[0;34m)\u001b[0m\u001b[0;34m\u001b[0m\u001b[0;34m\u001b[0m\u001b[0m\n\u001b[0m",
            "\u001b[0;31mIndexError\u001b[0m: index 2 is out of bounds for dimension 0 with size 2"
          ]
        }
      ]
    },
    {
      "cell_type": "code",
      "source": [
        "# index om the middle bracket (dim=1)\n",
        "for i in range(2):\n",
        "  for j in range(3):\n",
        "    print(f\"{j}Row: {y[i][j]}\")"
      ],
      "metadata": {
        "colab": {
          "base_uri": "https://localhost:8080/"
        },
        "id": "QtIP5qKuG3BW",
        "outputId": "cebee54b-0a6e-4026-b57b-c875504ad6fc"
      },
      "execution_count": null,
      "outputs": [
        {
          "output_type": "stream",
          "name": "stdout",
          "text": [
            "0Row: tensor([ 0.1803, -1.2384,  1.2504])\n",
            "1Row: tensor([-0.7269,  1.1187, -0.7244])\n",
            "2Row: tensor([-1.1754, -1.2711, -0.2485])\n",
            "0Row: tensor([ 0.3018,  0.3445, -1.4418])\n",
            "1Row: tensor([0.5260, 1.3122, 2.0953])\n",
            "2Row: tensor([ 1.1241, -1.3597,  0.4734])\n"
          ]
        }
      ]
    },
    {
      "cell_type": "code",
      "source": [
        "y[0][0][0] # indexing on thr most inner bracket(dim =last dimension)"
      ],
      "metadata": {
        "colab": {
          "base_uri": "https://localhost:8080/"
        },
        "id": "0x2wtNf2Idl0",
        "outputId": "3083ae45-0b43-4ea6-8c29-944f76e89d23"
      },
      "execution_count": null,
      "outputs": [
        {
          "output_type": "execute_result",
          "data": {
            "text/plain": [
              "tensor(0.1803)"
            ]
          },
          "metadata": {},
          "execution_count": 64
        }
      ]
    },
    {
      "cell_type": "code",
      "source": [
        "for i in range(2):\n",
        "  for j in range(3):\n",
        "    for k in range(3):\n",
        "      print(f'{y[i][j][k]}')"
      ],
      "metadata": {
        "colab": {
          "base_uri": "https://localhost:8080/"
        },
        "id": "dIH600ZhIqnr",
        "outputId": "084e6361-b244-4a06-ee8a-e658c3a1568f"
      },
      "execution_count": null,
      "outputs": [
        {
          "output_type": "stream",
          "name": "stdout",
          "text": [
            "0.18025457859039307\n",
            "-1.2384194135665894\n",
            "1.250357747077942\n",
            "-0.7268917560577393\n",
            "1.1186509132385254\n",
            "-0.7243580222129822\n",
            "-1.1754014492034912\n",
            "-1.2710700035095215\n",
            "-0.24851427972316742\n",
            "0.3018139600753784\n",
            "0.34452277421951294\n",
            "-1.4418343305587769\n",
            "0.5260282754898071\n",
            "1.312209129333496\n",
            "2.095349073410034\n",
            "1.1241401433944702\n",
            "-1.359706997871399\n",
            "0.4734387695789337\n"
          ]
        }
      ]
    },
    {
      "cell_type": "code",
      "source": [
        "flatten_arra = torch.flatten(y, start_dim=0)\n",
        "flatten_arra\n",
        "mean = torch.mean(flatten_arra)\n",
        "\n",
        "for i in range(len(flatten_arra)):\n",
        "  print(f'{(flatten_arra[i])**2/mean}')"
      ],
      "metadata": {
        "colab": {
          "base_uri": "https://localhost:8080/"
        },
        "id": "PK2zbUKdasT5",
        "outputId": "9587512e-024a-4a91-c8bb-20066e1e223c"
      },
      "execution_count": null,
      "outputs": [
        {
          "output_type": "stream",
          "name": "stdout",
          "text": [
            "1.0819164514541626\n",
            "51.06890869140625\n",
            "52.05826187133789\n",
            "17.59383773803711\n",
            "41.66872787475586\n",
            "17.471397399902344\n",
            "46.003780364990234\n",
            "53.797245025634766\n",
            "2.056476593017578\n",
            "3.033190965652466\n",
            "3.952364206314087\n",
            "69.22322082519531\n",
            "9.213809967041016\n",
            "57.335975646972656\n",
            "146.19544982910156\n",
            "42.078670501708984\n",
            "61.56186294555664\n",
            "7.463606357574463\n"
          ]
        }
      ]
    },
    {
      "cell_type": "code",
      "source": [
        "x = torch.tensor([[[1,2,3],[4,5,6],[7,8,9]]])\n",
        "x"
      ],
      "metadata": {
        "colab": {
          "base_uri": "https://localhost:8080/"
        },
        "id": "9ocoAnoRnWwI",
        "outputId": "fe8d0d32-18c6-4bb4-da99-f9b606fcaebd"
      },
      "execution_count": null,
      "outputs": [
        {
          "output_type": "execute_result",
          "data": {
            "text/plain": [
              "tensor([[[1, 2, 3],\n",
              "         [4, 5, 6],\n",
              "         [7, 8, 9]]])"
            ]
          },
          "metadata": {},
          "execution_count": 77
        }
      ]
    },
    {
      "cell_type": "code",
      "source": [
        "x.shape, x.ndim"
      ],
      "metadata": {
        "colab": {
          "base_uri": "https://localhost:8080/"
        },
        "id": "s-anJb2ZnafJ",
        "outputId": "ccd6d0f0-6e9d-4763-f8af-36c117a9ad9e"
      },
      "execution_count": null,
      "outputs": [
        {
          "output_type": "execute_result",
          "data": {
            "text/plain": [
              "(torch.Size([1, 3, 3]), 3)"
            ]
          },
          "metadata": {},
          "execution_count": 79
        }
      ]
    },
    {
      "cell_type": "code",
      "source": [
        "x[0,:,2]"
      ],
      "metadata": {
        "colab": {
          "base_uri": "https://localhost:8080/"
        },
        "id": "_lDAygkkngk8",
        "outputId": "b5c4f4ef-54fa-4554-cca5-cb080e444fe2"
      },
      "execution_count": null,
      "outputs": [
        {
          "output_type": "execute_result",
          "data": {
            "text/plain": [
              "tensor([3, 6, 9])"
            ]
          },
          "metadata": {},
          "execution_count": 84
        }
      ]
    },
    {
      "cell_type": "code",
      "source": [
        "i = torch.randn(size=(2,3,4))\n",
        "print(i)"
      ],
      "metadata": {
        "colab": {
          "base_uri": "https://localhost:8080/"
        },
        "id": "FyS8-Tgyowu8",
        "outputId": "d8d08cc5-82e8-4e2b-f292-8de064d25a73"
      },
      "execution_count": null,
      "outputs": [
        {
          "output_type": "stream",
          "name": "stdout",
          "text": [
            "tensor([[[ 1.7220, -0.1859, -1.8682, -1.9991],\n",
            "         [ 0.6892, -0.7655, -0.6550, -1.3411],\n",
            "         [-0.4258,  0.4360,  0.2970, -1.1793]],\n",
            "\n",
            "        [[-0.9444, -0.4136,  0.4409, -1.6386],\n",
            "         [ 2.1371, -0.2172,  0.4650, -0.9120],\n",
            "         [-1.3756,  0.2693,  1.7429, -1.2157]]])\n"
          ]
        }
      ]
    },
    {
      "cell_type": "code",
      "source": [
        "i[:,:,0]"
      ],
      "metadata": {
        "colab": {
          "base_uri": "https://localhost:8080/"
        },
        "id": "0Xy0CaESpWXS",
        "outputId": "b9979aa5-6617-469a-b01d-356985d4c9b6"
      },
      "execution_count": null,
      "outputs": [
        {
          "output_type": "execute_result",
          "data": {
            "text/plain": [
              "tensor([[ 1.7220,  0.6892, -0.4258],\n",
              "        [-0.9444,  2.1371, -1.3756]])"
            ]
          },
          "metadata": {},
          "execution_count": 91
        }
      ]
    },
    {
      "cell_type": "code",
      "source": [
        "i[0,2,3]"
      ],
      "metadata": {
        "colab": {
          "base_uri": "https://localhost:8080/"
        },
        "id": "4ANzPvrfrh6n",
        "outputId": "f5f7a49f-8df6-46e7-d4c4-12e7105944ce"
      },
      "execution_count": null,
      "outputs": [
        {
          "output_type": "execute_result",
          "data": {
            "text/plain": [
              "tensor(-1.1793)"
            ]
          },
          "metadata": {},
          "execution_count": 96
        }
      ]
    },
    {
      "cell_type": "code",
      "source": [
        "i[1,:,2]"
      ],
      "metadata": {
        "colab": {
          "base_uri": "https://localhost:8080/"
        },
        "id": "O8NbEqeesc1g",
        "outputId": "5e9d4674-f8e2-43d3-ae42-e4e2aa9a9360"
      },
      "execution_count": null,
      "outputs": [
        {
          "output_type": "execute_result",
          "data": {
            "text/plain": [
              "tensor([0.4409, 0.4650, 1.7429])"
            ]
          },
          "metadata": {},
          "execution_count": 97
        }
      ]
    },
    {
      "cell_type": "code",
      "source": [
        "j = torch.randn(size=(2,3,3,3))\n",
        "j"
      ],
      "metadata": {
        "colab": {
          "base_uri": "https://localhost:8080/"
        },
        "id": "PDonneRQslYw",
        "outputId": "98378a4d-9019-488a-9044-1c38c57743c4"
      },
      "execution_count": null,
      "outputs": [
        {
          "output_type": "execute_result",
          "data": {
            "text/plain": [
              "tensor([[[[-0.9468,  0.4277, -0.3818],\n",
              "          [ 0.6283,  1.2610,  1.3978],\n",
              "          [ 0.6735,  0.3187,  0.1436]],\n",
              "\n",
              "         [[ 1.9720, -0.3869,  0.1213],\n",
              "          [-0.9806, -1.2463, -0.8166],\n",
              "          [ 0.3857,  0.7484, -1.7356]],\n",
              "\n",
              "         [[-2.4910, -0.8207,  0.4536],\n",
              "          [ 0.8704,  0.4535, -0.4437],\n",
              "          [-1.0318, -1.4526,  1.2911]]],\n",
              "\n",
              "\n",
              "        [[[-0.8942, -0.0486,  1.3410],\n",
              "          [-0.5093, -0.6133, -0.2152],\n",
              "          [ 0.5478,  0.1613,  0.2563]],\n",
              "\n",
              "         [[-1.1689,  0.0845,  0.7754],\n",
              "          [-0.3096,  1.5533, -0.2906],\n",
              "          [-2.5274,  0.2031, -0.0383]],\n",
              "\n",
              "         [[-0.4654, -1.6795,  0.9278],\n",
              "          [-0.3788,  0.5507,  2.7754],\n",
              "          [ 1.3937,  0.1350,  0.9804]]]])"
            ]
          },
          "metadata": {},
          "execution_count": 98
        }
      ]
    },
    {
      "cell_type": "code",
      "source": [
        "j[:,:,0,0]"
      ],
      "metadata": {
        "colab": {
          "base_uri": "https://localhost:8080/"
        },
        "id": "3m9U3ouMtJ3H",
        "outputId": "2f9b67e9-0354-4ab3-95bc-9aa6f2d01395"
      },
      "execution_count": null,
      "outputs": [
        {
          "output_type": "execute_result",
          "data": {
            "text/plain": [
              "tensor([[-0.9468,  1.9720, -2.4910],\n",
              "        [-0.8942, -1.1689, -0.4654]])"
            ]
          },
          "metadata": {},
          "execution_count": 99
        }
      ]
    },
    {
      "cell_type": "markdown",
      "source": [
        "### Numpy array to tensor"
      ],
      "metadata": {
        "id": "6-ECA5V2U4bI"
      }
    },
    {
      "cell_type": "code",
      "source": [
        "import torch\n",
        "import numpy as np"
      ],
      "metadata": {
        "id": "p6BK3IsNU8EG"
      },
      "execution_count": null,
      "outputs": []
    },
    {
      "cell_type": "code",
      "source": [
        "array = np.arange(1,10)\n",
        "print(array,array.ndim, array.dtype)\n",
        "tensor = torch.from_numpy(array).type(torch.float32)# to change the numpy array dtype to\n",
        "print(tensor, tensor.ndim, tensor.shape, tensor.dtype)"
      ],
      "metadata": {
        "colab": {
          "base_uri": "https://localhost:8080/"
        },
        "id": "e5r53cH1U_w8",
        "outputId": "2c657a14-844c-4d08-eb50-06f7e9f31dcc"
      },
      "execution_count": null,
      "outputs": [
        {
          "output_type": "stream",
          "name": "stdout",
          "text": [
            "[1 2 3 4 5 6 7 8 9] 1 int64\n",
            "tensor([1., 2., 3., 4., 5., 6., 7., 8., 9.]) 1 torch.Size([9]) torch.float32\n"
          ]
        }
      ]
    },
    {
      "cell_type": "code",
      "source": [
        "tensor = torch.randn(5)\n",
        "tensor\n",
        "numpy_array = tensor.numpy()\n",
        "numpy_array"
      ],
      "metadata": {
        "colab": {
          "base_uri": "https://localhost:8080/"
        },
        "id": "gx9doUecWu5n",
        "outputId": "5e9e3655-e9ba-4e10-f051-e33e6bbfae94"
      },
      "execution_count": null,
      "outputs": [
        {
          "output_type": "execute_result",
          "data": {
            "text/plain": [
              "array([-2.2693584 , -2.4540472 , -0.5082112 , -0.32308063, -1.1927376 ],\n",
              "      dtype=float32)"
            ]
          },
          "metadata": {},
          "execution_count": 13
        }
      ]
    },
    {
      "cell_type": "markdown",
      "source": [
        "##Reproducibility (trying to takeout of random)\n",
        "To reduce the randomness in NN and PyTorch comes the conceptd of a random seed."
      ],
      "metadata": {
        "id": "Hqn6HjDrZbKc"
      }
    },
    {
      "cell_type": "code",
      "source": [
        "# creating two random tensors\n",
        "import torch\n",
        "tensor_A = torch.rand(3,4)\n",
        "tensor_B = torch.rand(3,4)\n",
        "print(tensor_A)\n",
        "print(tensor_B)\n"
      ],
      "metadata": {
        "colab": {
          "base_uri": "https://localhost:8080/"
        },
        "id": "8OYIf8A_ZhQq",
        "outputId": "943b8659-cda3-4f84-ccbe-03b425a3b42e"
      },
      "execution_count": null,
      "outputs": [
        {
          "output_type": "stream",
          "name": "stdout",
          "text": [
            "tensor([[0.4860, 0.0511, 0.8335, 0.4864],\n",
            "        [0.4071, 0.1214, 0.5907, 0.6638],\n",
            "        [0.3801, 0.0677, 0.7697, 0.8230]])\n",
            "tensor([[0.7572, 0.7322, 0.6506, 0.8527],\n",
            "        [0.9452, 0.6409, 0.9923, 0.5977],\n",
            "        [0.8238, 0.4401, 0.4815, 0.9315]])\n"
          ]
        }
      ]
    },
    {
      "cell_type": "code",
      "source": [
        "# now lets make reproducible tensors\n",
        "RANDOM_SEED = 42\n",
        "torch.manual_seed(42)\n",
        "tensor_A = torch.rand(3,4)\n",
        "tensor_B = torch.rand(3,4)\n",
        "print(tensor_A)\n",
        "print(tensor_B)"
      ],
      "metadata": {
        "colab": {
          "base_uri": "https://localhost:8080/"
        },
        "id": "P7XLXkRqeb-V",
        "outputId": "a1bf1b54-b1e1-4e00-df32-b1a4d99d1840"
      },
      "execution_count": null,
      "outputs": [
        {
          "output_type": "stream",
          "name": "stdout",
          "text": [
            "tensor([[0.8823, 0.9150, 0.3829, 0.9593],\n",
            "        [0.3904, 0.6009, 0.2566, 0.7936],\n",
            "        [0.9408, 0.1332, 0.9346, 0.5936]])\n",
            "tensor([[0.8694, 0.5677, 0.7411, 0.4294],\n",
            "        [0.8854, 0.5739, 0.2666, 0.6274],\n",
            "        [0.2696, 0.4414, 0.2969, 0.8317]])\n"
          ]
        }
      ]
    },
    {
      "cell_type": "markdown",
      "source": [
        "###Running Tensors and Pytorch objects on gpu"
      ],
      "metadata": {
        "id": "IUPePFEAuUVy"
      }
    },
    {
      "cell_type": "markdown",
      "source": [
        "#### Getting a GPU\n",
        "1. Easiest - USe google colab for a free GPU\n",
        "2. Use your own GPU\n",
        "3. Use cloud Computing - GCP, AWS, Azure, these services allow you to rent computters on the cloud and access them."
      ],
      "metadata": {
        "id": "2d04GEDTw-_a"
      }
    },
    {
      "cell_type": "code",
      "source": [
        "!nvidia-smi\n"
      ],
      "metadata": {
        "colab": {
          "base_uri": "https://localhost:8080/"
        },
        "id": "MnROzuqhuaID",
        "outputId": "825506c0-1666-4e7a-bac0-7900ed2af26b"
      },
      "execution_count": null,
      "outputs": [
        {
          "output_type": "stream",
          "name": "stdout",
          "text": [
            "Sun Dec 15 14:56:54 2024       \n",
            "+---------------------------------------------------------------------------------------+\n",
            "| NVIDIA-SMI 535.104.05             Driver Version: 535.104.05   CUDA Version: 12.2     |\n",
            "|-----------------------------------------+----------------------+----------------------+\n",
            "| GPU  Name                 Persistence-M | Bus-Id        Disp.A | Volatile Uncorr. ECC |\n",
            "| Fan  Temp   Perf          Pwr:Usage/Cap |         Memory-Usage | GPU-Util  Compute M. |\n",
            "|                                         |                      |               MIG M. |\n",
            "|=========================================+======================+======================|\n",
            "|   0  Tesla T4                       Off | 00000000:00:04.0 Off |                    0 |\n",
            "| N/A   41C    P8               9W /  70W |      0MiB / 15360MiB |      0%      Default |\n",
            "|                                         |                      |                  N/A |\n",
            "+-----------------------------------------+----------------------+----------------------+\n",
            "                                                                                         \n",
            "+---------------------------------------------------------------------------------------+\n",
            "| Processes:                                                                            |\n",
            "|  GPU   GI   CI        PID   Type   Process name                            GPU Memory |\n",
            "|        ID   ID                                                             Usage      |\n",
            "|=======================================================================================|\n",
            "|  No running processes found                                                           |\n",
            "+---------------------------------------------------------------------------------------+\n"
          ]
        }
      ]
    },
    {
      "cell_type": "markdown",
      "source": [
        "#### Setup device agnostic code"
      ],
      "metadata": {
        "id": "b3G-MLxS1L3B"
      }
    },
    {
      "cell_type": "code",
      "source": [
        "import torch\n",
        "device = 'cuda' if torch.cuda.is_available() else 'cpu'\n",
        "device"
      ],
      "metadata": {
        "colab": {
          "base_uri": "https://localhost:8080/",
          "height": 36
        },
        "id": "t9oCusOt0wE5",
        "outputId": "c7022b95-cce2-47f3-ee51-d67884c8f83d"
      },
      "execution_count": 2,
      "outputs": [
        {
          "output_type": "execute_result",
          "data": {
            "text/plain": [
              "'cuda'"
            ],
            "application/vnd.google.colaboratory.intrinsic+json": {
              "type": "string"
            }
          },
          "metadata": {},
          "execution_count": 2
        }
      ]
    },
    {
      "cell_type": "markdown",
      "source": [
        "#### Putting tensor and models in GPU"
      ],
      "metadata": {
        "id": "Qp2kxhClG-Mr"
      }
    },
    {
      "cell_type": "code",
      "source": [
        "tensor = torch.randn(3,4)\n",
        "print(tensor)\n",
        "print(tensor.device)"
      ],
      "metadata": {
        "colab": {
          "base_uri": "https://localhost:8080/"
        },
        "id": "jj6sgnKQG5hb",
        "outputId": "30355883-b0df-4e02-9806-ce3b9fa02df6"
      },
      "execution_count": 4,
      "outputs": [
        {
          "output_type": "stream",
          "name": "stdout",
          "text": [
            "tensor([[-0.3199, -0.3176, -0.7016, -0.4440],\n",
            "        [-2.5829, -1.7952,  1.7227, -0.1779],\n",
            "        [ 0.5199,  2.9969, -1.2961, -1.5805]])\n",
            "cpu\n"
          ]
        }
      ]
    },
    {
      "cell_type": "code",
      "source": [
        "# Moving tensor to GPU\n",
        "tensor_to_gpu = tensor.to(device)\n",
        "print(tensor_to_gpu.device)"
      ],
      "metadata": {
        "colab": {
          "base_uri": "https://localhost:8080/"
        },
        "id": "g-__R2mvJpjG",
        "outputId": "b44ed8fd-edfb-409f-f4cf-25ee0835fdab"
      },
      "execution_count": 5,
      "outputs": [
        {
          "output_type": "stream",
          "name": "stdout",
          "text": [
            "cuda:0\n"
          ]
        }
      ]
    },
    {
      "cell_type": "markdown",
      "source": [
        "#### Tensors back to CPU(NUMPY)"
      ],
      "metadata": {
        "id": "a6As62X6LwJ0"
      }
    },
    {
      "cell_type": "code",
      "source": [
        "# moving tensors back to cpu\n",
        "tensor_to_CPU = tensor_to_gpu.cpu().numpy()\n",
        "print(tensor_to_CPU)"
      ],
      "metadata": {
        "colab": {
          "base_uri": "https://localhost:8080/"
        },
        "id": "4pvhRcIyKrz8",
        "outputId": "4e1165c7-3f93-40c3-df14-cfe44fdd9893"
      },
      "execution_count": 7,
      "outputs": [
        {
          "output_type": "stream",
          "name": "stdout",
          "text": [
            "[[-0.31993818 -0.31757542 -0.7015936  -0.44400254]\n",
            " [-2.5829105  -1.7952023   1.722718   -0.17789708]\n",
            " [ 0.519911    2.9969227  -1.2961372  -1.5804735 ]]\n"
          ]
        }
      ]
    },
    {
      "cell_type": "markdown",
      "source": [
        "### Excercise"
      ],
      "metadata": {
        "id": "Y2jEkNwGNC_a"
      }
    },
    {
      "cell_type": "code",
      "source": [
        "# 1 Create a random tensor of shape(7,7)\n",
        "import torch\n",
        "random_tensor = torch.randn(size=(7,7))\n",
        "print(random_tensor)\n",
        "print(random_tensor.shape)"
      ],
      "metadata": {
        "colab": {
          "base_uri": "https://localhost:8080/"
        },
        "id": "wGNzLtYJNCDT",
        "outputId": "1589cd69-a77a-4b9f-ab9b-eb8af76d25c1"
      },
      "execution_count": 10,
      "outputs": [
        {
          "output_type": "stream",
          "name": "stdout",
          "text": [
            "tensor([[ 0.3863, -0.4190, -1.6738, -1.4302, -0.2610, -1.6664,  1.0021],\n",
            "        [ 0.9629,  0.5947, -0.0136, -1.0976,  0.9474, -1.0177,  0.6805],\n",
            "        [ 2.4335, -0.6583,  0.8647, -1.2381, -0.0854,  0.8531,  0.8360],\n",
            "        [ 0.2645,  1.1771,  0.2340, -0.9899, -0.9934, -0.7657, -1.0873],\n",
            "        [ 1.0459, -2.3482,  0.2357,  1.2546, -0.3370,  1.9403, -0.8663],\n",
            "        [-0.8611, -0.2434,  0.2305, -0.9527, -1.1874,  1.5589,  0.5384],\n",
            "        [ 0.9637, -2.0457,  0.0615, -0.5781,  1.1086, -2.1073, -0.8267]])\n",
            "torch.Size([7, 7])\n"
          ]
        }
      ]
    },
    {
      "cell_type": "code",
      "source": [
        "# Perform a matrix multiplication on the tensor from 2 with another random\n",
        "# tensor with shape (1,7)\n",
        "RANDOM_SEED = 0\n",
        "torch.manual_seed(RANDOM_SEED)\n",
        "new_tensor = torch.randn(size=(1,7))\n",
        "random_tensor = torch.randn(size=(7,7))\n",
        "print(new_tensor)\n",
        "print(new_tensor.shape)\n",
        "\n",
        "print(\"MAtrix Multiplication\")\n",
        "mul = torch.mm(random_tensor, new_tensor.T)\n",
        "print(mul)"
      ],
      "metadata": {
        "colab": {
          "base_uri": "https://localhost:8080/"
        },
        "id": "O6o5MFFHNaxc",
        "outputId": "c925a452-f9a8-40ff-d6b1-9e443d0fffe9"
      },
      "execution_count": 14,
      "outputs": [
        {
          "output_type": "stream",
          "name": "stdout",
          "text": [
            "tensor([[ 1.5410, -0.2934, -2.1788,  0.5684, -1.0845, -1.3986,  0.4033]])\n",
            "torch.Size([1, 7])\n",
            "MAtrix Multiplication\n",
            "tensor([[-0.9825],\n",
            "        [ 2.3102],\n",
            "        [ 3.4249],\n",
            "        [-1.4673],\n",
            "        [ 2.3200],\n",
            "        [-6.1373],\n",
            "        [ 1.5235]])\n"
          ]
        }
      ]
    },
    {
      "cell_type": "code",
      "source": [
        "Random_SEED_GPU = 1234\n",
        "torch.cuda.manual_seed(Random_SEED_GPU)\n",
        "new_tensor_gpu = torch.randn(size=(1,7)).to(device)\n",
        "random_tensor_gpu = torch.randn(size=(7,7)).to(device)\n",
        "\n",
        "\n",
        "print(\"MAtrix Multiplication\")\n",
        "mul_gpu = torch.mm(random_tensor_gpu, new_tensor_gpu.T)\n",
        "print(mul_gpu)"
      ],
      "metadata": {
        "colab": {
          "base_uri": "https://localhost:8080/"
        },
        "id": "PWR3VUqoRWe-",
        "outputId": "6ad1825b-4cf5-43d5-8842-543e8aa8f755"
      },
      "execution_count": 15,
      "outputs": [
        {
          "output_type": "stream",
          "name": "stdout",
          "text": [
            "MAtrix Multiplication\n",
            "tensor([[-0.6415],\n",
            "        [-2.0764],\n",
            "        [ 0.2977],\n",
            "        [ 0.0253],\n",
            "        [-1.5636],\n",
            "        [-0.5572],\n",
            "        [ 1.1076]], device='cuda:0')\n"
          ]
        }
      ]
    },
    {
      "cell_type": "code",
      "source": [
        "#Accessing GPu\n",
        "import torch\n",
        "\n",
        "RANDOM_SEED = 42\n",
        "torch.manual_seed(RANDOM_SEED)\n",
        "torch.cuda.is_available()\n",
        "device = 'cuda' if torch.cuda.is_available() else 'cpu'\n",
        "print(device)\n",
        "\n",
        "new_tensor_A = torch.randn(size=(2,3))\n",
        "new_tensor_B = torch.randn(size=(2,3))\n",
        "print(new_tensor_A)\n",
        "print(new_tensor_B)\n",
        "print('\\n')\n",
        "gpu_tensor_A, gpu_tensor_B = new_tensor_A.to(device), new_tensor_B.to(device)\n",
        "print(gpu_tensor_A)\n",
        "print(gpu_tensor_B)\n",
        "print('\\nMATRIXMULL \\n')\n",
        "mul = torch.mm(gpu_tensor_A, gpu_tensor_B.T)\n",
        "print(mul)\n",
        "print(mul.device)\n",
        "\n",
        "print('\\n MAX')\n",
        "max = torch.max(mul)\n",
        "print(max)\n",
        "\n",
        "print('\\n Min')\n",
        "\n",
        "min = torch.min(mul)\n",
        "print(min)\n"
      ],
      "metadata": {
        "colab": {
          "base_uri": "https://localhost:8080/"
        },
        "id": "nBdXebpOShgk",
        "outputId": "2aac3e2b-6c59-4eeb-b285-8b4ebf0523f1"
      },
      "execution_count": 31,
      "outputs": [
        {
          "output_type": "stream",
          "name": "stdout",
          "text": [
            "cuda\n",
            "tensor([[ 0.3367,  0.1288,  0.2345],\n",
            "        [ 0.2303, -1.1229, -0.1863]])\n",
            "tensor([[ 2.2082, -0.6380,  0.4617],\n",
            "        [ 0.2674,  0.5349,  0.8094]])\n",
            "\n",
            "\n",
            "tensor([[ 0.3367,  0.1288,  0.2345],\n",
            "        [ 0.2303, -1.1229, -0.1863]], device='cuda:0')\n",
            "tensor([[ 2.2082, -0.6380,  0.4617],\n",
            "        [ 0.2674,  0.5349,  0.8094]], device='cuda:0')\n",
            "\n",
            "MATRIXMULL \n",
            "\n",
            "tensor([[ 0.7695,  0.3487],\n",
            "        [ 1.1390, -0.6898]], device='cuda:0')\n",
            "cuda:0\n",
            "\n",
            " MAX\n",
            "tensor(1.1390, device='cuda:0')\n",
            "\n",
            " Min\n",
            "tensor(-0.6898, device='cuda:0')\n"
          ]
        }
      ]
    },
    {
      "cell_type": "code",
      "source": [],
      "metadata": {
        "id": "hFUP4MkYS-5z"
      },
      "execution_count": null,
      "outputs": []
    }
  ]
}